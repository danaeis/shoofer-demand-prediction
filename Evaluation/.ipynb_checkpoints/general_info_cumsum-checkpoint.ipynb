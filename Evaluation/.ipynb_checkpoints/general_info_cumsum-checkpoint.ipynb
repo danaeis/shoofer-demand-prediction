{
 "cells": [
  {
   "cell_type": "code",
   "execution_count": 8,
   "id": "8ccee3fd-9209-42cf-b814-cd4206726464",
   "metadata": {},
   "outputs": [],
   "source": [
    "import matplotlib.pyplot as plt\n",
    "import numpy as np\n",
    "import pandas as pd\n",
    "from sklearn.metrics import mean_absolute_error, mean_squared_error, mean_absolute_percentage_error"
   ]
  },
  {
   "cell_type": "code",
   "execution_count": 9,
   "id": "3b3c3ac1-d3fd-4413-8579-6ce1890cc223",
   "metadata": {},
   "outputs": [],
   "source": [
    "LABELED_PATH = 'data/labels.parquet'"
   ]
  },
  {
   "cell_type": "code",
   "execution_count": 10,
   "id": "a9cc45c3-2e20-4027-86c9-a0722f2310ca",
   "metadata": {},
   "outputs": [
    {
     "ename": "FileNotFoundError",
     "evalue": "[Errno 2] No such file or directory: 'data/labels.parquet'",
     "output_type": "error",
     "traceback": [
      "\u001b[0;31m---------------------------------------------------------------------------\u001b[0m",
      "\u001b[0;31mFileNotFoundError\u001b[0m                         Traceback (most recent call last)",
      "Cell \u001b[0;32mIn[10], line 1\u001b[0m\n\u001b[0;32m----> 1\u001b[0m labeled_df \u001b[38;5;241m=\u001b[39m \u001b[43mpd\u001b[49m\u001b[38;5;241;43m.\u001b[39;49m\u001b[43mread_parquet\u001b[49m\u001b[43m(\u001b[49m\u001b[43mLABELED_PATH\u001b[49m\u001b[43m)\u001b[49m\n\u001b[1;32m      2\u001b[0m \u001b[38;5;28mprint\u001b[39m(labeled_df\u001b[38;5;241m.\u001b[39mshape)\n\u001b[1;32m      3\u001b[0m labeled_df\u001b[38;5;241m.\u001b[39mhead()\n",
      "File \u001b[0;32m/Library/Frameworks/Python.framework/Versions/3.10/lib/python3.10/site-packages/pandas/io/parquet.py:509\u001b[0m, in \u001b[0;36mread_parquet\u001b[0;34m(path, engine, columns, storage_options, use_nullable_dtypes, dtype_backend, **kwargs)\u001b[0m\n\u001b[1;32m    506\u001b[0m     use_nullable_dtypes \u001b[38;5;241m=\u001b[39m \u001b[38;5;28;01mFalse\u001b[39;00m\n\u001b[1;32m    507\u001b[0m check_dtype_backend(dtype_backend)\n\u001b[0;32m--> 509\u001b[0m \u001b[38;5;28;01mreturn\u001b[39;00m \u001b[43mimpl\u001b[49m\u001b[38;5;241;43m.\u001b[39;49m\u001b[43mread\u001b[49m\u001b[43m(\u001b[49m\n\u001b[1;32m    510\u001b[0m \u001b[43m    \u001b[49m\u001b[43mpath\u001b[49m\u001b[43m,\u001b[49m\n\u001b[1;32m    511\u001b[0m \u001b[43m    \u001b[49m\u001b[43mcolumns\u001b[49m\u001b[38;5;241;43m=\u001b[39;49m\u001b[43mcolumns\u001b[49m\u001b[43m,\u001b[49m\n\u001b[1;32m    512\u001b[0m \u001b[43m    \u001b[49m\u001b[43mstorage_options\u001b[49m\u001b[38;5;241;43m=\u001b[39;49m\u001b[43mstorage_options\u001b[49m\u001b[43m,\u001b[49m\n\u001b[1;32m    513\u001b[0m \u001b[43m    \u001b[49m\u001b[43muse_nullable_dtypes\u001b[49m\u001b[38;5;241;43m=\u001b[39;49m\u001b[43muse_nullable_dtypes\u001b[49m\u001b[43m,\u001b[49m\n\u001b[1;32m    514\u001b[0m \u001b[43m    \u001b[49m\u001b[43mdtype_backend\u001b[49m\u001b[38;5;241;43m=\u001b[39;49m\u001b[43mdtype_backend\u001b[49m\u001b[43m,\u001b[49m\n\u001b[1;32m    515\u001b[0m \u001b[43m    \u001b[49m\u001b[38;5;241;43m*\u001b[39;49m\u001b[38;5;241;43m*\u001b[39;49m\u001b[43mkwargs\u001b[49m\u001b[43m,\u001b[49m\n\u001b[1;32m    516\u001b[0m \u001b[43m\u001b[49m\u001b[43m)\u001b[49m\n",
      "File \u001b[0;32m/Library/Frameworks/Python.framework/Versions/3.10/lib/python3.10/site-packages/pandas/io/parquet.py:220\u001b[0m, in \u001b[0;36mPyArrowImpl.read\u001b[0;34m(self, path, columns, use_nullable_dtypes, dtype_backend, storage_options, **kwargs)\u001b[0m\n\u001b[1;32m    217\u001b[0m \u001b[38;5;28;01mif\u001b[39;00m manager \u001b[38;5;241m==\u001b[39m \u001b[38;5;124m\"\u001b[39m\u001b[38;5;124marray\u001b[39m\u001b[38;5;124m\"\u001b[39m:\n\u001b[1;32m    218\u001b[0m     to_pandas_kwargs[\u001b[38;5;124m\"\u001b[39m\u001b[38;5;124msplit_blocks\u001b[39m\u001b[38;5;124m\"\u001b[39m] \u001b[38;5;241m=\u001b[39m \u001b[38;5;28;01mTrue\u001b[39;00m  \u001b[38;5;66;03m# type: ignore[assignment]\u001b[39;00m\n\u001b[0;32m--> 220\u001b[0m path_or_handle, handles, kwargs[\u001b[38;5;124m\"\u001b[39m\u001b[38;5;124mfilesystem\u001b[39m\u001b[38;5;124m\"\u001b[39m] \u001b[38;5;241m=\u001b[39m \u001b[43m_get_path_or_handle\u001b[49m\u001b[43m(\u001b[49m\n\u001b[1;32m    221\u001b[0m \u001b[43m    \u001b[49m\u001b[43mpath\u001b[49m\u001b[43m,\u001b[49m\n\u001b[1;32m    222\u001b[0m \u001b[43m    \u001b[49m\u001b[43mkwargs\u001b[49m\u001b[38;5;241;43m.\u001b[39;49m\u001b[43mpop\u001b[49m\u001b[43m(\u001b[49m\u001b[38;5;124;43m\"\u001b[39;49m\u001b[38;5;124;43mfilesystem\u001b[39;49m\u001b[38;5;124;43m\"\u001b[39;49m\u001b[43m,\u001b[49m\u001b[43m \u001b[49m\u001b[38;5;28;43;01mNone\u001b[39;49;00m\u001b[43m)\u001b[49m\u001b[43m,\u001b[49m\n\u001b[1;32m    223\u001b[0m \u001b[43m    \u001b[49m\u001b[43mstorage_options\u001b[49m\u001b[38;5;241;43m=\u001b[39;49m\u001b[43mstorage_options\u001b[49m\u001b[43m,\u001b[49m\n\u001b[1;32m    224\u001b[0m \u001b[43m    \u001b[49m\u001b[43mmode\u001b[49m\u001b[38;5;241;43m=\u001b[39;49m\u001b[38;5;124;43m\"\u001b[39;49m\u001b[38;5;124;43mrb\u001b[39;49m\u001b[38;5;124;43m\"\u001b[39;49m\u001b[43m,\u001b[49m\n\u001b[1;32m    225\u001b[0m \u001b[43m\u001b[49m\u001b[43m)\u001b[49m\n\u001b[1;32m    226\u001b[0m \u001b[38;5;28;01mtry\u001b[39;00m:\n\u001b[1;32m    227\u001b[0m     pa_table \u001b[38;5;241m=\u001b[39m \u001b[38;5;28mself\u001b[39m\u001b[38;5;241m.\u001b[39mapi\u001b[38;5;241m.\u001b[39mparquet\u001b[38;5;241m.\u001b[39mread_table(\n\u001b[1;32m    228\u001b[0m         path_or_handle, columns\u001b[38;5;241m=\u001b[39mcolumns, \u001b[38;5;241m*\u001b[39m\u001b[38;5;241m*\u001b[39mkwargs\n\u001b[1;32m    229\u001b[0m     )\n",
      "File \u001b[0;32m/Library/Frameworks/Python.framework/Versions/3.10/lib/python3.10/site-packages/pandas/io/parquet.py:110\u001b[0m, in \u001b[0;36m_get_path_or_handle\u001b[0;34m(path, fs, storage_options, mode, is_dir)\u001b[0m\n\u001b[1;32m    100\u001b[0m handles \u001b[38;5;241m=\u001b[39m \u001b[38;5;28;01mNone\u001b[39;00m\n\u001b[1;32m    101\u001b[0m \u001b[38;5;28;01mif\u001b[39;00m (\n\u001b[1;32m    102\u001b[0m     \u001b[38;5;129;01mnot\u001b[39;00m fs\n\u001b[1;32m    103\u001b[0m     \u001b[38;5;129;01mand\u001b[39;00m \u001b[38;5;129;01mnot\u001b[39;00m is_dir\n\u001b[0;32m   (...)\u001b[0m\n\u001b[1;32m    108\u001b[0m     \u001b[38;5;66;03m# fsspec resources can also point to directories\u001b[39;00m\n\u001b[1;32m    109\u001b[0m     \u001b[38;5;66;03m# this branch is used for example when reading from non-fsspec URLs\u001b[39;00m\n\u001b[0;32m--> 110\u001b[0m     handles \u001b[38;5;241m=\u001b[39m \u001b[43mget_handle\u001b[49m\u001b[43m(\u001b[49m\n\u001b[1;32m    111\u001b[0m \u001b[43m        \u001b[49m\u001b[43mpath_or_handle\u001b[49m\u001b[43m,\u001b[49m\u001b[43m \u001b[49m\u001b[43mmode\u001b[49m\u001b[43m,\u001b[49m\u001b[43m \u001b[49m\u001b[43mis_text\u001b[49m\u001b[38;5;241;43m=\u001b[39;49m\u001b[38;5;28;43;01mFalse\u001b[39;49;00m\u001b[43m,\u001b[49m\u001b[43m \u001b[49m\u001b[43mstorage_options\u001b[49m\u001b[38;5;241;43m=\u001b[39;49m\u001b[43mstorage_options\u001b[49m\n\u001b[1;32m    112\u001b[0m \u001b[43m    \u001b[49m\u001b[43m)\u001b[49m\n\u001b[1;32m    113\u001b[0m     fs \u001b[38;5;241m=\u001b[39m \u001b[38;5;28;01mNone\u001b[39;00m\n\u001b[1;32m    114\u001b[0m     path_or_handle \u001b[38;5;241m=\u001b[39m handles\u001b[38;5;241m.\u001b[39mhandle\n",
      "File \u001b[0;32m/Library/Frameworks/Python.framework/Versions/3.10/lib/python3.10/site-packages/pandas/io/common.py:868\u001b[0m, in \u001b[0;36mget_handle\u001b[0;34m(path_or_buf, mode, encoding, compression, memory_map, is_text, errors, storage_options)\u001b[0m\n\u001b[1;32m    859\u001b[0m         handle \u001b[38;5;241m=\u001b[39m \u001b[38;5;28mopen\u001b[39m(\n\u001b[1;32m    860\u001b[0m             handle,\n\u001b[1;32m    861\u001b[0m             ioargs\u001b[38;5;241m.\u001b[39mmode,\n\u001b[0;32m   (...)\u001b[0m\n\u001b[1;32m    864\u001b[0m             newline\u001b[38;5;241m=\u001b[39m\u001b[38;5;124m\"\u001b[39m\u001b[38;5;124m\"\u001b[39m,\n\u001b[1;32m    865\u001b[0m         )\n\u001b[1;32m    866\u001b[0m     \u001b[38;5;28;01melse\u001b[39;00m:\n\u001b[1;32m    867\u001b[0m         \u001b[38;5;66;03m# Binary mode\u001b[39;00m\n\u001b[0;32m--> 868\u001b[0m         handle \u001b[38;5;241m=\u001b[39m \u001b[38;5;28;43mopen\u001b[39;49m\u001b[43m(\u001b[49m\u001b[43mhandle\u001b[49m\u001b[43m,\u001b[49m\u001b[43m \u001b[49m\u001b[43mioargs\u001b[49m\u001b[38;5;241;43m.\u001b[39;49m\u001b[43mmode\u001b[49m\u001b[43m)\u001b[49m\n\u001b[1;32m    869\u001b[0m     handles\u001b[38;5;241m.\u001b[39mappend(handle)\n\u001b[1;32m    871\u001b[0m \u001b[38;5;66;03m# Convert BytesIO or file objects passed with an encoding\u001b[39;00m\n",
      "\u001b[0;31mFileNotFoundError\u001b[0m: [Errno 2] No such file or directory: 'data/labels.parquet'"
     ]
    }
   ],
   "source": [
    "labeled_df = pd.read_parquet(LABELED_PATH)\n",
    "print(labeled_df.shape)\n",
    "labeled_df.head()"
   ]
  },
  {
   "cell_type": "code",
   "execution_count": null,
   "id": "de5547c1-f1e4-4a53-adb6-53c878c52429",
   "metadata": {},
   "outputs": [],
   "source": [
    "def plot_cumsum_demand(labeled_df, target_demand):\n",
    "    grouped_df = labeled_df.groupby('Location')['Demand'].sum().reset_index().sort_values(by='Demand', ascending=False).reset_index(drop=True)\n",
    "    cumulative_demand = (grouped_df['Demand'].cumsum() / grouped_df['Demand'].sum()).to_numpy()\n",
    "    \n",
    "    plt.plot(range(1,263), cumulative_demand)\n",
    "    plt.xlabel('Location numbers')\n",
    "    plt.ylabel('Cumulative Demand')\n",
    "    plt.title('Cumulative Demand by Location')\n",
    "    target_x = (cumulative_demand <= target_demand).argmin()\n",
    "    plt.axhline(y=target_demand, color='r', linestyle='--', label=f'Target Demand ({target_demand})')\n",
    "    plt.axvline(x=target_x, color='g', linestyle='--', label=f'Target Location ({target_x})')\n",
    "    \n",
    "    plt.legend() \n",
    "    plt.show()\n",
    "    important_locations = grouped_df.iloc[:target_x, grouped_df.columns.get_loc('Location')]\n",
    "    important_locations = important_locations.to_numpy()\n",
    "    return important_locations"
   ]
  },
  {
   "cell_type": "code",
   "execution_count": null,
   "id": "00339ef1-022a-42ed-85a5-9e8bdec56535",
   "metadata": {},
   "outputs": [],
   "source": [
    "important_locations = plot_cumsum_demand(labeled_df, 0.97)"
   ]
  },
  {
   "cell_type": "code",
   "execution_count": null,
   "id": "9b246617-957e-418e-8e5f-81367c6430a8",
   "metadata": {},
   "outputs": [],
   "source": [
    "def plot_cumsum_demand_LocationId(labeled_df, target_demand):\n",
    "    grouped_df = labeled_df.groupby('Location')['Demand'].sum().reset_index().sort_values(by='Demand', ascending=False).reset_index(drop=True)\n",
    "    cumulative_demand = (grouped_df['Demand'].cumsum() / grouped_df['Demand'].sum()).to_numpy()\n",
    "    \n",
    "    fig = plt.figure(figsize=(50,10))\n",
    "    ax1 = fig.add_subplot(111)\n",
    "    ax1.plot(range(1,len(cumulative_demand)+1), cumulative_demand)\n",
    "    ax1.set_xticks(range(1,263), grouped_df['Location'], rotation=90)\n",
    "    ax1.set_xlabel('LocationID', fontsize=20)\n",
    "    ax1.autoscale(enable=True, axis='x', tight=True)\n",
    "    \n",
    "    \n",
    "    x = np.arange(0, len(cumulative_demand)+1, 50)\n",
    "    ax2 = ax1.twiny()\n",
    "    ax2.set_xlim(ax1.get_xlim())\n",
    "    ax2.set_xticks(x, x, rotation=90, fontsize=20)\n",
    "    ax2.set_xlabel('Location numbers', fontsize=20)\n",
    "    ax2.set_ylabel('Cumulative Demand', fontsize=25)\n",
    "    ax2.set_title('Cumulative Demand by Location', fontsize=27)\n",
    "    ax1.tick_params(axis='both', labelsize=13)\n",
    "    \n",
    "    \n",
    "    target_x = (cumulative_demand <= target_demand).argmin()\n",
    "    plt.axhline(y=target_demand, color='r', linestyle='--', label=f'Target Demand ({target_demand})')\n",
    "    plt.axvline(x=target_x, color='g', linestyle='--', label=f'Target LocationID <-({grouped_df.Location[target_x-1]})')\n",
    "    \n",
    "    \n",
    "    plt.legend(loc='lower right', fontsize = '20') \n",
    "    plt.show()\n",
    "    return grouped_df"
   ]
  },
  {
   "cell_type": "code",
   "execution_count": null,
   "id": "56c0333c-f568-4ed5-ba63-6dd1b05eeba3",
   "metadata": {},
   "outputs": [],
   "source": [
    "sort_demand_loc = plot_cumsum_demand_LocationId(labeled_df, 0.97)\n",
    "sort_demand_loc[45:55]"
   ]
  },
  {
   "cell_type": "markdown",
   "id": "4d1b6c68-04a3-4f29-8727-75786b032262",
   "metadata": {},
   "source": [
    "As we see, There is huge gap between LocationID24 and LocationID70 but for sure we choose LocationIDs which their sum of demands are more than LocationID41\n"
   ]
  },
  {
   "cell_type": "code",
   "execution_count": null,
   "id": "e767e9b5-3978-421c-ba08-989535e6146f",
   "metadata": {},
   "outputs": [],
   "source": [
    "print(f'important_locations: {important_locations}')"
   ]
  },
  {
   "cell_type": "code",
   "execution_count": null,
   "id": "80e39b4d-774f-47b0-91a5-1bd53be6a235",
   "metadata": {},
   "outputs": [],
   "source": [
    "def zero_demand_location(labeled_df):\n",
    "    \n",
    "    ind_low_demand_loc = labeled_df.groupby('Location')['Demand'].min()==0\n",
    "    low_demand_location = ind_low_demand_loc[ind_low_demand_loc==True].index\n",
    "    number_low_demand_location = len(low_demand_location)+3\n",
    "    percentage_low_demand_location = number_low_demand_location*100/265\n",
    "    \n",
    "    print(f'number of locations that have at least one zero demand: {number_low_demand_location}')\n",
    "    print(f'percentage of locations that have at least one zero demand: {percentage_low_demand_location}')\n",
    "\n",
    "    low_demand = {}\n",
    "    zero_demand_loc = [i for i in range(1,266) if i not in labeled_df.Location.values]\n",
    "    low_demand['zero_demand_location'] = list(low_demand_location) + zero_demand_loc\n",
    "    low_demand['total_demand'] = [labeled_df.Demand[labeled_df.Location==i].sum() for i in low_demand_location] + [0,0,0]\n",
    "    low_demand = pd.DataFrame(low_demand).sort_values(by='total_demand', ascending=False).reset_index(drop=True)\n",
    "    \n",
    "    return low_demand"
   ]
  },
  {
   "cell_type": "code",
   "execution_count": null,
   "id": "f12ad036-33dc-49f3-bba5-f463bc44af99",
   "metadata": {},
   "outputs": [],
   "source": [
    "low_demand = zero_demand_location(labeled_df)\n",
    "low_demand.head()"
   ]
  }
 ],
 "metadata": {
  "kernelspec": {
   "display_name": "Python 3 (ipykernel)",
   "language": "python",
   "name": "python3"
  },
  "language_info": {
   "codemirror_mode": {
    "name": "ipython",
    "version": 3
   },
   "file_extension": ".py",
   "mimetype": "text/x-python",
   "name": "python",
   "nbconvert_exporter": "python",
   "pygments_lexer": "ipython3",
   "version": "3.10.11"
  }
 },
 "nbformat": 4,
 "nbformat_minor": 5
}
