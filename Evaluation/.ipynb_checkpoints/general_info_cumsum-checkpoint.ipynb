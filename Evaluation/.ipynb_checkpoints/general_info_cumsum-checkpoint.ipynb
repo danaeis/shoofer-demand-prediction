{
 "cells": [
  {
   "cell_type": "code",
   "execution_count": 3,
   "id": "8ccee3fd-9209-42cf-b814-cd4206726464",
   "metadata": {},
   "outputs": [],
   "source": [
    "import matplotlib.pyplot as plt\n",
    "import numpy as np\n",
    "import pandas as pd\n",
    "from sklearn.metrics import mean_absolute_error, mean_squared_error, mean_absolute_percentage_error"
   ]
  },
  {
   "cell_type": "code",
   "execution_count": 7,
   "id": "3b3c3ac1-d3fd-4413-8579-6ce1890cc223",
   "metadata": {},
   "outputs": [],
   "source": [
    "LABELED_PATH = 'data/labels.parquet'"
   ]
  },
  {
   "cell_type": "code",
   "execution_count": null,
   "id": "a9cc45c3-2e20-4027-86c9-a0722f2310ca",
   "metadata": {},
   "outputs": [],
   "source": [
    "labeled_df = pd.read_parquet(LABELED_PATH)\n",
    "print(labeled_df.shape)\n",
    "labeled_df.head()"
   ]
  },
  {
   "cell_type": "code",
   "execution_count": null,
   "id": "de5547c1-f1e4-4a53-adb6-53c878c52429",
   "metadata": {},
   "outputs": [],
   "source": [
    "def plot_cumsum_demand(labeled_df, target_demand):\n",
    "    grouped_df = labeled_df.groupby('Location')['Demand'].sum().reset_index().sort_values(by='Demand', ascending=False).reset_index(drop=True)\n",
    "    cumulative_demand = (grouped_df['Demand'].cumsum() / grouped_df['Demand'].sum()).to_numpy()\n",
    "    \n",
    "    plt.plot(range(1,263), cumulative_demand)\n",
    "    plt.xlabel('Location numbers')\n",
    "    plt.ylabel('Cumulative Demand')\n",
    "    plt.title('Cumulative Demand by Location')\n",
    "    target_x = (cumulative_demand <= target_demand).argmin()\n",
    "    plt.axhline(y=target_demand, color='r', linestyle='--', label=f'Target Demand ({target_demand})')\n",
    "    plt.axvline(x=target_x, color='g', linestyle='--', label=f'Target Location ({target_x})')\n",
    "    \n",
    "    plt.legend() \n",
    "    plt.show()\n",
    "    important_locations = grouped_df.iloc[:target_x, grouped_df.columns.get_loc('Location')]\n",
    "    important_locations = important_locations.to_numpy()\n",
    "    return important_locations"
   ]
  },
  {
   "cell_type": "code",
   "execution_count": null,
   "id": "00339ef1-022a-42ed-85a5-9e8bdec56535",
   "metadata": {},
   "outputs": [],
   "source": [
    "important_locations = plot_cumsum_demand(labeled_df, 0.97)"
   ]
  },
  {
   "cell_type": "code",
   "execution_count": null,
   "id": "9b246617-957e-418e-8e5f-81367c6430a8",
   "metadata": {},
   "outputs": [],
   "source": [
    "def plot_cumsum_demand_LocationId(labeled_df, target_demand):\n",
    "    grouped_df = labeled_df.groupby('Location')['Demand'].sum().reset_index().sort_values(by='Demand', ascending=False).reset_index(drop=True)\n",
    "    cumulative_demand = (grouped_df['Demand'].cumsum() / grouped_df['Demand'].sum()).to_numpy()\n",
    "    \n",
    "    fig = plt.figure(figsize=(50,10))\n",
    "    ax1 = fig.add_subplot(111)\n",
    "    ax1.plot(range(1,len(cumulative_demand)+1), cumulative_demand)\n",
    "    ax1.set_xticks(range(1,263), grouped_df['Location'], rotation=90)\n",
    "    ax1.set_xlabel('LocationID', fontsize=20)\n",
    "    ax1.autoscale(enable=True, axis='x', tight=True)\n",
    "    \n",
    "    \n",
    "    x = np.arange(0, len(cumulative_demand)+1, 50)\n",
    "    ax2 = ax1.twiny()\n",
    "    ax2.set_xlim(ax1.get_xlim())\n",
    "    ax2.set_xticks(x, x, rotation=90, fontsize=20)\n",
    "    ax2.set_xlabel('Location numbers', fontsize=20)\n",
    "    ax2.set_ylabel('Cumulative Demand', fontsize=25)\n",
    "    ax2.set_title('Cumulative Demand by Location', fontsize=27)\n",
    "    ax1.tick_params(axis='both', labelsize=13)\n",
    "    \n",
    "    \n",
    "    target_x = (cumulative_demand <= target_demand).argmin()\n",
    "    plt.axhline(y=target_demand, color='r', linestyle='--', label=f'Target Demand ({target_demand})')\n",
    "    plt.axvline(x=target_x, color='g', linestyle='--', label=f'Target LocationID <-({grouped_df.Location[target_x-1]})')\n",
    "    \n",
    "    \n",
    "    plt.legend(loc='lower right', fontsize = '20') \n",
    "    plt.show()\n",
    "    return grouped_df"
   ]
  },
  {
   "cell_type": "code",
   "execution_count": null,
   "id": "56c0333c-f568-4ed5-ba63-6dd1b05eeba3",
   "metadata": {},
   "outputs": [],
   "source": [
    "sort_demand_loc = plot_cumsum_demand_LocationId(labeled_df, 0.97)\n",
    "sort_demand_loc[45:55]"
   ]
  },
  {
   "cell_type": "markdown",
   "id": "4d1b6c68-04a3-4f29-8727-75786b032262",
   "metadata": {},
   "source": [
    "As we see, There is huge gap between LocationID24 and LocationID70 but for sure we choose LocationIDs which their sum of demands are more than LocationID41\n"
   ]
  },
  {
   "cell_type": "code",
   "execution_count": null,
   "id": "e767e9b5-3978-421c-ba08-989535e6146f",
   "metadata": {},
   "outputs": [],
   "source": [
    "print(f'important_locations: {important_locations}')"
   ]
  },
  {
   "cell_type": "code",
   "execution_count": null,
   "id": "80e39b4d-774f-47b0-91a5-1bd53be6a235",
   "metadata": {},
   "outputs": [],
   "source": [
    "def zero_demand_location(labeled_df):\n",
    "    \n",
    "    ind_low_demand_loc = labeled_df.groupby('Location')['Demand'].min()==0\n",
    "    low_demand_location = ind_low_demand_loc[ind_low_demand_loc==True].index\n",
    "    number_low_demand_location = len(low_demand_location)+3\n",
    "    percentage_low_demand_location = number_low_demand_location*100/265\n",
    "    \n",
    "    print(f'number of locations that have at least one zero demand: {number_low_demand_location}')\n",
    "    print(f'percentage of locations that have at least one zero demand: {percentage_low_demand_location}')\n",
    "\n",
    "    low_demand = {}\n",
    "    zero_demand_loc = [i for i in range(1,266) if i not in labeled_df.Location.values]\n",
    "    low_demand['zero_demand_location'] = list(low_demand_location) + zero_demand_loc\n",
    "    low_demand['total_demand'] = [labeled_df.Demand[labeled_df.Location==i].sum() for i in low_demand_location] + [0,0,0]\n",
    "    low_demand = pd.DataFrame(low_demand).sort_values(by='total_demand', ascending=False).reset_index(drop=True)\n",
    "    \n",
    "    return low_demand"
   ]
  },
  {
   "cell_type": "code",
   "execution_count": null,
   "id": "f12ad036-33dc-49f3-bba5-f463bc44af99",
   "metadata": {},
   "outputs": [],
   "source": [
    "low_demand = zero_demand_location(labeled_df)\n",
    "low_demand.head()"
   ]
  }
 ],
 "metadata": {
  "kernelspec": {
   "display_name": "Python 3 (ipykernel)",
   "language": "python",
   "name": "python3"
  },
  "language_info": {
   "codemirror_mode": {
    "name": "ipython",
    "version": 3
   },
   "file_extension": ".py",
   "mimetype": "text/x-python",
   "name": "python",
   "nbconvert_exporter": "python",
   "pygments_lexer": "ipython3",
   "version": "3.10.11"
  }
 },
 "nbformat": 4,
 "nbformat_minor": 5
}
