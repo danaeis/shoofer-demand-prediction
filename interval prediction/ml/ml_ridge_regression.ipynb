{
  "cells": [
    {
      "cell_type": "markdown",
      "metadata": {
        "id": "8UTIGpTZZlOO"
      },
      "source": [
        "# Imports"
      ]
    },
    {
      "cell_type": "code",
      "execution_count": 1,
      "metadata": {
        "id": "AnwSHO1L97I5"
      },
      "outputs": [],
      "source": [
        "import datetime\n",
        "import matplotlib.pyplot as plt\n",
        "import numpy as np\n",
        "import pandas as pd\n",
        "\n",
        "from sklearn.linear_model import Ridge\n",
        "from sklearn.metrics import mean_absolute_error, mean_squared_error, mean_absolute_percentage_error\n",
        "from sklearn.model_selection import GridSearchCV"
      ]
    },
    {
      "cell_type": "markdown",
      "metadata": {
        "id": "pSSMa3G2wGmF"
      },
      "source": [
        "# Configs"
      ]
    },
    {
      "cell_type": "code",
      "execution_count": 2,
      "metadata": {
        "id": "zIkDLK9zwGmG"
      },
      "outputs": [],
      "source": [
        "INPUT_PATH = 'datasets/'\n",
        "OUTPUT_PATH = 'results/ridge_predictions.parquet'\n",
        "\n",
        "START_DATE = '2023-01-01'\n",
        "END_DATE = '2023-04-30'\n",
        "\n",
        "FEATURE_LIST = [\n",
        "                'previous_interval',\n",
        "                'previous_day_interval', \n",
        "                'previous_2day_interval',\n",
        "                'previous_3day_interval',\n",
        "                'previous_4day_interval',\n",
        "                'previous_5day_interval',\n",
        "                'previous_6day_interval',\n",
        "                'previous_8day_interval',\n",
        "                'previous_9day_interval',\n",
        "                'previous_10day_interval',\n",
        "                'previous_11day_interval',\n",
        "                'previous_12day_interval',\n",
        "                'previous_13day_interval',\n",
        "\n",
        "                'previous_2week_interval',\n",
        "                'previous_week_interval', \n",
        "                'Day_of_month', \n",
        "                'Day_of_week'\n",
        "                ]\n",
        "\n",
        "TEST_START_DATE = '2023-04-1'\n"
      ]
    },
    {
      "cell_type": "markdown",
      "metadata": {
        "id": "5eS5BQE9wGmK"
      },
      "source": [
        "# Data preparation\n"
      ]
    },
    {
      "cell_type": "markdown",
      "metadata": {
        "id": "TWsjXbpaznc_"
      },
      "source": [
        "## Load Data"
      ]
    },
    {
      "cell_type": "code",
      "execution_count": 3,
      "metadata": {
        "id": "HAyNjqxNwGmH"
      },
      "outputs": [],
      "source": [
        "def load_data(path, start_date: str, end_date: str):\n",
        "    df = pd.read_parquet(path)\n",
        "    start_date = datetime.date.fromisoformat(start_date)\n",
        "    end_date = datetime.date.fromisoformat(end_date)\n",
        "    filtered_df = df[(df['tpep_pickup_datetime'].dt.date >= start_date) &\n",
        "                     (df['tpep_pickup_datetime'].dt.date <= end_date)]\n",
        "    dataset = filtered_df.filter(items=['tpep_pickup_datetime', 'PULocationID'])\n",
        "    dataset['PU_date'] = pd.to_datetime(dataset['tpep_pickup_datetime'].dt.date)\n",
        "    return dataset"
      ]
    },
    {
      "cell_type": "code",
      "execution_count": 4,
      "metadata": {
        "id": "87BFHUu1-z73"
      },
      "outputs": [],
      "source": [
        "rides_df = load_data(INPUT_PATH, START_DATE, END_DATE)"
      ]
    },
    {
      "cell_type": "code",
      "execution_count": 5,
      "metadata": {
        "id": "hCN-11QT3bp1"
      },
      "outputs": [
        {
          "name": "stdout",
          "output_type": "stream",
          "text": [
            "rides dataframe shape : (12672629, 3)\n"
          ]
        },
        {
          "data": {
            "text/html": [
              "<div>\n",
              "<style scoped>\n",
              "    .dataframe tbody tr th:only-of-type {\n",
              "        vertical-align: middle;\n",
              "    }\n",
              "\n",
              "    .dataframe tbody tr th {\n",
              "        vertical-align: top;\n",
              "    }\n",
              "\n",
              "    .dataframe thead th {\n",
              "        text-align: right;\n",
              "    }\n",
              "</style>\n",
              "<table border=\"1\" class=\"dataframe\">\n",
              "  <thead>\n",
              "    <tr style=\"text-align: right;\">\n",
              "      <th></th>\n",
              "      <th>tpep_pickup_datetime</th>\n",
              "      <th>PULocationID</th>\n",
              "      <th>PU_date</th>\n",
              "    </tr>\n",
              "  </thead>\n",
              "  <tbody>\n",
              "    <tr>\n",
              "      <th>0</th>\n",
              "      <td>2023-01-01 00:32:10</td>\n",
              "      <td>161</td>\n",
              "      <td>2023-01-01</td>\n",
              "    </tr>\n",
              "    <tr>\n",
              "      <th>1</th>\n",
              "      <td>2023-01-01 00:55:08</td>\n",
              "      <td>43</td>\n",
              "      <td>2023-01-01</td>\n",
              "    </tr>\n",
              "    <tr>\n",
              "      <th>2</th>\n",
              "      <td>2023-01-01 00:25:04</td>\n",
              "      <td>48</td>\n",
              "      <td>2023-01-01</td>\n",
              "    </tr>\n",
              "    <tr>\n",
              "      <th>3</th>\n",
              "      <td>2023-01-01 00:03:48</td>\n",
              "      <td>138</td>\n",
              "      <td>2023-01-01</td>\n",
              "    </tr>\n",
              "    <tr>\n",
              "      <th>4</th>\n",
              "      <td>2023-01-01 00:10:29</td>\n",
              "      <td>107</td>\n",
              "      <td>2023-01-01</td>\n",
              "    </tr>\n",
              "  </tbody>\n",
              "</table>\n",
              "</div>"
            ],
            "text/plain": [
              "  tpep_pickup_datetime  PULocationID    PU_date\n",
              "0  2023-01-01 00:32:10           161 2023-01-01\n",
              "1  2023-01-01 00:55:08            43 2023-01-01\n",
              "2  2023-01-01 00:25:04            48 2023-01-01\n",
              "3  2023-01-01 00:03:48           138 2023-01-01\n",
              "4  2023-01-01 00:10:29           107 2023-01-01"
            ]
          },
          "execution_count": 5,
          "metadata": {},
          "output_type": "execute_result"
        }
      ],
      "source": [
        "print(f'rides dataframe shape : {rides_df.shape}')\n",
        "rides_df.head()"
      ]
    },
    {
      "cell_type": "markdown",
      "metadata": {
        "id": "X2ES_CY6-fb5"
      },
      "source": [
        "## Labeling"
      ]
    },
    {
      "cell_type": "code",
      "execution_count": 6,
      "metadata": {},
      "outputs": [],
      "source": [
        "def extract_hours(dataset):\n",
        "    dataset = dataset.sort_values('tpep_pickup_datetime')\n",
        "    dataset['hour'] = dataset['tpep_pickup_datetime'].dt.hour\n",
        "    \n",
        "    bins = [-1, 2, 5, 8, 11, 14, 17, 20, 23]\n",
        "    labels = [0, 3, 6, 9, 12, 15, 18, 21]\n",
        "    dataset['time_of_day'] = pd.cut(dataset['hour'], bins=bins, labels=labels, include_lowest=True)\n",
        "    dataset = dataset.reset_index(drop = True)\n",
        "    return dataset"
      ]
    },
    {
      "cell_type": "code",
      "execution_count": 7,
      "metadata": {
        "id": "a7mNMQ-zwGmH"
      },
      "outputs": [],
      "source": [
        "def labeling(dataset):\n",
        "    dataset = extract_hours(dataset)\n",
        "    \n",
        "    dataset_labels = (\n",
        "        dataset\n",
        "        .groupby(['PULocationID', 'PU_date', 'time_of_day'])['time_of_day']\n",
        "        .count()\n",
        "        .to_frame('Demand')\n",
        "        .sort_values(['PULocationID', 'PU_date', 'time_of_day'], ascending=[True, True, True])\n",
        "        .reset_index()\n",
        "        .rename(columns={'PULocationID': 'Location', 'PU_date': 'Date', 'time_of_day' : 'Time'})\n",
        "    )\n",
        "\n",
        "    locations = pd.DataFrame(dataset_labels['Location'].unique(), columns=['Location'])\n",
        "    dates = pd.DataFrame(dataset_labels['Date'].unique(), columns=['Date'])\n",
        "    times = pd.DataFrame(dataset_labels['Time'].unique(), columns=['Time'])\n",
        "\n",
        "    location_date_time_df = (\n",
        "        locations\n",
        "        .merge(dates, how='cross')\n",
        "        .merge(times, how='cross')\n",
        "        .sort_values(['Location', 'Date', 'Time'], ascending=[True, True, True])\n",
        "        .reset_index(drop=True)\n",
        "    )\n",
        "\n",
        "    labels_df = (\n",
        "        location_date_time_df\n",
        "        .merge(dataset_labels, how='left', on=['Location', 'Date', 'Time'])\n",
        "        .fillna(value=0)\n",
        "    )\n",
        "\n",
        "    return labels_df"
      ]
    },
    {
      "cell_type": "code",
      "execution_count": 8,
      "metadata": {
        "id": "VVRLakW_LeGp"
      },
      "outputs": [],
      "source": [
        "labeled_df = labeling(rides_df)"
      ]
    },
    {
      "cell_type": "code",
      "execution_count": 9,
      "metadata": {
        "id": "0Gm5j5em28Xy"
      },
      "outputs": [
        {
          "name": "stdout",
          "output_type": "stream",
          "text": [
            "labeled dataframe shape : (251520, 4)\n"
          ]
        },
        {
          "data": {
            "text/html": [
              "<div>\n",
              "<style scoped>\n",
              "    .dataframe tbody tr th:only-of-type {\n",
              "        vertical-align: middle;\n",
              "    }\n",
              "\n",
              "    .dataframe tbody tr th {\n",
              "        vertical-align: top;\n",
              "    }\n",
              "\n",
              "    .dataframe thead th {\n",
              "        text-align: right;\n",
              "    }\n",
              "</style>\n",
              "<table border=\"1\" class=\"dataframe\">\n",
              "  <thead>\n",
              "    <tr style=\"text-align: right;\">\n",
              "      <th></th>\n",
              "      <th>Location</th>\n",
              "      <th>Date</th>\n",
              "      <th>Time</th>\n",
              "      <th>Demand</th>\n",
              "    </tr>\n",
              "  </thead>\n",
              "  <tbody>\n",
              "    <tr>\n",
              "      <th>0</th>\n",
              "      <td>1</td>\n",
              "      <td>2023-01-01</td>\n",
              "      <td>0</td>\n",
              "      <td>0</td>\n",
              "    </tr>\n",
              "    <tr>\n",
              "      <th>1</th>\n",
              "      <td>1</td>\n",
              "      <td>2023-01-01</td>\n",
              "      <td>3</td>\n",
              "      <td>1</td>\n",
              "    </tr>\n",
              "    <tr>\n",
              "      <th>2</th>\n",
              "      <td>1</td>\n",
              "      <td>2023-01-01</td>\n",
              "      <td>6</td>\n",
              "      <td>1</td>\n",
              "    </tr>\n",
              "    <tr>\n",
              "      <th>3</th>\n",
              "      <td>1</td>\n",
              "      <td>2023-01-01</td>\n",
              "      <td>9</td>\n",
              "      <td>1</td>\n",
              "    </tr>\n",
              "    <tr>\n",
              "      <th>4</th>\n",
              "      <td>1</td>\n",
              "      <td>2023-01-01</td>\n",
              "      <td>12</td>\n",
              "      <td>13</td>\n",
              "    </tr>\n",
              "  </tbody>\n",
              "</table>\n",
              "</div>"
            ],
            "text/plain": [
              "   Location       Date Time  Demand\n",
              "0         1 2023-01-01    0       0\n",
              "1         1 2023-01-01    3       1\n",
              "2         1 2023-01-01    6       1\n",
              "3         1 2023-01-01    9       1\n",
              "4         1 2023-01-01   12      13"
            ]
          },
          "execution_count": 9,
          "metadata": {},
          "output_type": "execute_result"
        }
      ],
      "source": [
        "print(f'labeled dataframe shape : {labeled_df.shape}')\n",
        "labeled_df.head()"
      ]
    },
    {
      "cell_type": "markdown",
      "metadata": {
        "id": "G0W2pR-70JJb"
      },
      "source": [
        "## Add Feature"
      ]
    },
    {
      "cell_type": "code",
      "execution_count": 10,
      "metadata": {
        "id": "ifvk6uWS6hnT"
      },
      "outputs": [],
      "source": [
        "def feature_engineering(dataset):\n",
        "    dataset['previous_interval'] = dataset.groupby(['Location'])['Demand'].shift(1)\n",
        "    dataset['previous_day_interval'] = dataset.groupby(['Location'])['Demand'].shift(1*8)\n",
        "    dataset['previous_2day_interval'] = dataset.groupby(['Location'])['Demand'].shift(2*8)\n",
        "    dataset['previous_3day_interval'] = dataset.groupby(['Location'])['Demand'].shift(3*8)\n",
        "    dataset['previous_4day_interval'] = dataset.groupby(['Location'])['Demand'].shift(4*8)\n",
        "    dataset['previous_5day_interval'] = dataset.groupby(['Location'])['Demand'].shift(5*8)\n",
        "    dataset['previous_6day_interval'] = dataset.groupby(['Location'])['Demand'].shift(6*8)\n",
        "    dataset['previous_week_interval'] = dataset.groupby(['Location'])['Demand'].shift(7*8)\n",
        "    dataset['previous_8day_interval'] = dataset.groupby(['Location'])['Demand'].shift(8*8)\n",
        "    dataset['previous_9day_interval'] = dataset.groupby(['Location'])['Demand'].shift(9*8)\n",
        "    dataset['previous_10day_interval'] = dataset.groupby(['Location'])['Demand'].shift(10*8)\n",
        "    dataset['previous_11day_interval'] = dataset.groupby(['Location'])['Demand'].shift(11*8)\n",
        "    dataset['previous_12day_interval'] = dataset.groupby(['Location'])['Demand'].shift(12*8)\n",
        "    dataset['previous_13day_interval'] = dataset.groupby(['Location'])['Demand'].shift(13*8)\n",
        "    dataset['previous_2week_interval'] = dataset.groupby(['Location'])['Demand'].shift(14*8)\n",
        "\n",
        "    dataset['Day_of_week'] = dataset['Date'].dt.dayofweek   \n",
        "    dataset['Day_of_month'] = dataset['Date'].dt.day\n",
        "    \n",
        "    return dataset"
      ]
    },
    {
      "cell_type": "code",
      "execution_count": 11,
      "metadata": {
        "id": "12zNfv8YwGmK"
      },
      "outputs": [],
      "source": [
        "features_df = feature_engineering(labeled_df)\n",
        "features_df.dropna(inplace = True)"
      ]
    },
    {
      "cell_type": "code",
      "execution_count": 12,
      "metadata": {
        "id": "bJxWEkiD3VOZ"
      },
      "outputs": [
        {
          "name": "stdout",
          "output_type": "stream",
          "text": [
            "features dataframe shape : (222176, 21)\n"
          ]
        },
        {
          "data": {
            "text/html": [
              "<div>\n",
              "<style scoped>\n",
              "    .dataframe tbody tr th:only-of-type {\n",
              "        vertical-align: middle;\n",
              "    }\n",
              "\n",
              "    .dataframe tbody tr th {\n",
              "        vertical-align: top;\n",
              "    }\n",
              "\n",
              "    .dataframe thead th {\n",
              "        text-align: right;\n",
              "    }\n",
              "</style>\n",
              "<table border=\"1\" class=\"dataframe\">\n",
              "  <thead>\n",
              "    <tr style=\"text-align: right;\">\n",
              "      <th></th>\n",
              "      <th>Location</th>\n",
              "      <th>Date</th>\n",
              "      <th>Time</th>\n",
              "      <th>Demand</th>\n",
              "      <th>previous_interval</th>\n",
              "      <th>previous_day_interval</th>\n",
              "      <th>previous_2day_interval</th>\n",
              "      <th>previous_3day_interval</th>\n",
              "      <th>previous_4day_interval</th>\n",
              "      <th>previous_5day_interval</th>\n",
              "      <th>...</th>\n",
              "      <th>previous_week_interval</th>\n",
              "      <th>previous_8day_interval</th>\n",
              "      <th>previous_9day_interval</th>\n",
              "      <th>previous_10day_interval</th>\n",
              "      <th>previous_11day_interval</th>\n",
              "      <th>previous_12day_interval</th>\n",
              "      <th>previous_13day_interval</th>\n",
              "      <th>previous_2week_interval</th>\n",
              "      <th>Day_of_week</th>\n",
              "      <th>Day_of_month</th>\n",
              "    </tr>\n",
              "  </thead>\n",
              "  <tbody>\n",
              "    <tr>\n",
              "      <th>112</th>\n",
              "      <td>1</td>\n",
              "      <td>2023-01-15</td>\n",
              "      <td>0</td>\n",
              "      <td>0</td>\n",
              "      <td>1.0</td>\n",
              "      <td>0.0</td>\n",
              "      <td>0.0</td>\n",
              "      <td>0.0</td>\n",
              "      <td>0.0</td>\n",
              "      <td>0.0</td>\n",
              "      <td>...</td>\n",
              "      <td>0.0</td>\n",
              "      <td>0.0</td>\n",
              "      <td>0.0</td>\n",
              "      <td>0.0</td>\n",
              "      <td>1.0</td>\n",
              "      <td>1.0</td>\n",
              "      <td>0.0</td>\n",
              "      <td>0.0</td>\n",
              "      <td>6</td>\n",
              "      <td>15</td>\n",
              "    </tr>\n",
              "    <tr>\n",
              "      <th>113</th>\n",
              "      <td>1</td>\n",
              "      <td>2023-01-15</td>\n",
              "      <td>3</td>\n",
              "      <td>2</td>\n",
              "      <td>0.0</td>\n",
              "      <td>0.0</td>\n",
              "      <td>1.0</td>\n",
              "      <td>2.0</td>\n",
              "      <td>1.0</td>\n",
              "      <td>0.0</td>\n",
              "      <td>...</td>\n",
              "      <td>0.0</td>\n",
              "      <td>0.0</td>\n",
              "      <td>1.0</td>\n",
              "      <td>1.0</td>\n",
              "      <td>0.0</td>\n",
              "      <td>2.0</td>\n",
              "      <td>3.0</td>\n",
              "      <td>1.0</td>\n",
              "      <td>6</td>\n",
              "      <td>15</td>\n",
              "    </tr>\n",
              "    <tr>\n",
              "      <th>114</th>\n",
              "      <td>1</td>\n",
              "      <td>2023-01-15</td>\n",
              "      <td>6</td>\n",
              "      <td>1</td>\n",
              "      <td>2.0</td>\n",
              "      <td>1.0</td>\n",
              "      <td>2.0</td>\n",
              "      <td>0.0</td>\n",
              "      <td>2.0</td>\n",
              "      <td>0.0</td>\n",
              "      <td>...</td>\n",
              "      <td>3.0</td>\n",
              "      <td>1.0</td>\n",
              "      <td>0.0</td>\n",
              "      <td>2.0</td>\n",
              "      <td>2.0</td>\n",
              "      <td>2.0</td>\n",
              "      <td>4.0</td>\n",
              "      <td>1.0</td>\n",
              "      <td>6</td>\n",
              "      <td>15</td>\n",
              "    </tr>\n",
              "    <tr>\n",
              "      <th>115</th>\n",
              "      <td>1</td>\n",
              "      <td>2023-01-15</td>\n",
              "      <td>9</td>\n",
              "      <td>0</td>\n",
              "      <td>1.0</td>\n",
              "      <td>1.0</td>\n",
              "      <td>1.0</td>\n",
              "      <td>1.0</td>\n",
              "      <td>1.0</td>\n",
              "      <td>1.0</td>\n",
              "      <td>...</td>\n",
              "      <td>1.0</td>\n",
              "      <td>1.0</td>\n",
              "      <td>0.0</td>\n",
              "      <td>2.0</td>\n",
              "      <td>0.0</td>\n",
              "      <td>2.0</td>\n",
              "      <td>4.0</td>\n",
              "      <td>1.0</td>\n",
              "      <td>6</td>\n",
              "      <td>15</td>\n",
              "    </tr>\n",
              "    <tr>\n",
              "      <th>116</th>\n",
              "      <td>1</td>\n",
              "      <td>2023-01-15</td>\n",
              "      <td>12</td>\n",
              "      <td>8</td>\n",
              "      <td>0.0</td>\n",
              "      <td>0.0</td>\n",
              "      <td>1.0</td>\n",
              "      <td>2.0</td>\n",
              "      <td>2.0</td>\n",
              "      <td>1.0</td>\n",
              "      <td>...</td>\n",
              "      <td>2.0</td>\n",
              "      <td>1.0</td>\n",
              "      <td>3.0</td>\n",
              "      <td>4.0</td>\n",
              "      <td>3.0</td>\n",
              "      <td>7.0</td>\n",
              "      <td>11.0</td>\n",
              "      <td>13.0</td>\n",
              "      <td>6</td>\n",
              "      <td>15</td>\n",
              "    </tr>\n",
              "  </tbody>\n",
              "</table>\n",
              "<p>5 rows × 21 columns</p>\n",
              "</div>"
            ],
            "text/plain": [
              "     Location       Date Time  Demand  previous_interval  \\\n",
              "112         1 2023-01-15    0       0                1.0   \n",
              "113         1 2023-01-15    3       2                0.0   \n",
              "114         1 2023-01-15    6       1                2.0   \n",
              "115         1 2023-01-15    9       0                1.0   \n",
              "116         1 2023-01-15   12       8                0.0   \n",
              "\n",
              "     previous_day_interval  previous_2day_interval  previous_3day_interval  \\\n",
              "112                    0.0                     0.0                     0.0   \n",
              "113                    0.0                     1.0                     2.0   \n",
              "114                    1.0                     2.0                     0.0   \n",
              "115                    1.0                     1.0                     1.0   \n",
              "116                    0.0                     1.0                     2.0   \n",
              "\n",
              "     previous_4day_interval  previous_5day_interval  ...  \\\n",
              "112                     0.0                     0.0  ...   \n",
              "113                     1.0                     0.0  ...   \n",
              "114                     2.0                     0.0  ...   \n",
              "115                     1.0                     1.0  ...   \n",
              "116                     2.0                     1.0  ...   \n",
              "\n",
              "     previous_week_interval  previous_8day_interval  previous_9day_interval  \\\n",
              "112                     0.0                     0.0                     0.0   \n",
              "113                     0.0                     0.0                     1.0   \n",
              "114                     3.0                     1.0                     0.0   \n",
              "115                     1.0                     1.0                     0.0   \n",
              "116                     2.0                     1.0                     3.0   \n",
              "\n",
              "     previous_10day_interval  previous_11day_interval  \\\n",
              "112                      0.0                      1.0   \n",
              "113                      1.0                      0.0   \n",
              "114                      2.0                      2.0   \n",
              "115                      2.0                      0.0   \n",
              "116                      4.0                      3.0   \n",
              "\n",
              "     previous_12day_interval  previous_13day_interval  \\\n",
              "112                      1.0                      0.0   \n",
              "113                      2.0                      3.0   \n",
              "114                      2.0                      4.0   \n",
              "115                      2.0                      4.0   \n",
              "116                      7.0                     11.0   \n",
              "\n",
              "     previous_2week_interval  Day_of_week  Day_of_month  \n",
              "112                      0.0            6            15  \n",
              "113                      1.0            6            15  \n",
              "114                      1.0            6            15  \n",
              "115                      1.0            6            15  \n",
              "116                     13.0            6            15  \n",
              "\n",
              "[5 rows x 21 columns]"
            ]
          },
          "execution_count": 12,
          "metadata": {},
          "output_type": "execute_result"
        }
      ],
      "source": [
        "print(f'features dataframe shape : {features_df.shape}')\n",
        "features_df.head()"
      ]
    },
    {
      "cell_type": "markdown",
      "metadata": {
        "id": "zN0kp6jw03DP"
      },
      "source": [
        "## Split Train and Test Data"
      ]
    },
    {
      "cell_type": "code",
      "execution_count": 13,
      "metadata": {
        "id": "CMY1G1lmwGmI"
      },
      "outputs": [],
      "source": [
        "def train_test_splitting(dataset, TEST_START_DATE):\n",
        "\n",
        "    train_df = dataset[dataset['Date'] < TEST_START_DATE]\n",
        "    test_df = dataset[dataset['Date'] >= TEST_START_DATE]\n",
        "\n",
        "    return train_df, test_df"
      ]
    },
    {
      "cell_type": "code",
      "execution_count": 14,
      "metadata": {
        "id": "3xH4VMGNwGmK"
      },
      "outputs": [],
      "source": [
        "train_df, test_df = train_test_splitting(features_df, TEST_START_DATE)"
      ]
    },
    {
      "cell_type": "code",
      "execution_count": 15,
      "metadata": {
        "id": "xxGdRZfqwGmL",
        "outputId": "58609337-c472-48f5-c7fc-e9d7c17aba4f"
      },
      "outputs": [
        {
          "name": "stdout",
          "output_type": "stream",
          "text": [
            "train dataframe shape : (159296, 21)\n"
          ]
        },
        {
          "data": {
            "text/html": [
              "<div>\n",
              "<style scoped>\n",
              "    .dataframe tbody tr th:only-of-type {\n",
              "        vertical-align: middle;\n",
              "    }\n",
              "\n",
              "    .dataframe tbody tr th {\n",
              "        vertical-align: top;\n",
              "    }\n",
              "\n",
              "    .dataframe thead th {\n",
              "        text-align: right;\n",
              "    }\n",
              "</style>\n",
              "<table border=\"1\" class=\"dataframe\">\n",
              "  <thead>\n",
              "    <tr style=\"text-align: right;\">\n",
              "      <th></th>\n",
              "      <th>Location</th>\n",
              "      <th>Date</th>\n",
              "      <th>Time</th>\n",
              "      <th>Demand</th>\n",
              "      <th>previous_interval</th>\n",
              "      <th>previous_day_interval</th>\n",
              "      <th>previous_2day_interval</th>\n",
              "      <th>previous_3day_interval</th>\n",
              "      <th>previous_4day_interval</th>\n",
              "      <th>previous_5day_interval</th>\n",
              "      <th>...</th>\n",
              "      <th>previous_week_interval</th>\n",
              "      <th>previous_8day_interval</th>\n",
              "      <th>previous_9day_interval</th>\n",
              "      <th>previous_10day_interval</th>\n",
              "      <th>previous_11day_interval</th>\n",
              "      <th>previous_12day_interval</th>\n",
              "      <th>previous_13day_interval</th>\n",
              "      <th>previous_2week_interval</th>\n",
              "      <th>Day_of_week</th>\n",
              "      <th>Day_of_month</th>\n",
              "    </tr>\n",
              "  </thead>\n",
              "  <tbody>\n",
              "    <tr>\n",
              "      <th>112</th>\n",
              "      <td>1</td>\n",
              "      <td>2023-01-15</td>\n",
              "      <td>0</td>\n",
              "      <td>0</td>\n",
              "      <td>1.0</td>\n",
              "      <td>0.0</td>\n",
              "      <td>0.0</td>\n",
              "      <td>0.0</td>\n",
              "      <td>0.0</td>\n",
              "      <td>0.0</td>\n",
              "      <td>...</td>\n",
              "      <td>0.0</td>\n",
              "      <td>0.0</td>\n",
              "      <td>0.0</td>\n",
              "      <td>0.0</td>\n",
              "      <td>1.0</td>\n",
              "      <td>1.0</td>\n",
              "      <td>0.0</td>\n",
              "      <td>0.0</td>\n",
              "      <td>6</td>\n",
              "      <td>15</td>\n",
              "    </tr>\n",
              "    <tr>\n",
              "      <th>113</th>\n",
              "      <td>1</td>\n",
              "      <td>2023-01-15</td>\n",
              "      <td>3</td>\n",
              "      <td>2</td>\n",
              "      <td>0.0</td>\n",
              "      <td>0.0</td>\n",
              "      <td>1.0</td>\n",
              "      <td>2.0</td>\n",
              "      <td>1.0</td>\n",
              "      <td>0.0</td>\n",
              "      <td>...</td>\n",
              "      <td>0.0</td>\n",
              "      <td>0.0</td>\n",
              "      <td>1.0</td>\n",
              "      <td>1.0</td>\n",
              "      <td>0.0</td>\n",
              "      <td>2.0</td>\n",
              "      <td>3.0</td>\n",
              "      <td>1.0</td>\n",
              "      <td>6</td>\n",
              "      <td>15</td>\n",
              "    </tr>\n",
              "    <tr>\n",
              "      <th>114</th>\n",
              "      <td>1</td>\n",
              "      <td>2023-01-15</td>\n",
              "      <td>6</td>\n",
              "      <td>1</td>\n",
              "      <td>2.0</td>\n",
              "      <td>1.0</td>\n",
              "      <td>2.0</td>\n",
              "      <td>0.0</td>\n",
              "      <td>2.0</td>\n",
              "      <td>0.0</td>\n",
              "      <td>...</td>\n",
              "      <td>3.0</td>\n",
              "      <td>1.0</td>\n",
              "      <td>0.0</td>\n",
              "      <td>2.0</td>\n",
              "      <td>2.0</td>\n",
              "      <td>2.0</td>\n",
              "      <td>4.0</td>\n",
              "      <td>1.0</td>\n",
              "      <td>6</td>\n",
              "      <td>15</td>\n",
              "    </tr>\n",
              "    <tr>\n",
              "      <th>115</th>\n",
              "      <td>1</td>\n",
              "      <td>2023-01-15</td>\n",
              "      <td>9</td>\n",
              "      <td>0</td>\n",
              "      <td>1.0</td>\n",
              "      <td>1.0</td>\n",
              "      <td>1.0</td>\n",
              "      <td>1.0</td>\n",
              "      <td>1.0</td>\n",
              "      <td>1.0</td>\n",
              "      <td>...</td>\n",
              "      <td>1.0</td>\n",
              "      <td>1.0</td>\n",
              "      <td>0.0</td>\n",
              "      <td>2.0</td>\n",
              "      <td>0.0</td>\n",
              "      <td>2.0</td>\n",
              "      <td>4.0</td>\n",
              "      <td>1.0</td>\n",
              "      <td>6</td>\n",
              "      <td>15</td>\n",
              "    </tr>\n",
              "    <tr>\n",
              "      <th>116</th>\n",
              "      <td>1</td>\n",
              "      <td>2023-01-15</td>\n",
              "      <td>12</td>\n",
              "      <td>8</td>\n",
              "      <td>0.0</td>\n",
              "      <td>0.0</td>\n",
              "      <td>1.0</td>\n",
              "      <td>2.0</td>\n",
              "      <td>2.0</td>\n",
              "      <td>1.0</td>\n",
              "      <td>...</td>\n",
              "      <td>2.0</td>\n",
              "      <td>1.0</td>\n",
              "      <td>3.0</td>\n",
              "      <td>4.0</td>\n",
              "      <td>3.0</td>\n",
              "      <td>7.0</td>\n",
              "      <td>11.0</td>\n",
              "      <td>13.0</td>\n",
              "      <td>6</td>\n",
              "      <td>15</td>\n",
              "    </tr>\n",
              "  </tbody>\n",
              "</table>\n",
              "<p>5 rows × 21 columns</p>\n",
              "</div>"
            ],
            "text/plain": [
              "     Location       Date Time  Demand  previous_interval  \\\n",
              "112         1 2023-01-15    0       0                1.0   \n",
              "113         1 2023-01-15    3       2                0.0   \n",
              "114         1 2023-01-15    6       1                2.0   \n",
              "115         1 2023-01-15    9       0                1.0   \n",
              "116         1 2023-01-15   12       8                0.0   \n",
              "\n",
              "     previous_day_interval  previous_2day_interval  previous_3day_interval  \\\n",
              "112                    0.0                     0.0                     0.0   \n",
              "113                    0.0                     1.0                     2.0   \n",
              "114                    1.0                     2.0                     0.0   \n",
              "115                    1.0                     1.0                     1.0   \n",
              "116                    0.0                     1.0                     2.0   \n",
              "\n",
              "     previous_4day_interval  previous_5day_interval  ...  \\\n",
              "112                     0.0                     0.0  ...   \n",
              "113                     1.0                     0.0  ...   \n",
              "114                     2.0                     0.0  ...   \n",
              "115                     1.0                     1.0  ...   \n",
              "116                     2.0                     1.0  ...   \n",
              "\n",
              "     previous_week_interval  previous_8day_interval  previous_9day_interval  \\\n",
              "112                     0.0                     0.0                     0.0   \n",
              "113                     0.0                     0.0                     1.0   \n",
              "114                     3.0                     1.0                     0.0   \n",
              "115                     1.0                     1.0                     0.0   \n",
              "116                     2.0                     1.0                     3.0   \n",
              "\n",
              "     previous_10day_interval  previous_11day_interval  \\\n",
              "112                      0.0                      1.0   \n",
              "113                      1.0                      0.0   \n",
              "114                      2.0                      2.0   \n",
              "115                      2.0                      0.0   \n",
              "116                      4.0                      3.0   \n",
              "\n",
              "     previous_12day_interval  previous_13day_interval  \\\n",
              "112                      1.0                      0.0   \n",
              "113                      2.0                      3.0   \n",
              "114                      2.0                      4.0   \n",
              "115                      2.0                      4.0   \n",
              "116                      7.0                     11.0   \n",
              "\n",
              "     previous_2week_interval  Day_of_week  Day_of_month  \n",
              "112                      0.0            6            15  \n",
              "113                      1.0            6            15  \n",
              "114                      1.0            6            15  \n",
              "115                      1.0            6            15  \n",
              "116                     13.0            6            15  \n",
              "\n",
              "[5 rows x 21 columns]"
            ]
          },
          "execution_count": 15,
          "metadata": {},
          "output_type": "execute_result"
        }
      ],
      "source": [
        "print(f'train dataframe shape : {train_df.shape}')\n",
        "train_df.head()"
      ]
    },
    {
      "cell_type": "code",
      "execution_count": 16,
      "metadata": {
        "id": "uPbINwH224Hy"
      },
      "outputs": [
        {
          "name": "stdout",
          "output_type": "stream",
          "text": [
            "test dataframe shape : (62880, 21)\n"
          ]
        },
        {
          "data": {
            "text/html": [
              "<div>\n",
              "<style scoped>\n",
              "    .dataframe tbody tr th:only-of-type {\n",
              "        vertical-align: middle;\n",
              "    }\n",
              "\n",
              "    .dataframe tbody tr th {\n",
              "        vertical-align: top;\n",
              "    }\n",
              "\n",
              "    .dataframe thead th {\n",
              "        text-align: right;\n",
              "    }\n",
              "</style>\n",
              "<table border=\"1\" class=\"dataframe\">\n",
              "  <thead>\n",
              "    <tr style=\"text-align: right;\">\n",
              "      <th></th>\n",
              "      <th>Location</th>\n",
              "      <th>Date</th>\n",
              "      <th>Time</th>\n",
              "      <th>Demand</th>\n",
              "      <th>previous_interval</th>\n",
              "      <th>previous_day_interval</th>\n",
              "      <th>previous_2day_interval</th>\n",
              "      <th>previous_3day_interval</th>\n",
              "      <th>previous_4day_interval</th>\n",
              "      <th>previous_5day_interval</th>\n",
              "      <th>...</th>\n",
              "      <th>previous_week_interval</th>\n",
              "      <th>previous_8day_interval</th>\n",
              "      <th>previous_9day_interval</th>\n",
              "      <th>previous_10day_interval</th>\n",
              "      <th>previous_11day_interval</th>\n",
              "      <th>previous_12day_interval</th>\n",
              "      <th>previous_13day_interval</th>\n",
              "      <th>previous_2week_interval</th>\n",
              "      <th>Day_of_week</th>\n",
              "      <th>Day_of_month</th>\n",
              "    </tr>\n",
              "  </thead>\n",
              "  <tbody>\n",
              "    <tr>\n",
              "      <th>720</th>\n",
              "      <td>1</td>\n",
              "      <td>2023-04-01</td>\n",
              "      <td>0</td>\n",
              "      <td>0</td>\n",
              "      <td>0.0</td>\n",
              "      <td>0.0</td>\n",
              "      <td>0.0</td>\n",
              "      <td>0.0</td>\n",
              "      <td>0.0</td>\n",
              "      <td>0.0</td>\n",
              "      <td>...</td>\n",
              "      <td>0.0</td>\n",
              "      <td>0.0</td>\n",
              "      <td>1.0</td>\n",
              "      <td>0.0</td>\n",
              "      <td>0.0</td>\n",
              "      <td>0.0</td>\n",
              "      <td>0.0</td>\n",
              "      <td>1.0</td>\n",
              "      <td>5</td>\n",
              "      <td>1</td>\n",
              "    </tr>\n",
              "    <tr>\n",
              "      <th>721</th>\n",
              "      <td>1</td>\n",
              "      <td>2023-04-01</td>\n",
              "      <td>3</td>\n",
              "      <td>1</td>\n",
              "      <td>0.0</td>\n",
              "      <td>0.0</td>\n",
              "      <td>1.0</td>\n",
              "      <td>0.0</td>\n",
              "      <td>1.0</td>\n",
              "      <td>0.0</td>\n",
              "      <td>...</td>\n",
              "      <td>0.0</td>\n",
              "      <td>0.0</td>\n",
              "      <td>1.0</td>\n",
              "      <td>0.0</td>\n",
              "      <td>0.0</td>\n",
              "      <td>1.0</td>\n",
              "      <td>1.0</td>\n",
              "      <td>2.0</td>\n",
              "      <td>5</td>\n",
              "      <td>1</td>\n",
              "    </tr>\n",
              "    <tr>\n",
              "      <th>722</th>\n",
              "      <td>1</td>\n",
              "      <td>2023-04-01</td>\n",
              "      <td>6</td>\n",
              "      <td>1</td>\n",
              "      <td>1.0</td>\n",
              "      <td>0.0</td>\n",
              "      <td>3.0</td>\n",
              "      <td>0.0</td>\n",
              "      <td>0.0</td>\n",
              "      <td>0.0</td>\n",
              "      <td>...</td>\n",
              "      <td>3.0</td>\n",
              "      <td>0.0</td>\n",
              "      <td>5.0</td>\n",
              "      <td>2.0</td>\n",
              "      <td>0.0</td>\n",
              "      <td>1.0</td>\n",
              "      <td>1.0</td>\n",
              "      <td>7.0</td>\n",
              "      <td>5</td>\n",
              "      <td>1</td>\n",
              "    </tr>\n",
              "    <tr>\n",
              "      <th>723</th>\n",
              "      <td>1</td>\n",
              "      <td>2023-04-01</td>\n",
              "      <td>9</td>\n",
              "      <td>0</td>\n",
              "      <td>1.0</td>\n",
              "      <td>2.0</td>\n",
              "      <td>2.0</td>\n",
              "      <td>3.0</td>\n",
              "      <td>3.0</td>\n",
              "      <td>0.0</td>\n",
              "      <td>...</td>\n",
              "      <td>2.0</td>\n",
              "      <td>1.0</td>\n",
              "      <td>1.0</td>\n",
              "      <td>3.0</td>\n",
              "      <td>1.0</td>\n",
              "      <td>1.0</td>\n",
              "      <td>2.0</td>\n",
              "      <td>2.0</td>\n",
              "      <td>5</td>\n",
              "      <td>1</td>\n",
              "    </tr>\n",
              "    <tr>\n",
              "      <th>724</th>\n",
              "      <td>1</td>\n",
              "      <td>2023-04-01</td>\n",
              "      <td>12</td>\n",
              "      <td>1</td>\n",
              "      <td>0.0</td>\n",
              "      <td>5.0</td>\n",
              "      <td>4.0</td>\n",
              "      <td>0.0</td>\n",
              "      <td>5.0</td>\n",
              "      <td>2.0</td>\n",
              "      <td>...</td>\n",
              "      <td>3.0</td>\n",
              "      <td>2.0</td>\n",
              "      <td>4.0</td>\n",
              "      <td>0.0</td>\n",
              "      <td>0.0</td>\n",
              "      <td>3.0</td>\n",
              "      <td>9.0</td>\n",
              "      <td>2.0</td>\n",
              "      <td>5</td>\n",
              "      <td>1</td>\n",
              "    </tr>\n",
              "  </tbody>\n",
              "</table>\n",
              "<p>5 rows × 21 columns</p>\n",
              "</div>"
            ],
            "text/plain": [
              "     Location       Date Time  Demand  previous_interval  \\\n",
              "720         1 2023-04-01    0       0                0.0   \n",
              "721         1 2023-04-01    3       1                0.0   \n",
              "722         1 2023-04-01    6       1                1.0   \n",
              "723         1 2023-04-01    9       0                1.0   \n",
              "724         1 2023-04-01   12       1                0.0   \n",
              "\n",
              "     previous_day_interval  previous_2day_interval  previous_3day_interval  \\\n",
              "720                    0.0                     0.0                     0.0   \n",
              "721                    0.0                     1.0                     0.0   \n",
              "722                    0.0                     3.0                     0.0   \n",
              "723                    2.0                     2.0                     3.0   \n",
              "724                    5.0                     4.0                     0.0   \n",
              "\n",
              "     previous_4day_interval  previous_5day_interval  ...  \\\n",
              "720                     0.0                     0.0  ...   \n",
              "721                     1.0                     0.0  ...   \n",
              "722                     0.0                     0.0  ...   \n",
              "723                     3.0                     0.0  ...   \n",
              "724                     5.0                     2.0  ...   \n",
              "\n",
              "     previous_week_interval  previous_8day_interval  previous_9day_interval  \\\n",
              "720                     0.0                     0.0                     1.0   \n",
              "721                     0.0                     0.0                     1.0   \n",
              "722                     3.0                     0.0                     5.0   \n",
              "723                     2.0                     1.0                     1.0   \n",
              "724                     3.0                     2.0                     4.0   \n",
              "\n",
              "     previous_10day_interval  previous_11day_interval  \\\n",
              "720                      0.0                      0.0   \n",
              "721                      0.0                      0.0   \n",
              "722                      2.0                      0.0   \n",
              "723                      3.0                      1.0   \n",
              "724                      0.0                      0.0   \n",
              "\n",
              "     previous_12day_interval  previous_13day_interval  \\\n",
              "720                      0.0                      0.0   \n",
              "721                      1.0                      1.0   \n",
              "722                      1.0                      1.0   \n",
              "723                      1.0                      2.0   \n",
              "724                      3.0                      9.0   \n",
              "\n",
              "     previous_2week_interval  Day_of_week  Day_of_month  \n",
              "720                      1.0            5             1  \n",
              "721                      2.0            5             1  \n",
              "722                      7.0            5             1  \n",
              "723                      2.0            5             1  \n",
              "724                      2.0            5             1  \n",
              "\n",
              "[5 rows x 21 columns]"
            ]
          },
          "execution_count": 16,
          "metadata": {},
          "output_type": "execute_result"
        }
      ],
      "source": [
        "print(f'test dataframe shape : {test_df.shape}')\n",
        "test_df.head()"
      ]
    },
    {
      "cell_type": "markdown",
      "metadata": {
        "id": "xf8ChW_7wGmL"
      },
      "source": [
        "# Model Training"
      ]
    },
    {
      "cell_type": "markdown",
      "metadata": {
        "id": "PxYfxyCHz_Z3"
      },
      "source": [
        "## **Ridge Regression**"
      ]
    },
    {
      "cell_type": "markdown",
      "metadata": {
        "id": "CJn4YIBtKcL_"
      },
      "source": [
        "### Model Tuning"
      ]
    },
    {
      "cell_type": "code",
      "execution_count": 17,
      "metadata": {
        "id": "sOMPo5ryBm8g"
      },
      "outputs": [],
      "source": [
        "def grid_search(model, test_parameters, train_data, cv = None, feature_list = FEATURE_LIST):\n",
        "    gs = GridSearchCV(\n",
        "        estimator = model, \n",
        "        param_grid = test_parameters, \n",
        "        scoring = 'neg_root_mean_squared_error', \n",
        "        cv = cv, \n",
        "        n_jobs = -1\n",
        "        )\n",
        "    \n",
        "    gs.fit(train_data[feature_list], train_data['Demand'])\n",
        "    return gs.best_params_, gs.best_score_"
      ]
    },
    {
      "cell_type": "code",
      "execution_count": 18,
      "metadata": {},
      "outputs": [
        {
          "name": "stdout",
          "output_type": "stream",
          "text": [
            "{'alpha': 100} -20.381785647434505\n"
          ]
        }
      ],
      "source": [
        "model = Ridge()\n",
        "best_params, best_score = grid_search(\n",
        "    model, \n",
        "    {'alpha':[1, 10, 100]},\n",
        "    train_df, \n",
        "    cv = 5, \n",
        "    feature_list = FEATURE_LIST\n",
        "    )\n",
        "\n",
        "print(best_params, best_score)"
      ]
    },
    {
      "cell_type": "markdown",
      "metadata": {
        "id": "AxN2E_9Q1yHS"
      },
      "source": [
        "### Prediction"
      ]
    },
    {
      "cell_type": "code",
      "execution_count": 19,
      "metadata": {
        "id": "pbhM5Oe6PjW7"
      },
      "outputs": [],
      "source": [
        "def model_predict(model, train_data, test_data, feature_list):\n",
        "\n",
        "    model.fit(train_data[feature_list], train_data['Demand'])\n",
        "\n",
        "\n",
        "    train_predict_df  = model.predict(train_data[feature_list])\n",
        "    test_predict_df  = model.predict(test_data[feature_list])\n",
        "\n",
        "    return train_predict_df, test_predict_df"
      ]
    },
    {
      "cell_type": "code",
      "execution_count": 20,
      "metadata": {
        "id": "MulwYZc7LK7v"
      },
      "outputs": [],
      "source": [
        "model = Ridge(**best_params)\n",
        "train_prediction_df , test_prediction_df  = model_predict(model, train_df, test_df, FEATURE_LIST)"
      ]
    },
    {
      "cell_type": "markdown",
      "metadata": {
        "id": "jJYHtg2oRqvS"
      },
      "source": [
        "### Visualization"
      ]
    },
    {
      "cell_type": "code",
      "execution_count": 21,
      "metadata": {},
      "outputs": [],
      "source": [
        "def add_day_of_year(data):\n",
        "    data['day_year'] = 0\n",
        "    start_date = data['Date'].min()\n",
        "\n",
        "    for index, row in data.iterrows():\n",
        "\n",
        "        curr_date = row['Date']\n",
        "        day_number = (curr_date - start_date).days\n",
        "\n",
        "        data.at[index, 'day_year'] = day_number\n",
        "    return data"
      ]
    },
    {
      "cell_type": "code",
      "execution_count": 22,
      "metadata": {
        "id": "ao6nw8xsRvB9"
      },
      "outputs": [],
      "source": [
        "def prediction_visualization(train_data, test_data, train_prediction_df, test_prediction_df):\n",
        "\n",
        "\n",
        "    train_data = add_day_of_year(train_data)\n",
        "    test_data = add_day_of_year(test_data)\n",
        "\n",
        "    predicted_train_df = train_data\n",
        "    predicted_test_df = test_data\n",
        "    predicted_train_df['Predicted'] = train_prediction_df\n",
        "    predicted_test_df['Predicted'] = test_prediction_df\n",
        "\n",
        "    train_data = train_data.groupby('day_year')['Demand'].sum()\n",
        "    test_data = test_data.groupby('day_year')['Demand'].sum()\n",
        "    predicted_train_df = predicted_train_df.groupby('day_year')['Predicted'].sum()\n",
        "    predicted_test_df = predicted_test_df.groupby('day_year')['Predicted'].sum()\n",
        "\n",
        "    plt.title('Train')\n",
        "    plt.plot(train_data)\n",
        "    plt.plot(predicted_train_df)\n",
        "    plt.legend([\"Real Value\", \"Predicted\"], loc =\"lower right\")\n",
        "    plt.show()\n",
        "\n",
        "    plot_length = len(test_data)\n",
        "    plt.title('Test')\n",
        "    plt.plot(test_data)\n",
        "    plt.plot(predicted_test_df)\n",
        "    plt.legend([\"Real Value\", \"Predicted\"], loc =\"lower right\")\n",
        "    plt.show()"
      ]
    },
    {
      "cell_type": "code",
      "execution_count": 23,
      "metadata": {
        "colab": {
          "base_uri": "https://localhost:8080/",
          "height": 887
        },
        "id": "gOyNantNRtda",
        "outputId": "dc7796cf-c196-421d-bd56-1d312334dee4"
      },
      "outputs": [
        {
          "name": "stderr",
          "output_type": "stream",
          "text": [
            "C:\\Users\\bardia\\AppData\\Local\\Temp\\ipykernel_12916\\2975102461.py:2: SettingWithCopyWarning: \n",
            "A value is trying to be set on a copy of a slice from a DataFrame.\n",
            "Try using .loc[row_indexer,col_indexer] = value instead\n",
            "\n",
            "See the caveats in the documentation: https://pandas.pydata.org/pandas-docs/stable/user_guide/indexing.html#returning-a-view-versus-a-copy\n",
            "  data['day_year'] = 0\n",
            "C:\\Users\\bardia\\AppData\\Local\\Temp\\ipykernel_12916\\2975102461.py:2: SettingWithCopyWarning: \n",
            "A value is trying to be set on a copy of a slice from a DataFrame.\n",
            "Try using .loc[row_indexer,col_indexer] = value instead\n",
            "\n",
            "See the caveats in the documentation: https://pandas.pydata.org/pandas-docs/stable/user_guide/indexing.html#returning-a-view-versus-a-copy\n",
            "  data['day_year'] = 0\n",
            "C:\\Users\\bardia\\AppData\\Local\\Temp\\ipykernel_12916\\2246591508.py:9: SettingWithCopyWarning: \n",
            "A value is trying to be set on a copy of a slice from a DataFrame.\n",
            "Try using .loc[row_indexer,col_indexer] = value instead\n",
            "\n",
            "See the caveats in the documentation: https://pandas.pydata.org/pandas-docs/stable/user_guide/indexing.html#returning-a-view-versus-a-copy\n",
            "  predicted_train_df['Predicted'] = train_prediction_df\n",
            "C:\\Users\\bardia\\AppData\\Local\\Temp\\ipykernel_12916\\2246591508.py:10: SettingWithCopyWarning: \n",
            "A value is trying to be set on a copy of a slice from a DataFrame.\n",
            "Try using .loc[row_indexer,col_indexer] = value instead\n",
            "\n",
            "See the caveats in the documentation: https://pandas.pydata.org/pandas-docs/stable/user_guide/indexing.html#returning-a-view-versus-a-copy\n",
            "  predicted_test_df['Predicted'] = test_prediction_df\n"
          ]
        },
        {
          "data": {
            "image/png": "[encoded data removed]",
            "text/plain": [
              "<Figure size 640x480 with 1 Axes>"
            ]
          },
          "metadata": {},
          "output_type": "display_data"
        },
        {
          "data": {
            "image/png": "[encoded data removed]",
            "text/plain": [
              "<Figure size 640x480 with 1 Axes>"
            ]
          },
          "metadata": {},
          "output_type": "display_data"
        }
      ],
      "source": [
        "prediction_visualization(train_df, test_df, train_prediction_df, test_prediction_df)"
      ]
    },
    {
      "cell_type": "markdown",
      "metadata": {
        "id": "RBsqB5hnSuPP"
      },
      "source": [
        "### Evaluation"
      ]
    },
    {
      "cell_type": "code",
      "execution_count": 24,
      "metadata": {
        "id": "BcGvcilUWEEC"
      },
      "outputs": [],
      "source": [
        "def evaluate(metric, metric_name, true_values, predicted_values):\n",
        "    print(f'{metric_name} : {metric(true_values, predicted_values)}')"
      ]
    },
    {
      "cell_type": "code",
      "execution_count": 25,
      "metadata": {
        "id": "v4-GWghuSbnA"
      },
      "outputs": [],
      "source": [
        "def evaluation(model_name, train_data, test_data, train_prediction_df, test_prediction_df):\n",
        "    print(f'{model_name} train scores:')\n",
        "\n",
        "\n",
        "    evaluate(mean_absolute_error, 'MAE', train_data['Demand'], train_prediction_df)\n",
        "    evaluate(mean_squared_error, 'MSE', train_data['Demand'], train_prediction_df)\n",
        "    evaluate(mean_absolute_percentage_error, 'MAPE', train_data['Demand'], train_prediction_df)\n",
        "\n",
        "    print(f'{model_name} test scores:')\n",
        "\n",
        "    evaluate(mean_absolute_error, 'MAE', test_data['Demand'], test_prediction_df)\n",
        "    evaluate(mean_squared_error, 'MSE', test_data['Demand'], test_prediction_df)\n",
        "    evaluate(mean_absolute_percentage_error, 'MAPE', test_data['Demand'], test_prediction_df)\n"
      ]
    },
    {
      "cell_type": "code",
      "execution_count": 26,
      "metadata": {
        "colab": {
          "base_uri": "https://localhost:8080/"
        },
        "id": "vUBqNgIwSwKe",
        "outputId": "c05d64b8-b525-458d-96db-757e94a57d89"
      },
      "outputs": [
        {
          "name": "stdout",
          "output_type": "stream",
          "text": [
            "Ridge Regression train scores:\n",
            "MAE : 6.363241398122363\n",
            "MSE : 450.4450775675966\n",
            "MAPE : 1183559070204504.5\n",
            "Ridge Regression test scores:\n",
            "MAE : 6.586878935654306\n",
            "MSE : 430.90301321027147\n",
            "MAPE : 1222668201031586.5\n"
          ]
        }
      ],
      "source": [
        "evaluation('Ridge Regression', train_df, test_df, train_prediction_df, test_prediction_df)"
      ]
    },
    {
      "cell_type": "markdown",
      "metadata": {},
      "source": [
        "# File Saving"
      ]
    },
    {
      "cell_type": "code",
      "execution_count": 27,
      "metadata": {},
      "outputs": [],
      "source": [
        "def save_predictions(dataset, path):\n",
        "    dataset.to_parquet(path, index=False)"
      ]
    },
    {
      "cell_type": "code",
      "execution_count": 28,
      "metadata": {},
      "outputs": [],
      "source": [
        "def prediction_labeling(pred_df, labeled_df):\n",
        "    pred_df = pd.DataFrame(pred_df, columns = ['Predicted_demand'])\n",
        "    labeled_df.reset_index(inplace = True)\n",
        "    labeled_prediction_df = labeled_df[['Location', 'Date']]\n",
        "    labeled_prediction_df['Predicted_demand'] = pred_df\n",
        "    return labeled_prediction_df"
      ]
    },
    {
      "cell_type": "code",
      "execution_count": 29,
      "metadata": {},
      "outputs": [
        {
          "name": "stderr",
          "output_type": "stream",
          "text": [
            "C:\\Users\\bardia\\AppData\\Local\\Temp\\ipykernel_12916\\1857597426.py:5: SettingWithCopyWarning: \n",
            "A value is trying to be set on a copy of a slice from a DataFrame.\n",
            "Try using .loc[row_indexer,col_indexer] = value instead\n",
            "\n",
            "See the caveats in the documentation: https://pandas.pydata.org/pandas-docs/stable/user_guide/indexing.html#returning-a-view-versus-a-copy\n",
            "  labeled_prediction_df['Predicted_demand'] = pred_df\n"
          ]
        }
      ],
      "source": [
        "labeled_prediction_df = prediction_labeling(test_prediction_df, test_df)"
      ]
    },
    {
      "cell_type": "code",
      "execution_count": 30,
      "metadata": {},
      "outputs": [
        {
          "name": "stdout",
          "output_type": "stream",
          "text": [
            "labeled prediction dataframe shape : (62880, 3)\n"
          ]
        },
        {
          "data": {
            "text/html": [
              "<div>\n",
              "<style scoped>\n",
              "    .dataframe tbody tr th:only-of-type {\n",
              "        vertical-align: middle;\n",
              "    }\n",
              "\n",
              "    .dataframe tbody tr th {\n",
              "        vertical-align: top;\n",
              "    }\n",
              "\n",
              "    .dataframe thead th {\n",
              "        text-align: right;\n",
              "    }\n",
              "</style>\n",
              "<table border=\"1\" class=\"dataframe\">\n",
              "  <thead>\n",
              "    <tr style=\"text-align: right;\">\n",
              "      <th></th>\n",
              "      <th>Location</th>\n",
              "      <th>Date</th>\n",
              "      <th>Predicted_demand</th>\n",
              "    </tr>\n",
              "  </thead>\n",
              "  <tbody>\n",
              "    <tr>\n",
              "      <th>0</th>\n",
              "      <td>1</td>\n",
              "      <td>2023-04-01</td>\n",
              "      <td>0.844770</td>\n",
              "    </tr>\n",
              "    <tr>\n",
              "      <th>1</th>\n",
              "      <td>1</td>\n",
              "      <td>2023-04-01</td>\n",
              "      <td>1.336940</td>\n",
              "    </tr>\n",
              "    <tr>\n",
              "      <th>2</th>\n",
              "      <td>1</td>\n",
              "      <td>2023-04-01</td>\n",
              "      <td>3.997402</td>\n",
              "    </tr>\n",
              "    <tr>\n",
              "      <th>3</th>\n",
              "      <td>1</td>\n",
              "      <td>2023-04-01</td>\n",
              "      <td>2.644936</td>\n",
              "    </tr>\n",
              "    <tr>\n",
              "      <th>4</th>\n",
              "      <td>1</td>\n",
              "      <td>2023-04-01</td>\n",
              "      <td>3.952247</td>\n",
              "    </tr>\n",
              "  </tbody>\n",
              "</table>\n",
              "</div>"
            ],
            "text/plain": [
              "   Location       Date  Predicted_demand\n",
              "0         1 2023-04-01          0.844770\n",
              "1         1 2023-04-01          1.336940\n",
              "2         1 2023-04-01          3.997402\n",
              "3         1 2023-04-01          2.644936\n",
              "4         1 2023-04-01          3.952247"
            ]
          },
          "execution_count": 30,
          "metadata": {},
          "output_type": "execute_result"
        }
      ],
      "source": [
        "print(f'labeled prediction dataframe shape : {labeled_prediction_df.shape}')\n",
        "labeled_prediction_df.head()"
      ]
    },
    {
      "cell_type": "code",
      "execution_count": 31,
      "metadata": {},
      "outputs": [],
      "source": [
        "save_predictions(labeled_prediction_df, OUTPUT_PATH)"
      ]
    }
  ],
  "metadata": {
    "colab": {
      "provenance": [],
      "toc_visible": true
    },
    "kernelspec": {
      "display_name": "Python 3",
      "name": "python3"
    },
    "language_info": {
      "codemirror_mode": {
        "name": "ipython",
        "version": 3
      },
      "file_extension": ".py",
      "mimetype": "text/x-python",
      "name": "python",
      "nbconvert_exporter": "python",
      "pygments_lexer": "ipython3",
      "version": "3.10.7"
    }
  },
  "nbformat": 4,
  "nbformat_minor": 0
}
