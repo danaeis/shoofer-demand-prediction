{
  "cells": [
    {
      "cell_type": "markdown",
      "metadata": {
        "id": "8UTIGpTZZlOO"
      },
      "source": [
        "# Imports"
      ]
    },
    {
      "cell_type": "code",
      "execution_count": 529,
      "metadata": {
        "id": "AnwSHO1L97I5"
      },
      "outputs": [],
      "source": [
        "import datetime\n",
        "import matplotlib.pyplot as plt\n",
        "import numpy as np\n",
        "import pandas as pd\n",
        "import shap\n",
        "import xgboost as xgb\n",
        "\n",
        "from sklearn.metrics import mean_absolute_error, mean_squared_error, mean_absolute_percentage_error\n",
        "from sklearn.model_selection import GridSearchCV"
      ]
    },
    {
      "cell_type": "markdown",
      "metadata": {
        "id": "pSSMa3G2wGmF"
      },
      "source": [
        "# Configs"
      ]
    },
    {
      "cell_type": "code",
      "execution_count": 564,
      "metadata": {
        "id": "zIkDLK9zwGmG"
      },
      "outputs": [],
      "source": [
        "INPUT_PATH = 'datasets/'\n",
        "ARIMA_PATH = 'statics/arima_predict.parquet'\n",
        "OUTPUT_PATH = 'results/xgb_predictions.parquet'\n",
        "\n",
        "START_DATE = '2023-01-01'\n",
        "END_DATE = '2023-04-30'\n",
        "\n",
        "FEATURE_LIST = ['ARIMA_predicts',\n",
        "                'Previous_2week_demand',\n",
        "                'Previous_week_demand', \n",
        "                'Previous_day_demand', \n",
        "                'Day_of_month', \n",
        "                'Day_of_week']\n",
        "\n",
        "TEST_START_DATE = '2023-04-1'\n",
        "\n",
        "AUTO_TUNE = False"
      ]
    },
    {
      "cell_type": "markdown",
      "metadata": {
        "id": "5eS5BQE9wGmK"
      },
      "source": [
        "# Data preparation\n"
      ]
    },
    {
      "cell_type": "markdown",
      "metadata": {
        "id": "TWsjXbpaznc_"
      },
      "source": [
        "## Load Data"
      ]
    },
    {
      "cell_type": "code",
      "execution_count": 531,
      "metadata": {
        "id": "HAyNjqxNwGmH"
      },
      "outputs": [],
      "source": [
        "def load_data(path, start_date: str, end_date: str):\n",
        "    df = pd.read_parquet(path)\n",
        "    start_date = datetime.date.fromisoformat(start_date)\n",
        "    end_date = datetime.date.fromisoformat(end_date)\n",
        "    filtered_df = df[(df['tpep_pickup_datetime'].dt.date >= start_date) &\n",
        "                     (df['tpep_pickup_datetime'].dt.date <= end_date)]\n",
        "    dataset = filtered_df.filter(items=['tpep_pickup_datetime', 'PULocationID'])\n",
        "    dataset['PU_date'] = pd.to_datetime(dataset['tpep_pickup_datetime'].dt.date)\n",
        "    return dataset"
      ]
    },
    {
      "cell_type": "code",
      "execution_count": 532,
      "metadata": {
        "id": "87BFHUu1-z73"
      },
      "outputs": [],
      "source": [
        "rides_df = load_data(INPUT_PATH, START_DATE, END_DATE)"
      ]
    },
    {
      "cell_type": "code",
      "execution_count": 533,
      "metadata": {
        "id": "hCN-11QT3bp1"
      },
      "outputs": [
        {
          "name": "stdout",
          "output_type": "stream",
          "text": [
            "rides dataframe shape : (12672629, 3)\n"
          ]
        },
        {
          "data": {
            "text/html": [
              "<div>\n",
              "<style scoped>\n",
              "    .dataframe tbody tr th:only-of-type {\n",
              "        vertical-align: middle;\n",
              "    }\n",
              "\n",
              "    .dataframe tbody tr th {\n",
              "        vertical-align: top;\n",
              "    }\n",
              "\n",
              "    .dataframe thead th {\n",
              "        text-align: right;\n",
              "    }\n",
              "</style>\n",
              "<table border=\"1\" class=\"dataframe\">\n",
              "  <thead>\n",
              "    <tr style=\"text-align: right;\">\n",
              "      <th></th>\n",
              "      <th>tpep_pickup_datetime</th>\n",
              "      <th>PULocationID</th>\n",
              "      <th>PU_date</th>\n",
              "    </tr>\n",
              "  </thead>\n",
              "  <tbody>\n",
              "    <tr>\n",
              "      <th>0</th>\n",
              "      <td>2023-01-01 00:32:10</td>\n",
              "      <td>161</td>\n",
              "      <td>2023-01-01</td>\n",
              "    </tr>\n",
              "    <tr>\n",
              "      <th>1</th>\n",
              "      <td>2023-01-01 00:55:08</td>\n",
              "      <td>43</td>\n",
              "      <td>2023-01-01</td>\n",
              "    </tr>\n",
              "    <tr>\n",
              "      <th>2</th>\n",
              "      <td>2023-01-01 00:25:04</td>\n",
              "      <td>48</td>\n",
              "      <td>2023-01-01</td>\n",
              "    </tr>\n",
              "    <tr>\n",
              "      <th>3</th>\n",
              "      <td>2023-01-01 00:03:48</td>\n",
              "      <td>138</td>\n",
              "      <td>2023-01-01</td>\n",
              "    </tr>\n",
              "    <tr>\n",
              "      <th>4</th>\n",
              "      <td>2023-01-01 00:10:29</td>\n",
              "      <td>107</td>\n",
              "      <td>2023-01-01</td>\n",
              "    </tr>\n",
              "  </tbody>\n",
              "</table>\n",
              "</div>"
            ],
            "text/plain": [
              "  tpep_pickup_datetime  PULocationID    PU_date\n",
              "0  2023-01-01 00:32:10           161 2023-01-01\n",
              "1  2023-01-01 00:55:08            43 2023-01-01\n",
              "2  2023-01-01 00:25:04            48 2023-01-01\n",
              "3  2023-01-01 00:03:48           138 2023-01-01\n",
              "4  2023-01-01 00:10:29           107 2023-01-01"
            ]
          },
          "execution_count": 533,
          "metadata": {},
          "output_type": "execute_result"
        }
      ],
      "source": [
        "print(f'rides dataframe shape : {rides_df.shape}')\n",
        "rides_df.head()"
      ]
    },
    {
      "cell_type": "code",
      "execution_count": 534,
      "metadata": {},
      "outputs": [],
      "source": [
        "arima_df = pd.read_parquet(ARIMA_PATH)"
      ]
    },
    {
      "cell_type": "code",
      "execution_count": 535,
      "metadata": {},
      "outputs": [
        {
          "name": "stdout",
          "output_type": "stream",
          "text": [
            "statics dataframe shape : (27772, 1)\n"
          ]
        },
        {
          "data": {
            "text/html": [
              "<div>\n",
              "<style scoped>\n",
              "    .dataframe tbody tr th:only-of-type {\n",
              "        vertical-align: middle;\n",
              "    }\n",
              "\n",
              "    .dataframe tbody tr th {\n",
              "        vertical-align: top;\n",
              "    }\n",
              "\n",
              "    .dataframe thead th {\n",
              "        text-align: right;\n",
              "    }\n",
              "</style>\n",
              "<table border=\"1\" class=\"dataframe\">\n",
              "  <thead>\n",
              "    <tr style=\"text-align: right;\">\n",
              "      <th></th>\n",
              "      <th>0</th>\n",
              "    </tr>\n",
              "  </thead>\n",
              "  <tbody>\n",
              "    <tr>\n",
              "      <th>0</th>\n",
              "      <td>18</td>\n",
              "    </tr>\n",
              "    <tr>\n",
              "      <th>1</th>\n",
              "      <td>0</td>\n",
              "    </tr>\n",
              "    <tr>\n",
              "      <th>2</th>\n",
              "      <td>1</td>\n",
              "    </tr>\n",
              "    <tr>\n",
              "      <th>3</th>\n",
              "      <td>86</td>\n",
              "    </tr>\n",
              "    <tr>\n",
              "      <th>4</th>\n",
              "      <td>1</td>\n",
              "    </tr>\n",
              "  </tbody>\n",
              "</table>\n",
              "</div>"
            ],
            "text/plain": [
              "    0\n",
              "0  18\n",
              "1   0\n",
              "2   1\n",
              "3  86\n",
              "4   1"
            ]
          },
          "execution_count": 535,
          "metadata": {},
          "output_type": "execute_result"
        }
      ],
      "source": [
        "print(f'statics dataframe shape : {arima_df.shape}')\n",
        "arima_df.head()"
      ]
    },
    {
      "cell_type": "markdown",
      "metadata": {
        "id": "X2ES_CY6-fb5"
      },
      "source": [
        "## Labeling"
      ]
    },
    {
      "cell_type": "code",
      "execution_count": 536,
      "metadata": {
        "id": "a7mNMQ-zwGmH"
      },
      "outputs": [],
      "source": [
        "def labeling(dataset):\n",
        "    dataset_labels = (\n",
        "        dataset\n",
        "        .groupby(['PULocationID', 'PU_date'])['PU_date']\n",
        "        .count()\n",
        "        .to_frame('Demand')\n",
        "        .sort_values(['PULocationID', 'PU_date'], ascending=[True, True])\n",
        "        .reset_index()\n",
        "        .rename(columns={'PULocationID': 'Location', 'PU_date': 'Date'})\n",
        "    )\n",
        "\n",
        "    locations = pd.DataFrame(dataset_labels['Location'].unique(), columns=['Location'])\n",
        "    dates = pd.DataFrame(dataset_labels['Date'].unique(), columns=['Date'])\n",
        "\n",
        "    location_date_df = (\n",
        "        locations\n",
        "        .merge(dates, how='cross')\n",
        "        .sort_values(['Location', 'Date'], ascending=[True, True])\n",
        "        .reset_index(drop=True)\n",
        "    )\n",
        "\n",
        "    labels_df = (\n",
        "        location_date_df\n",
        "        .merge(dataset_labels, how='left', on=['Location', 'Date'])\n",
        "        .fillna(value=0)\n",
        "    )\n",
        "\n",
        "    return labels_df\n"
      ]
    },
    {
      "cell_type": "code",
      "execution_count": 537,
      "metadata": {
        "id": "VVRLakW_LeGp"
      },
      "outputs": [],
      "source": [
        "labeled_df = labeling(rides_df)"
      ]
    },
    {
      "cell_type": "code",
      "execution_count": 538,
      "metadata": {
        "id": "0Gm5j5em28Xy"
      },
      "outputs": [
        {
          "name": "stdout",
          "output_type": "stream",
          "text": [
            "labeled dataframe shape : (31440, 3)\n"
          ]
        },
        {
          "data": {
            "text/html": [
              "<div>\n",
              "<style scoped>\n",
              "    .dataframe tbody tr th:only-of-type {\n",
              "        vertical-align: middle;\n",
              "    }\n",
              "\n",
              "    .dataframe tbody tr th {\n",
              "        vertical-align: top;\n",
              "    }\n",
              "\n",
              "    .dataframe thead th {\n",
              "        text-align: right;\n",
              "    }\n",
              "</style>\n",
              "<table border=\"1\" class=\"dataframe\">\n",
              "  <thead>\n",
              "    <tr style=\"text-align: right;\">\n",
              "      <th></th>\n",
              "      <th>Location</th>\n",
              "      <th>Date</th>\n",
              "      <th>Demand</th>\n",
              "    </tr>\n",
              "  </thead>\n",
              "  <tbody>\n",
              "    <tr>\n",
              "      <th>0</th>\n",
              "      <td>1</td>\n",
              "      <td>2023-01-01</td>\n",
              "      <td>40.0</td>\n",
              "    </tr>\n",
              "    <tr>\n",
              "      <th>1</th>\n",
              "      <td>1</td>\n",
              "      <td>2023-01-02</td>\n",
              "      <td>31.0</td>\n",
              "    </tr>\n",
              "    <tr>\n",
              "      <th>2</th>\n",
              "      <td>1</td>\n",
              "      <td>2023-01-03</td>\n",
              "      <td>27.0</td>\n",
              "    </tr>\n",
              "    <tr>\n",
              "      <th>3</th>\n",
              "      <td>1</td>\n",
              "      <td>2023-01-04</td>\n",
              "      <td>7.0</td>\n",
              "    </tr>\n",
              "    <tr>\n",
              "      <th>4</th>\n",
              "      <td>1</td>\n",
              "      <td>2023-01-05</td>\n",
              "      <td>15.0</td>\n",
              "    </tr>\n",
              "  </tbody>\n",
              "</table>\n",
              "</div>"
            ],
            "text/plain": [
              "   Location       Date  Demand\n",
              "0         1 2023-01-01    40.0\n",
              "1         1 2023-01-02    31.0\n",
              "2         1 2023-01-03    27.0\n",
              "3         1 2023-01-04     7.0\n",
              "4         1 2023-01-05    15.0"
            ]
          },
          "execution_count": 538,
          "metadata": {},
          "output_type": "execute_result"
        }
      ],
      "source": [
        "print(f'labeled dataframe shape : {labeled_df.shape}')\n",
        "labeled_df.head()"
      ]
    },
    {
      "cell_type": "markdown",
      "metadata": {
        "id": "G0W2pR-70JJb"
      },
      "source": [
        "## Add Feature"
      ]
    },
    {
      "cell_type": "code",
      "execution_count": 539,
      "metadata": {
        "id": "ifvk6uWS6hnT"
      },
      "outputs": [],
      "source": [
        "def feature_engineering(dataset, statics_df):\n",
        "    dataset['Previous_day_demand'] = dataset.groupby(['Location'])['Demand'].shift(1)\n",
        "    dataset['Previous_week_demand'] = dataset.groupby(['Location'])['Demand'].shift(7)\n",
        "    dataset['Previous_2week_demand'] = dataset.groupby(['Location'])['Demand'].shift(14)\n",
        "\n",
        "\n",
        "    dataset['Day_of_week'] = dataset['Date'].dt.dayofweek   \n",
        "    dataset['Day_of_month'] = dataset['Date'].dt.day\n",
        "\n",
        "    dataset = dataset.sort_values(by = ['Date', 'Location'])\n",
        "    dataset['ARIMA_predicts'] = None\n",
        "    start_index = len(dataset) - len(statics_df)\n",
        "    end_index = len(dataset)\n",
        "    dataset.iloc[start_index:end_index, dataset.columns.get_loc('ARIMA_predicts')] = statics_df\n",
        "    dataset['ARIMA_predicts'] = dataset['ARIMA_predicts'].astype('float')\n",
        "    dataset = dataset.sort_values(by = ['Location', 'Date'])\n",
        "    \n",
        "    return dataset"
      ]
    },
    {
      "cell_type": "code",
      "execution_count": 540,
      "metadata": {
        "id": "12zNfv8YwGmK"
      },
      "outputs": [],
      "source": [
        "features_df = feature_engineering(labeled_df, arima_df)\n",
        "features_df.dropna(inplace = True)"
      ]
    },
    {
      "cell_type": "code",
      "execution_count": 541,
      "metadata": {
        "id": "bJxWEkiD3VOZ"
      },
      "outputs": [
        {
          "name": "stdout",
          "output_type": "stream",
          "text": [
            "features dataframe shape : (27772, 9)\n"
          ]
        },
        {
          "data": {
            "text/html": [
              "<div>\n",
              "<style scoped>\n",
              "    .dataframe tbody tr th:only-of-type {\n",
              "        vertical-align: middle;\n",
              "    }\n",
              "\n",
              "    .dataframe tbody tr th {\n",
              "        vertical-align: top;\n",
              "    }\n",
              "\n",
              "    .dataframe thead th {\n",
              "        text-align: right;\n",
              "    }\n",
              "</style>\n",
              "<table border=\"1\" class=\"dataframe\">\n",
              "  <thead>\n",
              "    <tr style=\"text-align: right;\">\n",
              "      <th></th>\n",
              "      <th>Location</th>\n",
              "      <th>Date</th>\n",
              "      <th>Demand</th>\n",
              "      <th>Previous_day_demand</th>\n",
              "      <th>Previous_week_demand</th>\n",
              "      <th>Previous_2week_demand</th>\n",
              "      <th>Day_of_week</th>\n",
              "      <th>Day_of_month</th>\n",
              "      <th>ARIMA_predicts</th>\n",
              "    </tr>\n",
              "  </thead>\n",
              "  <tbody>\n",
              "    <tr>\n",
              "      <th>14</th>\n",
              "      <td>1</td>\n",
              "      <td>2023-01-15</td>\n",
              "      <td>19.0</td>\n",
              "      <td>7.0</td>\n",
              "      <td>12.0</td>\n",
              "      <td>40.0</td>\n",
              "      <td>6</td>\n",
              "      <td>15</td>\n",
              "      <td>18.0</td>\n",
              "    </tr>\n",
              "    <tr>\n",
              "      <th>15</th>\n",
              "      <td>1</td>\n",
              "      <td>2023-01-16</td>\n",
              "      <td>21.0</td>\n",
              "      <td>19.0</td>\n",
              "      <td>14.0</td>\n",
              "      <td>31.0</td>\n",
              "      <td>0</td>\n",
              "      <td>16</td>\n",
              "      <td>18.0</td>\n",
              "    </tr>\n",
              "    <tr>\n",
              "      <th>16</th>\n",
              "      <td>1</td>\n",
              "      <td>2023-01-17</td>\n",
              "      <td>18.0</td>\n",
              "      <td>21.0</td>\n",
              "      <td>4.0</td>\n",
              "      <td>27.0</td>\n",
              "      <td>1</td>\n",
              "      <td>17</td>\n",
              "      <td>19.0</td>\n",
              "    </tr>\n",
              "    <tr>\n",
              "      <th>17</th>\n",
              "      <td>1</td>\n",
              "      <td>2023-01-18</td>\n",
              "      <td>10.0</td>\n",
              "      <td>18.0</td>\n",
              "      <td>9.0</td>\n",
              "      <td>7.0</td>\n",
              "      <td>2</td>\n",
              "      <td>18</td>\n",
              "      <td>17.0</td>\n",
              "    </tr>\n",
              "    <tr>\n",
              "      <th>18</th>\n",
              "      <td>1</td>\n",
              "      <td>2023-01-19</td>\n",
              "      <td>9.0</td>\n",
              "      <td>10.0</td>\n",
              "      <td>8.0</td>\n",
              "      <td>15.0</td>\n",
              "      <td>3</td>\n",
              "      <td>19</td>\n",
              "      <td>12.0</td>\n",
              "    </tr>\n",
              "  </tbody>\n",
              "</table>\n",
              "</div>"
            ],
            "text/plain": [
              "    Location       Date  Demand  Previous_day_demand  Previous_week_demand  \\\n",
              "14         1 2023-01-15    19.0                  7.0                  12.0   \n",
              "15         1 2023-01-16    21.0                 19.0                  14.0   \n",
              "16         1 2023-01-17    18.0                 21.0                   4.0   \n",
              "17         1 2023-01-18    10.0                 18.0                   9.0   \n",
              "18         1 2023-01-19     9.0                 10.0                   8.0   \n",
              "\n",
              "    Previous_2week_demand  Day_of_week  Day_of_month  ARIMA_predicts  \n",
              "14                   40.0            6            15            18.0  \n",
              "15                   31.0            0            16            18.0  \n",
              "16                   27.0            1            17            19.0  \n",
              "17                    7.0            2            18            17.0  \n",
              "18                   15.0            3            19            12.0  "
            ]
          },
          "execution_count": 541,
          "metadata": {},
          "output_type": "execute_result"
        }
      ],
      "source": [
        "print(f'features dataframe shape : {features_df.shape}')\n",
        "features_df.head()"
      ]
    },
    {
      "cell_type": "markdown",
      "metadata": {
        "id": "zN0kp6jw03DP"
      },
      "source": [
        "## Split Train and Test Data"
      ]
    },
    {
      "cell_type": "code",
      "execution_count": 542,
      "metadata": {
        "id": "CMY1G1lmwGmI"
      },
      "outputs": [],
      "source": [
        "def train_test_splitting(dataset, TEST_START_DATE):\n",
        "\n",
        "    train_df = dataset[dataset['Date'] < TEST_START_DATE]\n",
        "    test_df = dataset[dataset['Date'] >= TEST_START_DATE]\n",
        "\n",
        "    return train_df, test_df"
      ]
    },
    {
      "cell_type": "code",
      "execution_count": 543,
      "metadata": {
        "id": "3xH4VMGNwGmK"
      },
      "outputs": [],
      "source": [
        "train_df, test_df = train_test_splitting(features_df, TEST_START_DATE)"
      ]
    },
    {
      "cell_type": "code",
      "execution_count": 544,
      "metadata": {
        "id": "xxGdRZfqwGmL"
      },
      "outputs": [
        {
          "name": "stdout",
          "output_type": "stream",
          "text": [
            "train dataframe shape : (19912, 9)\n"
          ]
        },
        {
          "data": {
            "text/html": [
              "<div>\n",
              "<style scoped>\n",
              "    .dataframe tbody tr th:only-of-type {\n",
              "        vertical-align: middle;\n",
              "    }\n",
              "\n",
              "    .dataframe tbody tr th {\n",
              "        vertical-align: top;\n",
              "    }\n",
              "\n",
              "    .dataframe thead th {\n",
              "        text-align: right;\n",
              "    }\n",
              "</style>\n",
              "<table border=\"1\" class=\"dataframe\">\n",
              "  <thead>\n",
              "    <tr style=\"text-align: right;\">\n",
              "      <th></th>\n",
              "      <th>Location</th>\n",
              "      <th>Date</th>\n",
              "      <th>Demand</th>\n",
              "      <th>Previous_day_demand</th>\n",
              "      <th>Previous_week_demand</th>\n",
              "      <th>Previous_2week_demand</th>\n",
              "      <th>Day_of_week</th>\n",
              "      <th>Day_of_month</th>\n",
              "      <th>ARIMA_predicts</th>\n",
              "    </tr>\n",
              "  </thead>\n",
              "  <tbody>\n",
              "    <tr>\n",
              "      <th>14</th>\n",
              "      <td>1</td>\n",
              "      <td>2023-01-15</td>\n",
              "      <td>19.0</td>\n",
              "      <td>7.0</td>\n",
              "      <td>12.0</td>\n",
              "      <td>40.0</td>\n",
              "      <td>6</td>\n",
              "      <td>15</td>\n",
              "      <td>18.0</td>\n",
              "    </tr>\n",
              "    <tr>\n",
              "      <th>15</th>\n",
              "      <td>1</td>\n",
              "      <td>2023-01-16</td>\n",
              "      <td>21.0</td>\n",
              "      <td>19.0</td>\n",
              "      <td>14.0</td>\n",
              "      <td>31.0</td>\n",
              "      <td>0</td>\n",
              "      <td>16</td>\n",
              "      <td>18.0</td>\n",
              "    </tr>\n",
              "    <tr>\n",
              "      <th>16</th>\n",
              "      <td>1</td>\n",
              "      <td>2023-01-17</td>\n",
              "      <td>18.0</td>\n",
              "      <td>21.0</td>\n",
              "      <td>4.0</td>\n",
              "      <td>27.0</td>\n",
              "      <td>1</td>\n",
              "      <td>17</td>\n",
              "      <td>19.0</td>\n",
              "    </tr>\n",
              "    <tr>\n",
              "      <th>17</th>\n",
              "      <td>1</td>\n",
              "      <td>2023-01-18</td>\n",
              "      <td>10.0</td>\n",
              "      <td>18.0</td>\n",
              "      <td>9.0</td>\n",
              "      <td>7.0</td>\n",
              "      <td>2</td>\n",
              "      <td>18</td>\n",
              "      <td>17.0</td>\n",
              "    </tr>\n",
              "    <tr>\n",
              "      <th>18</th>\n",
              "      <td>1</td>\n",
              "      <td>2023-01-19</td>\n",
              "      <td>9.0</td>\n",
              "      <td>10.0</td>\n",
              "      <td>8.0</td>\n",
              "      <td>15.0</td>\n",
              "      <td>3</td>\n",
              "      <td>19</td>\n",
              "      <td>12.0</td>\n",
              "    </tr>\n",
              "  </tbody>\n",
              "</table>\n",
              "</div>"
            ],
            "text/plain": [
              "    Location       Date  Demand  Previous_day_demand  Previous_week_demand  \\\n",
              "14         1 2023-01-15    19.0                  7.0                  12.0   \n",
              "15         1 2023-01-16    21.0                 19.0                  14.0   \n",
              "16         1 2023-01-17    18.0                 21.0                   4.0   \n",
              "17         1 2023-01-18    10.0                 18.0                   9.0   \n",
              "18         1 2023-01-19     9.0                 10.0                   8.0   \n",
              "\n",
              "    Previous_2week_demand  Day_of_week  Day_of_month  ARIMA_predicts  \n",
              "14                   40.0            6            15            18.0  \n",
              "15                   31.0            0            16            18.0  \n",
              "16                   27.0            1            17            19.0  \n",
              "17                    7.0            2            18            17.0  \n",
              "18                   15.0            3            19            12.0  "
            ]
          },
          "execution_count": 544,
          "metadata": {},
          "output_type": "execute_result"
        }
      ],
      "source": [
        "print(f'train dataframe shape : {train_df.shape}')\n",
        "train_df.head()"
      ]
    },
    {
      "cell_type": "code",
      "execution_count": 545,
      "metadata": {
        "id": "uPbINwH224Hy"
      },
      "outputs": [
        {
          "name": "stdout",
          "output_type": "stream",
          "text": [
            "test dataframe shape : (7860, 9)\n"
          ]
        },
        {
          "data": {
            "text/html": [
              "<div>\n",
              "<style scoped>\n",
              "    .dataframe tbody tr th:only-of-type {\n",
              "        vertical-align: middle;\n",
              "    }\n",
              "\n",
              "    .dataframe tbody tr th {\n",
              "        vertical-align: top;\n",
              "    }\n",
              "\n",
              "    .dataframe thead th {\n",
              "        text-align: right;\n",
              "    }\n",
              "</style>\n",
              "<table border=\"1\" class=\"dataframe\">\n",
              "  <thead>\n",
              "    <tr style=\"text-align: right;\">\n",
              "      <th></th>\n",
              "      <th>Location</th>\n",
              "      <th>Date</th>\n",
              "      <th>Demand</th>\n",
              "      <th>Previous_day_demand</th>\n",
              "      <th>Previous_week_demand</th>\n",
              "      <th>Previous_2week_demand</th>\n",
              "      <th>Day_of_week</th>\n",
              "      <th>Day_of_month</th>\n",
              "      <th>ARIMA_predicts</th>\n",
              "    </tr>\n",
              "  </thead>\n",
              "  <tbody>\n",
              "    <tr>\n",
              "      <th>90</th>\n",
              "      <td>1</td>\n",
              "      <td>2023-04-01</td>\n",
              "      <td>13.0</td>\n",
              "      <td>13.0</td>\n",
              "      <td>15.0</td>\n",
              "      <td>25.0</td>\n",
              "      <td>5</td>\n",
              "      <td>1</td>\n",
              "      <td>13.0</td>\n",
              "    </tr>\n",
              "    <tr>\n",
              "      <th>91</th>\n",
              "      <td>1</td>\n",
              "      <td>2023-04-02</td>\n",
              "      <td>17.0</td>\n",
              "      <td>13.0</td>\n",
              "      <td>14.0</td>\n",
              "      <td>33.0</td>\n",
              "      <td>6</td>\n",
              "      <td>2</td>\n",
              "      <td>13.0</td>\n",
              "    </tr>\n",
              "    <tr>\n",
              "      <th>92</th>\n",
              "      <td>1</td>\n",
              "      <td>2023-04-03</td>\n",
              "      <td>9.0</td>\n",
              "      <td>17.0</td>\n",
              "      <td>3.0</td>\n",
              "      <td>14.0</td>\n",
              "      <td>0</td>\n",
              "      <td>3</td>\n",
              "      <td>15.0</td>\n",
              "    </tr>\n",
              "    <tr>\n",
              "      <th>93</th>\n",
              "      <td>1</td>\n",
              "      <td>2023-04-04</td>\n",
              "      <td>12.0</td>\n",
              "      <td>9.0</td>\n",
              "      <td>14.0</td>\n",
              "      <td>6.0</td>\n",
              "      <td>1</td>\n",
              "      <td>4</td>\n",
              "      <td>11.0</td>\n",
              "    </tr>\n",
              "    <tr>\n",
              "      <th>94</th>\n",
              "      <td>1</td>\n",
              "      <td>2023-04-05</td>\n",
              "      <td>18.0</td>\n",
              "      <td>12.0</td>\n",
              "      <td>7.0</td>\n",
              "      <td>9.0</td>\n",
              "      <td>2</td>\n",
              "      <td>5</td>\n",
              "      <td>13.0</td>\n",
              "    </tr>\n",
              "  </tbody>\n",
              "</table>\n",
              "</div>"
            ],
            "text/plain": [
              "    Location       Date  Demand  Previous_day_demand  Previous_week_demand  \\\n",
              "90         1 2023-04-01    13.0                 13.0                  15.0   \n",
              "91         1 2023-04-02    17.0                 13.0                  14.0   \n",
              "92         1 2023-04-03     9.0                 17.0                   3.0   \n",
              "93         1 2023-04-04    12.0                  9.0                  14.0   \n",
              "94         1 2023-04-05    18.0                 12.0                   7.0   \n",
              "\n",
              "    Previous_2week_demand  Day_of_week  Day_of_month  ARIMA_predicts  \n",
              "90                   25.0            5             1            13.0  \n",
              "91                   33.0            6             2            13.0  \n",
              "92                   14.0            0             3            15.0  \n",
              "93                    6.0            1             4            11.0  \n",
              "94                    9.0            2             5            13.0  "
            ]
          },
          "execution_count": 545,
          "metadata": {},
          "output_type": "execute_result"
        }
      ],
      "source": [
        "print(f'test dataframe shape : {test_df.shape}')\n",
        "test_df.head()"
      ]
    },
    {
      "cell_type": "markdown",
      "metadata": {
        "id": "xf8ChW_7wGmL"
      },
      "source": [
        "# Model Training"
      ]
    },
    {
      "cell_type": "markdown",
      "metadata": {
        "id": "mIhvw9lH92sa"
      },
      "source": [
        "## **Gradient Boosting Regressor**"
      ]
    },
    {
      "cell_type": "markdown",
      "metadata": {
        "id": "13gFIyYfZyxh"
      },
      "source": [
        "### Model Tuning"
      ]
    },
    {
      "cell_type": "code",
      "execution_count": 546,
      "metadata": {
        "id": "sOMPo5ryBm8g"
      },
      "outputs": [],
      "source": [
        "def grid_search(model, test_parameters, train_data, feature_list, cv = None):\n",
        "    gs = GridSearchCV(\n",
        "        estimator = model, \n",
        "        param_grid = test_parameters, \n",
        "        scoring = 'neg_root_mean_squared_error', \n",
        "        cv = cv, \n",
        "        n_jobs = -1\n",
        "        )\n",
        "    \n",
        "    gs.fit(train_data[feature_list], train_data['Demand'])\n",
        "    return gs.best_params_, gs.best_score_"
      ]
    },
    {
      "cell_type": "code",
      "execution_count": 567,
      "metadata": {
        "id": "cm3YTQCMZVvu",
        "outputId": "4cf0ed3b-0243-476a-af87-35db760c9e5c"
      },
      "outputs": [],
      "source": [
        "if AUTO_TUNE:\n",
        "    params_test = {'learning_rate':[0.12, 0.11, 0.1, 0.09, 0.08], \n",
        "                'subsample':[0.85, 0.9, 0.95, 0.1], \n",
        "                'colsample_bytree':[0.55, 0.6, 0.65, 0.7], \n",
        "                'max_depth':[7], \n",
        "                'min_child_weight':[1, 2, 3],\n",
        "                'alpha':[1,5,10],\n",
        "                'gamma':[25e4, 3e5, 35e4, 4e5]\n",
        "                }\n",
        "    params = {\"objective\": \"reg:squarederror\"}\n",
        "\n",
        "    best_params, best_score = grid_search(\n",
        "        model = xgb.XGBRegressor(**params), \n",
        "        test_parameters = params_test,\n",
        "        train_data = train_df, \n",
        "        feature_list = FEATURE_LIST, \n",
        "        cv = 3\n",
        "        )\n",
        "    \n",
        "    print(best_params, best_score)\n",
        "else:\n",
        "    best_params = {'colsample_bytree': 0.6, \n",
        "                   'gamma': 3e5,\n",
        "                   'alpha': 5,\n",
        "                   'learning_rate': 0.1, \n",
        "                   'max_depth': 7, \n",
        "                   'subsample': 0.9,\n",
        "                   'min_child_weight':2\n",
        "                   }"
      ]
    },
    {
      "cell_type": "markdown",
      "metadata": {
        "id": "H0IHB8t41NB6"
      },
      "source": [
        "### Prediction"
      ]
    },
    {
      "cell_type": "code",
      "execution_count": 548,
      "metadata": {
        "id": "pbhM5Oe6PjW7"
      },
      "outputs": [],
      "source": [
        "def model_predict(model, train_data, test_data, feature_list):\n",
        "\n",
        "    #model.fit(train_data[feature_list], train_data['Demand'])\n",
        "    model.fit(train_data[feature_list], train_data['Demand'], \n",
        "            eval_set=[(test_data[feature_list], test_data['Demand'])], \n",
        "            early_stopping_rounds=100) \n",
        "    print(np.min(model.evals_result()['validation_0']['rmse']))\n",
        "    train_predict_df  = model.predict(train_data[feature_list])\n",
        "    test_predict_df  = model.predict(test_data[feature_list])\n",
        "\n",
        "    return train_predict_df, test_predict_df"
      ]
    },
    {
      "cell_type": "code",
      "execution_count": 568,
      "metadata": {
        "id": "5AdQtdSqN7m9"
      },
      "outputs": [
        {
          "name": "stdout",
          "output_type": "stream",
          "text": [
            "[0]\tvalidation_0-rmse:1008.57561\n",
            "[1]\tvalidation_0-rmse:911.89424\n",
            "[2]\tvalidation_0-rmse:824.90851\n",
            "[3]\tvalidation_0-rmse:745.79447\n",
            "[4]\tvalidation_0-rmse:675.32182\n",
            "[5]\tvalidation_0-rmse:610.69651\n",
            "[6]\tvalidation_0-rmse:554.20999\n",
            "[7]\tvalidation_0-rmse:504.33747\n"
          ]
        },
        {
          "name": "stdout",
          "output_type": "stream",
          "text": [
            "[8]\tvalidation_0-rmse:457.66163\n",
            "[9]\tvalidation_0-rmse:416.97447\n",
            "[10]\tvalidation_0-rmse:379.31381\n",
            "[11]\tvalidation_0-rmse:345.30342\n",
            "[12]\tvalidation_0-rmse:316.06656\n",
            "[13]\tvalidation_0-rmse:288.96005\n",
            "[14]\tvalidation_0-rmse:266.35214\n",
            "[15]\tvalidation_0-rmse:244.67751\n",
            "[16]\tvalidation_0-rmse:225.55329\n",
            "[17]\tvalidation_0-rmse:208.73512\n",
            "[18]\tvalidation_0-rmse:193.48337\n",
            "[19]\tvalidation_0-rmse:180.71219\n",
            "[20]\tvalidation_0-rmse:168.99718\n",
            "[21]\tvalidation_0-rmse:158.91964\n",
            "[22]\tvalidation_0-rmse:150.61609\n",
            "[23]\tvalidation_0-rmse:143.22599\n"
          ]
        },
        {
          "name": "stderr",
          "output_type": "stream",
          "text": [
            "`early_stopping_rounds` in `fit` method is deprecated for better compatibility with scikit-learn, use `early_stopping_rounds` in constructor or`set_params` instead.\n"
          ]
        },
        {
          "name": "stdout",
          "output_type": "stream",
          "text": [
            "[24]\tvalidation_0-rmse:136.42487\n",
            "[25]\tvalidation_0-rmse:130.23310\n",
            "[26]\tvalidation_0-rmse:125.07793\n",
            "[27]\tvalidation_0-rmse:120.78488\n",
            "[28]\tvalidation_0-rmse:117.27027\n",
            "[29]\tvalidation_0-rmse:114.18291\n",
            "[30]\tvalidation_0-rmse:111.98649\n",
            "[31]\tvalidation_0-rmse:109.73341\n",
            "[32]\tvalidation_0-rmse:108.02620\n",
            "[33]\tvalidation_0-rmse:106.30313\n",
            "[34]\tvalidation_0-rmse:104.89619\n",
            "[35]\tvalidation_0-rmse:103.51373\n",
            "[36]\tvalidation_0-rmse:102.98369\n",
            "[37]\tvalidation_0-rmse:102.04854\n",
            "[38]\tvalidation_0-rmse:101.34014\n",
            "[39]\tvalidation_0-rmse:100.89751\n",
            "[40]\tvalidation_0-rmse:100.22127\n",
            "[41]\tvalidation_0-rmse:100.16013\n",
            "[42]\tvalidation_0-rmse:99.60171\n",
            "[43]\tvalidation_0-rmse:99.23035\n",
            "[44]\tvalidation_0-rmse:98.93566\n",
            "[45]\tvalidation_0-rmse:98.67951\n",
            "[46]\tvalidation_0-rmse:98.33659\n",
            "[47]\tvalidation_0-rmse:98.31725\n",
            "[48]\tvalidation_0-rmse:98.22119\n",
            "[49]\tvalidation_0-rmse:98.02446\n",
            "[50]\tvalidation_0-rmse:97.97209\n",
            "[51]\tvalidation_0-rmse:97.93851\n",
            "[52]\tvalidation_0-rmse:97.75714\n",
            "[53]\tvalidation_0-rmse:97.68054\n",
            "[54]\tvalidation_0-rmse:97.58833\n",
            "[55]\tvalidation_0-rmse:97.42008\n",
            "[56]\tvalidation_0-rmse:97.43910\n",
            "[57]\tvalidation_0-rmse:97.46701\n",
            "[58]\tvalidation_0-rmse:97.37031\n",
            "[59]\tvalidation_0-rmse:97.30772\n",
            "[60]\tvalidation_0-rmse:97.22703\n",
            "[61]\tvalidation_0-rmse:97.16794\n",
            "[62]\tvalidation_0-rmse:97.18309\n",
            "[63]\tvalidation_0-rmse:97.15130\n",
            "[64]\tvalidation_0-rmse:97.10723\n",
            "[65]\tvalidation_0-rmse:97.10516\n",
            "[66]\tvalidation_0-rmse:97.07647\n",
            "[67]\tvalidation_0-rmse:97.05264\n",
            "[68]\tvalidation_0-rmse:97.05278\n",
            "[69]\tvalidation_0-rmse:97.04038\n",
            "[70]\tvalidation_0-rmse:97.04048\n",
            "[71]\tvalidation_0-rmse:97.00932\n",
            "[72]\tvalidation_0-rmse:97.00183\n",
            "[73]\tvalidation_0-rmse:97.00190\n",
            "[74]\tvalidation_0-rmse:97.02491\n",
            "[75]\tvalidation_0-rmse:97.03863\n",
            "[76]\tvalidation_0-rmse:97.03871\n",
            "[77]\tvalidation_0-rmse:97.01751\n",
            "[78]\tvalidation_0-rmse:97.01136\n",
            "[79]\tvalidation_0-rmse:97.13757\n",
            "[80]\tvalidation_0-rmse:97.13757\n",
            "[81]\tvalidation_0-rmse:97.13779\n",
            "[82]\tvalidation_0-rmse:97.14369\n",
            "[83]\tvalidation_0-rmse:97.15597\n",
            "[84]\tvalidation_0-rmse:97.20557\n",
            "[85]\tvalidation_0-rmse:97.23354\n",
            "[86]\tvalidation_0-rmse:97.23377\n",
            "[87]\tvalidation_0-rmse:97.19964\n",
            "[88]\tvalidation_0-rmse:97.21362\n",
            "[89]\tvalidation_0-rmse:97.21365\n",
            "[90]\tvalidation_0-rmse:97.15584\n",
            "[91]\tvalidation_0-rmse:97.15589\n",
            "[92]\tvalidation_0-rmse:97.15805\n",
            "[93]\tvalidation_0-rmse:97.15821\n",
            "[94]\tvalidation_0-rmse:97.19261\n",
            "[95]\tvalidation_0-rmse:97.18944\n",
            "[96]\tvalidation_0-rmse:97.18956\n",
            "[97]\tvalidation_0-rmse:97.20412\n",
            "[98]\tvalidation_0-rmse:97.18916\n",
            "[99]\tvalidation_0-rmse:97.11632\n",
            "97.0018292488903\n"
          ]
        }
      ],
      "source": [
        "model = xgb.XGBRegressor(**best_params)\n",
        "train_prediction_df, test_prediction_df = model_predict(model, train_df, test_df, FEATURE_LIST)"
      ]
    },
    {
      "cell_type": "markdown",
      "metadata": {
        "id": "J0EYl9KtTfo7"
      },
      "source": [
        "### Visualization"
      ]
    },
    {
      "cell_type": "code",
      "execution_count": 550,
      "metadata": {},
      "outputs": [],
      "source": [
        "def add_day_of_year(data):\n",
        "    data['day_year'] = 0\n",
        "    start_date = data['Date'].min()\n",
        "\n",
        "    for index, row in data.iterrows():\n",
        "\n",
        "        curr_date = row['Date']\n",
        "        day_number = (curr_date - start_date).days\n",
        "\n",
        "        data.at[index, 'day_year'] = day_number\n",
        "    return data"
      ]
    },
    {
      "cell_type": "code",
      "execution_count": 551,
      "metadata": {
        "id": "ao6nw8xsRvB9"
      },
      "outputs": [],
      "source": [
        "def prediction_visualization(train_data, test_data, train_prediction_df, test_prediction_df):\n",
        "\n",
        "    train_data = add_day_of_year(train_data)\n",
        "    test_data = add_day_of_year(test_data)\n",
        "\n",
        "    predicted_train_df = train_data\n",
        "    predicted_test_df = test_data\n",
        "    predicted_train_df['Predicted'] = train_prediction_df\n",
        "    predicted_test_df['Predicted'] = test_prediction_df\n",
        "\n",
        "    train_data = train_data.groupby('day_year')['Demand'].sum()\n",
        "    test_data = test_data.groupby('day_year')['Demand'].sum()\n",
        "    predicted_train_df = predicted_train_df.groupby('day_year')['Predicted'].sum()\n",
        "    predicted_test_df = predicted_test_df.groupby('day_year')['Predicted'].sum()\n",
        "\n",
        "    plt.title('Train')\n",
        "    plt.plot(train_data)\n",
        "    plt.plot(predicted_train_df)\n",
        "    plt.legend([\"Real Value\", \"Predicted\"], loc =\"lower right\")\n",
        "    plt.show()\n",
        "\n",
        "    plot_length = len(test_data)\n",
        "    plt.title('Test')\n",
        "    plt.plot(test_data)\n",
        "    plt.plot(predicted_test_df)\n",
        "    plt.legend([\"Real Value\", \"Predicted\"], loc =\"lower right\")\n",
        "    plt.show()"
      ]
    },
    {
      "cell_type": "code",
      "execution_count": 569,
      "metadata": {
        "id": "deyLWLmZThMJ",
        "outputId": "4d0094aa-099c-490f-aa82-281ee16bae01"
      },
      "outputs": [
        {
          "name": "stderr",
          "output_type": "stream",
          "text": [
            "\n",
            "A value is trying to be set on a copy of a slice from a DataFrame.\n",
            "Try using .loc[row_indexer,col_indexer] = value instead\n",
            "\n",
            "See the caveats in the documentation: https://pandas.pydata.org/pandas-docs/stable/user_guide/indexing.html#returning-a-view-versus-a-copy\n",
            "\n",
            "A value is trying to be set on a copy of a slice from a DataFrame.\n",
            "Try using .loc[row_indexer,col_indexer] = value instead\n",
            "\n",
            "See the caveats in the documentation: https://pandas.pydata.org/pandas-docs/stable/user_guide/indexing.html#returning-a-view-versus-a-copy\n",
            "\n",
            "A value is trying to be set on a copy of a slice from a DataFrame.\n",
            "Try using .loc[row_indexer,col_indexer] = value instead\n",
            "\n",
            "See the caveats in the documentation: https://pandas.pydata.org/pandas-docs/stable/user_guide/indexing.html#returning-a-view-versus-a-copy\n"
          ]
        },
        {
          "data": {
            "image/png": "[encoded data removed]",
            "text/plain": [
              "<Figure size 640x480 with 1 Axes>"
            ]
          },
          "metadata": {},
          "output_type": "display_data"
        },
        {
          "data": {
            "image/png": "[encoded data removed]",
            "text/plain": [
              "<Figure size 640x480 with 1 Axes>"
            ]
          },
          "metadata": {},
          "output_type": "display_data"
        }
      ],
      "source": [
        "prediction_visualization(train_df, test_df, train_prediction_df, test_prediction_df)"
      ]
    },
    {
      "cell_type": "markdown",
      "metadata": {
        "id": "lERphf0kTist"
      },
      "source": [
        "### Evaluation"
      ]
    },
    {
      "cell_type": "code",
      "execution_count": 553,
      "metadata": {
        "id": "BcGvcilUWEEC"
      },
      "outputs": [],
      "source": [
        "def evaluate(metric, metric_name, true_values, predicted_values):\n",
        "    print(f'{metric_name} : {metric(true_values, predicted_values)}')"
      ]
    },
    {
      "cell_type": "code",
      "execution_count": 554,
      "metadata": {},
      "outputs": [],
      "source": [
        "def smape(y_true, y_pred):\n",
        "    y_true = np.array(y_true)\n",
        "    y_pred = np.array(y_pred)\n",
        "    numerator = np.abs(y_pred - y_true)\n",
        "    denominator = (np.abs(y_true) + np.abs(y_pred))\n",
        "    smape = np.mean(numerator / denominator)\n",
        "    return smape * 100"
      ]
    },
    {
      "cell_type": "code",
      "execution_count": 555,
      "metadata": {
        "id": "v4-GWghuSbnA"
      },
      "outputs": [],
      "source": [
        "def evaluation(model_name, train_df, test_df, train_prediction_df, test_prediction_df):\n",
        "    print(f'{model_name} train scores:')\n",
        "\n",
        "\n",
        "    evaluate(mean_absolute_error, 'MAE', train_df['Demand'], train_prediction_df)\n",
        "    evaluate(mean_squared_error, 'MSE', train_df['Demand'], train_prediction_df)\n",
        "    evaluate(mean_absolute_percentage_error, 'MAPE', train_df['Demand'], train_prediction_df)\n",
        "    evaluate(smape, 'smape', train_df['Demand'], train_prediction_df)\n",
        "\n",
        "    print(f'{model_name} test scores:')\n",
        "\n",
        "    evaluate(mean_absolute_error, 'MAE', test_df['Demand'], test_prediction_df)\n",
        "    evaluate(mean_squared_error, 'MSE', test_df['Demand'], test_prediction_df)\n",
        "    evaluate(mean_absolute_percentage_error, 'MAPE', test_df['Demand'], test_prediction_df)\n",
        "    evaluate(smape, 'smape', test_df['Demand'], test_prediction_df)\n"
      ]
    },
    {
      "cell_type": "code",
      "execution_count": 570,
      "metadata": {
        "id": "qSZwIFprTkqK",
        "outputId": "7ae94952-ec22-410a-9d26-6e05a96af6ab"
      },
      "outputs": [
        {
          "name": "stdout",
          "output_type": "stream",
          "text": [
            "XGB train scores:\n",
            "MAE : 24.742546313555664\n",
            "MSE : 4747.59990865424\n",
            "MAPE : 2658662632056788.5\n",
            "smape : 31.01467507303482\n",
            "XGB test scores:\n",
            "MAE : 32.48596437207918\n",
            "MSE : 9409.354859619738\n",
            "MAPE : 2557111700149773.0\n",
            "smape : 30.440980315057125\n"
          ]
        }
      ],
      "source": [
        "evaluation('XGB', train_df, test_df, train_prediction_df, test_prediction_df)"
      ]
    },
    {
      "cell_type": "markdown",
      "metadata": {
        "id": "_286hlGi7VWD"
      },
      "source": [
        "### Feature Importance and SHAPE"
      ]
    },
    {
      "cell_type": "code",
      "execution_count": 557,
      "metadata": {
        "id": "osueYsNP1NB8",
        "outputId": "b3c13ee6-bd74-4470-a8c5-558df5416e28"
      },
      "outputs": [
        {
          "data": {
            "image/png": "[encoded data removed]",
            "text/plain": [
              "<Figure size 640x480 with 1 Axes>"
            ]
          },
          "metadata": {},
          "output_type": "display_data"
        }
      ],
      "source": [
        "xgb.plot_importance(model)\n",
        "plt.show()"
      ]
    },
    {
      "cell_type": "code",
      "execution_count": 558,
      "metadata": {
        "id": "50CEqbp75Y_i",
        "outputId": "b7288f1d-517a-4707-da22-ad996453f161"
      },
      "outputs": [
        {
          "data": {
            "text/plain": [
              "\"dtrain_reg = xgb.DMatrix(train_df[FEATURE_LIST].values, train_df['Demand'].values, enable_categorical=True)\\n\\nexplainer = shap.TreeExplainer(model)\\nshap_values = explainer.shap_values(dtrain_reg)\\nshap.summary_plot(shap_values, train_df[FEATURE_LIST])\""
            ]
          },
          "execution_count": 558,
          "metadata": {},
          "output_type": "execute_result"
        }
      ],
      "source": [
        "'''dtrain_reg = xgb.DMatrix(train_df[FEATURE_LIST].values, train_df['Demand'].values, enable_categorical=True)\n",
        "\n",
        "explainer = shap.TreeExplainer(model)\n",
        "shap_values = explainer.shap_values(dtrain_reg)\n",
        "shap.summary_plot(shap_values, train_df[FEATURE_LIST])'''"
      ]
    },
    {
      "cell_type": "markdown",
      "metadata": {},
      "source": [
        "# File Saving"
      ]
    },
    {
      "cell_type": "code",
      "execution_count": 571,
      "metadata": {},
      "outputs": [],
      "source": [
        "def save_predictions(dataset, path):\n",
        "    dataset.to_parquet(path, index=False)"
      ]
    },
    {
      "cell_type": "code",
      "execution_count": 572,
      "metadata": {},
      "outputs": [],
      "source": [
        "def prediction_labeling(pred_df, labeled_df):\n",
        "    pred_df = pd.DataFrame(pred_df, columns = ['Predicted_demand'])\n",
        "    labeled_df.reset_index(inplace = True)\n",
        "    labeled_prediction_df = labeled_df[['Location', 'Date']]\n",
        "    labeled_prediction_df['Predicted_demand'] = pred_df\n",
        "    return labeled_prediction_df"
      ]
    },
    {
      "cell_type": "code",
      "execution_count": 573,
      "metadata": {},
      "outputs": [
        {
          "name": "stderr",
          "output_type": "stream",
          "text": [
            "\n",
            "A value is trying to be set on a copy of a slice from a DataFrame.\n",
            "Try using .loc[row_indexer,col_indexer] = value instead\n",
            "\n",
            "See the caveats in the documentation: https://pandas.pydata.org/pandas-docs/stable/user_guide/indexing.html#returning-a-view-versus-a-copy\n"
          ]
        }
      ],
      "source": [
        "labeled_prediction_df = prediction_labeling(test_prediction_df, test_df)"
      ]
    },
    {
      "cell_type": "code",
      "execution_count": 574,
      "metadata": {},
      "outputs": [
        {
          "name": "stdout",
          "output_type": "stream",
          "text": [
            "labeled prediction dataframe shape : (7860, 3)\n"
          ]
        },
        {
          "data": {
            "text/html": [
              "<div>\n",
              "<style scoped>\n",
              "    .dataframe tbody tr th:only-of-type {\n",
              "        vertical-align: middle;\n",
              "    }\n",
              "\n",
              "    .dataframe tbody tr th {\n",
              "        vertical-align: top;\n",
              "    }\n",
              "\n",
              "    .dataframe thead th {\n",
              "        text-align: right;\n",
              "    }\n",
              "</style>\n",
              "<table border=\"1\" class=\"dataframe\">\n",
              "  <thead>\n",
              "    <tr style=\"text-align: right;\">\n",
              "      <th></th>\n",
              "      <th>Location</th>\n",
              "      <th>Date</th>\n",
              "      <th>Predicted_demand</th>\n",
              "    </tr>\n",
              "  </thead>\n",
              "  <tbody>\n",
              "    <tr>\n",
              "      <th>0</th>\n",
              "      <td>1</td>\n",
              "      <td>2023-04-01</td>\n",
              "      <td>16.200024</td>\n",
              "    </tr>\n",
              "    <tr>\n",
              "      <th>1</th>\n",
              "      <td>1</td>\n",
              "      <td>2023-04-02</td>\n",
              "      <td>16.200024</td>\n",
              "    </tr>\n",
              "    <tr>\n",
              "      <th>2</th>\n",
              "      <td>1</td>\n",
              "      <td>2023-04-03</td>\n",
              "      <td>12.150764</td>\n",
              "    </tr>\n",
              "    <tr>\n",
              "      <th>3</th>\n",
              "      <td>1</td>\n",
              "      <td>2023-04-04</td>\n",
              "      <td>9.461064</td>\n",
              "    </tr>\n",
              "    <tr>\n",
              "      <th>4</th>\n",
              "      <td>1</td>\n",
              "      <td>2023-04-05</td>\n",
              "      <td>9.980348</td>\n",
              "    </tr>\n",
              "  </tbody>\n",
              "</table>\n",
              "</div>"
            ],
            "text/plain": [
              "   Location       Date  Predicted_demand\n",
              "0         1 2023-04-01         16.200024\n",
              "1         1 2023-04-02         16.200024\n",
              "2         1 2023-04-03         12.150764\n",
              "3         1 2023-04-04          9.461064\n",
              "4         1 2023-04-05          9.980348"
            ]
          },
          "execution_count": 574,
          "metadata": {},
          "output_type": "execute_result"
        }
      ],
      "source": [
        "print(f'labeled prediction dataframe shape : {labeled_prediction_df.shape}')\n",
        "labeled_prediction_df.head()"
      ]
    },
    {
      "cell_type": "code",
      "execution_count": 563,
      "metadata": {},
      "outputs": [],
      "source": [
        "save_predictions(labeled_prediction_df, OUTPUT_PATH)"
      ]
    }
  ],
  "metadata": {
    "colab": {
      "collapsed_sections": [
        "X2ES_CY6-fb5"
      ],
      "provenance": [],
      "toc_visible": true
    },
    "kernelspec": {
      "display_name": "Python 3",
      "name": "python3"
    },
    "language_info": {
      "codemirror_mode": {
        "name": "ipython",
        "version": 3
      },
      "file_extension": ".py",
      "mimetype": "text/x-python",
      "name": "python",
      "nbconvert_exporter": "python",
      "pygments_lexer": "ipython3",
      "version": "3.10.7"
    }
  },
  "nbformat": 4,
  "nbformat_minor": 0
}
