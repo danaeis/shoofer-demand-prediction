{
  "cells": [
    {
      "cell_type": "markdown",
      "metadata": {
        "id": "8UTIGpTZZlOO"
      },
      "source": [
        "# Imports"
      ]
    },
    {
      "cell_type": "code",
      "execution_count": 1,
      "metadata": {
        "id": "AnwSHO1L97I5"
      },
      "outputs": [],
      "source": [
        "import datetime\n",
        "import matplotlib.pyplot as plt\n",
        "import numpy as np\n",
        "import pandas as pd\n",
        "import geopandas as gpd\n",
        "\n",
        "from shapely.geometry import Polygon, MultiPolygon\n",
        "from sklearn.linear_model import Ridge\n",
        "from sklearn.metrics import mean_absolute_error, mean_squared_error, mean_absolute_percentage_error\n",
        "from sklearn.model_selection import GridSearchCV"
      ]
    },
    {
      "cell_type": "markdown",
      "metadata": {
        "id": "pSSMa3G2wGmF"
      },
      "source": [
        "# Configs"
      ]
    },
    {
      "cell_type": "code",
      "execution_count": 2,
      "metadata": {
        "id": "zIkDLK9zwGmG"
      },
      "outputs": [],
      "source": [
        "INPUT_PATH = 'datasets/'\n",
        "ARIMA_PATH = 'statics/arima_predict.parquet'\n",
        "OUTPUT_PATH_TEST = 'results/ridge_test_predictions.parquet'\n",
        "OUTPUT_PATH_TRAIN = 'results/ridge_train_predictions.parquet'\n",
        "\n",
        "START_DATE = '2023-01-01'\n",
        "END_DATE = '2023-04-30'\n",
        "\n",
        "FEATURE_LIST = [#'ARIMA_predicts',\n",
        "                # 'borough',\n",
        "                \n",
        "                # 'Previous_week_trip_dist',\n",
        "                # 'Previous_2week_trip_dist',\n",
        "                # 'Previous_day_trip_dist',\n",
        "\n",
        "                # 'Previous_week_passenger_count',\n",
        "                # 'Previous_2week_passenger_count',\n",
        "                # 'Previous_day_passenger_count',\n",
        "\n",
        "                # 'Previous_week_fare_amount',\n",
        "                # 'Previous_day_fare_amount',\n",
        "                # 'Previous_2week_fare_amount',\n",
        "                'X',\n",
        "                'Y',\n",
        "\n",
        "                'Previous_2week_demand',\n",
        "                'Previous_week_demand', \n",
        "\n",
        "                'Previous_day_demand',\n",
        "                'Previous_2day_demand',\n",
        "                'Previous_3day_demand',\n",
        "                'Previous_4day_demand',\n",
        "                'Previous_5day_demand',\n",
        "                'Previous_6day_demand',\n",
        "                'Previous_8day_demand',\n",
        "                'Previous_9day_demand',\n",
        "                'Previous_10day_demand',\n",
        "                'Previous_11day_demand',\n",
        "                'Previous_12day_demand',\n",
        "                'Previous_13day_demand',\n",
        "\n",
        "                # 'Previous_week_extra',\n",
        "                # 'Previous_2week_extra',\n",
        "                # 'Previous_day_extra',\n",
        "                \n",
        "                # 'Previous_2week_RatecodeID',\n",
        "                # 'Previous_week_RatecodeID',\n",
        "                # 'Previous_day_RatecodeID',\n",
        "\n",
        "                # 'Previous_week_congestion_surcharge',\n",
        "                # 'Previous_2week_congestion_surcharge',\n",
        "                # 'Previous_day_congestion_surcharge',\n",
        "\n",
        "                # 'Day_of_month', \n",
        "                # 'Day_of_week',\n",
        "                # 'Location'\n",
        "                ]\n",
        "\n",
        "TEST_START_DATE = '2023-04-01'\n",
        "\n",
        "AUTO_TUNE = False"
      ]
    },
    {
      "cell_type": "markdown",
      "metadata": {
        "id": "5eS5BQE9wGmK"
      },
      "source": [
        "# Data preparation\n"
      ]
    },
    {
      "cell_type": "markdown",
      "metadata": {
        "id": "TWsjXbpaznc_"
      },
      "source": [
        "## Load Data"
      ]
    },
    {
      "cell_type": "code",
      "execution_count": 3,
      "metadata": {
        "id": "HAyNjqxNwGmH"
      },
      "outputs": [],
      "source": [
        "def load_data(path, start_date: str, end_date: str):\n",
        "    df = pd.read_parquet(path)\n",
        "    start_date = datetime.date.fromisoformat(start_date)\n",
        "    end_date = datetime.date.fromisoformat(end_date)\n",
        "    filtered_df = df[(df['tpep_pickup_datetime'].dt.date >= start_date) &\n",
        "                     (df['tpep_pickup_datetime'].dt.date <= end_date)]\n",
        "    dataset = filtered_df.filter(items=['tpep_pickup_datetime', 'PULocationID'])\n",
        "    dataset['PU_date'] = pd.to_datetime(dataset['tpep_pickup_datetime'].dt.date)\n",
        "    return dataset"
      ]
    },
    {
      "cell_type": "code",
      "execution_count": 4,
      "metadata": {
        "id": "87BFHUu1-z73"
      },
      "outputs": [],
      "source": [
        "rides_df = load_data(INPUT_PATH, START_DATE, END_DATE)"
      ]
    },
    {
      "cell_type": "code",
      "execution_count": 5,
      "metadata": {
        "id": "hCN-11QT3bp1"
      },
      "outputs": [
        {
          "name": "stdout",
          "output_type": "stream",
          "text": [
            "rides dataframe shape : (12672629, 3)\n"
          ]
        },
        {
          "data": {
            "text/html": [
              "<div>\n",
              "<style scoped>\n",
              "    .dataframe tbody tr th:only-of-type {\n",
              "        vertical-align: middle;\n",
              "    }\n",
              "\n",
              "    .dataframe tbody tr th {\n",
              "        vertical-align: top;\n",
              "    }\n",
              "\n",
              "    .dataframe thead th {\n",
              "        text-align: right;\n",
              "    }\n",
              "</style>\n",
              "<table border=\"1\" class=\"dataframe\">\n",
              "  <thead>\n",
              "    <tr style=\"text-align: right;\">\n",
              "      <th></th>\n",
              "      <th>tpep_pickup_datetime</th>\n",
              "      <th>PULocationID</th>\n",
              "      <th>PU_date</th>\n",
              "    </tr>\n",
              "  </thead>\n",
              "  <tbody>\n",
              "    <tr>\n",
              "      <th>0</th>\n",
              "      <td>2023-01-01 00:32:10</td>\n",
              "      <td>161</td>\n",
              "      <td>2023-01-01</td>\n",
              "    </tr>\n",
              "    <tr>\n",
              "      <th>1</th>\n",
              "      <td>2023-01-01 00:55:08</td>\n",
              "      <td>43</td>\n",
              "      <td>2023-01-01</td>\n",
              "    </tr>\n",
              "    <tr>\n",
              "      <th>2</th>\n",
              "      <td>2023-01-01 00:25:04</td>\n",
              "      <td>48</td>\n",
              "      <td>2023-01-01</td>\n",
              "    </tr>\n",
              "    <tr>\n",
              "      <th>3</th>\n",
              "      <td>2023-01-01 00:03:48</td>\n",
              "      <td>138</td>\n",
              "      <td>2023-01-01</td>\n",
              "    </tr>\n",
              "    <tr>\n",
              "      <th>4</th>\n",
              "      <td>2023-01-01 00:10:29</td>\n",
              "      <td>107</td>\n",
              "      <td>2023-01-01</td>\n",
              "    </tr>\n",
              "  </tbody>\n",
              "</table>\n",
              "</div>"
            ],
            "text/plain": [
              "  tpep_pickup_datetime  PULocationID    PU_date\n",
              "0  2023-01-01 00:32:10           161 2023-01-01\n",
              "1  2023-01-01 00:55:08            43 2023-01-01\n",
              "2  2023-01-01 00:25:04            48 2023-01-01\n",
              "3  2023-01-01 00:03:48           138 2023-01-01\n",
              "4  2023-01-01 00:10:29           107 2023-01-01"
            ]
          },
          "execution_count": 5,
          "metadata": {},
          "output_type": "execute_result"
        }
      ],
      "source": [
        "print(f'rides dataframe shape : {rides_df.shape}')\n",
        "rides_df.head()"
      ]
    },
    {
      "cell_type": "code",
      "execution_count": 6,
      "metadata": {},
      "outputs": [],
      "source": [
        "regions_df = gpd.read_file('taxi_zones/taxi_zones.shp')\n",
        "regions_df = regions_df.rename(columns = {'LocationID' : 'Location'})"
      ]
    },
    {
      "cell_type": "code",
      "execution_count": 7,
      "metadata": {},
      "outputs": [],
      "source": [
        "def extract_coordinates(geom):\n",
        "    x_coords = []\n",
        "    y_coords = []\n",
        "    \n",
        "    if isinstance(geom, Polygon):\n",
        "        polygons = [geom]\n",
        "    elif isinstance(geom, MultiPolygon):\n",
        "        polygons = geom.geoms\n",
        "        \n",
        "    for polygon in polygons:\n",
        "        coords = polygon.exterior.coords\n",
        "        x_coords.extend([point[0] for point in coords])\n",
        "        y_coords.extend([point[1] for point in coords])\n",
        "    \n",
        "    return x_coords, y_coords"
      ]
    },
    {
      "cell_type": "code",
      "execution_count": 8,
      "metadata": {},
      "outputs": [],
      "source": [
        "regions_df[['X', 'Y']] = regions_df['geometry'].apply(lambda geom: pd.Series(extract_coordinates(geom)))\n",
        "regions_df.loc[56, 'Location'] = 57"
      ]
    },
    {
      "cell_type": "code",
      "execution_count": 9,
      "metadata": {},
      "outputs": [
        {
          "name": "stderr",
          "output_type": "stream",
          "text": [
            "C:\\Users\\bardia\\AppData\\Local\\Temp\\ipykernel_22976\\727186363.py:2: SettingWithCopyWarning: \n",
            "A value is trying to be set on a copy of a slice from a DataFrame\n",
            "\n",
            "See the caveats in the documentation: https://pandas.pydata.org/pandas-docs/stable/user_guide/indexing.html#returning-a-view-versus-a-copy\n",
            "  regions_df['Y'][i] = np.mean(regions_df['Y'][i])\n",
            "C:\\Users\\bardia\\AppData\\Local\\Temp\\ipykernel_22976\\727186363.py:3: SettingWithCopyWarning: \n",
            "A value is trying to be set on a copy of a slice from a DataFrame\n",
            "\n",
            "See the caveats in the documentation: https://pandas.pydata.org/pandas-docs/stable/user_guide/indexing.html#returning-a-view-versus-a-copy\n",
            "  regions_df['X'][i] = np.mean(regions_df['X'][i])\n"
          ]
        }
      ],
      "source": [
        "for i in range(len(regions_df)):\n",
        "    regions_df['Y'][i] = np.mean(regions_df['Y'][i])\n",
        "    regions_df['X'][i] = np.mean(regions_df['X'][i])\n",
        "regions_df = regions_df[['Location', 'X', 'Y']]"
      ]
    },
    {
      "cell_type": "markdown",
      "metadata": {
        "id": "X2ES_CY6-fb5"
      },
      "source": [
        "## Labeling"
      ]
    },
    {
      "cell_type": "code",
      "execution_count": 10,
      "metadata": {
        "id": "a7mNMQ-zwGmH"
      },
      "outputs": [],
      "source": [
        "def labeling(dataset, zones):\n",
        "    dataset_labels = (\n",
        "        dataset\n",
        "        .groupby(['PULocationID', 'PU_date'])['PU_date']\n",
        "        .count()\n",
        "        .to_frame('Demand')\n",
        "        .sort_values(['PULocationID', 'PU_date'], ascending=[True, True])\n",
        "        .reset_index()\n",
        "        .rename(columns={'PULocationID': 'Location', 'PU_date': 'Date'})\n",
        "    )\n",
        "\n",
        "    locations = pd.DataFrame(dataset_labels['Location'].unique(), columns=['Location'])\n",
        "    dates = pd.DataFrame(dataset_labels['Date'].unique(), columns=['Date'])\n",
        "\n",
        "    location_date_df = (\n",
        "        locations\n",
        "        .merge(dates, how='cross')\n",
        "        .sort_values(['Location', 'Date'], ascending=[True, True])\n",
        "        .reset_index(drop=True)\n",
        "    )\n",
        "\n",
        "    labels_df = (\n",
        "        location_date_df\n",
        "        .merge(dataset_labels, how='left', on=['Location', 'Date'])\n",
        "        .merge(zones, how='left', on=['Location'])\n",
        "        .fillna(value=0)\n",
        "    )\n",
        "    return labels_df\n"
      ]
    },
    {
      "cell_type": "code",
      "execution_count": 11,
      "metadata": {
        "id": "VVRLakW_LeGp"
      },
      "outputs": [],
      "source": [
        "labeled_df = labeling(rides_df, regions_df)"
      ]
    },
    {
      "cell_type": "code",
      "execution_count": 12,
      "metadata": {
        "id": "0Gm5j5em28Xy"
      },
      "outputs": [
        {
          "name": "stdout",
          "output_type": "stream",
          "text": [
            "labeled dataframe shape : (31440, 5)\n"
          ]
        },
        {
          "data": {
            "text/html": [
              "<div>\n",
              "<style scoped>\n",
              "    .dataframe tbody tr th:only-of-type {\n",
              "        vertical-align: middle;\n",
              "    }\n",
              "\n",
              "    .dataframe tbody tr th {\n",
              "        vertical-align: top;\n",
              "    }\n",
              "\n",
              "    .dataframe thead th {\n",
              "        text-align: right;\n",
              "    }\n",
              "</style>\n",
              "<table border=\"1\" class=\"dataframe\">\n",
              "  <thead>\n",
              "    <tr style=\"text-align: right;\">\n",
              "      <th></th>\n",
              "      <th>Location</th>\n",
              "      <th>Date</th>\n",
              "      <th>Demand</th>\n",
              "      <th>X</th>\n",
              "      <th>Y</th>\n",
              "    </tr>\n",
              "  </thead>\n",
              "  <tbody>\n",
              "    <tr>\n",
              "      <th>0</th>\n",
              "      <td>1</td>\n",
              "      <td>2023-01-01</td>\n",
              "      <td>40.0</td>\n",
              "      <td>935920.967412</td>\n",
              "      <td>190798.948561</td>\n",
              "    </tr>\n",
              "    <tr>\n",
              "      <th>1</th>\n",
              "      <td>1</td>\n",
              "      <td>2023-01-02</td>\n",
              "      <td>31.0</td>\n",
              "      <td>935920.967412</td>\n",
              "      <td>190798.948561</td>\n",
              "    </tr>\n",
              "    <tr>\n",
              "      <th>2</th>\n",
              "      <td>1</td>\n",
              "      <td>2023-01-03</td>\n",
              "      <td>27.0</td>\n",
              "      <td>935920.967412</td>\n",
              "      <td>190798.948561</td>\n",
              "    </tr>\n",
              "    <tr>\n",
              "      <th>3</th>\n",
              "      <td>1</td>\n",
              "      <td>2023-01-04</td>\n",
              "      <td>7.0</td>\n",
              "      <td>935920.967412</td>\n",
              "      <td>190798.948561</td>\n",
              "    </tr>\n",
              "    <tr>\n",
              "      <th>4</th>\n",
              "      <td>1</td>\n",
              "      <td>2023-01-05</td>\n",
              "      <td>15.0</td>\n",
              "      <td>935920.967412</td>\n",
              "      <td>190798.948561</td>\n",
              "    </tr>\n",
              "  </tbody>\n",
              "</table>\n",
              "</div>"
            ],
            "text/plain": [
              "   Location       Date  Demand              X              Y\n",
              "0         1 2023-01-01    40.0  935920.967412  190798.948561\n",
              "1         1 2023-01-02    31.0  935920.967412  190798.948561\n",
              "2         1 2023-01-03    27.0  935920.967412  190798.948561\n",
              "3         1 2023-01-04     7.0  935920.967412  190798.948561\n",
              "4         1 2023-01-05    15.0  935920.967412  190798.948561"
            ]
          },
          "execution_count": 12,
          "metadata": {},
          "output_type": "execute_result"
        }
      ],
      "source": [
        "print(f'labeled dataframe shape : {labeled_df.shape}')\n",
        "labeled_df.head()"
      ]
    },
    {
      "cell_type": "markdown",
      "metadata": {
        "id": "G0W2pR-70JJb"
      },
      "source": [
        "## Add Feature"
      ]
    },
    {
      "cell_type": "code",
      "execution_count": 13,
      "metadata": {
        "id": "ifvk6uWS6hnT"
      },
      "outputs": [],
      "source": [
        "def feature_engineering(dataset):\n",
        "    dataset['Previous_day_demand'] = dataset.groupby(['Location'])['Demand'].shift(1)\n",
        "    dataset['Previous_2day_demand'] = dataset.groupby(['Location'])['Demand'].shift(2)\n",
        "    dataset['Previous_3day_demand'] = dataset.groupby(['Location'])['Demand'].shift(3)\n",
        "    dataset['Previous_4day_demand'] = dataset.groupby(['Location'])['Demand'].shift(4)\n",
        "    dataset['Previous_5day_demand'] = dataset.groupby(['Location'])['Demand'].shift(5)\n",
        "    dataset['Previous_6day_demand'] = dataset.groupby(['Location'])['Demand'].shift(6)\n",
        "    dataset['Previous_week_demand'] = dataset.groupby(['Location'])['Demand'].shift(7)\n",
        "    dataset['Previous_8day_demand'] = dataset.groupby(['Location'])['Demand'].shift(8)\n",
        "    dataset['Previous_9day_demand'] = dataset.groupby(['Location'])['Demand'].shift(9)\n",
        "    dataset['Previous_10day_demand'] = dataset.groupby(['Location'])['Demand'].shift(10)\n",
        "    dataset['Previous_11day_demand'] = dataset.groupby(['Location'])['Demand'].shift(11)\n",
        "    dataset['Previous_12day_demand'] = dataset.groupby(['Location'])['Demand'].shift(12)\n",
        "    dataset['Previous_13day_demand'] = dataset.groupby(['Location'])['Demand'].shift(13)\n",
        "    dataset['Previous_2week_demand'] = dataset.groupby(['Location'])['Demand'].shift(14)\n",
        "\n",
        "\n",
        "    dataset['Day_of_week'] = dataset['Date'].dt.dayofweek   \n",
        "    dataset['Day_of_month'] = dataset['Date'].dt.day\n",
        "\n",
        "    return dataset"
      ]
    },
    {
      "cell_type": "code",
      "execution_count": 14,
      "metadata": {
        "id": "12zNfv8YwGmK"
      },
      "outputs": [],
      "source": [
        "features_df = feature_engineering(labeled_df)\n",
        "features_df.dropna(inplace = True)"
      ]
    },
    {
      "cell_type": "code",
      "execution_count": 15,
      "metadata": {
        "id": "bJxWEkiD3VOZ"
      },
      "outputs": [
        {
          "name": "stdout",
          "output_type": "stream",
          "text": [
            "features dataframe shape : (27772, 21)\n"
          ]
        },
        {
          "data": {
            "text/html": [
              "<div>\n",
              "<style scoped>\n",
              "    .dataframe tbody tr th:only-of-type {\n",
              "        vertical-align: middle;\n",
              "    }\n",
              "\n",
              "    .dataframe tbody tr th {\n",
              "        vertical-align: top;\n",
              "    }\n",
              "\n",
              "    .dataframe thead th {\n",
              "        text-align: right;\n",
              "    }\n",
              "</style>\n",
              "<table border=\"1\" class=\"dataframe\">\n",
              "  <thead>\n",
              "    <tr style=\"text-align: right;\">\n",
              "      <th></th>\n",
              "      <th>Location</th>\n",
              "      <th>Date</th>\n",
              "      <th>Demand</th>\n",
              "      <th>X</th>\n",
              "      <th>Y</th>\n",
              "      <th>Previous_day_demand</th>\n",
              "      <th>Previous_2day_demand</th>\n",
              "      <th>Previous_3day_demand</th>\n",
              "      <th>Previous_4day_demand</th>\n",
              "      <th>Previous_5day_demand</th>\n",
              "      <th>...</th>\n",
              "      <th>Previous_week_demand</th>\n",
              "      <th>Previous_8day_demand</th>\n",
              "      <th>Previous_9day_demand</th>\n",
              "      <th>Previous_10day_demand</th>\n",
              "      <th>Previous_11day_demand</th>\n",
              "      <th>Previous_12day_demand</th>\n",
              "      <th>Previous_13day_demand</th>\n",
              "      <th>Previous_2week_demand</th>\n",
              "      <th>Day_of_week</th>\n",
              "      <th>Day_of_month</th>\n",
              "    </tr>\n",
              "  </thead>\n",
              "  <tbody>\n",
              "    <tr>\n",
              "      <th>14</th>\n",
              "      <td>1</td>\n",
              "      <td>2023-01-15</td>\n",
              "      <td>19.0</td>\n",
              "      <td>935920.967412</td>\n",
              "      <td>190798.948561</td>\n",
              "      <td>7.0</td>\n",
              "      <td>21.0</td>\n",
              "      <td>8.0</td>\n",
              "      <td>9.0</td>\n",
              "      <td>4.0</td>\n",
              "      <td>...</td>\n",
              "      <td>12.0</td>\n",
              "      <td>6.0</td>\n",
              "      <td>11.0</td>\n",
              "      <td>15.0</td>\n",
              "      <td>7.0</td>\n",
              "      <td>27.0</td>\n",
              "      <td>31.0</td>\n",
              "      <td>40.0</td>\n",
              "      <td>6</td>\n",
              "      <td>15</td>\n",
              "    </tr>\n",
              "    <tr>\n",
              "      <th>15</th>\n",
              "      <td>1</td>\n",
              "      <td>2023-01-16</td>\n",
              "      <td>21.0</td>\n",
              "      <td>935920.967412</td>\n",
              "      <td>190798.948561</td>\n",
              "      <td>19.0</td>\n",
              "      <td>7.0</td>\n",
              "      <td>21.0</td>\n",
              "      <td>8.0</td>\n",
              "      <td>9.0</td>\n",
              "      <td>...</td>\n",
              "      <td>14.0</td>\n",
              "      <td>12.0</td>\n",
              "      <td>6.0</td>\n",
              "      <td>11.0</td>\n",
              "      <td>15.0</td>\n",
              "      <td>7.0</td>\n",
              "      <td>27.0</td>\n",
              "      <td>31.0</td>\n",
              "      <td>0</td>\n",
              "      <td>16</td>\n",
              "    </tr>\n",
              "    <tr>\n",
              "      <th>16</th>\n",
              "      <td>1</td>\n",
              "      <td>2023-01-17</td>\n",
              "      <td>18.0</td>\n",
              "      <td>935920.967412</td>\n",
              "      <td>190798.948561</td>\n",
              "      <td>21.0</td>\n",
              "      <td>19.0</td>\n",
              "      <td>7.0</td>\n",
              "      <td>21.0</td>\n",
              "      <td>8.0</td>\n",
              "      <td>...</td>\n",
              "      <td>4.0</td>\n",
              "      <td>14.0</td>\n",
              "      <td>12.0</td>\n",
              "      <td>6.0</td>\n",
              "      <td>11.0</td>\n",
              "      <td>15.0</td>\n",
              "      <td>7.0</td>\n",
              "      <td>27.0</td>\n",
              "      <td>1</td>\n",
              "      <td>17</td>\n",
              "    </tr>\n",
              "    <tr>\n",
              "      <th>17</th>\n",
              "      <td>1</td>\n",
              "      <td>2023-01-18</td>\n",
              "      <td>10.0</td>\n",
              "      <td>935920.967412</td>\n",
              "      <td>190798.948561</td>\n",
              "      <td>18.0</td>\n",
              "      <td>21.0</td>\n",
              "      <td>19.0</td>\n",
              "      <td>7.0</td>\n",
              "      <td>21.0</td>\n",
              "      <td>...</td>\n",
              "      <td>9.0</td>\n",
              "      <td>4.0</td>\n",
              "      <td>14.0</td>\n",
              "      <td>12.0</td>\n",
              "      <td>6.0</td>\n",
              "      <td>11.0</td>\n",
              "      <td>15.0</td>\n",
              "      <td>7.0</td>\n",
              "      <td>2</td>\n",
              "      <td>18</td>\n",
              "    </tr>\n",
              "    <tr>\n",
              "      <th>18</th>\n",
              "      <td>1</td>\n",
              "      <td>2023-01-19</td>\n",
              "      <td>9.0</td>\n",
              "      <td>935920.967412</td>\n",
              "      <td>190798.948561</td>\n",
              "      <td>10.0</td>\n",
              "      <td>18.0</td>\n",
              "      <td>21.0</td>\n",
              "      <td>19.0</td>\n",
              "      <td>7.0</td>\n",
              "      <td>...</td>\n",
              "      <td>8.0</td>\n",
              "      <td>9.0</td>\n",
              "      <td>4.0</td>\n",
              "      <td>14.0</td>\n",
              "      <td>12.0</td>\n",
              "      <td>6.0</td>\n",
              "      <td>11.0</td>\n",
              "      <td>15.0</td>\n",
              "      <td>3</td>\n",
              "      <td>19</td>\n",
              "    </tr>\n",
              "  </tbody>\n",
              "</table>\n",
              "<p>5 rows × 21 columns</p>\n",
              "</div>"
            ],
            "text/plain": [
              "    Location       Date  Demand              X              Y  \\\n",
              "14         1 2023-01-15    19.0  935920.967412  190798.948561   \n",
              "15         1 2023-01-16    21.0  935920.967412  190798.948561   \n",
              "16         1 2023-01-17    18.0  935920.967412  190798.948561   \n",
              "17         1 2023-01-18    10.0  935920.967412  190798.948561   \n",
              "18         1 2023-01-19     9.0  935920.967412  190798.948561   \n",
              "\n",
              "    Previous_day_demand  Previous_2day_demand  Previous_3day_demand  \\\n",
              "14                  7.0                  21.0                   8.0   \n",
              "15                 19.0                   7.0                  21.0   \n",
              "16                 21.0                  19.0                   7.0   \n",
              "17                 18.0                  21.0                  19.0   \n",
              "18                 10.0                  18.0                  21.0   \n",
              "\n",
              "    Previous_4day_demand  Previous_5day_demand  ...  Previous_week_demand  \\\n",
              "14                   9.0                   4.0  ...                  12.0   \n",
              "15                   8.0                   9.0  ...                  14.0   \n",
              "16                  21.0                   8.0  ...                   4.0   \n",
              "17                   7.0                  21.0  ...                   9.0   \n",
              "18                  19.0                   7.0  ...                   8.0   \n",
              "\n",
              "    Previous_8day_demand  Previous_9day_demand  Previous_10day_demand  \\\n",
              "14                   6.0                  11.0                   15.0   \n",
              "15                  12.0                   6.0                   11.0   \n",
              "16                  14.0                  12.0                    6.0   \n",
              "17                   4.0                  14.0                   12.0   \n",
              "18                   9.0                   4.0                   14.0   \n",
              "\n",
              "    Previous_11day_demand  Previous_12day_demand  Previous_13day_demand  \\\n",
              "14                    7.0                   27.0                   31.0   \n",
              "15                   15.0                    7.0                   27.0   \n",
              "16                   11.0                   15.0                    7.0   \n",
              "17                    6.0                   11.0                   15.0   \n",
              "18                   12.0                    6.0                   11.0   \n",
              "\n",
              "    Previous_2week_demand  Day_of_week  Day_of_month  \n",
              "14                   40.0            6            15  \n",
              "15                   31.0            0            16  \n",
              "16                   27.0            1            17  \n",
              "17                    7.0            2            18  \n",
              "18                   15.0            3            19  \n",
              "\n",
              "[5 rows x 21 columns]"
            ]
          },
          "execution_count": 15,
          "metadata": {},
          "output_type": "execute_result"
        }
      ],
      "source": [
        "print(f'features dataframe shape : {features_df.shape}')\n",
        "features_df.head()"
      ]
    },
    {
      "cell_type": "markdown",
      "metadata": {
        "id": "zN0kp6jw03DP"
      },
      "source": [
        "## Split Train and Test Data"
      ]
    },
    {
      "cell_type": "code",
      "execution_count": 16,
      "metadata": {
        "id": "CMY1G1lmwGmI"
      },
      "outputs": [],
      "source": [
        "def train_test_splitting(dataset, TEST_START_DATE):\n",
        "\n",
        "    train_df = dataset[dataset['Date'] < TEST_START_DATE]\n",
        "    test_df = dataset[dataset['Date'] >= TEST_START_DATE]\n",
        "\n",
        "    return train_df, test_df"
      ]
    },
    {
      "cell_type": "code",
      "execution_count": 17,
      "metadata": {
        "id": "3xH4VMGNwGmK"
      },
      "outputs": [],
      "source": [
        "train_df, test_df = train_test_splitting(features_df, TEST_START_DATE)"
      ]
    },
    {
      "cell_type": "code",
      "execution_count": 18,
      "metadata": {
        "id": "xxGdRZfqwGmL",
        "outputId": "58609337-c472-48f5-c7fc-e9d7c17aba4f"
      },
      "outputs": [
        {
          "name": "stdout",
          "output_type": "stream",
          "text": [
            "train dataframe shape : (19912, 21)\n"
          ]
        },
        {
          "data": {
            "text/html": [
              "<div>\n",
              "<style scoped>\n",
              "    .dataframe tbody tr th:only-of-type {\n",
              "        vertical-align: middle;\n",
              "    }\n",
              "\n",
              "    .dataframe tbody tr th {\n",
              "        vertical-align: top;\n",
              "    }\n",
              "\n",
              "    .dataframe thead th {\n",
              "        text-align: right;\n",
              "    }\n",
              "</style>\n",
              "<table border=\"1\" class=\"dataframe\">\n",
              "  <thead>\n",
              "    <tr style=\"text-align: right;\">\n",
              "      <th></th>\n",
              "      <th>Location</th>\n",
              "      <th>Date</th>\n",
              "      <th>Demand</th>\n",
              "      <th>X</th>\n",
              "      <th>Y</th>\n",
              "      <th>Previous_day_demand</th>\n",
              "      <th>Previous_2day_demand</th>\n",
              "      <th>Previous_3day_demand</th>\n",
              "      <th>Previous_4day_demand</th>\n",
              "      <th>Previous_5day_demand</th>\n",
              "      <th>...</th>\n",
              "      <th>Previous_week_demand</th>\n",
              "      <th>Previous_8day_demand</th>\n",
              "      <th>Previous_9day_demand</th>\n",
              "      <th>Previous_10day_demand</th>\n",
              "      <th>Previous_11day_demand</th>\n",
              "      <th>Previous_12day_demand</th>\n",
              "      <th>Previous_13day_demand</th>\n",
              "      <th>Previous_2week_demand</th>\n",
              "      <th>Day_of_week</th>\n",
              "      <th>Day_of_month</th>\n",
              "    </tr>\n",
              "  </thead>\n",
              "  <tbody>\n",
              "    <tr>\n",
              "      <th>14</th>\n",
              "      <td>1</td>\n",
              "      <td>2023-01-15</td>\n",
              "      <td>19.0</td>\n",
              "      <td>935920.967412</td>\n",
              "      <td>190798.948561</td>\n",
              "      <td>7.0</td>\n",
              "      <td>21.0</td>\n",
              "      <td>8.0</td>\n",
              "      <td>9.0</td>\n",
              "      <td>4.0</td>\n",
              "      <td>...</td>\n",
              "      <td>12.0</td>\n",
              "      <td>6.0</td>\n",
              "      <td>11.0</td>\n",
              "      <td>15.0</td>\n",
              "      <td>7.0</td>\n",
              "      <td>27.0</td>\n",
              "      <td>31.0</td>\n",
              "      <td>40.0</td>\n",
              "      <td>6</td>\n",
              "      <td>15</td>\n",
              "    </tr>\n",
              "    <tr>\n",
              "      <th>15</th>\n",
              "      <td>1</td>\n",
              "      <td>2023-01-16</td>\n",
              "      <td>21.0</td>\n",
              "      <td>935920.967412</td>\n",
              "      <td>190798.948561</td>\n",
              "      <td>19.0</td>\n",
              "      <td>7.0</td>\n",
              "      <td>21.0</td>\n",
              "      <td>8.0</td>\n",
              "      <td>9.0</td>\n",
              "      <td>...</td>\n",
              "      <td>14.0</td>\n",
              "      <td>12.0</td>\n",
              "      <td>6.0</td>\n",
              "      <td>11.0</td>\n",
              "      <td>15.0</td>\n",
              "      <td>7.0</td>\n",
              "      <td>27.0</td>\n",
              "      <td>31.0</td>\n",
              "      <td>0</td>\n",
              "      <td>16</td>\n",
              "    </tr>\n",
              "    <tr>\n",
              "      <th>16</th>\n",
              "      <td>1</td>\n",
              "      <td>2023-01-17</td>\n",
              "      <td>18.0</td>\n",
              "      <td>935920.967412</td>\n",
              "      <td>190798.948561</td>\n",
              "      <td>21.0</td>\n",
              "      <td>19.0</td>\n",
              "      <td>7.0</td>\n",
              "      <td>21.0</td>\n",
              "      <td>8.0</td>\n",
              "      <td>...</td>\n",
              "      <td>4.0</td>\n",
              "      <td>14.0</td>\n",
              "      <td>12.0</td>\n",
              "      <td>6.0</td>\n",
              "      <td>11.0</td>\n",
              "      <td>15.0</td>\n",
              "      <td>7.0</td>\n",
              "      <td>27.0</td>\n",
              "      <td>1</td>\n",
              "      <td>17</td>\n",
              "    </tr>\n",
              "    <tr>\n",
              "      <th>17</th>\n",
              "      <td>1</td>\n",
              "      <td>2023-01-18</td>\n",
              "      <td>10.0</td>\n",
              "      <td>935920.967412</td>\n",
              "      <td>190798.948561</td>\n",
              "      <td>18.0</td>\n",
              "      <td>21.0</td>\n",
              "      <td>19.0</td>\n",
              "      <td>7.0</td>\n",
              "      <td>21.0</td>\n",
              "      <td>...</td>\n",
              "      <td>9.0</td>\n",
              "      <td>4.0</td>\n",
              "      <td>14.0</td>\n",
              "      <td>12.0</td>\n",
              "      <td>6.0</td>\n",
              "      <td>11.0</td>\n",
              "      <td>15.0</td>\n",
              "      <td>7.0</td>\n",
              "      <td>2</td>\n",
              "      <td>18</td>\n",
              "    </tr>\n",
              "    <tr>\n",
              "      <th>18</th>\n",
              "      <td>1</td>\n",
              "      <td>2023-01-19</td>\n",
              "      <td>9.0</td>\n",
              "      <td>935920.967412</td>\n",
              "      <td>190798.948561</td>\n",
              "      <td>10.0</td>\n",
              "      <td>18.0</td>\n",
              "      <td>21.0</td>\n",
              "      <td>19.0</td>\n",
              "      <td>7.0</td>\n",
              "      <td>...</td>\n",
              "      <td>8.0</td>\n",
              "      <td>9.0</td>\n",
              "      <td>4.0</td>\n",
              "      <td>14.0</td>\n",
              "      <td>12.0</td>\n",
              "      <td>6.0</td>\n",
              "      <td>11.0</td>\n",
              "      <td>15.0</td>\n",
              "      <td>3</td>\n",
              "      <td>19</td>\n",
              "    </tr>\n",
              "  </tbody>\n",
              "</table>\n",
              "<p>5 rows × 21 columns</p>\n",
              "</div>"
            ],
            "text/plain": [
              "    Location       Date  Demand              X              Y  \\\n",
              "14         1 2023-01-15    19.0  935920.967412  190798.948561   \n",
              "15         1 2023-01-16    21.0  935920.967412  190798.948561   \n",
              "16         1 2023-01-17    18.0  935920.967412  190798.948561   \n",
              "17         1 2023-01-18    10.0  935920.967412  190798.948561   \n",
              "18         1 2023-01-19     9.0  935920.967412  190798.948561   \n",
              "\n",
              "    Previous_day_demand  Previous_2day_demand  Previous_3day_demand  \\\n",
              "14                  7.0                  21.0                   8.0   \n",
              "15                 19.0                   7.0                  21.0   \n",
              "16                 21.0                  19.0                   7.0   \n",
              "17                 18.0                  21.0                  19.0   \n",
              "18                 10.0                  18.0                  21.0   \n",
              "\n",
              "    Previous_4day_demand  Previous_5day_demand  ...  Previous_week_demand  \\\n",
              "14                   9.0                   4.0  ...                  12.0   \n",
              "15                   8.0                   9.0  ...                  14.0   \n",
              "16                  21.0                   8.0  ...                   4.0   \n",
              "17                   7.0                  21.0  ...                   9.0   \n",
              "18                  19.0                   7.0  ...                   8.0   \n",
              "\n",
              "    Previous_8day_demand  Previous_9day_demand  Previous_10day_demand  \\\n",
              "14                   6.0                  11.0                   15.0   \n",
              "15                  12.0                   6.0                   11.0   \n",
              "16                  14.0                  12.0                    6.0   \n",
              "17                   4.0                  14.0                   12.0   \n",
              "18                   9.0                   4.0                   14.0   \n",
              "\n",
              "    Previous_11day_demand  Previous_12day_demand  Previous_13day_demand  \\\n",
              "14                    7.0                   27.0                   31.0   \n",
              "15                   15.0                    7.0                   27.0   \n",
              "16                   11.0                   15.0                    7.0   \n",
              "17                    6.0                   11.0                   15.0   \n",
              "18                   12.0                    6.0                   11.0   \n",
              "\n",
              "    Previous_2week_demand  Day_of_week  Day_of_month  \n",
              "14                   40.0            6            15  \n",
              "15                   31.0            0            16  \n",
              "16                   27.0            1            17  \n",
              "17                    7.0            2            18  \n",
              "18                   15.0            3            19  \n",
              "\n",
              "[5 rows x 21 columns]"
            ]
          },
          "execution_count": 18,
          "metadata": {},
          "output_type": "execute_result"
        }
      ],
      "source": [
        "print(f'train dataframe shape : {train_df.shape}')\n",
        "train_df.head()"
      ]
    },
    {
      "cell_type": "code",
      "execution_count": 19,
      "metadata": {
        "id": "uPbINwH224Hy"
      },
      "outputs": [
        {
          "name": "stdout",
          "output_type": "stream",
          "text": [
            "test dataframe shape : (7860, 21)\n"
          ]
        },
        {
          "data": {
            "text/html": [
              "<div>\n",
              "<style scoped>\n",
              "    .dataframe tbody tr th:only-of-type {\n",
              "        vertical-align: middle;\n",
              "    }\n",
              "\n",
              "    .dataframe tbody tr th {\n",
              "        vertical-align: top;\n",
              "    }\n",
              "\n",
              "    .dataframe thead th {\n",
              "        text-align: right;\n",
              "    }\n",
              "</style>\n",
              "<table border=\"1\" class=\"dataframe\">\n",
              "  <thead>\n",
              "    <tr style=\"text-align: right;\">\n",
              "      <th></th>\n",
              "      <th>Location</th>\n",
              "      <th>Date</th>\n",
              "      <th>Demand</th>\n",
              "      <th>X</th>\n",
              "      <th>Y</th>\n",
              "      <th>Previous_day_demand</th>\n",
              "      <th>Previous_2day_demand</th>\n",
              "      <th>Previous_3day_demand</th>\n",
              "      <th>Previous_4day_demand</th>\n",
              "      <th>Previous_5day_demand</th>\n",
              "      <th>...</th>\n",
              "      <th>Previous_week_demand</th>\n",
              "      <th>Previous_8day_demand</th>\n",
              "      <th>Previous_9day_demand</th>\n",
              "      <th>Previous_10day_demand</th>\n",
              "      <th>Previous_11day_demand</th>\n",
              "      <th>Previous_12day_demand</th>\n",
              "      <th>Previous_13day_demand</th>\n",
              "      <th>Previous_2week_demand</th>\n",
              "      <th>Day_of_week</th>\n",
              "      <th>Day_of_month</th>\n",
              "    </tr>\n",
              "  </thead>\n",
              "  <tbody>\n",
              "    <tr>\n",
              "      <th>90</th>\n",
              "      <td>1</td>\n",
              "      <td>2023-04-01</td>\n",
              "      <td>13.0</td>\n",
              "      <td>935920.967412</td>\n",
              "      <td>190798.948561</td>\n",
              "      <td>13.0</td>\n",
              "      <td>13.0</td>\n",
              "      <td>7.0</td>\n",
              "      <td>14.0</td>\n",
              "      <td>3.0</td>\n",
              "      <td>...</td>\n",
              "      <td>15.0</td>\n",
              "      <td>9.0</td>\n",
              "      <td>21.0</td>\n",
              "      <td>9.0</td>\n",
              "      <td>6.0</td>\n",
              "      <td>14.0</td>\n",
              "      <td>33.0</td>\n",
              "      <td>25.0</td>\n",
              "      <td>5</td>\n",
              "      <td>1</td>\n",
              "    </tr>\n",
              "    <tr>\n",
              "      <th>91</th>\n",
              "      <td>1</td>\n",
              "      <td>2023-04-02</td>\n",
              "      <td>17.0</td>\n",
              "      <td>935920.967412</td>\n",
              "      <td>190798.948561</td>\n",
              "      <td>13.0</td>\n",
              "      <td>13.0</td>\n",
              "      <td>13.0</td>\n",
              "      <td>7.0</td>\n",
              "      <td>14.0</td>\n",
              "      <td>...</td>\n",
              "      <td>14.0</td>\n",
              "      <td>15.0</td>\n",
              "      <td>9.0</td>\n",
              "      <td>21.0</td>\n",
              "      <td>9.0</td>\n",
              "      <td>6.0</td>\n",
              "      <td>14.0</td>\n",
              "      <td>33.0</td>\n",
              "      <td>6</td>\n",
              "      <td>2</td>\n",
              "    </tr>\n",
              "    <tr>\n",
              "      <th>92</th>\n",
              "      <td>1</td>\n",
              "      <td>2023-04-03</td>\n",
              "      <td>9.0</td>\n",
              "      <td>935920.967412</td>\n",
              "      <td>190798.948561</td>\n",
              "      <td>17.0</td>\n",
              "      <td>13.0</td>\n",
              "      <td>13.0</td>\n",
              "      <td>13.0</td>\n",
              "      <td>7.0</td>\n",
              "      <td>...</td>\n",
              "      <td>3.0</td>\n",
              "      <td>14.0</td>\n",
              "      <td>15.0</td>\n",
              "      <td>9.0</td>\n",
              "      <td>21.0</td>\n",
              "      <td>9.0</td>\n",
              "      <td>6.0</td>\n",
              "      <td>14.0</td>\n",
              "      <td>0</td>\n",
              "      <td>3</td>\n",
              "    </tr>\n",
              "    <tr>\n",
              "      <th>93</th>\n",
              "      <td>1</td>\n",
              "      <td>2023-04-04</td>\n",
              "      <td>12.0</td>\n",
              "      <td>935920.967412</td>\n",
              "      <td>190798.948561</td>\n",
              "      <td>9.0</td>\n",
              "      <td>17.0</td>\n",
              "      <td>13.0</td>\n",
              "      <td>13.0</td>\n",
              "      <td>13.0</td>\n",
              "      <td>...</td>\n",
              "      <td>14.0</td>\n",
              "      <td>3.0</td>\n",
              "      <td>14.0</td>\n",
              "      <td>15.0</td>\n",
              "      <td>9.0</td>\n",
              "      <td>21.0</td>\n",
              "      <td>9.0</td>\n",
              "      <td>6.0</td>\n",
              "      <td>1</td>\n",
              "      <td>4</td>\n",
              "    </tr>\n",
              "    <tr>\n",
              "      <th>94</th>\n",
              "      <td>1</td>\n",
              "      <td>2023-04-05</td>\n",
              "      <td>18.0</td>\n",
              "      <td>935920.967412</td>\n",
              "      <td>190798.948561</td>\n",
              "      <td>12.0</td>\n",
              "      <td>9.0</td>\n",
              "      <td>17.0</td>\n",
              "      <td>13.0</td>\n",
              "      <td>13.0</td>\n",
              "      <td>...</td>\n",
              "      <td>7.0</td>\n",
              "      <td>14.0</td>\n",
              "      <td>3.0</td>\n",
              "      <td>14.0</td>\n",
              "      <td>15.0</td>\n",
              "      <td>9.0</td>\n",
              "      <td>21.0</td>\n",
              "      <td>9.0</td>\n",
              "      <td>2</td>\n",
              "      <td>5</td>\n",
              "    </tr>\n",
              "  </tbody>\n",
              "</table>\n",
              "<p>5 rows × 21 columns</p>\n",
              "</div>"
            ],
            "text/plain": [
              "    Location       Date  Demand              X              Y  \\\n",
              "90         1 2023-04-01    13.0  935920.967412  190798.948561   \n",
              "91         1 2023-04-02    17.0  935920.967412  190798.948561   \n",
              "92         1 2023-04-03     9.0  935920.967412  190798.948561   \n",
              "93         1 2023-04-04    12.0  935920.967412  190798.948561   \n",
              "94         1 2023-04-05    18.0  935920.967412  190798.948561   \n",
              "\n",
              "    Previous_day_demand  Previous_2day_demand  Previous_3day_demand  \\\n",
              "90                 13.0                  13.0                   7.0   \n",
              "91                 13.0                  13.0                  13.0   \n",
              "92                 17.0                  13.0                  13.0   \n",
              "93                  9.0                  17.0                  13.0   \n",
              "94                 12.0                   9.0                  17.0   \n",
              "\n",
              "    Previous_4day_demand  Previous_5day_demand  ...  Previous_week_demand  \\\n",
              "90                  14.0                   3.0  ...                  15.0   \n",
              "91                   7.0                  14.0  ...                  14.0   \n",
              "92                  13.0                   7.0  ...                   3.0   \n",
              "93                  13.0                  13.0  ...                  14.0   \n",
              "94                  13.0                  13.0  ...                   7.0   \n",
              "\n",
              "    Previous_8day_demand  Previous_9day_demand  Previous_10day_demand  \\\n",
              "90                   9.0                  21.0                    9.0   \n",
              "91                  15.0                   9.0                   21.0   \n",
              "92                  14.0                  15.0                    9.0   \n",
              "93                   3.0                  14.0                   15.0   \n",
              "94                  14.0                   3.0                   14.0   \n",
              "\n",
              "    Previous_11day_demand  Previous_12day_demand  Previous_13day_demand  \\\n",
              "90                    6.0                   14.0                   33.0   \n",
              "91                    9.0                    6.0                   14.0   \n",
              "92                   21.0                    9.0                    6.0   \n",
              "93                    9.0                   21.0                    9.0   \n",
              "94                   15.0                    9.0                   21.0   \n",
              "\n",
              "    Previous_2week_demand  Day_of_week  Day_of_month  \n",
              "90                   25.0            5             1  \n",
              "91                   33.0            6             2  \n",
              "92                   14.0            0             3  \n",
              "93                    6.0            1             4  \n",
              "94                    9.0            2             5  \n",
              "\n",
              "[5 rows x 21 columns]"
            ]
          },
          "execution_count": 19,
          "metadata": {},
          "output_type": "execute_result"
        }
      ],
      "source": [
        "print(f'test dataframe shape : {test_df.shape}')\n",
        "test_df.head()"
      ]
    },
    {
      "cell_type": "markdown",
      "metadata": {
        "id": "xf8ChW_7wGmL"
      },
      "source": [
        "# Model Training"
      ]
    },
    {
      "cell_type": "markdown",
      "metadata": {
        "id": "PxYfxyCHz_Z3"
      },
      "source": [
        "## **Ridge Regression**"
      ]
    },
    {
      "cell_type": "markdown",
      "metadata": {
        "id": "CJn4YIBtKcL_"
      },
      "source": [
        "### Model Tuning"
      ]
    },
    {
      "cell_type": "code",
      "execution_count": 20,
      "metadata": {
        "id": "sOMPo5ryBm8g"
      },
      "outputs": [],
      "source": [
        "def grid_search(model, test_parameters, train_data, cv = None, feature_list = FEATURE_LIST):\n",
        "    gs = GridSearchCV(\n",
        "        estimator = model, \n",
        "        param_grid = test_parameters, \n",
        "        scoring = 'neg_root_mean_squared_error', \n",
        "        cv = cv, \n",
        "        n_jobs = -1\n",
        "        )\n",
        "    \n",
        "    gs.fit(train_data[feature_list], train_data['Demand'])\n",
        "    return gs.best_params_, gs.best_score_"
      ]
    },
    {
      "cell_type": "code",
      "execution_count": 21,
      "metadata": {},
      "outputs": [
        {
          "name": "stdout",
          "output_type": "stream",
          "text": [
            "{'alpha': 100} -88.81735286666779\n"
          ]
        }
      ],
      "source": [
        "model = Ridge()\n",
        "best_params, best_score = grid_search(\n",
        "    model, \n",
        "    {'alpha':[0, 1, 10, 100,]},\n",
        "    train_df, \n",
        "    cv = 5, \n",
        "    feature_list = FEATURE_LIST\n",
        "    )\n",
        "\n",
        "print(best_params, best_score)"
      ]
    },
    {
      "cell_type": "markdown",
      "metadata": {
        "id": "AxN2E_9Q1yHS"
      },
      "source": [
        "### Prediction"
      ]
    },
    {
      "cell_type": "code",
      "execution_count": 22,
      "metadata": {
        "id": "pbhM5Oe6PjW7"
      },
      "outputs": [],
      "source": [
        "def model_predict(model, train_data, test_data, feature_list):\n",
        "\n",
        "    model.fit(train_data[feature_list], train_data['Demand'])\n",
        "\n",
        "\n",
        "    train_predict_df  = model.predict(train_data[feature_list])\n",
        "    test_predict_df  = model.predict(test_data[feature_list])\n",
        "\n",
        "    return train_predict_df, test_predict_df"
      ]
    },
    {
      "cell_type": "code",
      "execution_count": 23,
      "metadata": {
        "id": "MulwYZc7LK7v"
      },
      "outputs": [],
      "source": [
        "model = Ridge(**best_params)\n",
        "train_prediction_df , test_prediction_df  = model_predict(model, train_df, test_df, FEATURE_LIST)"
      ]
    },
    {
      "cell_type": "markdown",
      "metadata": {
        "id": "jJYHtg2oRqvS"
      },
      "source": [
        "### Visualization"
      ]
    },
    {
      "cell_type": "code",
      "execution_count": 24,
      "metadata": {},
      "outputs": [],
      "source": [
        "def add_day_of_year(data):\n",
        "    data['day_year'] = 0\n",
        "    start_date = data['Date'].min()\n",
        "\n",
        "    for index, row in data.iterrows():\n",
        "\n",
        "        curr_date = row['Date']\n",
        "        day_number = (curr_date - start_date).days\n",
        "\n",
        "        data.at[index, 'day_year'] = day_number\n",
        "    return data"
      ]
    },
    {
      "cell_type": "code",
      "execution_count": 25,
      "metadata": {
        "id": "ao6nw8xsRvB9"
      },
      "outputs": [],
      "source": [
        "def prediction_visualization(train_data, test_data, train_prediction_df, test_prediction_df):\n",
        "\n",
        "\n",
        "    train_data = add_day_of_year(train_data)\n",
        "    test_data = add_day_of_year(test_data)\n",
        "\n",
        "    predicted_train_df = train_data\n",
        "    predicted_test_df = test_data\n",
        "    predicted_train_df['Predicted'] = train_prediction_df\n",
        "    predicted_test_df['Predicted'] = test_prediction_df\n",
        "\n",
        "    train_data = train_data.groupby('day_year')['Demand'].sum()\n",
        "    test_data = test_data.groupby('day_year')['Demand'].sum()\n",
        "    predicted_train_df = predicted_train_df.groupby('day_year')['Predicted'].sum()\n",
        "    predicted_test_df = predicted_test_df.groupby('day_year')['Predicted'].sum()\n",
        "\n",
        "    plt.title('Train')\n",
        "    plt.plot(train_data)\n",
        "    plt.plot(predicted_train_df)\n",
        "    plt.legend([\"Real Value\", \"Predicted\"], loc =\"lower right\")\n",
        "    plt.show()\n",
        "\n",
        "    plot_length = len(test_data)\n",
        "    plt.title('Test')\n",
        "    plt.plot(test_data)\n",
        "    plt.plot(predicted_test_df)\n",
        "    plt.legend([\"Real Value\", \"Predicted\"], loc =\"lower right\")\n",
        "    plt.show()"
      ]
    },
    {
      "cell_type": "code",
      "execution_count": 26,
      "metadata": {
        "colab": {
          "base_uri": "https://localhost:8080/",
          "height": 887
        },
        "id": "gOyNantNRtda",
        "outputId": "dc7796cf-c196-421d-bd56-1d312334dee4"
      },
      "outputs": [
        {
          "name": "stderr",
          "output_type": "stream",
          "text": [
            "C:\\Users\\bardia\\AppData\\Local\\Temp\\ipykernel_22976\\2975102461.py:2: SettingWithCopyWarning: \n",
            "A value is trying to be set on a copy of a slice from a DataFrame.\n",
            "Try using .loc[row_indexer,col_indexer] = value instead\n",
            "\n",
            "See the caveats in the documentation: https://pandas.pydata.org/pandas-docs/stable/user_guide/indexing.html#returning-a-view-versus-a-copy\n",
            "  data['day_year'] = 0\n",
            "C:\\Users\\bardia\\AppData\\Local\\Temp\\ipykernel_22976\\2975102461.py:2: SettingWithCopyWarning: \n",
            "A value is trying to be set on a copy of a slice from a DataFrame.\n",
            "Try using .loc[row_indexer,col_indexer] = value instead\n",
            "\n",
            "See the caveats in the documentation: https://pandas.pydata.org/pandas-docs/stable/user_guide/indexing.html#returning-a-view-versus-a-copy\n",
            "  data['day_year'] = 0\n",
            "C:\\Users\\bardia\\AppData\\Local\\Temp\\ipykernel_22976\\2246591508.py:9: SettingWithCopyWarning: \n",
            "A value is trying to be set on a copy of a slice from a DataFrame.\n",
            "Try using .loc[row_indexer,col_indexer] = value instead\n",
            "\n",
            "See the caveats in the documentation: https://pandas.pydata.org/pandas-docs/stable/user_guide/indexing.html#returning-a-view-versus-a-copy\n",
            "  predicted_train_df['Predicted'] = train_prediction_df\n",
            "C:\\Users\\bardia\\AppData\\Local\\Temp\\ipykernel_22976\\2246591508.py:10: SettingWithCopyWarning: \n",
            "A value is trying to be set on a copy of a slice from a DataFrame.\n",
            "Try using .loc[row_indexer,col_indexer] = value instead\n",
            "\n",
            "See the caveats in the documentation: https://pandas.pydata.org/pandas-docs/stable/user_guide/indexing.html#returning-a-view-versus-a-copy\n",
            "  predicted_test_df['Predicted'] = test_prediction_df\n"
          ]
        },
        {
          "data": {
            "image/png": "[encoded data removed]",
            "text/plain": [
              "<Figure size 640x480 with 1 Axes>"
            ]
          },
          "metadata": {},
          "output_type": "display_data"
        },
        {
          "data": {
            "image/png": "[encoded data removed]",
            "text/plain": [
              "<Figure size 640x480 with 1 Axes>"
            ]
          },
          "metadata": {},
          "output_type": "display_data"
        }
      ],
      "source": [
        "prediction_visualization(train_df, test_df, train_prediction_df, test_prediction_df)"
      ]
    },
    {
      "cell_type": "markdown",
      "metadata": {
        "id": "RBsqB5hnSuPP"
      },
      "source": [
        "### Evaluation"
      ]
    },
    {
      "cell_type": "code",
      "execution_count": 27,
      "metadata": {
        "id": "BcGvcilUWEEC"
      },
      "outputs": [],
      "source": [
        "def evaluate(metric, metric_name, true_values, predicted_values):\n",
        "    print(f'{metric_name} : {metric(true_values, predicted_values)}')"
      ]
    },
    {
      "cell_type": "code",
      "execution_count": 28,
      "metadata": {
        "id": "v4-GWghuSbnA"
      },
      "outputs": [],
      "source": [
        "def evaluation(model_name, train_data, test_data, train_prediction_df, test_prediction_df):\n",
        "    print(f'{model_name} train scores:')\n",
        "\n",
        "\n",
        "    evaluate(mean_absolute_error, 'MAE', train_data['Demand'], train_prediction_df)\n",
        "    evaluate(mean_squared_error, 'MSE', train_data['Demand'], train_prediction_df)\n",
        "    evaluate(mean_absolute_percentage_error, 'MAPE', train_data['Demand'], train_prediction_df)\n",
        "\n",
        "    print(f'{model_name} test scores:')\n",
        "\n",
        "    evaluate(mean_absolute_error, 'MAE', test_data['Demand'], test_prediction_df)\n",
        "    evaluate(mean_squared_error, 'MSE', test_data['Demand'], test_prediction_df)\n",
        "    evaluate(mean_absolute_percentage_error, 'MAPE', test_data['Demand'], test_prediction_df)\n"
      ]
    },
    {
      "cell_type": "code",
      "execution_count": 29,
      "metadata": {
        "colab": {
          "base_uri": "https://localhost:8080/"
        },
        "id": "vUBqNgIwSwKe",
        "outputId": "c05d64b8-b525-458d-96db-757e94a57d89"
      },
      "outputs": [
        {
          "name": "stdout",
          "output_type": "stream",
          "text": [
            "Ridge Regression train scores:\n",
            "MAE : 28.92760944911749\n",
            "MSE : 8633.390889166747\n",
            "MAPE : 932790891449243.0\n",
            "Ridge Regression test scores:\n",
            "MAE : 29.534573311284\n",
            "MSE : 7908.793633466471\n",
            "MAPE : 919746924672176.2\n"
          ]
        }
      ],
      "source": [
        "evaluation('Ridge Regression', train_df, test_df, train_prediction_df, test_prediction_df)"
      ]
    },
    {
      "cell_type": "markdown",
      "metadata": {},
      "source": [
        "# File Saving"
      ]
    },
    {
      "cell_type": "code",
      "execution_count": 30,
      "metadata": {},
      "outputs": [],
      "source": [
        "def save_predictions(dataset, path):\n",
        "    dataset.to_parquet(path, index=False)"
      ]
    },
    {
      "cell_type": "code",
      "execution_count": 31,
      "metadata": {},
      "outputs": [],
      "source": [
        "def prediction_labeling(pred_df, labeled_df):\n",
        "    pred_df = pd.DataFrame(pred_df, columns = ['Predicted_demand'])\n",
        "    labeled_df.reset_index(inplace = True)\n",
        "    labeled_prediction_df = labeled_df[['Location', 'Date']]\n",
        "    labeled_prediction_df['Predicted_demand'] = pred_df\n",
        "    return labeled_prediction_df"
      ]
    },
    {
      "cell_type": "code",
      "execution_count": 32,
      "metadata": {},
      "outputs": [
        {
          "name": "stderr",
          "output_type": "stream",
          "text": [
            "C:\\Users\\bardia\\AppData\\Local\\Temp\\ipykernel_22976\\1857597426.py:5: SettingWithCopyWarning: \n",
            "A value is trying to be set on a copy of a slice from a DataFrame.\n",
            "Try using .loc[row_indexer,col_indexer] = value instead\n",
            "\n",
            "See the caveats in the documentation: https://pandas.pydata.org/pandas-docs/stable/user_guide/indexing.html#returning-a-view-versus-a-copy\n",
            "  labeled_prediction_df['Predicted_demand'] = pred_df\n",
            "C:\\Users\\bardia\\AppData\\Local\\Temp\\ipykernel_22976\\1857597426.py:5: SettingWithCopyWarning: \n",
            "A value is trying to be set on a copy of a slice from a DataFrame.\n",
            "Try using .loc[row_indexer,col_indexer] = value instead\n",
            "\n",
            "See the caveats in the documentation: https://pandas.pydata.org/pandas-docs/stable/user_guide/indexing.html#returning-a-view-versus-a-copy\n",
            "  labeled_prediction_df['Predicted_demand'] = pred_df\n"
          ]
        }
      ],
      "source": [
        "labeled_test_prediction_df = prediction_labeling(test_prediction_df, test_df)\n",
        "labeled_train_prediction_df = prediction_labeling(train_prediction_df, train_df)"
      ]
    },
    {
      "cell_type": "code",
      "execution_count": 33,
      "metadata": {},
      "outputs": [
        {
          "name": "stdout",
          "output_type": "stream",
          "text": [
            "labeled prediction dataframe shape : (7860, 3)\n"
          ]
        },
        {
          "data": {
            "text/html": [
              "<div>\n",
              "<style scoped>\n",
              "    .dataframe tbody tr th:only-of-type {\n",
              "        vertical-align: middle;\n",
              "    }\n",
              "\n",
              "    .dataframe tbody tr th {\n",
              "        vertical-align: top;\n",
              "    }\n",
              "\n",
              "    .dataframe thead th {\n",
              "        text-align: right;\n",
              "    }\n",
              "</style>\n",
              "<table border=\"1\" class=\"dataframe\">\n",
              "  <thead>\n",
              "    <tr style=\"text-align: right;\">\n",
              "      <th></th>\n",
              "      <th>Location</th>\n",
              "      <th>Date</th>\n",
              "      <th>Predicted_demand</th>\n",
              "    </tr>\n",
              "  </thead>\n",
              "  <tbody>\n",
              "    <tr>\n",
              "      <th>0</th>\n",
              "      <td>1</td>\n",
              "      <td>2023-04-01</td>\n",
              "      <td>18.305568</td>\n",
              "    </tr>\n",
              "    <tr>\n",
              "      <th>1</th>\n",
              "      <td>1</td>\n",
              "      <td>2023-04-02</td>\n",
              "      <td>19.965612</td>\n",
              "    </tr>\n",
              "    <tr>\n",
              "      <th>2</th>\n",
              "      <td>1</td>\n",
              "      <td>2023-04-03</td>\n",
              "      <td>10.428255</td>\n",
              "    </tr>\n",
              "    <tr>\n",
              "      <th>3</th>\n",
              "      <td>1</td>\n",
              "      <td>2023-04-04</td>\n",
              "      <td>10.465925</td>\n",
              "    </tr>\n",
              "    <tr>\n",
              "      <th>4</th>\n",
              "      <td>1</td>\n",
              "      <td>2023-04-05</td>\n",
              "      <td>9.996610</td>\n",
              "    </tr>\n",
              "  </tbody>\n",
              "</table>\n",
              "</div>"
            ],
            "text/plain": [
              "   Location       Date  Predicted_demand\n",
              "0         1 2023-04-01         18.305568\n",
              "1         1 2023-04-02         19.965612\n",
              "2         1 2023-04-03         10.428255\n",
              "3         1 2023-04-04         10.465925\n",
              "4         1 2023-04-05          9.996610"
            ]
          },
          "execution_count": 33,
          "metadata": {},
          "output_type": "execute_result"
        }
      ],
      "source": [
        "print(f'labeled prediction dataframe shape : {labeled_test_prediction_df.shape}')\n",
        "labeled_test_prediction_df.head()"
      ]
    },
    {
      "cell_type": "code",
      "execution_count": 34,
      "metadata": {},
      "outputs": [
        {
          "name": "stdout",
          "output_type": "stream",
          "text": [
            "labeled prediction dataframe shape : (19912, 3)\n"
          ]
        },
        {
          "data": {
            "text/html": [
              "<div>\n",
              "<style scoped>\n",
              "    .dataframe tbody tr th:only-of-type {\n",
              "        vertical-align: middle;\n",
              "    }\n",
              "\n",
              "    .dataframe tbody tr th {\n",
              "        vertical-align: top;\n",
              "    }\n",
              "\n",
              "    .dataframe thead th {\n",
              "        text-align: right;\n",
              "    }\n",
              "</style>\n",
              "<table border=\"1\" class=\"dataframe\">\n",
              "  <thead>\n",
              "    <tr style=\"text-align: right;\">\n",
              "      <th></th>\n",
              "      <th>Location</th>\n",
              "      <th>Date</th>\n",
              "      <th>Predicted_demand</th>\n",
              "    </tr>\n",
              "  </thead>\n",
              "  <tbody>\n",
              "    <tr>\n",
              "      <th>0</th>\n",
              "      <td>1</td>\n",
              "      <td>2023-01-15</td>\n",
              "      <td>20.656202</td>\n",
              "    </tr>\n",
              "    <tr>\n",
              "      <th>1</th>\n",
              "      <td>1</td>\n",
              "      <td>2023-01-16</td>\n",
              "      <td>23.970770</td>\n",
              "    </tr>\n",
              "    <tr>\n",
              "      <th>2</th>\n",
              "      <td>1</td>\n",
              "      <td>2023-01-17</td>\n",
              "      <td>16.012022</td>\n",
              "    </tr>\n",
              "    <tr>\n",
              "      <th>3</th>\n",
              "      <td>1</td>\n",
              "      <td>2023-01-18</td>\n",
              "      <td>13.602784</td>\n",
              "    </tr>\n",
              "    <tr>\n",
              "      <th>4</th>\n",
              "      <td>1</td>\n",
              "      <td>2023-01-19</td>\n",
              "      <td>13.699893</td>\n",
              "    </tr>\n",
              "  </tbody>\n",
              "</table>\n",
              "</div>"
            ],
            "text/plain": [
              "   Location       Date  Predicted_demand\n",
              "0         1 2023-01-15         20.656202\n",
              "1         1 2023-01-16         23.970770\n",
              "2         1 2023-01-17         16.012022\n",
              "3         1 2023-01-18         13.602784\n",
              "4         1 2023-01-19         13.699893"
            ]
          },
          "execution_count": 34,
          "metadata": {},
          "output_type": "execute_result"
        }
      ],
      "source": [
        "print(f'labeled prediction dataframe shape : {labeled_train_prediction_df.shape}')\n",
        "labeled_train_prediction_df.head()"
      ]
    },
    {
      "cell_type": "code",
      "execution_count": 35,
      "metadata": {},
      "outputs": [],
      "source": [
        "save_predictions(labeled_train_prediction_df, OUTPUT_PATH_TRAIN)\n",
        "save_predictions(labeled_test_prediction_df, OUTPUT_PATH_TEST)"
      ]
    }
  ],
  "metadata": {
    "colab": {
      "provenance": [],
      "toc_visible": true
    },
    "kernelspec": {
      "display_name": "Python 3",
      "name": "python3"
    },
    "language_info": {
      "codemirror_mode": {
        "name": "ipython",
        "version": 3
      },
      "file_extension": ".py",
      "mimetype": "text/x-python",
      "name": "python",
      "nbconvert_exporter": "python",
      "pygments_lexer": "ipython3",
      "version": "3.10.7"
    }
  },
  "nbformat": 4,
  "nbformat_minor": 0
}
