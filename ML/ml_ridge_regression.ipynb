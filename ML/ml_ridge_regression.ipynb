{
  "cells": [
    {
      "cell_type": "markdown",
      "metadata": {
        "id": "8UTIGpTZZlOO"
      },
      "source": [
        "# Imports"
      ]
    },
    {
      "cell_type": "code",
      "execution_count": 62,
      "metadata": {
        "id": "AnwSHO1L97I5"
      },
      "outputs": [],
      "source": [
        "import datetime\n",
        "import matplotlib.pyplot as plt\n",
        "import numpy as np\n",
        "import pandas as pd\n",
        "from sklearn.metrics import mean_absolute_error, mean_squared_error, mean_absolute_percentage_error\n",
        "from sklearn.linear_model import Ridge\n",
        "from sklearn.model_selection import GridSearchCV"
      ]
    },
    {
      "cell_type": "markdown",
      "metadata": {
        "id": "pSSMa3G2wGmF"
      },
      "source": [
        "# Configs"
      ]
    },
    {
      "cell_type": "code",
      "execution_count": 98,
      "metadata": {
        "id": "zIkDLK9zwGmG"
      },
      "outputs": [],
      "source": [
        "INPUT_PATH = 'datasets/'\n",
        "OUTPUT_PATH = 'results/predictions.parquet'\n",
        "\n",
        "START_DATE = '2023-01-01'\n",
        "END_DATE = '2023-04-30'\n",
        "\n",
        "FEATURE_LIST = ['Previous_week_demand', 'Previous_day_demand', 'Day_of_month', 'Day_of_week']\n",
        "\n",
        "TEST_START_DATE = '2023-04-1'"
      ]
    },
    {
      "cell_type": "markdown",
      "metadata": {
        "id": "5eS5BQE9wGmK"
      },
      "source": [
        "# Data preparation\n"
      ]
    },
    {
      "cell_type": "markdown",
      "metadata": {
        "id": "TWsjXbpaznc_"
      },
      "source": [
        "## Load Data"
      ]
    },
    {
      "cell_type": "code",
      "execution_count": 64,
      "metadata": {
        "id": "HAyNjqxNwGmH"
      },
      "outputs": [],
      "source": [
        "def load_data(path, start_date: str, end_date: str):\n",
        "    df = pd.read_parquet(path)\n",
        "    start_date = datetime.date.fromisoformat(start_date)\n",
        "    end_date = datetime.date.fromisoformat(end_date)\n",
        "    filtered_df = df[(df['tpep_pickup_datetime'].dt.date >= start_date) &\n",
        "                     (df['tpep_pickup_datetime'].dt.date <= end_date)]\n",
        "    dataset = filtered_df.filter(items=['tpep_pickup_datetime', 'PULocationID'])\n",
        "    dataset['PU_date'] = pd.to_datetime(dataset['tpep_pickup_datetime'].dt.date)\n",
        "    return dataset"
      ]
    },
    {
      "cell_type": "code",
      "execution_count": 65,
      "metadata": {
        "id": "87BFHUu1-z73"
      },
      "outputs": [],
      "source": [
        "rides_df = load_data(INPUT_PATH, START_DATE, END_DATE)"
      ]
    },
    {
      "cell_type": "code",
      "execution_count": 66,
      "metadata": {
        "id": "hCN-11QT3bp1"
      },
      "outputs": [
        {
          "name": "stdout",
          "output_type": "stream",
          "text": [
            "rides dataframe shape : (12672629, 3)\n"
          ]
        },
        {
          "data": {
            "text/html": [
              "<div>\n",
              "<style scoped>\n",
              "    .dataframe tbody tr th:only-of-type {\n",
              "        vertical-align: middle;\n",
              "    }\n",
              "\n",
              "    .dataframe tbody tr th {\n",
              "        vertical-align: top;\n",
              "    }\n",
              "\n",
              "    .dataframe thead th {\n",
              "        text-align: right;\n",
              "    }\n",
              "</style>\n",
              "<table border=\"1\" class=\"dataframe\">\n",
              "  <thead>\n",
              "    <tr style=\"text-align: right;\">\n",
              "      <th></th>\n",
              "      <th>tpep_pickup_datetime</th>\n",
              "      <th>PULocationID</th>\n",
              "      <th>PU_date</th>\n",
              "    </tr>\n",
              "  </thead>\n",
              "  <tbody>\n",
              "    <tr>\n",
              "      <th>0</th>\n",
              "      <td>2023-01-01 00:32:10</td>\n",
              "      <td>161</td>\n",
              "      <td>2023-01-01</td>\n",
              "    </tr>\n",
              "    <tr>\n",
              "      <th>1</th>\n",
              "      <td>2023-01-01 00:55:08</td>\n",
              "      <td>43</td>\n",
              "      <td>2023-01-01</td>\n",
              "    </tr>\n",
              "    <tr>\n",
              "      <th>2</th>\n",
              "      <td>2023-01-01 00:25:04</td>\n",
              "      <td>48</td>\n",
              "      <td>2023-01-01</td>\n",
              "    </tr>\n",
              "    <tr>\n",
              "      <th>3</th>\n",
              "      <td>2023-01-01 00:03:48</td>\n",
              "      <td>138</td>\n",
              "      <td>2023-01-01</td>\n",
              "    </tr>\n",
              "    <tr>\n",
              "      <th>4</th>\n",
              "      <td>2023-01-01 00:10:29</td>\n",
              "      <td>107</td>\n",
              "      <td>2023-01-01</td>\n",
              "    </tr>\n",
              "  </tbody>\n",
              "</table>\n",
              "</div>"
            ],
            "text/plain": [
              "  tpep_pickup_datetime  PULocationID    PU_date\n",
              "0  2023-01-01 00:32:10           161 2023-01-01\n",
              "1  2023-01-01 00:55:08            43 2023-01-01\n",
              "2  2023-01-01 00:25:04            48 2023-01-01\n",
              "3  2023-01-01 00:03:48           138 2023-01-01\n",
              "4  2023-01-01 00:10:29           107 2023-01-01"
            ]
          },
          "execution_count": 66,
          "metadata": {},
          "output_type": "execute_result"
        }
      ],
      "source": [
        "print(f'rides dataframe shape : {rides_df.shape}')\n",
        "rides_df.head()"
      ]
    },
    {
      "cell_type": "markdown",
      "metadata": {
        "id": "X2ES_CY6-fb5"
      },
      "source": [
        "## Labeling"
      ]
    },
    {
      "cell_type": "code",
      "execution_count": 67,
      "metadata": {
        "id": "a7mNMQ-zwGmH"
      },
      "outputs": [],
      "source": [
        "def labeling(dataset):\n",
        "    dataset_labels = (\n",
        "        dataset\n",
        "        .groupby(['PULocationID', 'PU_date'])['PU_date']\n",
        "        .count()\n",
        "        .to_frame('Demand')\n",
        "        .sort_values(['PULocationID', 'PU_date'], ascending=[True, True])\n",
        "        .reset_index()\n",
        "        .rename(columns={'PULocationID': 'Location', 'PU_date': 'Date'})\n",
        "    )\n",
        "\n",
        "    locations = pd.DataFrame(dataset_labels['Location'].unique(), columns=['Location'])\n",
        "    dates = pd.DataFrame(dataset_labels['Date'].unique(), columns=['Date'])\n",
        "\n",
        "    location_date_df = (\n",
        "        locations\n",
        "        .merge(dates, how='cross')\n",
        "        .sort_values(['Location', 'Date'], ascending=[True, True])\n",
        "        .reset_index(drop=True)\n",
        "    )\n",
        "\n",
        "    labels_df = (\n",
        "        location_date_df\n",
        "        .merge(dataset_labels, how='left', on=['Location', 'Date'])\n",
        "        .fillna(value=0)\n",
        "    )\n",
        "\n",
        "    return labels_df\n"
      ]
    },
    {
      "cell_type": "code",
      "execution_count": 68,
      "metadata": {
        "id": "VVRLakW_LeGp"
      },
      "outputs": [],
      "source": [
        "labeled_df = labeling(rides_df)"
      ]
    },
    {
      "cell_type": "code",
      "execution_count": 69,
      "metadata": {
        "id": "0Gm5j5em28Xy"
      },
      "outputs": [
        {
          "name": "stdout",
          "output_type": "stream",
          "text": [
            "labeled dataframe shape : (31440, 3)\n"
          ]
        },
        {
          "data": {
            "text/html": [
              "<div>\n",
              "<style scoped>\n",
              "    .dataframe tbody tr th:only-of-type {\n",
              "        vertical-align: middle;\n",
              "    }\n",
              "\n",
              "    .dataframe tbody tr th {\n",
              "        vertical-align: top;\n",
              "    }\n",
              "\n",
              "    .dataframe thead th {\n",
              "        text-align: right;\n",
              "    }\n",
              "</style>\n",
              "<table border=\"1\" class=\"dataframe\">\n",
              "  <thead>\n",
              "    <tr style=\"text-align: right;\">\n",
              "      <th></th>\n",
              "      <th>Location</th>\n",
              "      <th>Date</th>\n",
              "      <th>Demand</th>\n",
              "    </tr>\n",
              "  </thead>\n",
              "  <tbody>\n",
              "    <tr>\n",
              "      <th>0</th>\n",
              "      <td>1</td>\n",
              "      <td>2023-01-01</td>\n",
              "      <td>40.0</td>\n",
              "    </tr>\n",
              "    <tr>\n",
              "      <th>1</th>\n",
              "      <td>1</td>\n",
              "      <td>2023-01-02</td>\n",
              "      <td>31.0</td>\n",
              "    </tr>\n",
              "    <tr>\n",
              "      <th>2</th>\n",
              "      <td>1</td>\n",
              "      <td>2023-01-03</td>\n",
              "      <td>27.0</td>\n",
              "    </tr>\n",
              "    <tr>\n",
              "      <th>3</th>\n",
              "      <td>1</td>\n",
              "      <td>2023-01-04</td>\n",
              "      <td>7.0</td>\n",
              "    </tr>\n",
              "    <tr>\n",
              "      <th>4</th>\n",
              "      <td>1</td>\n",
              "      <td>2023-01-05</td>\n",
              "      <td>15.0</td>\n",
              "    </tr>\n",
              "  </tbody>\n",
              "</table>\n",
              "</div>"
            ],
            "text/plain": [
              "   Location       Date  Demand\n",
              "0         1 2023-01-01    40.0\n",
              "1         1 2023-01-02    31.0\n",
              "2         1 2023-01-03    27.0\n",
              "3         1 2023-01-04     7.0\n",
              "4         1 2023-01-05    15.0"
            ]
          },
          "execution_count": 69,
          "metadata": {},
          "output_type": "execute_result"
        }
      ],
      "source": [
        "print(f'labeled dataframe shape : {labeled_df.shape}')\n",
        "labeled_df.head()"
      ]
    },
    {
      "cell_type": "markdown",
      "metadata": {
        "id": "G0W2pR-70JJb"
      },
      "source": [
        "## Add Feature"
      ]
    },
    {
      "cell_type": "code",
      "execution_count": 71,
      "metadata": {
        "id": "ifvk6uWS6hnT"
      },
      "outputs": [],
      "source": [
        "def feature_engineering(dataset):\n",
        "    dataset['Previous_day_demand'] = dataset.groupby(['Location'])['Demand'].shift(1)\n",
        "    dataset['Previous_week_demand'] = dataset.groupby(['Location'])['Demand'].shift(7)\n",
        "    dataset['Day_of_week'] = dataset['Date'].dt.dayofweek   \n",
        "    dataset['Day_of_month'] = dataset['Date'].dt.day\n",
        "    return dataset"
      ]
    },
    {
      "cell_type": "code",
      "execution_count": 72,
      "metadata": {
        "id": "12zNfv8YwGmK"
      },
      "outputs": [],
      "source": [
        "features_df = feature_engineering(labeled_df)\n",
        "features_df = features_df.dropna()"
      ]
    },
    {
      "cell_type": "code",
      "execution_count": 73,
      "metadata": {
        "id": "bJxWEkiD3VOZ"
      },
      "outputs": [
        {
          "name": "stdout",
          "output_type": "stream",
          "text": [
            "features dataframe shape : (29606, 7)\n"
          ]
        },
        {
          "data": {
            "text/html": [
              "<div>\n",
              "<style scoped>\n",
              "    .dataframe tbody tr th:only-of-type {\n",
              "        vertical-align: middle;\n",
              "    }\n",
              "\n",
              "    .dataframe tbody tr th {\n",
              "        vertical-align: top;\n",
              "    }\n",
              "\n",
              "    .dataframe thead th {\n",
              "        text-align: right;\n",
              "    }\n",
              "</style>\n",
              "<table border=\"1\" class=\"dataframe\">\n",
              "  <thead>\n",
              "    <tr style=\"text-align: right;\">\n",
              "      <th></th>\n",
              "      <th>Location</th>\n",
              "      <th>Date</th>\n",
              "      <th>Demand</th>\n",
              "      <th>Previous_day_demand</th>\n",
              "      <th>Previous_week_demand</th>\n",
              "      <th>Day_of_week</th>\n",
              "      <th>Day_of_month</th>\n",
              "    </tr>\n",
              "  </thead>\n",
              "  <tbody>\n",
              "    <tr>\n",
              "      <th>7</th>\n",
              "      <td>1</td>\n",
              "      <td>2023-01-08</td>\n",
              "      <td>1012.0</td>\n",
              "      <td>1006.0</td>\n",
              "      <td>1040.0</td>\n",
              "      <td>6</td>\n",
              "      <td>8</td>\n",
              "    </tr>\n",
              "    <tr>\n",
              "      <th>8</th>\n",
              "      <td>1</td>\n",
              "      <td>2023-01-09</td>\n",
              "      <td>1014.0</td>\n",
              "      <td>1012.0</td>\n",
              "      <td>1031.0</td>\n",
              "      <td>0</td>\n",
              "      <td>9</td>\n",
              "    </tr>\n",
              "    <tr>\n",
              "      <th>9</th>\n",
              "      <td>1</td>\n",
              "      <td>2023-01-10</td>\n",
              "      <td>1004.0</td>\n",
              "      <td>1014.0</td>\n",
              "      <td>1027.0</td>\n",
              "      <td>1</td>\n",
              "      <td>10</td>\n",
              "    </tr>\n",
              "    <tr>\n",
              "      <th>10</th>\n",
              "      <td>1</td>\n",
              "      <td>2023-01-11</td>\n",
              "      <td>1009.0</td>\n",
              "      <td>1004.0</td>\n",
              "      <td>1007.0</td>\n",
              "      <td>2</td>\n",
              "      <td>11</td>\n",
              "    </tr>\n",
              "    <tr>\n",
              "      <th>11</th>\n",
              "      <td>1</td>\n",
              "      <td>2023-01-12</td>\n",
              "      <td>1008.0</td>\n",
              "      <td>1009.0</td>\n",
              "      <td>1015.0</td>\n",
              "      <td>3</td>\n",
              "      <td>12</td>\n",
              "    </tr>\n",
              "  </tbody>\n",
              "</table>\n",
              "</div>"
            ],
            "text/plain": [
              "    Location       Date  Demand  Previous_day_demand  Previous_week_demand  \\\n",
              "7          1 2023-01-08  1012.0               1006.0                1040.0   \n",
              "8          1 2023-01-09  1014.0               1012.0                1031.0   \n",
              "9          1 2023-01-10  1004.0               1014.0                1027.0   \n",
              "10         1 2023-01-11  1009.0               1004.0                1007.0   \n",
              "11         1 2023-01-12  1008.0               1009.0                1015.0   \n",
              "\n",
              "    Day_of_week  Day_of_month  \n",
              "7             6             8  \n",
              "8             0             9  \n",
              "9             1            10  \n",
              "10            2            11  \n",
              "11            3            12  "
            ]
          },
          "execution_count": 73,
          "metadata": {},
          "output_type": "execute_result"
        }
      ],
      "source": [
        "print(f'features dataframe shape : {features_df.shape}')\n",
        "features_df.head()"
      ]
    },
    {
      "cell_type": "markdown",
      "metadata": {
        "id": "zN0kp6jw03DP"
      },
      "source": [
        "## Split Train and Test Data"
      ]
    },
    {
      "cell_type": "code",
      "execution_count": 74,
      "metadata": {
        "id": "CMY1G1lmwGmI"
      },
      "outputs": [],
      "source": [
        "def train_test_splitting(dataset, TEST_START_DATE):\n",
        "\n",
        "    train_df = dataset[dataset['Date'] < TEST_START_DATE]\n",
        "    test_df = dataset[dataset['Date'] >= TEST_START_DATE]\n",
        "\n",
        "    return train_df, test_df"
      ]
    },
    {
      "cell_type": "code",
      "execution_count": 75,
      "metadata": {
        "id": "3xH4VMGNwGmK"
      },
      "outputs": [],
      "source": [
        "train_df, test_df = train_test_splitting(features_df, TEST_START_DATE)"
      ]
    },
    {
      "cell_type": "code",
      "execution_count": 76,
      "metadata": {
        "id": "xxGdRZfqwGmL",
        "outputId": "58609337-c472-48f5-c7fc-e9d7c17aba4f"
      },
      "outputs": [
        {
          "name": "stdout",
          "output_type": "stream",
          "text": [
            "train dataframe shape : (21746, 7)\n"
          ]
        },
        {
          "data": {
            "text/html": [
              "<div>\n",
              "<style scoped>\n",
              "    .dataframe tbody tr th:only-of-type {\n",
              "        vertical-align: middle;\n",
              "    }\n",
              "\n",
              "    .dataframe tbody tr th {\n",
              "        vertical-align: top;\n",
              "    }\n",
              "\n",
              "    .dataframe thead th {\n",
              "        text-align: right;\n",
              "    }\n",
              "</style>\n",
              "<table border=\"1\" class=\"dataframe\">\n",
              "  <thead>\n",
              "    <tr style=\"text-align: right;\">\n",
              "      <th></th>\n",
              "      <th>Location</th>\n",
              "      <th>Date</th>\n",
              "      <th>Demand</th>\n",
              "      <th>Previous_day_demand</th>\n",
              "      <th>Previous_week_demand</th>\n",
              "      <th>Day_of_week</th>\n",
              "      <th>Day_of_month</th>\n",
              "    </tr>\n",
              "  </thead>\n",
              "  <tbody>\n",
              "    <tr>\n",
              "      <th>7</th>\n",
              "      <td>1</td>\n",
              "      <td>2023-01-08</td>\n",
              "      <td>1012.0</td>\n",
              "      <td>1006.0</td>\n",
              "      <td>1040.0</td>\n",
              "      <td>6</td>\n",
              "      <td>8</td>\n",
              "    </tr>\n",
              "    <tr>\n",
              "      <th>8</th>\n",
              "      <td>1</td>\n",
              "      <td>2023-01-09</td>\n",
              "      <td>1014.0</td>\n",
              "      <td>1012.0</td>\n",
              "      <td>1031.0</td>\n",
              "      <td>0</td>\n",
              "      <td>9</td>\n",
              "    </tr>\n",
              "    <tr>\n",
              "      <th>9</th>\n",
              "      <td>1</td>\n",
              "      <td>2023-01-10</td>\n",
              "      <td>1004.0</td>\n",
              "      <td>1014.0</td>\n",
              "      <td>1027.0</td>\n",
              "      <td>1</td>\n",
              "      <td>10</td>\n",
              "    </tr>\n",
              "    <tr>\n",
              "      <th>10</th>\n",
              "      <td>1</td>\n",
              "      <td>2023-01-11</td>\n",
              "      <td>1009.0</td>\n",
              "      <td>1004.0</td>\n",
              "      <td>1007.0</td>\n",
              "      <td>2</td>\n",
              "      <td>11</td>\n",
              "    </tr>\n",
              "    <tr>\n",
              "      <th>11</th>\n",
              "      <td>1</td>\n",
              "      <td>2023-01-12</td>\n",
              "      <td>1008.0</td>\n",
              "      <td>1009.0</td>\n",
              "      <td>1015.0</td>\n",
              "      <td>3</td>\n",
              "      <td>12</td>\n",
              "    </tr>\n",
              "  </tbody>\n",
              "</table>\n",
              "</div>"
            ],
            "text/plain": [
              "    Location       Date  Demand  Previous_day_demand  Previous_week_demand  \\\n",
              "7          1 2023-01-08  1012.0               1006.0                1040.0   \n",
              "8          1 2023-01-09  1014.0               1012.0                1031.0   \n",
              "9          1 2023-01-10  1004.0               1014.0                1027.0   \n",
              "10         1 2023-01-11  1009.0               1004.0                1007.0   \n",
              "11         1 2023-01-12  1008.0               1009.0                1015.0   \n",
              "\n",
              "    Day_of_week  Day_of_month  \n",
              "7             6             8  \n",
              "8             0             9  \n",
              "9             1            10  \n",
              "10            2            11  \n",
              "11            3            12  "
            ]
          },
          "execution_count": 76,
          "metadata": {},
          "output_type": "execute_result"
        }
      ],
      "source": [
        "print(f'train dataframe shape : {train_df.shape}')\n",
        "train_df.head()"
      ]
    },
    {
      "cell_type": "code",
      "execution_count": 77,
      "metadata": {
        "id": "uPbINwH224Hy"
      },
      "outputs": [
        {
          "name": "stdout",
          "output_type": "stream",
          "text": [
            "test dataframe shape : (7860, 7)\n"
          ]
        },
        {
          "data": {
            "text/html": [
              "<div>\n",
              "<style scoped>\n",
              "    .dataframe tbody tr th:only-of-type {\n",
              "        vertical-align: middle;\n",
              "    }\n",
              "\n",
              "    .dataframe tbody tr th {\n",
              "        vertical-align: top;\n",
              "    }\n",
              "\n",
              "    .dataframe thead th {\n",
              "        text-align: right;\n",
              "    }\n",
              "</style>\n",
              "<table border=\"1\" class=\"dataframe\">\n",
              "  <thead>\n",
              "    <tr style=\"text-align: right;\">\n",
              "      <th></th>\n",
              "      <th>Location</th>\n",
              "      <th>Date</th>\n",
              "      <th>Demand</th>\n",
              "      <th>Previous_day_demand</th>\n",
              "      <th>Previous_week_demand</th>\n",
              "      <th>Day_of_week</th>\n",
              "      <th>Day_of_month</th>\n",
              "    </tr>\n",
              "  </thead>\n",
              "  <tbody>\n",
              "    <tr>\n",
              "      <th>90</th>\n",
              "      <td>1</td>\n",
              "      <td>2023-04-01</td>\n",
              "      <td>1013.0</td>\n",
              "      <td>1013.0</td>\n",
              "      <td>1015.0</td>\n",
              "      <td>5</td>\n",
              "      <td>1</td>\n",
              "    </tr>\n",
              "    <tr>\n",
              "      <th>91</th>\n",
              "      <td>1</td>\n",
              "      <td>2023-04-02</td>\n",
              "      <td>1017.0</td>\n",
              "      <td>1013.0</td>\n",
              "      <td>1014.0</td>\n",
              "      <td>6</td>\n",
              "      <td>2</td>\n",
              "    </tr>\n",
              "    <tr>\n",
              "      <th>92</th>\n",
              "      <td>1</td>\n",
              "      <td>2023-04-03</td>\n",
              "      <td>1009.0</td>\n",
              "      <td>1017.0</td>\n",
              "      <td>1003.0</td>\n",
              "      <td>0</td>\n",
              "      <td>3</td>\n",
              "    </tr>\n",
              "    <tr>\n",
              "      <th>93</th>\n",
              "      <td>1</td>\n",
              "      <td>2023-04-04</td>\n",
              "      <td>1012.0</td>\n",
              "      <td>1009.0</td>\n",
              "      <td>1014.0</td>\n",
              "      <td>1</td>\n",
              "      <td>4</td>\n",
              "    </tr>\n",
              "    <tr>\n",
              "      <th>94</th>\n",
              "      <td>1</td>\n",
              "      <td>2023-04-05</td>\n",
              "      <td>1018.0</td>\n",
              "      <td>1012.0</td>\n",
              "      <td>1007.0</td>\n",
              "      <td>2</td>\n",
              "      <td>5</td>\n",
              "    </tr>\n",
              "  </tbody>\n",
              "</table>\n",
              "</div>"
            ],
            "text/plain": [
              "    Location       Date  Demand  Previous_day_demand  Previous_week_demand  \\\n",
              "90         1 2023-04-01  1013.0               1013.0                1015.0   \n",
              "91         1 2023-04-02  1017.0               1013.0                1014.0   \n",
              "92         1 2023-04-03  1009.0               1017.0                1003.0   \n",
              "93         1 2023-04-04  1012.0               1009.0                1014.0   \n",
              "94         1 2023-04-05  1018.0               1012.0                1007.0   \n",
              "\n",
              "    Day_of_week  Day_of_month  \n",
              "90            5             1  \n",
              "91            6             2  \n",
              "92            0             3  \n",
              "93            1             4  \n",
              "94            2             5  "
            ]
          },
          "execution_count": 77,
          "metadata": {},
          "output_type": "execute_result"
        }
      ],
      "source": [
        "print(f'test dataframe shape : {test_df.shape}')\n",
        "test_df.head()"
      ]
    },
    {
      "cell_type": "markdown",
      "metadata": {
        "id": "xf8ChW_7wGmL"
      },
      "source": [
        "# Model Training"
      ]
    },
    {
      "cell_type": "markdown",
      "metadata": {
        "id": "PxYfxyCHz_Z3"
      },
      "source": [
        "## **Ridge Regression**"
      ]
    },
    {
      "cell_type": "markdown",
      "metadata": {
        "id": "CJn4YIBtKcL_"
      },
      "source": [
        "### Model Tuning"
      ]
    },
    {
      "cell_type": "code",
      "execution_count": 78,
      "metadata": {
        "id": "sOMPo5ryBm8g"
      },
      "outputs": [],
      "source": [
        "def grid_search(model, test_parameters, train_data, cv = None, feature_list = FEATURE_LIST):\n",
        "    gs = GridSearchCV(\n",
        "        estimator = model, \n",
        "        param_grid = test_parameters, \n",
        "        scoring = 'neg_root_mean_squared_error', \n",
        "        cv = cv, \n",
        "        n_jobs = -1\n",
        "        )\n",
        "    \n",
        "    gs.fit(train_data[feature_list], train_data['Demand'])\n",
        "    return gs.best_params_, gs.best_score_"
      ]
    },
    {
      "cell_type": "code",
      "execution_count": 112,
      "metadata": {},
      "outputs": [
        {
          "name": "stdout",
          "output_type": "stream",
          "text": [
            "{'alpha': 1000000.0} -112.19093751694815\n"
          ]
        }
      ],
      "source": [
        "model = Ridge()\n",
        "best_params, best_score = grid_search(\n",
        "    model, \n",
        "    {'alpha':[1e8]},\n",
        "    train_df, \n",
        "    cv = 5, \n",
        "    feature_list = FEATURE_LIST\n",
        "    )\n",
        "\n",
        "print(best_params, best_score)"
      ]
    },
    {
      "cell_type": "markdown",
      "metadata": {
        "id": "AxN2E_9Q1yHS"
      },
      "source": [
        "### Prediction"
      ]
    },
    {
      "cell_type": "code",
      "execution_count": 80,
      "metadata": {
        "id": "pbhM5Oe6PjW7"
      },
      "outputs": [],
      "source": [
        "def model_predict(model, train_data, test_data, feature_list):\n",
        "\n",
        "    model.fit(train_data[feature_list], train_data['Demand'])\n",
        "\n",
        "\n",
        "    train_predict_df  = model.predict(train_data[feature_list])\n",
        "    test_predict_df  = model.predict(test_data[feature_list])\n",
        "\n",
        "    return train_predict_df, test_predict_df"
      ]
    },
    {
      "cell_type": "code",
      "execution_count": 113,
      "metadata": {
        "id": "MulwYZc7LK7v"
      },
      "outputs": [],
      "source": [
        "model = Ridge(**best_params)\n",
        "train_prediction_df , test_prediction_df  = model_predict(model, train_df, test_df, FEATURE_LIST)"
      ]
    },
    {
      "cell_type": "markdown",
      "metadata": {
        "id": "jJYHtg2oRqvS"
      },
      "source": [
        "### Visualization"
      ]
    },
    {
      "cell_type": "code",
      "execution_count": 82,
      "metadata": {},
      "outputs": [],
      "source": [
        "def add_day_of_year(data):\n",
        "    data['day_year'] = 0\n",
        "    start_date = data['Date'].min()\n",
        "\n",
        "    for index, row in data.iterrows():\n",
        "\n",
        "        curr_date = row['Date']\n",
        "        day_number = (curr_date - start_date).days\n",
        "\n",
        "        data.at[index, 'day_year'] = day_number\n",
        "    return data"
      ]
    },
    {
      "cell_type": "code",
      "execution_count": 83,
      "metadata": {
        "id": "ao6nw8xsRvB9"
      },
      "outputs": [],
      "source": [
        "def prediction_visualization(train_data, test_data, train_prediction_df, test_prediction_df):\n",
        "\n",
        "\n",
        "    train_data = add_day_of_year(train_data)\n",
        "    test_data = add_day_of_year(test_data)\n",
        "\n",
        "    predicted_train_df = train_data\n",
        "    predicted_test_df = test_data\n",
        "    predicted_train_df['Predicted'] = train_prediction_df\n",
        "    predicted_test_df['Predicted'] = test_prediction_df\n",
        "\n",
        "    train_data = train_data.groupby('day_year')['Demand'].sum()\n",
        "    test_data = test_data.groupby('day_year')['Demand'].sum()\n",
        "    predicted_train_df = predicted_train_df.groupby('day_year')['Predicted'].sum()\n",
        "    predicted_test_df = predicted_test_df.groupby('day_year')['Predicted'].sum()\n",
        "\n",
        "    plt.title('Train')\n",
        "    plt.plot(train_data)\n",
        "    plt.plot(predicted_train_df)\n",
        "    plt.legend([\"Real Value\", \"Predicted\"], loc =\"lower right\")\n",
        "    plt.show()\n",
        "\n",
        "    plot_length = len(test_data)\n",
        "    plt.title('Test')\n",
        "    plt.plot(test_data)\n",
        "    plt.plot(predicted_test_df)\n",
        "    plt.legend([\"Real Value\", \"Predicted\"], loc =\"lower right\")\n",
        "    plt.show()"
      ]
    },
    {
      "cell_type": "code",
      "execution_count": 84,
      "metadata": {
        "colab": {
          "base_uri": "https://localhost:8080/",
          "height": 887
        },
        "id": "gOyNantNRtda",
        "outputId": "dc7796cf-c196-421d-bd56-1d312334dee4"
      },
      "outputs": [
        {
          "name": "stderr",
          "output_type": "stream",
          "text": [
            "C:\\Users\\bardia\\AppData\\Local\\Temp\\ipykernel_17084\\2975102461.py:2: SettingWithCopyWarning: \n",
            "A value is trying to be set on a copy of a slice from a DataFrame.\n",
            "Try using .loc[row_indexer,col_indexer] = value instead\n",
            "\n",
            "See the caveats in the documentation: https://pandas.pydata.org/pandas-docs/stable/user_guide/indexing.html#returning-a-view-versus-a-copy\n",
            "  data['day_year'] = 0\n",
            "C:\\Users\\bardia\\AppData\\Local\\Temp\\ipykernel_17084\\2975102461.py:2: SettingWithCopyWarning: \n",
            "A value is trying to be set on a copy of a slice from a DataFrame.\n",
            "Try using .loc[row_indexer,col_indexer] = value instead\n",
            "\n",
            "See the caveats in the documentation: https://pandas.pydata.org/pandas-docs/stable/user_guide/indexing.html#returning-a-view-versus-a-copy\n",
            "  data['day_year'] = 0\n",
            "C:\\Users\\bardia\\AppData\\Local\\Temp\\ipykernel_17084\\2246591508.py:9: SettingWithCopyWarning: \n",
            "A value is trying to be set on a copy of a slice from a DataFrame.\n",
            "Try using .loc[row_indexer,col_indexer] = value instead\n",
            "\n",
            "See the caveats in the documentation: https://pandas.pydata.org/pandas-docs/stable/user_guide/indexing.html#returning-a-view-versus-a-copy\n",
            "  predicted_train_df['Predicted'] = train_prediction_df\n",
            "C:\\Users\\bardia\\AppData\\Local\\Temp\\ipykernel_17084\\2246591508.py:10: SettingWithCopyWarning: \n",
            "A value is trying to be set on a copy of a slice from a DataFrame.\n",
            "Try using .loc[row_indexer,col_indexer] = value instead\n",
            "\n",
            "See the caveats in the documentation: https://pandas.pydata.org/pandas-docs/stable/user_guide/indexing.html#returning-a-view-versus-a-copy\n",
            "  predicted_test_df['Predicted'] = test_prediction_df\n"
          ]
        },
        {
          "data": {
            "image/png": "[encoded data removed]",
            "text/plain": [
              "<Figure size 640x480 with 1 Axes>"
            ]
          },
          "metadata": {},
          "output_type": "display_data"
        },
        {
          "data": {
            "image/png": "[encoded data removed]",
            "text/plain": [
              "<Figure size 640x480 with 1 Axes>"
            ]
          },
          "metadata": {},
          "output_type": "display_data"
        }
      ],
      "source": [
        "prediction_visualization(train_df, test_df, train_prediction_df, test_prediction_df)"
      ]
    },
    {
      "cell_type": "markdown",
      "metadata": {
        "id": "RBsqB5hnSuPP"
      },
      "source": [
        "### Evaluation"
      ]
    },
    {
      "cell_type": "code",
      "execution_count": 85,
      "metadata": {
        "id": "BcGvcilUWEEC"
      },
      "outputs": [],
      "source": [
        "def evaluate(metric, metric_name, true_values, predicted_values):\n",
        "    print(f'{metric_name} : {metric(true_values, predicted_values)}')"
      ]
    },
    {
      "cell_type": "code",
      "execution_count": 86,
      "metadata": {
        "id": "v4-GWghuSbnA"
      },
      "outputs": [],
      "source": [
        "def evaluation(model_name, train_data, test_data, train_prediction_df, test_prediction_df):\n",
        "    print(f'{model_name} train scores:')\n",
        "\n",
        "\n",
        "    evaluate(mean_absolute_error, 'MAE', train_data['Demand'], train_prediction_df)\n",
        "    evaluate(mean_squared_error, 'MSE', train_data['Demand'], train_prediction_df)\n",
        "    evaluate(mean_absolute_percentage_error, 'MAPE', train_data['Demand'], train_prediction_df)\n",
        "\n",
        "    print(f'{model_name} test scores:')\n",
        "\n",
        "    evaluate(mean_absolute_error, 'MAE', test_data['Demand'], test_prediction_df)\n",
        "    evaluate(mean_squared_error, 'MSE', test_data['Demand'], test_prediction_df)\n",
        "    evaluate(mean_absolute_percentage_error, 'MAPE', test_data['Demand'], test_prediction_df)\n"
      ]
    },
    {
      "cell_type": "code",
      "execution_count": 114,
      "metadata": {
        "colab": {
          "base_uri": "https://localhost:8080/"
        },
        "id": "vUBqNgIwSwKe",
        "outputId": "c05d64b8-b525-458d-96db-757e94a57d89"
      },
      "outputs": [
        {
          "name": "stdout",
          "output_type": "stream",
          "text": [
            "Ridge Regression train scores:\n",
            "MAE : 36.83005884832545\n",
            "MSE : 14366.579149061123\n",
            "MAPE : 0.014229872155061897\n",
            "Ridge Regression test scores:\n",
            "MAE : 37.976256612454705\n",
            "MSE : 12680.74402322379\n",
            "MAPE : 0.014540810342826109\n"
          ]
        }
      ],
      "source": [
        "evaluation('Ridge Regression', train_df, test_df, train_prediction_df, test_prediction_df)"
      ]
    },
    {
      "cell_type": "markdown",
      "metadata": {},
      "source": [
        "# File Saving"
      ]
    },
    {
      "cell_type": "code",
      "execution_count": 96,
      "metadata": {},
      "outputs": [],
      "source": [
        "def save_predictions(dataset, path):\n",
        "    test_prediction_df = pd.DataFrame(dataset, columns = ['Demand'])\n",
        "    test_prediction_df = test_prediction_df.to_parquet(path, index=False)"
      ]
    },
    {
      "cell_type": "code",
      "execution_count": 100,
      "metadata": {},
      "outputs": [],
      "source": [
        "save_predictions(test_prediction_df, OUTPUT_PATH)"
      ]
    }
  ],
  "metadata": {
    "colab": {
      "provenance": [],
      "toc_visible": true
    },
    "kernelspec": {
      "display_name": "Python 3",
      "name": "python3"
    },
    "language_info": {
      "codemirror_mode": {
        "name": "ipython",
        "version": 3
      },
      "file_extension": ".py",
      "mimetype": "text/x-python",
      "name": "python",
      "nbconvert_exporter": "python",
      "pygments_lexer": "ipython3",
      "version": "3.10.7"
    }
  },
  "nbformat": 4,
  "nbformat_minor": 0
}
