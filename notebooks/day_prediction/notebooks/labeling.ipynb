{
 "cells": [
  {
   "cell_type": "markdown",
   "metadata": {},
   "source": [
    "# Imports"
   ]
  },
  {
   "cell_type": "code",
   "execution_count": 1,
   "metadata": {},
   "outputs": [],
   "source": [
    "import datetime\n",
    "import numpy as np\n",
    "import pandas as pd"
   ]
  },
  {
   "cell_type": "markdown",
   "metadata": {},
   "source": [
    "# Config"
   ]
  },
  {
   "cell_type": "code",
   "execution_count": 2,
   "metadata": {},
   "outputs": [],
   "source": [
    "INPUT_PATH = '../data/datasets/'\n",
    "OUTPUT_PATH = '../data/labels/labeled.parquet'\n",
    "START_DATE = '2023-01-01'\n",
    "END_DATE = '2023-02-01'"
   ]
  },
  {
   "cell_type": "code",
   "execution_count": 3,
   "metadata": {},
   "outputs": [
    {
     "name": "stdout",
     "output_type": "stream",
     "text": [
      "(3066725, 3)\n"
     ]
    },
    {
     "data": {
      "text/html": [
       "<div>\n",
       "<style scoped>\n",
       "    .dataframe tbody tr th:only-of-type {\n",
       "        vertical-align: middle;\n",
       "    }\n",
       "\n",
       "    .dataframe tbody tr th {\n",
       "        vertical-align: top;\n",
       "    }\n",
       "\n",
       "    .dataframe thead th {\n",
       "        text-align: right;\n",
       "    }\n",
       "</style>\n",
       "<table border=\"1\" class=\"dataframe\">\n",
       "  <thead>\n",
       "    <tr style=\"text-align: right;\">\n",
       "      <th></th>\n",
       "      <th>tpep_pickup_datetime</th>\n",
       "      <th>PULocationID</th>\n",
       "      <th>PU_date</th>\n",
       "    </tr>\n",
       "  </thead>\n",
       "  <tbody>\n",
       "    <tr>\n",
       "      <th>0</th>\n",
       "      <td>2023-01-01 00:32:10</td>\n",
       "      <td>161</td>\n",
       "      <td>2023-01-01</td>\n",
       "    </tr>\n",
       "    <tr>\n",
       "      <th>1</th>\n",
       "      <td>2023-01-01 00:55:08</td>\n",
       "      <td>43</td>\n",
       "      <td>2023-01-01</td>\n",
       "    </tr>\n",
       "    <tr>\n",
       "      <th>2</th>\n",
       "      <td>2023-01-01 00:25:04</td>\n",
       "      <td>48</td>\n",
       "      <td>2023-01-01</td>\n",
       "    </tr>\n",
       "    <tr>\n",
       "      <th>3</th>\n",
       "      <td>2023-01-01 00:03:48</td>\n",
       "      <td>138</td>\n",
       "      <td>2023-01-01</td>\n",
       "    </tr>\n",
       "    <tr>\n",
       "      <th>4</th>\n",
       "      <td>2023-01-01 00:10:29</td>\n",
       "      <td>107</td>\n",
       "      <td>2023-01-01</td>\n",
       "    </tr>\n",
       "  </tbody>\n",
       "</table>\n",
       "</div>"
      ],
      "text/plain": [
       "  tpep_pickup_datetime  PULocationID    PU_date\n",
       "0  2023-01-01 00:32:10           161 2023-01-01\n",
       "1  2023-01-01 00:55:08            43 2023-01-01\n",
       "2  2023-01-01 00:25:04            48 2023-01-01\n",
       "3  2023-01-01 00:03:48           138 2023-01-01\n",
       "4  2023-01-01 00:10:29           107 2023-01-01"
      ]
     },
     "execution_count": 3,
     "metadata": {},
     "output_type": "execute_result"
    }
   ],
   "source": [
    "# def load_data():\n",
    "from dateutil.relativedelta import relativedelta  \n",
    "\n",
    "END_DATE = datetime.date.fromisoformat(str(END_DATE))\n",
    "START_DATE = datetime.date.fromisoformat(str(END_DATE - relativedelta(months=1)))\n",
    "\n",
    "filtered_df = pd.read_parquet(INPUT_PATH,filters=[('tpep_pickup_datetime','<',END_DATE),\n",
    "                            ('tpep_pickup_datetime','>',START_DATE)])\n",
    "dataset = filtered_df.filter(items=['tpep_pickup_datetime', 'PULocationID'])\n",
    "dataset['PU_date'] = pd.to_datetime(dataset['tpep_pickup_datetime'].dt.date)\n",
    "\n",
    "print(dataset.shape)\n",
    "dataset.head()"
   ]
  },
  {
   "cell_type": "code",
   "execution_count": 4,
   "metadata": {},
   "outputs": [
    {
     "data": {
      "text/html": [
       "<div>\n",
       "<style scoped>\n",
       "    .dataframe tbody tr th:only-of-type {\n",
       "        vertical-align: middle;\n",
       "    }\n",
       "\n",
       "    .dataframe tbody tr th {\n",
       "        vertical-align: top;\n",
       "    }\n",
       "\n",
       "    .dataframe thead th {\n",
       "        text-align: right;\n",
       "    }\n",
       "</style>\n",
       "<table border=\"1\" class=\"dataframe\">\n",
       "  <thead>\n",
       "    <tr style=\"text-align: right;\">\n",
       "      <th></th>\n",
       "      <th>tpep_pickup_datetime</th>\n",
       "      <th>PULocationID</th>\n",
       "      <th>PU_date</th>\n",
       "    </tr>\n",
       "  </thead>\n",
       "  <tbody>\n",
       "    <tr>\n",
       "      <th>3066720</th>\n",
       "      <td>2023-01-31 23:59:23</td>\n",
       "      <td>211</td>\n",
       "      <td>2023-01-31</td>\n",
       "    </tr>\n",
       "    <tr>\n",
       "      <th>3066721</th>\n",
       "      <td>2023-01-31 23:59:04</td>\n",
       "      <td>68</td>\n",
       "      <td>2023-01-31</td>\n",
       "    </tr>\n",
       "    <tr>\n",
       "      <th>3066722</th>\n",
       "      <td>2023-01-31 23:58:55</td>\n",
       "      <td>114</td>\n",
       "      <td>2023-01-31</td>\n",
       "    </tr>\n",
       "    <tr>\n",
       "      <th>3066723</th>\n",
       "      <td>2023-01-31 23:50:15</td>\n",
       "      <td>163</td>\n",
       "      <td>2023-01-31</td>\n",
       "    </tr>\n",
       "    <tr>\n",
       "      <th>3066724</th>\n",
       "      <td>2023-01-31 23:49:00</td>\n",
       "      <td>132</td>\n",
       "      <td>2023-01-31</td>\n",
       "    </tr>\n",
       "  </tbody>\n",
       "</table>\n",
       "</div>"
      ],
      "text/plain": [
       "        tpep_pickup_datetime  PULocationID    PU_date\n",
       "3066720  2023-01-31 23:59:23           211 2023-01-31\n",
       "3066721  2023-01-31 23:59:04            68 2023-01-31\n",
       "3066722  2023-01-31 23:58:55           114 2023-01-31\n",
       "3066723  2023-01-31 23:50:15           163 2023-01-31\n",
       "3066724  2023-01-31 23:49:00           132 2023-01-31"
      ]
     },
     "execution_count": 4,
     "metadata": {},
     "output_type": "execute_result"
    }
   ],
   "source": [
    "dataset.tail()"
   ]
  },
  {
   "cell_type": "code",
   "execution_count": 7,
   "metadata": {},
   "outputs": [],
   "source": [
    "l = labeling(dataset)"
   ]
  },
  {
   "cell_type": "code",
   "execution_count": 8,
   "metadata": {},
   "outputs": [
    {
     "data": {
      "text/html": [
       "<div>\n",
       "<style scoped>\n",
       "    .dataframe tbody tr th:only-of-type {\n",
       "        vertical-align: middle;\n",
       "    }\n",
       "\n",
       "    .dataframe tbody tr th {\n",
       "        vertical-align: top;\n",
       "    }\n",
       "\n",
       "    .dataframe thead th {\n",
       "        text-align: right;\n",
       "    }\n",
       "</style>\n",
       "<table border=\"1\" class=\"dataframe\">\n",
       "  <thead>\n",
       "    <tr style=\"text-align: right;\">\n",
       "      <th></th>\n",
       "      <th>Location</th>\n",
       "      <th>Date</th>\n",
       "      <th>Demand</th>\n",
       "    </tr>\n",
       "  </thead>\n",
       "  <tbody>\n",
       "    <tr>\n",
       "      <th>7962</th>\n",
       "      <td>265</td>\n",
       "      <td>2023-01-27</td>\n",
       "      <td>54.0</td>\n",
       "    </tr>\n",
       "    <tr>\n",
       "      <th>7963</th>\n",
       "      <td>265</td>\n",
       "      <td>2023-01-28</td>\n",
       "      <td>62.0</td>\n",
       "    </tr>\n",
       "    <tr>\n",
       "      <th>7964</th>\n",
       "      <td>265</td>\n",
       "      <td>2023-01-29</td>\n",
       "      <td>57.0</td>\n",
       "    </tr>\n",
       "    <tr>\n",
       "      <th>7965</th>\n",
       "      <td>265</td>\n",
       "      <td>2023-01-30</td>\n",
       "      <td>43.0</td>\n",
       "    </tr>\n",
       "    <tr>\n",
       "      <th>7966</th>\n",
       "      <td>265</td>\n",
       "      <td>2023-01-31</td>\n",
       "      <td>40.0</td>\n",
       "    </tr>\n",
       "  </tbody>\n",
       "</table>\n",
       "</div>"
      ],
      "text/plain": [
       "      Location       Date  Demand\n",
       "7962       265 2023-01-27    54.0\n",
       "7963       265 2023-01-28    62.0\n",
       "7964       265 2023-01-29    57.0\n",
       "7965       265 2023-01-30    43.0\n",
       "7966       265 2023-01-31    40.0"
      ]
     },
     "execution_count": 8,
     "metadata": {},
     "output_type": "execute_result"
    }
   ],
   "source": [
    "l.tail()"
   ]
  },
  {
   "cell_type": "code",
   "execution_count": 35,
   "metadata": {},
   "outputs": [
    {
     "data": {
      "text/plain": [
       "0      161\n",
       "1       43\n",
       "2       48\n",
       "3      138\n",
       "4      107\n",
       "      ... \n",
       "252     99\n",
       "253    245\n",
       "254     46\n",
       "255      2\n",
       "256     58\n",
       "Name: Location, Length: 257, dtype: int64"
      ]
     },
     "execution_count": 35,
     "metadata": {},
     "output_type": "execute_result"
    }
   ],
   "source": [
    "t=pd.DataFrame(dataset['PULocationID'].unique(), columns=['Location'])\n",
    "t['Location']"
   ]
  },
  {
   "cell_type": "code",
   "execution_count": 36,
   "metadata": {},
   "outputs": [
    {
     "name": "stdout",
     "output_type": "stream",
     "text": [
      "257\n",
      "      Location                 Date  Demand\n",
      "0            1  2023-01-01 00:00:00    40.0\n",
      "1            1  2023-01-02 00:00:00    31.0\n",
      "2            1  2023-01-03 00:00:00    27.0\n",
      "3            1  2023-01-04 00:00:00     7.0\n",
      "4            1  2023-01-05 00:00:00    15.0\n",
      "...        ...                  ...     ...\n",
      "7963       265  2023-01-28 00:00:00    62.0\n",
      "7964       265  2023-01-29 00:00:00    57.0\n",
      "7965       265  2023-01-30 00:00:00    43.0\n",
      "7966       265  2023-01-31 00:00:00    40.0\n",
      "256        265           2023-02-01     NaN\n",
      "\n",
      "[8224 rows x 3 columns]\n"
     ]
    }
   ],
   "source": [
    "print(len(l['Location'].unique()))\n",
    "p = pd.DataFrame({'Location':l['Location'].unique(),'Date':[END_DATE]*len(l['Location'].unique()), 'Demand':[None]*len(l['Location'].unique())})\n",
    "new = pd.concat([l,p]).sort_values(['Location', 'Date'], ascending=[True, True])\n",
    "print(new)"
   ]
  },
  {
   "cell_type": "code",
   "execution_count": 42,
   "metadata": {},
   "outputs": [
    {
     "data": {
      "text/plain": [
       "0       6\n",
       "1       0\n",
       "2       1\n",
       "3       2\n",
       "4       3\n",
       "       ..\n",
       "7963    5\n",
       "7964    6\n",
       "7965    0\n",
       "7966    1\n",
       "256     2\n",
       "Name: Date, Length: 8224, dtype: int64"
      ]
     },
     "execution_count": 42,
     "metadata": {},
     "output_type": "execute_result"
    }
   ],
   "source": [
    "pd.to_datetime(new['Date']).dt.dayofweek"
   ]
  },
  {
   "cell_type": "code",
   "execution_count": 38,
   "metadata": {},
   "outputs": [
    {
     "name": "stdout",
     "output_type": "stream",
     "text": [
      "<class 'pandas.core.series.Series'>\n"
     ]
    }
   ],
   "source": [
    "print(type(pd.to_datetime(new['Date'])))"
   ]
  },
  {
   "cell_type": "code",
   "execution_count": 26,
   "metadata": {},
   "outputs": [],
   "source": [
    "new['Date'] = pd.to_datetime(new['Date'])"
   ]
  },
  {
   "cell_type": "code",
   "execution_count": 44,
   "metadata": {},
   "outputs": [
    {
     "data": {
      "text/plain": [
       "Location      0\n",
       "Date          0\n",
       "Demand      257\n",
       "dtype: int64"
      ]
     },
     "execution_count": 44,
     "metadata": {},
     "output_type": "execute_result"
    }
   ],
   "source": [
    "new[].isna().sum()"
   ]
  },
  {
   "cell_type": "code",
   "execution_count": 21,
   "metadata": {},
   "outputs": [],
   "source": [
    "def feature_engineering(dataset):\n",
    "    dataset['Previous_day_demand'] = dataset.groupby(['Location'])['Demand'].shift(1)\n",
    "    dataset['Previous_week_demand'] = dataset.groupby(['Location'])['Demand'].shift(7)\n",
    "    dataset['Day_of_week'] = dataset['Date'].dt.dayofweek   \n",
    "    dataset['Day_of_month'] = dataset['Date'].dt.day\n",
    "    return dataset"
   ]
  },
  {
   "cell_type": "code",
   "execution_count": 27,
   "metadata": {},
   "outputs": [],
   "source": [
    "f = feature_engineering(new)"
   ]
  },
  {
   "cell_type": "code",
   "execution_count": 31,
   "metadata": {},
   "outputs": [
    {
     "data": {
      "text/html": [
       "<div>\n",
       "<style scoped>\n",
       "    .dataframe tbody tr th:only-of-type {\n",
       "        vertical-align: middle;\n",
       "    }\n",
       "\n",
       "    .dataframe tbody tr th {\n",
       "        vertical-align: top;\n",
       "    }\n",
       "\n",
       "    .dataframe thead th {\n",
       "        text-align: right;\n",
       "    }\n",
       "</style>\n",
       "<table border=\"1\" class=\"dataframe\">\n",
       "  <thead>\n",
       "    <tr style=\"text-align: right;\">\n",
       "      <th></th>\n",
       "      <th>Location</th>\n",
       "      <th>Date</th>\n",
       "      <th>Demand</th>\n",
       "      <th>Previous_day_demand</th>\n",
       "      <th>Previous_week_demand</th>\n",
       "      <th>Day_of_week</th>\n",
       "      <th>Day_of_month</th>\n",
       "    </tr>\n",
       "  </thead>\n",
       "  <tbody>\n",
       "    <tr>\n",
       "      <th>0</th>\n",
       "      <td>1</td>\n",
       "      <td>2023-02-01</td>\n",
       "      <td>NaN</td>\n",
       "      <td>8.0</td>\n",
       "      <td>7.0</td>\n",
       "      <td>2</td>\n",
       "      <td>1</td>\n",
       "    </tr>\n",
       "    <tr>\n",
       "      <th>1</th>\n",
       "      <td>2</td>\n",
       "      <td>2023-02-01</td>\n",
       "      <td>NaN</td>\n",
       "      <td>0.0</td>\n",
       "      <td>0.0</td>\n",
       "      <td>2</td>\n",
       "      <td>1</td>\n",
       "    </tr>\n",
       "    <tr>\n",
       "      <th>2</th>\n",
       "      <td>3</td>\n",
       "      <td>2023-02-01</td>\n",
       "      <td>NaN</td>\n",
       "      <td>0.0</td>\n",
       "      <td>3.0</td>\n",
       "      <td>2</td>\n",
       "      <td>1</td>\n",
       "    </tr>\n",
       "    <tr>\n",
       "      <th>3</th>\n",
       "      <td>4</td>\n",
       "      <td>2023-02-01</td>\n",
       "      <td>NaN</td>\n",
       "      <td>60.0</td>\n",
       "      <td>67.0</td>\n",
       "      <td>2</td>\n",
       "      <td>1</td>\n",
       "    </tr>\n",
       "    <tr>\n",
       "      <th>4</th>\n",
       "      <td>5</td>\n",
       "      <td>2023-02-01</td>\n",
       "      <td>NaN</td>\n",
       "      <td>2.0</td>\n",
       "      <td>1.0</td>\n",
       "      <td>2</td>\n",
       "      <td>1</td>\n",
       "    </tr>\n",
       "    <tr>\n",
       "      <th>...</th>\n",
       "      <td>...</td>\n",
       "      <td>...</td>\n",
       "      <td>...</td>\n",
       "      <td>...</td>\n",
       "      <td>...</td>\n",
       "      <td>...</td>\n",
       "      <td>...</td>\n",
       "    </tr>\n",
       "    <tr>\n",
       "      <th>252</th>\n",
       "      <td>261</td>\n",
       "      <td>2023-02-01</td>\n",
       "      <td>NaN</td>\n",
       "      <td>365.0</td>\n",
       "      <td>404.0</td>\n",
       "      <td>2</td>\n",
       "      <td>1</td>\n",
       "    </tr>\n",
       "    <tr>\n",
       "      <th>253</th>\n",
       "      <td>262</td>\n",
       "      <td>2023-02-01</td>\n",
       "      <td>NaN</td>\n",
       "      <td>1547.0</td>\n",
       "      <td>1695.0</td>\n",
       "      <td>2</td>\n",
       "      <td>1</td>\n",
       "    </tr>\n",
       "    <tr>\n",
       "      <th>254</th>\n",
       "      <td>263</td>\n",
       "      <td>2023-02-01</td>\n",
       "      <td>NaN</td>\n",
       "      <td>1891.0</td>\n",
       "      <td>2166.0</td>\n",
       "      <td>2</td>\n",
       "      <td>1</td>\n",
       "    </tr>\n",
       "    <tr>\n",
       "      <th>255</th>\n",
       "      <td>264</td>\n",
       "      <td>2023-02-01</td>\n",
       "      <td>NaN</td>\n",
       "      <td>1499.0</td>\n",
       "      <td>1148.0</td>\n",
       "      <td>2</td>\n",
       "      <td>1</td>\n",
       "    </tr>\n",
       "    <tr>\n",
       "      <th>256</th>\n",
       "      <td>265</td>\n",
       "      <td>2023-02-01</td>\n",
       "      <td>NaN</td>\n",
       "      <td>40.0</td>\n",
       "      <td>39.0</td>\n",
       "      <td>2</td>\n",
       "      <td>1</td>\n",
       "    </tr>\n",
       "  </tbody>\n",
       "</table>\n",
       "<p>257 rows × 7 columns</p>\n",
       "</div>"
      ],
      "text/plain": [
       "     Location       Date  Demand  Previous_day_demand  Previous_week_demand  \\\n",
       "0           1 2023-02-01     NaN                  8.0                   7.0   \n",
       "1           2 2023-02-01     NaN                  0.0                   0.0   \n",
       "2           3 2023-02-01     NaN                  0.0                   3.0   \n",
       "3           4 2023-02-01     NaN                 60.0                  67.0   \n",
       "4           5 2023-02-01     NaN                  2.0                   1.0   \n",
       "..        ...        ...     ...                  ...                   ...   \n",
       "252       261 2023-02-01     NaN                365.0                 404.0   \n",
       "253       262 2023-02-01     NaN               1547.0                1695.0   \n",
       "254       263 2023-02-01     NaN               1891.0                2166.0   \n",
       "255       264 2023-02-01     NaN               1499.0                1148.0   \n",
       "256       265 2023-02-01     NaN                 40.0                  39.0   \n",
       "\n",
       "     Day_of_week  Day_of_month  \n",
       "0              2             1  \n",
       "1              2             1  \n",
       "2              2             1  \n",
       "3              2             1  \n",
       "4              2             1  \n",
       "..           ...           ...  \n",
       "252            2             1  \n",
       "253            2             1  \n",
       "254            2             1  \n",
       "255            2             1  \n",
       "256            2             1  \n",
       "\n",
       "[257 rows x 7 columns]"
      ]
     },
     "execution_count": 31,
     "metadata": {},
     "output_type": "execute_result"
    }
   ],
   "source": [
    "f[f['Date']==pd.to_datetime(END_DATE)]"
   ]
  },
  {
   "cell_type": "code",
   "execution_count": 47,
   "metadata": {},
   "outputs": [
    {
     "data": {
      "text/plain": [
       "Location                   0\n",
       "Date                       0\n",
       "Demand                   257\n",
       "Previous_day_demand      257\n",
       "Previous_week_demand    1799\n",
       "Day_of_week                0\n",
       "Day_of_month               0\n",
       "dtype: int64"
      ]
     },
     "execution_count": 47,
     "metadata": {},
     "output_type": "execute_result"
    }
   ],
   "source": [
    "f.isna().sum()"
   ]
  },
  {
   "cell_type": "markdown",
   "metadata": {},
   "source": [
    "# Loading Dataset"
   ]
  },
  {
   "cell_type": "code",
   "execution_count": 3,
   "metadata": {},
   "outputs": [],
   "source": [
    "def load_data(path, start_date: str, end_date: str):\n",
    "    df = pd.read_parquet(path) \n",
    "    start_date = datetime.date.fromisoformat(start_date)\n",
    "    end_date = datetime.date.fromisoformat(end_date)\n",
    "    filtered_df = df[(df['tpep_pickup_datetime'].dt.date >= start_date) &\n",
    "                     (df['tpep_pickup_datetime'].dt.date <= end_date)]\n",
    "    dataset = filtered_df.filter(items=['tpep_pickup_datetime', 'PULocationID'])\n",
    "    dataset['PU_date'] = pd.to_datetime(dataset['tpep_pickup_datetime'].dt.date)\n",
    "    return dataset"
   ]
  },
  {
   "cell_type": "code",
   "execution_count": 4,
   "metadata": {},
   "outputs": [
    {
     "name": "stdout",
     "output_type": "stream",
     "text": [
      "rides_df shape : (12672629, 3)\n"
     ]
    },
    {
     "data": {
      "text/html": [
       "<div>\n",
       "<style scoped>\n",
       "    .dataframe tbody tr th:only-of-type {\n",
       "        vertical-align: middle;\n",
       "    }\n",
       "\n",
       "    .dataframe tbody tr th {\n",
       "        vertical-align: top;\n",
       "    }\n",
       "\n",
       "    .dataframe thead th {\n",
       "        text-align: right;\n",
       "    }\n",
       "</style>\n",
       "<table border=\"1\" class=\"dataframe\">\n",
       "  <thead>\n",
       "    <tr style=\"text-align: right;\">\n",
       "      <th></th>\n",
       "      <th>tpep_pickup_datetime</th>\n",
       "      <th>PULocationID</th>\n",
       "      <th>PU_date</th>\n",
       "    </tr>\n",
       "  </thead>\n",
       "  <tbody>\n",
       "    <tr>\n",
       "      <th>0</th>\n",
       "      <td>2023-01-01 00:32:10</td>\n",
       "      <td>161</td>\n",
       "      <td>2023-01-01</td>\n",
       "    </tr>\n",
       "    <tr>\n",
       "      <th>1</th>\n",
       "      <td>2023-01-01 00:55:08</td>\n",
       "      <td>43</td>\n",
       "      <td>2023-01-01</td>\n",
       "    </tr>\n",
       "    <tr>\n",
       "      <th>2</th>\n",
       "      <td>2023-01-01 00:25:04</td>\n",
       "      <td>48</td>\n",
       "      <td>2023-01-01</td>\n",
       "    </tr>\n",
       "    <tr>\n",
       "      <th>3</th>\n",
       "      <td>2023-01-01 00:03:48</td>\n",
       "      <td>138</td>\n",
       "      <td>2023-01-01</td>\n",
       "    </tr>\n",
       "    <tr>\n",
       "      <th>4</th>\n",
       "      <td>2023-01-01 00:10:29</td>\n",
       "      <td>107</td>\n",
       "      <td>2023-01-01</td>\n",
       "    </tr>\n",
       "  </tbody>\n",
       "</table>\n",
       "</div>"
      ],
      "text/plain": [
       "  tpep_pickup_datetime  PULocationID    PU_date\n",
       "0  2023-01-01 00:32:10           161 2023-01-01\n",
       "1  2023-01-01 00:55:08            43 2023-01-01\n",
       "2  2023-01-01 00:25:04            48 2023-01-01\n",
       "3  2023-01-01 00:03:48           138 2023-01-01\n",
       "4  2023-01-01 00:10:29           107 2023-01-01"
      ]
     },
     "execution_count": 4,
     "metadata": {},
     "output_type": "execute_result"
    }
   ],
   "source": [
    "rides_df = load_data(INPUT_PATH, START_DATE, END_DATE)\n",
    "print(f'rides_df shape : {rides_df.shape}')\n",
    "rides_df.head()"
   ]
  },
  {
   "cell_type": "code",
   "execution_count": null,
   "metadata": {},
   "outputs": [],
   "source": []
  },
  {
   "cell_type": "markdown",
   "metadata": {},
   "source": [
    "# Labeling"
   ]
  },
  {
   "cell_type": "code",
   "execution_count": 6,
   "metadata": {},
   "outputs": [],
   "source": [
    "def labeling(dataset):\n",
    "    dataset_labels = (\n",
    "        dataset\n",
    "        .groupby(['PULocationID', 'PU_date'])['PU_date']\n",
    "        .count()\n",
    "        .to_frame('Demand')\n",
    "        .sort_values(['PULocationID', 'PU_date'], ascending=[True, True])\n",
    "        .reset_index()\n",
    "        .rename(columns={'PULocationID': 'Location', 'PU_date': 'Date'})\n",
    "    )\n",
    "  \n",
    "    locations = pd.DataFrame(dataset_labels['Location'].unique(), columns=['Location'])\n",
    "    dates = pd.DataFrame(dataset_labels['Date'].unique(), columns=['Date'])\n",
    "    \n",
    "    location_date_df = (\n",
    "        locations\n",
    "        .merge(dates, how='cross')\n",
    "        .sort_values(['Location', 'Date'], ascending=[True, True])\n",
    "        .reset_index(drop=True)\n",
    "    )\n",
    "    \n",
    "    labels_df = (\n",
    "        location_date_df\n",
    "        .merge(dataset_labels, how='left', on=['Location', 'Date'])\n",
    "        .fillna(value=0)\n",
    "    )\n",
    "    \n",
    "    return labels_df"
   ]
  },
  {
   "cell_type": "code",
   "execution_count": 6,
   "metadata": {},
   "outputs": [
    {
     "name": "stdout",
     "output_type": "stream",
     "text": [
      "labels_df shape : (31440, 3)\n"
     ]
    },
    {
     "data": {
      "text/html": [
       "<div>\n",
       "<style scoped>\n",
       "    .dataframe tbody tr th:only-of-type {\n",
       "        vertical-align: middle;\n",
       "    }\n",
       "\n",
       "    .dataframe tbody tr th {\n",
       "        vertical-align: top;\n",
       "    }\n",
       "\n",
       "    .dataframe thead th {\n",
       "        text-align: right;\n",
       "    }\n",
       "</style>\n",
       "<table border=\"1\" class=\"dataframe\">\n",
       "  <thead>\n",
       "    <tr style=\"text-align: right;\">\n",
       "      <th></th>\n",
       "      <th>Location</th>\n",
       "      <th>Date</th>\n",
       "      <th>Demand</th>\n",
       "    </tr>\n",
       "  </thead>\n",
       "  <tbody>\n",
       "    <tr>\n",
       "      <th>0</th>\n",
       "      <td>1</td>\n",
       "      <td>2023-01-01</td>\n",
       "      <td>40.0</td>\n",
       "    </tr>\n",
       "    <tr>\n",
       "      <th>1</th>\n",
       "      <td>1</td>\n",
       "      <td>2023-01-02</td>\n",
       "      <td>31.0</td>\n",
       "    </tr>\n",
       "    <tr>\n",
       "      <th>2</th>\n",
       "      <td>1</td>\n",
       "      <td>2023-01-03</td>\n",
       "      <td>27.0</td>\n",
       "    </tr>\n",
       "    <tr>\n",
       "      <th>3</th>\n",
       "      <td>1</td>\n",
       "      <td>2023-01-04</td>\n",
       "      <td>7.0</td>\n",
       "    </tr>\n",
       "    <tr>\n",
       "      <th>4</th>\n",
       "      <td>1</td>\n",
       "      <td>2023-01-05</td>\n",
       "      <td>15.0</td>\n",
       "    </tr>\n",
       "  </tbody>\n",
       "</table>\n",
       "</div>"
      ],
      "text/plain": [
       "   Location       Date  Demand\n",
       "0         1 2023-01-01    40.0\n",
       "1         1 2023-01-02    31.0\n",
       "2         1 2023-01-03    27.0\n",
       "3         1 2023-01-04     7.0\n",
       "4         1 2023-01-05    15.0"
      ]
     },
     "execution_count": 6,
     "metadata": {},
     "output_type": "execute_result"
    }
   ],
   "source": [
    "labels_df = labeling(rides_df)\n",
    "print(f'labels_df shape : {labels_df.shape}')\n",
    "labels_df.head()"
   ]
  },
  {
   "cell_type": "markdown",
   "metadata": {},
   "source": [
    "# File saving"
   ]
  },
  {
   "cell_type": "code",
   "execution_count": 7,
   "metadata": {},
   "outputs": [],
   "source": [
    "def save_labels(dataset, path):\n",
    "    labels_df = dataset.to_parquet(path, index=False)"
   ]
  },
  {
   "cell_type": "code",
   "execution_count": 8,
   "metadata": {},
   "outputs": [],
   "source": [
    "save_labels(labels_df, OUTPUT_PATH)"
   ]
  }
 ],
 "metadata": {
  "kernelspec": {
   "display_name": "Python 3",
   "language": "python",
   "name": "python3"
  },
  "language_info": {
   "codemirror_mode": {
    "name": "ipython",
    "version": 3
   },
   "file_extension": ".py",
   "mimetype": "text/x-python",
   "name": "python",
   "nbconvert_exporter": "python",
   "pygments_lexer": "ipython3",
   "version": "3.9.17"
  },
  "orig_nbformat": 4
 },
 "nbformat": 4,
 "nbformat_minor": 2
}
