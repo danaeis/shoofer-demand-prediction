{
 "cells": [
  {
   "cell_type": "markdown",
   "metadata": {},
   "source": [
    "# Imports"
   ]
  },
  {
   "cell_type": "code",
   "execution_count": 12,
   "metadata": {},
   "outputs": [],
   "source": [
    "import datetime\n",
    "import numpy as np\n",
    "import pandas as pd"
   ]
  },
  {
   "cell_type": "markdown",
   "metadata": {},
   "source": [
    "# Config"
   ]
  },
  {
   "cell_type": "code",
   "execution_count": 13,
   "metadata": {},
   "outputs": [],
   "source": [
    "INPUT_PATH = 'rides/'\n",
    "OUTPUT_PATH = 'data/labels.parquet'\n",
    "START_DATE = '2023-01-01'\n",
    "END_DATE = '2023-04-30'"
   ]
  },
  {
   "cell_type": "markdown",
   "metadata": {},
   "source": [
    "# Loading Dataset"
   ]
  },
  {
   "cell_type": "code",
   "execution_count": 14,
   "metadata": {},
   "outputs": [],
   "source": [
    "def load_data(path, start_date: str, end_date: str):\n",
    "    df = pd.read_parquet(path) \n",
    "    start_date = datetime.date.fromisoformat(start_date)\n",
    "    end_date = datetime.date.fromisoformat(end_date)\n",
    "    filtered_df = df[(df['tpep_pickup_datetime'].dt.date >= start_date) &\n",
    "                     (df['tpep_pickup_datetime'].dt.date <= end_date)]\n",
    "    dataset = filtered_df.filter(items=['tpep_pickup_datetime', 'PULocationID'])\n",
    "    dataset['PU_date'] = pd.to_datetime(dataset['tpep_pickup_datetime'].dt.date)\n",
    "    return dataset"
   ]
  },
  {
   "cell_type": "code",
   "execution_count": 15,
   "metadata": {},
   "outputs": [
    {
     "name": "stdout",
     "output_type": "stream",
     "text": [
      "rides_df shape : (12672629, 3)\n"
     ]
    },
    {
     "data": {
      "text/html": [
       "<div>\n",
       "<style scoped>\n",
       "    .dataframe tbody tr th:only-of-type {\n",
       "        vertical-align: middle;\n",
       "    }\n",
       "\n",
       "    .dataframe tbody tr th {\n",
       "        vertical-align: top;\n",
       "    }\n",
       "\n",
       "    .dataframe thead th {\n",
       "        text-align: right;\n",
       "    }\n",
       "</style>\n",
       "<table border=\"1\" class=\"dataframe\">\n",
       "  <thead>\n",
       "    <tr style=\"text-align: right;\">\n",
       "      <th></th>\n",
       "      <th>tpep_pickup_datetime</th>\n",
       "      <th>PULocationID</th>\n",
       "      <th>PU_date</th>\n",
       "    </tr>\n",
       "  </thead>\n",
       "  <tbody>\n",
       "    <tr>\n",
       "      <th>0</th>\n",
       "      <td>2023-01-01 00:32:10</td>\n",
       "      <td>161</td>\n",
       "      <td>2023-01-01</td>\n",
       "    </tr>\n",
       "    <tr>\n",
       "      <th>1</th>\n",
       "      <td>2023-01-01 00:55:08</td>\n",
       "      <td>43</td>\n",
       "      <td>2023-01-01</td>\n",
       "    </tr>\n",
       "    <tr>\n",
       "      <th>2</th>\n",
       "      <td>2023-01-01 00:25:04</td>\n",
       "      <td>48</td>\n",
       "      <td>2023-01-01</td>\n",
       "    </tr>\n",
       "    <tr>\n",
       "      <th>3</th>\n",
       "      <td>2023-01-01 00:03:48</td>\n",
       "      <td>138</td>\n",
       "      <td>2023-01-01</td>\n",
       "    </tr>\n",
       "    <tr>\n",
       "      <th>4</th>\n",
       "      <td>2023-01-01 00:10:29</td>\n",
       "      <td>107</td>\n",
       "      <td>2023-01-01</td>\n",
       "    </tr>\n",
       "  </tbody>\n",
       "</table>\n",
       "</div>"
      ],
      "text/plain": [
       "  tpep_pickup_datetime  PULocationID    PU_date\n",
       "0  2023-01-01 00:32:10           161 2023-01-01\n",
       "1  2023-01-01 00:55:08            43 2023-01-01\n",
       "2  2023-01-01 00:25:04            48 2023-01-01\n",
       "3  2023-01-01 00:03:48           138 2023-01-01\n",
       "4  2023-01-01 00:10:29           107 2023-01-01"
      ]
     },
     "execution_count": 15,
     "metadata": {},
     "output_type": "execute_result"
    }
   ],
   "source": [
    "rides_df = load_data(INPUT_PATH, START_DATE, END_DATE)\n",
    "print(f'rides_df shape : {rides_df.shape}')\n",
    "rides_df.head()"
   ]
  },
  {
   "cell_type": "markdown",
   "metadata": {},
   "source": [
    "# Labeling"
   ]
  },
  {
   "cell_type": "code",
   "execution_count": 21,
   "metadata": {},
   "outputs": [],
   "source": [
    "def extract_hours(dataset):\n",
    "    dataset = dataset.sort_values('tpep_pickup_datetime')\n",
    "    dataset['hour'] = dataset['tpep_pickup_datetime'].dt.hour\n",
    "    \n",
    "    bins = [-1, 3, 6, 9, 12, 15, 18, 21, 24]\n",
    "    labels = ['0-3', '3-6', '6-9', '9-12', '12-15', '15-18', '18-21', '21-24']\n",
    "    dataset['time_of_day'] = pd.cut(dataset['hour'], bins=bins, labels=labels, include_lowest=True)\n",
    "    dataset = dataset.reset_index(drop = True)\n",
    "    return dataset\n"
   ]
  },
  {
   "cell_type": "code",
   "execution_count": 22,
   "metadata": {},
   "outputs": [],
   "source": [
    "def labeling(dataset):\n",
    "    dataset = extract_hours(dataset)\n",
    "    \n",
    "    dataset_labels = (\n",
    "        dataset\n",
    "        .groupby(['PULocationID', 'PU_date', 'time_of_day'])['time_of_day']\n",
    "        .count()\n",
    "        .to_frame('Demand')\n",
    "        .sort_values(['PULocationID', 'PU_date', 'time_of_day'], ascending=[True, True, True])\n",
    "        .reset_index()\n",
    "        .rename(columns={'PULocationID': 'Location', 'PU_date': 'Date', 'time_of_day' : 'Time'})\n",
    "    )\n",
    "\n",
    "    locations = pd.DataFrame(dataset_labels['Location'].unique(), columns=['Location'])\n",
    "    dates = pd.DataFrame(dataset_labels['Date'].unique(), columns=['Date'])\n",
    "    times = pd.DataFrame(dataset_labels['Time'].unique(), columns=['Time'])\n",
    "\n",
    "    location_date_time_df = (\n",
    "        locations\n",
    "        .merge(dates, how='cross')\n",
    "        .merge(times, how='cross')\n",
    "        .sort_values(['Location', 'Date', 'Time'], ascending=[True, True, True])\n",
    "        .reset_index(drop=True)\n",
    "    )\n",
    "\n",
    "    labels_df = (\n",
    "        location_date_time_df\n",
    "        .merge(dataset_labels, how='left', on=['Location', 'Date', 'Time'])\n",
    "        .fillna(value=0)\n",
    "    )\n",
    "\n",
    "    return labels_df"
   ]
  },
  {
   "cell_type": "code",
   "execution_count": 23,
   "metadata": {},
   "outputs": [
    {
     "name": "stdout",
     "output_type": "stream",
     "text": [
      "labels_df shape : (251520, 4)\n"
     ]
    },
    {
     "data": {
      "text/html": [
       "<div>\n",
       "<style scoped>\n",
       "    .dataframe tbody tr th:only-of-type {\n",
       "        vertical-align: middle;\n",
       "    }\n",
       "\n",
       "    .dataframe tbody tr th {\n",
       "        vertical-align: top;\n",
       "    }\n",
       "\n",
       "    .dataframe thead th {\n",
       "        text-align: right;\n",
       "    }\n",
       "</style>\n",
       "<table border=\"1\" class=\"dataframe\">\n",
       "  <thead>\n",
       "    <tr style=\"text-align: right;\">\n",
       "      <th></th>\n",
       "      <th>Location</th>\n",
       "      <th>Date</th>\n",
       "      <th>Time</th>\n",
       "      <th>Demand</th>\n",
       "    </tr>\n",
       "  </thead>\n",
       "  <tbody>\n",
       "    <tr>\n",
       "      <th>0</th>\n",
       "      <td>1</td>\n",
       "      <td>2023-01-01</td>\n",
       "      <td>0-3</td>\n",
       "      <td>0</td>\n",
       "    </tr>\n",
       "    <tr>\n",
       "      <th>1</th>\n",
       "      <td>1</td>\n",
       "      <td>2023-01-01</td>\n",
       "      <td>3-6</td>\n",
       "      <td>1</td>\n",
       "    </tr>\n",
       "    <tr>\n",
       "      <th>2</th>\n",
       "      <td>1</td>\n",
       "      <td>2023-01-01</td>\n",
       "      <td>6-9</td>\n",
       "      <td>1</td>\n",
       "    </tr>\n",
       "    <tr>\n",
       "      <th>3</th>\n",
       "      <td>1</td>\n",
       "      <td>2023-01-01</td>\n",
       "      <td>9-12</td>\n",
       "      <td>4</td>\n",
       "    </tr>\n",
       "    <tr>\n",
       "      <th>4</th>\n",
       "      <td>1</td>\n",
       "      <td>2023-01-01</td>\n",
       "      <td>12-15</td>\n",
       "      <td>18</td>\n",
       "    </tr>\n",
       "  </tbody>\n",
       "</table>\n",
       "</div>"
      ],
      "text/plain": [
       "   Location       Date   Time  Demand\n",
       "0         1 2023-01-01    0-3       0\n",
       "1         1 2023-01-01    3-6       1\n",
       "2         1 2023-01-01    6-9       1\n",
       "3         1 2023-01-01   9-12       4\n",
       "4         1 2023-01-01  12-15      18"
      ]
     },
     "execution_count": 23,
     "metadata": {},
     "output_type": "execute_result"
    }
   ],
   "source": [
    "labels_df = labeling(rides_df)\n",
    "print(f'labels_df shape : {labels_df.shape}')\n",
    "labels_df.head()"
   ]
  },
  {
   "cell_type": "markdown",
   "metadata": {},
   "source": [
    "# File saving"
   ]
  },
  {
   "cell_type": "code",
   "execution_count": 19,
   "metadata": {},
   "outputs": [],
   "source": [
    "def save_labels(dataset, path):\n",
    "    labels_df = dataset.to_parquet(path, index=False)"
   ]
  },
  {
   "cell_type": "code",
   "execution_count": 20,
   "metadata": {},
   "outputs": [],
   "source": [
    "save_labels(labels_df, OUTPUT_PATH)"
   ]
  }
 ],
 "metadata": {
  "kernelspec": {
   "display_name": "Python 3",
   "language": "python",
   "name": "python3"
  },
  "language_info": {
   "codemirror_mode": {
    "name": "ipython",
    "version": 3
   },
   "file_extension": ".py",
   "mimetype": "text/x-python",
   "name": "python",
   "nbconvert_exporter": "python",
   "pygments_lexer": "ipython3",
   "version": "3.10.7"
  },
  "orig_nbformat": 4
 },
 "nbformat": 4,
 "nbformat_minor": 2
}
