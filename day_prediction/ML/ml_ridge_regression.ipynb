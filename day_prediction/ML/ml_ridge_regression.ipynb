{
  "cells": [
    {
      "cell_type": "markdown",
      "metadata": {
        "id": "8UTIGpTZZlOO"
      },
      "source": [
        "# Imports"
      ]
    },
    {
      "cell_type": "code",
      "execution_count": 1,
      "metadata": {
        "id": "AnwSHO1L97I5"
      },
      "outputs": [],
      "source": [
        "import datetime\n",
        "import matplotlib.pyplot as plt\n",
        "import numpy as np\n",
        "import pandas as pd\n",
        "\n",
        "from sklearn.linear_model import Ridge\n",
        "from sklearn.metrics import mean_absolute_error, mean_squared_error, mean_absolute_percentage_error\n",
        "from sklearn.model_selection import GridSearchCV"
      ]
    },
    {
      "cell_type": "markdown",
      "metadata": {
        "id": "pSSMa3G2wGmF"
      },
      "source": [
        "# Configs"
      ]
    },
    {
      "cell_type": "code",
      "execution_count": 2,
      "metadata": {
        "id": "zIkDLK9zwGmG"
      },
      "outputs": [],
      "source": [
        "INPUT_PATH = '../../../ride_data/'\n",
        "\n",
        "OUTPUT_PATH_TEST = '../../../ridge/ridge_test_predictions.parquet'\n",
        "OUTPUT_PATH_TRAIN = '../../../ridge/ridge_train_predictions.parquet'\n",
        "\n",
        "START_DATE = '2023-01-01'\n",
        "END_DATE = '2023-04-30'\n",
        "\n",
        "FEATURE_LIST = [\n",
        "                'Previous_week_max_demand',\n",
        "                'Previous_2week_max_demand',\n",
        "\n",
        "                'Previous_2week_demand',\n",
        "                'Previous_week_demand', \n",
        "\n",
        "                'Previous_day_demand',\n",
        "                'Previous_2day_demand',\n",
        "                'Previous_3day_demand',\n",
        "                'Previous_4day_demand',\n",
        "                'Previous_5day_demand',\n",
        "                'Previous_6day_demand',\n",
        "                'Previous_8day_demand',\n",
        "                'Previous_9day_demand',\n",
        "                'Previous_10day_demand',\n",
        "                'Previous_11day_demand',\n",
        "                'Previous_12day_demand',\n",
        "                'Previous_13day_demand',\n",
        "                ]\n",
        "\n",
        "TEST_START_DATE = '2023-04-01'\n",
        "GROUP_NUM = 3\n",
        "AUTO_TUNE = False"
      ]
    },
    {
      "cell_type": "markdown",
      "metadata": {
        "id": "5eS5BQE9wGmK"
      },
      "source": [
        "# Data preparation\n"
      ]
    },
    {
      "cell_type": "markdown",
      "metadata": {
        "id": "TWsjXbpaznc_"
      },
      "source": [
        "## Load Data"
      ]
    },
    {
      "cell_type": "code",
      "execution_count": 3,
      "metadata": {
        "id": "HAyNjqxNwGmH"
      },
      "outputs": [],
      "source": [
        "def load_data(path, start_date: str, end_date: str):\n",
        "    df = pd.read_parquet(path)\n",
        "    start_date = datetime.date.fromisoformat(start_date)\n",
        "    end_date = datetime.date.fromisoformat(end_date)\n",
        "    filtered_df = df[(df['tpep_pickup_datetime'].dt.date >= start_date) &\n",
        "                     (df['tpep_pickup_datetime'].dt.date <= end_date)]\n",
        "    dataset = filtered_df.filter(items=['tpep_pickup_datetime', 'PULocationID'])\n",
        "    dataset['PU_date'] = pd.to_datetime(dataset['tpep_pickup_datetime'].dt.date)\n",
        "    return dataset"
      ]
    },
    {
      "cell_type": "code",
      "execution_count": 4,
      "metadata": {
        "id": "87BFHUu1-z73"
      },
      "outputs": [],
      "source": [
        "rides_df = load_data(INPUT_PATH, START_DATE, END_DATE)"
      ]
    },
    {
      "cell_type": "code",
      "execution_count": 5,
      "metadata": {
        "id": "hCN-11QT3bp1"
      },
      "outputs": [
        {
          "name": "stdout",
          "output_type": "stream",
          "text": [
            "rides dataframe shape : (12672629, 3)\n"
          ]
        },
        {
          "data": {
            "text/html": [
              "<div>\n",
              "<style scoped>\n",
              "    .dataframe tbody tr th:only-of-type {\n",
              "        vertical-align: middle;\n",
              "    }\n",
              "\n",
              "    .dataframe tbody tr th {\n",
              "        vertical-align: top;\n",
              "    }\n",
              "\n",
              "    .dataframe thead th {\n",
              "        text-align: right;\n",
              "    }\n",
              "</style>\n",
              "<table border=\"1\" class=\"dataframe\">\n",
              "  <thead>\n",
              "    <tr style=\"text-align: right;\">\n",
              "      <th></th>\n",
              "      <th>tpep_pickup_datetime</th>\n",
              "      <th>PULocationID</th>\n",
              "      <th>PU_date</th>\n",
              "    </tr>\n",
              "  </thead>\n",
              "  <tbody>\n",
              "    <tr>\n",
              "      <th>0</th>\n",
              "      <td>2023-01-01 00:32:10</td>\n",
              "      <td>161</td>\n",
              "      <td>2023-01-01</td>\n",
              "    </tr>\n",
              "    <tr>\n",
              "      <th>1</th>\n",
              "      <td>2023-01-01 00:55:08</td>\n",
              "      <td>43</td>\n",
              "      <td>2023-01-01</td>\n",
              "    </tr>\n",
              "    <tr>\n",
              "      <th>2</th>\n",
              "      <td>2023-01-01 00:25:04</td>\n",
              "      <td>48</td>\n",
              "      <td>2023-01-01</td>\n",
              "    </tr>\n",
              "    <tr>\n",
              "      <th>3</th>\n",
              "      <td>2023-01-01 00:03:48</td>\n",
              "      <td>138</td>\n",
              "      <td>2023-01-01</td>\n",
              "    </tr>\n",
              "    <tr>\n",
              "      <th>4</th>\n",
              "      <td>2023-01-01 00:10:29</td>\n",
              "      <td>107</td>\n",
              "      <td>2023-01-01</td>\n",
              "    </tr>\n",
              "  </tbody>\n",
              "</table>\n",
              "</div>"
            ],
            "text/plain": [
              "  tpep_pickup_datetime  PULocationID    PU_date\n",
              "0  2023-01-01 00:32:10           161 2023-01-01\n",
              "1  2023-01-01 00:55:08            43 2023-01-01\n",
              "2  2023-01-01 00:25:04            48 2023-01-01\n",
              "3  2023-01-01 00:03:48           138 2023-01-01\n",
              "4  2023-01-01 00:10:29           107 2023-01-01"
            ]
          },
          "execution_count": 5,
          "metadata": {},
          "output_type": "execute_result"
        }
      ],
      "source": [
        "print(f'rides dataframe shape : {rides_df.shape}')\n",
        "rides_df.head()"
      ]
    },
    {
      "cell_type": "markdown",
      "metadata": {
        "id": "X2ES_CY6-fb5"
      },
      "source": [
        "## Labeling"
      ]
    },
    {
      "cell_type": "code",
      "execution_count": 6,
      "metadata": {
        "id": "a7mNMQ-zwGmH"
      },
      "outputs": [],
      "source": [
        "def labeling(dataset):\n",
        "    dataset_labels = (\n",
        "        dataset\n",
        "        .groupby(['PULocationID', 'PU_date'])['PU_date']\n",
        "        .count()\n",
        "        .to_frame('Demand')\n",
        "        .sort_values(['PULocationID', 'PU_date'], ascending=[True, True])\n",
        "        .reset_index()\n",
        "        .rename(columns={'PULocationID': 'Location', 'PU_date': 'Date'})\n",
        "    )\n",
        "\n",
        "    locations = pd.DataFrame(dataset_labels['Location'].unique(), columns=['Location'])\n",
        "    dates = pd.DataFrame(dataset_labels['Date'].unique(), columns=['Date'])\n",
        "\n",
        "    location_date_df = (\n",
        "        locations\n",
        "        .merge(dates, how='cross')\n",
        "        .sort_values(['Location', 'Date'], ascending=[True, True])\n",
        "        .reset_index(drop=True)\n",
        "    )\n",
        "\n",
        "    labels_df = (\n",
        "        location_date_df\n",
        "        .merge(dataset_labels, how='left', on=['Location', 'Date'])\n",
        "        .fillna(value=0)\n",
        "    )\n",
        "\n",
        "    return labels_df"
      ]
    },
    {
      "cell_type": "code",
      "execution_count": 7,
      "metadata": {
        "id": "VVRLakW_LeGp"
      },
      "outputs": [],
      "source": [
        "labeled_df = labeling(rides_df)"
      ]
    },
    {
      "cell_type": "code",
      "execution_count": 8,
      "metadata": {
        "id": "0Gm5j5em28Xy"
      },
      "outputs": [
        {
          "name": "stdout",
          "output_type": "stream",
          "text": [
            "labeled dataframe shape : (31440, 3)\n"
          ]
        },
        {
          "data": {
            "text/html": [
              "<div>\n",
              "<style scoped>\n",
              "    .dataframe tbody tr th:only-of-type {\n",
              "        vertical-align: middle;\n",
              "    }\n",
              "\n",
              "    .dataframe tbody tr th {\n",
              "        vertical-align: top;\n",
              "    }\n",
              "\n",
              "    .dataframe thead th {\n",
              "        text-align: right;\n",
              "    }\n",
              "</style>\n",
              "<table border=\"1\" class=\"dataframe\">\n",
              "  <thead>\n",
              "    <tr style=\"text-align: right;\">\n",
              "      <th></th>\n",
              "      <th>Location</th>\n",
              "      <th>Date</th>\n",
              "      <th>Demand</th>\n",
              "    </tr>\n",
              "  </thead>\n",
              "  <tbody>\n",
              "    <tr>\n",
              "      <th>0</th>\n",
              "      <td>1</td>\n",
              "      <td>2023-01-01</td>\n",
              "      <td>40.0</td>\n",
              "    </tr>\n",
              "    <tr>\n",
              "      <th>1</th>\n",
              "      <td>1</td>\n",
              "      <td>2023-01-02</td>\n",
              "      <td>31.0</td>\n",
              "    </tr>\n",
              "    <tr>\n",
              "      <th>2</th>\n",
              "      <td>1</td>\n",
              "      <td>2023-01-03</td>\n",
              "      <td>27.0</td>\n",
              "    </tr>\n",
              "    <tr>\n",
              "      <th>3</th>\n",
              "      <td>1</td>\n",
              "      <td>2023-01-04</td>\n",
              "      <td>7.0</td>\n",
              "    </tr>\n",
              "    <tr>\n",
              "      <th>4</th>\n",
              "      <td>1</td>\n",
              "      <td>2023-01-05</td>\n",
              "      <td>15.0</td>\n",
              "    </tr>\n",
              "    <tr>\n",
              "      <th>5</th>\n",
              "      <td>1</td>\n",
              "      <td>2023-01-06</td>\n",
              "      <td>11.0</td>\n",
              "    </tr>\n",
              "    <tr>\n",
              "      <th>6</th>\n",
              "      <td>1</td>\n",
              "      <td>2023-01-07</td>\n",
              "      <td>6.0</td>\n",
              "    </tr>\n",
              "    <tr>\n",
              "      <th>7</th>\n",
              "      <td>1</td>\n",
              "      <td>2023-01-08</td>\n",
              "      <td>12.0</td>\n",
              "    </tr>\n",
              "    <tr>\n",
              "      <th>8</th>\n",
              "      <td>1</td>\n",
              "      <td>2023-01-09</td>\n",
              "      <td>14.0</td>\n",
              "    </tr>\n",
              "    <tr>\n",
              "      <th>9</th>\n",
              "      <td>1</td>\n",
              "      <td>2023-01-10</td>\n",
              "      <td>4.0</td>\n",
              "    </tr>\n",
              "  </tbody>\n",
              "</table>\n",
              "</div>"
            ],
            "text/plain": [
              "   Location       Date  Demand\n",
              "0         1 2023-01-01    40.0\n",
              "1         1 2023-01-02    31.0\n",
              "2         1 2023-01-03    27.0\n",
              "3         1 2023-01-04     7.0\n",
              "4         1 2023-01-05    15.0\n",
              "5         1 2023-01-06    11.0\n",
              "6         1 2023-01-07     6.0\n",
              "7         1 2023-01-08    12.0\n",
              "8         1 2023-01-09    14.0\n",
              "9         1 2023-01-10     4.0"
            ]
          },
          "execution_count": 8,
          "metadata": {},
          "output_type": "execute_result"
        }
      ],
      "source": [
        "print(f'labeled dataframe shape : {labeled_df.shape}')\n",
        "labeled_df.head(10)"
      ]
    },
    {
      "cell_type": "markdown",
      "metadata": {},
      "source": [
        "## Add Feature"
      ]
    },
    {
      "cell_type": "code",
      "execution_count": 9,
      "metadata": {},
      "outputs": [],
      "source": [
        "def feature_engineering(dataset):\n",
        "    dataset['Previous_day_demand'] = dataset.groupby(['Location'])['Demand'].shift(1)\n",
        "    dataset['Previous_2day_demand'] = dataset.groupby(['Location'])['Demand'].shift(2)\n",
        "    dataset['Previous_3day_demand'] = dataset.groupby(['Location'])['Demand'].shift(3)\n",
        "    dataset['Previous_4day_demand'] = dataset.groupby(['Location'])['Demand'].shift(4)\n",
        "    dataset['Previous_5day_demand'] = dataset.groupby(['Location'])['Demand'].shift(5)\n",
        "    dataset['Previous_6day_demand'] = dataset.groupby(['Location'])['Demand'].shift(6)\n",
        "    dataset['Previous_week_demand'] = dataset.groupby(['Location'])['Demand'].shift(7)\n",
        "    dataset['Previous_8day_demand'] = dataset.groupby(['Location'])['Demand'].shift(8)\n",
        "    dataset['Previous_9day_demand'] = dataset.groupby(['Location'])['Demand'].shift(9)\n",
        "    dataset['Previous_10day_demand'] = dataset.groupby(['Location'])['Demand'].shift(10)\n",
        "    dataset['Previous_11day_demand'] = dataset.groupby(['Location'])['Demand'].shift(11)\n",
        "    dataset['Previous_12day_demand'] = dataset.groupby(['Location'])['Demand'].shift(12)\n",
        "    dataset['Previous_13day_demand'] = dataset.groupby(['Location'])['Demand'].shift(13)\n",
        "    dataset['Previous_2week_demand'] = dataset.groupby(['Location'])['Demand'].shift(14)\n",
        "\n",
        "    dataset['Previous_week_max_demand'] = dataset.groupby('Location')['Demand'].rolling(window=7).max().reset_index(drop = True)\n",
        "    dataset['Previous_2week_max_demand'] = dataset.groupby('Location')['Demand'].rolling(window=14).max().reset_index(drop = True)\n",
        "\n",
        "    dataset['Day_of_week'] = dataset['Date'].dt.dayofweek   \n",
        "    dataset['Day_of_month'] = dataset['Date'].dt.day\n",
        "    \n",
        "    return dataset"
      ]
    },
    {
      "cell_type": "code",
<<<<<<< HEAD
      "execution_count": 11,
=======
      "execution_count": 10,
>>>>>>> 9e0f5f9364ea8619c26c3fc73367e339d02cc05b
      "metadata": {},
      "outputs": [],
      "source": [
        "features_df = feature_engineering(labeled_df)\n",
        "features_df.dropna(inplace = True)"
      ]
    },
    {
      "cell_type": "code",
<<<<<<< HEAD
      "execution_count": 12,
=======
      "execution_count": 11,
>>>>>>> 9e0f5f9364ea8619c26c3fc73367e339d02cc05b
      "metadata": {},
      "outputs": [
        {
          "name": "stdout",
          "output_type": "stream",
          "text": [
            "features dataframe shape : (27772, 21)\n"
          ]
        },
        {
          "data": {
            "text/html": [
              "<div>\n",
              "<style scoped>\n",
              "    .dataframe tbody tr th:only-of-type {\n",
              "        vertical-align: middle;\n",
              "    }\n",
              "\n",
              "    .dataframe tbody tr th {\n",
              "        vertical-align: top;\n",
              "    }\n",
              "\n",
              "    .dataframe thead th {\n",
              "        text-align: right;\n",
              "    }\n",
              "</style>\n",
              "<table border=\"1\" class=\"dataframe\">\n",
              "  <thead>\n",
              "    <tr style=\"text-align: right;\">\n",
              "      <th></th>\n",
              "      <th>Location</th>\n",
              "      <th>Date</th>\n",
              "      <th>Demand</th>\n",
              "      <th>Previous_day_demand</th>\n",
              "      <th>Previous_2day_demand</th>\n",
              "      <th>Previous_3day_demand</th>\n",
              "      <th>Previous_4day_demand</th>\n",
              "      <th>Previous_5day_demand</th>\n",
              "      <th>Previous_6day_demand</th>\n",
              "      <th>Previous_week_demand</th>\n",
              "      <th>...</th>\n",
              "      <th>Previous_9day_demand</th>\n",
              "      <th>Previous_10day_demand</th>\n",
              "      <th>Previous_11day_demand</th>\n",
              "      <th>Previous_12day_demand</th>\n",
              "      <th>Previous_13day_demand</th>\n",
              "      <th>Previous_2week_demand</th>\n",
              "      <th>Previous_week_max_demand</th>\n",
              "      <th>Previous_2week_max_demand</th>\n",
              "      <th>Day_of_week</th>\n",
              "      <th>Day_of_month</th>\n",
              "    </tr>\n",
              "  </thead>\n",
              "  <tbody>\n",
              "    <tr>\n",
              "      <th>14</th>\n",
              "      <td>1</td>\n",
              "      <td>2023-01-15</td>\n",
              "      <td>19.0</td>\n",
              "      <td>7.0</td>\n",
              "      <td>21.0</td>\n",
              "      <td>8.0</td>\n",
              "      <td>9.0</td>\n",
              "      <td>4.0</td>\n",
              "      <td>14.0</td>\n",
              "      <td>12.0</td>\n",
              "      <td>...</td>\n",
              "      <td>11.0</td>\n",
              "      <td>15.0</td>\n",
              "      <td>7.0</td>\n",
              "      <td>27.0</td>\n",
              "      <td>31.0</td>\n",
              "      <td>40.0</td>\n",
              "      <td>21.0</td>\n",
              "      <td>31.0</td>\n",
              "      <td>6</td>\n",
              "      <td>15</td>\n",
              "    </tr>\n",
              "    <tr>\n",
              "      <th>15</th>\n",
              "      <td>1</td>\n",
              "      <td>2023-01-16</td>\n",
              "      <td>21.0</td>\n",
              "      <td>19.0</td>\n",
              "      <td>7.0</td>\n",
              "      <td>21.0</td>\n",
              "      <td>8.0</td>\n",
              "      <td>9.0</td>\n",
              "      <td>4.0</td>\n",
              "      <td>14.0</td>\n",
              "      <td>...</td>\n",
              "      <td>6.0</td>\n",
              "      <td>11.0</td>\n",
              "      <td>15.0</td>\n",
              "      <td>7.0</td>\n",
              "      <td>27.0</td>\n",
              "      <td>31.0</td>\n",
              "      <td>21.0</td>\n",
              "      <td>27.0</td>\n",
              "      <td>0</td>\n",
              "      <td>16</td>\n",
              "    </tr>\n",
              "    <tr>\n",
              "      <th>16</th>\n",
              "      <td>1</td>\n",
              "      <td>2023-01-17</td>\n",
              "      <td>18.0</td>\n",
              "      <td>21.0</td>\n",
              "      <td>19.0</td>\n",
              "      <td>7.0</td>\n",
              "      <td>21.0</td>\n",
              "      <td>8.0</td>\n",
              "      <td>9.0</td>\n",
              "      <td>4.0</td>\n",
              "      <td>...</td>\n",
              "      <td>12.0</td>\n",
              "      <td>6.0</td>\n",
              "      <td>11.0</td>\n",
              "      <td>15.0</td>\n",
              "      <td>7.0</td>\n",
              "      <td>27.0</td>\n",
              "      <td>21.0</td>\n",
              "      <td>21.0</td>\n",
              "      <td>1</td>\n",
              "      <td>17</td>\n",
              "    </tr>\n",
              "    <tr>\n",
              "      <th>17</th>\n",
              "      <td>1</td>\n",
              "      <td>2023-01-18</td>\n",
              "      <td>10.0</td>\n",
              "      <td>18.0</td>\n",
              "      <td>21.0</td>\n",
              "      <td>19.0</td>\n",
              "      <td>7.0</td>\n",
              "      <td>21.0</td>\n",
              "      <td>8.0</td>\n",
              "      <td>9.0</td>\n",
              "      <td>...</td>\n",
              "      <td>14.0</td>\n",
              "      <td>12.0</td>\n",
              "      <td>6.0</td>\n",
              "      <td>11.0</td>\n",
              "      <td>15.0</td>\n",
              "      <td>7.0</td>\n",
              "      <td>21.0</td>\n",
              "      <td>21.0</td>\n",
              "      <td>2</td>\n",
              "      <td>18</td>\n",
              "    </tr>\n",
              "    <tr>\n",
              "      <th>18</th>\n",
              "      <td>1</td>\n",
              "      <td>2023-01-19</td>\n",
              "      <td>9.0</td>\n",
              "      <td>10.0</td>\n",
              "      <td>18.0</td>\n",
              "      <td>21.0</td>\n",
              "      <td>19.0</td>\n",
              "      <td>7.0</td>\n",
              "      <td>21.0</td>\n",
              "      <td>8.0</td>\n",
              "      <td>...</td>\n",
              "      <td>4.0</td>\n",
              "      <td>14.0</td>\n",
              "      <td>12.0</td>\n",
              "      <td>6.0</td>\n",
              "      <td>11.0</td>\n",
              "      <td>15.0</td>\n",
              "      <td>21.0</td>\n",
              "      <td>21.0</td>\n",
              "      <td>3</td>\n",
              "      <td>19</td>\n",
              "    </tr>\n",
              "  </tbody>\n",
              "</table>\n",
              "<p>5 rows × 21 columns</p>\n",
              "</div>"
            ],
            "text/plain": [
              "    Location       Date  Demand  Previous_day_demand  Previous_2day_demand  \\\n",
              "14         1 2023-01-15    19.0                  7.0                  21.0   \n",
              "15         1 2023-01-16    21.0                 19.0                   7.0   \n",
              "16         1 2023-01-17    18.0                 21.0                  19.0   \n",
              "17         1 2023-01-18    10.0                 18.0                  21.0   \n",
              "18         1 2023-01-19     9.0                 10.0                  18.0   \n",
              "\n",
              "    Previous_3day_demand  Previous_4day_demand  Previous_5day_demand  \\\n",
              "14                   8.0                   9.0                   4.0   \n",
              "15                  21.0                   8.0                   9.0   \n",
              "16                   7.0                  21.0                   8.0   \n",
              "17                  19.0                   7.0                  21.0   \n",
              "18                  21.0                  19.0                   7.0   \n",
              "\n",
              "    Previous_6day_demand  Previous_week_demand  ...  Previous_9day_demand  \\\n",
              "14                  14.0                  12.0  ...                  11.0   \n",
              "15                   4.0                  14.0  ...                   6.0   \n",
              "16                   9.0                   4.0  ...                  12.0   \n",
              "17                   8.0                   9.0  ...                  14.0   \n",
              "18                  21.0                   8.0  ...                   4.0   \n",
              "\n",
              "    Previous_10day_demand  Previous_11day_demand  Previous_12day_demand  \\\n",
              "14                   15.0                    7.0                   27.0   \n",
              "15                   11.0                   15.0                    7.0   \n",
              "16                    6.0                   11.0                   15.0   \n",
              "17                   12.0                    6.0                   11.0   \n",
              "18                   14.0                   12.0                    6.0   \n",
              "\n",
              "    Previous_13day_demand  Previous_2week_demand  Previous_week_max_demand  \\\n",
              "14                   31.0                   40.0                      21.0   \n",
              "15                   27.0                   31.0                      21.0   \n",
              "16                    7.0                   27.0                      21.0   \n",
              "17                   15.0                    7.0                      21.0   \n",
              "18                   11.0                   15.0                      21.0   \n",
              "\n",
              "    Previous_2week_max_demand  Day_of_week  Day_of_month  \n",
              "14                       31.0            6            15  \n",
              "15                       27.0            0            16  \n",
              "16                       21.0            1            17  \n",
              "17                       21.0            2            18  \n",
              "18                       21.0            3            19  \n",
              "\n",
              "[5 rows x 21 columns]"
            ]
          },
<<<<<<< HEAD
          "execution_count": 12,
=======
          "execution_count": 11,
>>>>>>> 9e0f5f9364ea8619c26c3fc73367e339d02cc05b
          "metadata": {},
          "output_type": "execute_result"
        }
      ],
      "source": [
        "print(f'features dataframe shape : {features_df.shape}')\n",
        "features_df.head()"
      ]
    },
    {
      "cell_type": "markdown",
      "metadata": {
        "id": "zN0kp6jw03DP"
      },
      "source": [
        "## Split Train and Test Data"
      ]
    },
    {
      "cell_type": "code",
<<<<<<< HEAD
      "execution_count": 13,
=======
      "execution_count": 12,
>>>>>>> 9e0f5f9364ea8619c26c3fc73367e339d02cc05b
      "metadata": {
        "id": "CMY1G1lmwGmI"
      },
      "outputs": [],
      "source": [
        "def train_test_splitting(dataset, TEST_START_DATE):\n",
        "\n",
        "    train_df = dataset[dataset['Date'] < TEST_START_DATE]\n",
        "    test_df = dataset[dataset['Date'] >= TEST_START_DATE]\n",
        "\n",
        "    return train_df, test_df"
      ]
    },
    {
      "cell_type": "code",
<<<<<<< HEAD
      "execution_count": 14,
=======
      "execution_count": 13,
>>>>>>> 9e0f5f9364ea8619c26c3fc73367e339d02cc05b
      "metadata": {
        "id": "3xH4VMGNwGmK"
      },
      "outputs": [],
      "source": [
        "train_df, test_df = train_test_splitting(features_df, TEST_START_DATE)"
      ]
    },
    {
      "cell_type": "code",
<<<<<<< HEAD
      "execution_count": 15,
=======
      "execution_count": 14,
>>>>>>> 9e0f5f9364ea8619c26c3fc73367e339d02cc05b
      "metadata": {
        "id": "xxGdRZfqwGmL",
        "outputId": "58609337-c472-48f5-c7fc-e9d7c17aba4f"
      },
      "outputs": [
        {
          "name": "stdout",
          "output_type": "stream",
          "text": [
            "train dataframe shape : (19912, 21)\n"
          ]
        },
        {
          "data": {
            "text/html": [
              "<div>\n",
              "<style scoped>\n",
              "    .dataframe tbody tr th:only-of-type {\n",
              "        vertical-align: middle;\n",
              "    }\n",
              "\n",
              "    .dataframe tbody tr th {\n",
              "        vertical-align: top;\n",
              "    }\n",
              "\n",
              "    .dataframe thead th {\n",
              "        text-align: right;\n",
              "    }\n",
              "</style>\n",
              "<table border=\"1\" class=\"dataframe\">\n",
              "  <thead>\n",
              "    <tr style=\"text-align: right;\">\n",
              "      <th></th>\n",
              "      <th>Location</th>\n",
              "      <th>Date</th>\n",
              "      <th>Demand</th>\n",
              "      <th>Previous_day_demand</th>\n",
              "      <th>Previous_2day_demand</th>\n",
              "      <th>Previous_3day_demand</th>\n",
              "      <th>Previous_4day_demand</th>\n",
              "      <th>Previous_5day_demand</th>\n",
              "      <th>Previous_6day_demand</th>\n",
              "      <th>Previous_week_demand</th>\n",
              "      <th>...</th>\n",
              "      <th>Previous_9day_demand</th>\n",
              "      <th>Previous_10day_demand</th>\n",
              "      <th>Previous_11day_demand</th>\n",
              "      <th>Previous_12day_demand</th>\n",
              "      <th>Previous_13day_demand</th>\n",
              "      <th>Previous_2week_demand</th>\n",
              "      <th>Previous_week_max_demand</th>\n",
              "      <th>Previous_2week_max_demand</th>\n",
              "      <th>Day_of_week</th>\n",
              "      <th>Day_of_month</th>\n",
              "    </tr>\n",
              "  </thead>\n",
              "  <tbody>\n",
              "    <tr>\n",
              "      <th>14</th>\n",
              "      <td>1</td>\n",
              "      <td>2023-01-15</td>\n",
              "      <td>19.0</td>\n",
              "      <td>7.0</td>\n",
              "      <td>21.0</td>\n",
              "      <td>8.0</td>\n",
              "      <td>9.0</td>\n",
              "      <td>4.0</td>\n",
              "      <td>14.0</td>\n",
              "      <td>12.0</td>\n",
              "      <td>...</td>\n",
              "      <td>11.0</td>\n",
              "      <td>15.0</td>\n",
              "      <td>7.0</td>\n",
              "      <td>27.0</td>\n",
              "      <td>31.0</td>\n",
              "      <td>40.0</td>\n",
              "      <td>21.0</td>\n",
              "      <td>31.0</td>\n",
              "      <td>6</td>\n",
              "      <td>15</td>\n",
              "    </tr>\n",
              "    <tr>\n",
              "      <th>15</th>\n",
              "      <td>1</td>\n",
              "      <td>2023-01-16</td>\n",
              "      <td>21.0</td>\n",
              "      <td>19.0</td>\n",
              "      <td>7.0</td>\n",
              "      <td>21.0</td>\n",
              "      <td>8.0</td>\n",
              "      <td>9.0</td>\n",
              "      <td>4.0</td>\n",
              "      <td>14.0</td>\n",
              "      <td>...</td>\n",
              "      <td>6.0</td>\n",
              "      <td>11.0</td>\n",
              "      <td>15.0</td>\n",
              "      <td>7.0</td>\n",
              "      <td>27.0</td>\n",
              "      <td>31.0</td>\n",
              "      <td>21.0</td>\n",
              "      <td>27.0</td>\n",
              "      <td>0</td>\n",
              "      <td>16</td>\n",
              "    </tr>\n",
              "    <tr>\n",
              "      <th>16</th>\n",
              "      <td>1</td>\n",
              "      <td>2023-01-17</td>\n",
              "      <td>18.0</td>\n",
              "      <td>21.0</td>\n",
              "      <td>19.0</td>\n",
              "      <td>7.0</td>\n",
              "      <td>21.0</td>\n",
              "      <td>8.0</td>\n",
              "      <td>9.0</td>\n",
              "      <td>4.0</td>\n",
              "      <td>...</td>\n",
              "      <td>12.0</td>\n",
              "      <td>6.0</td>\n",
              "      <td>11.0</td>\n",
              "      <td>15.0</td>\n",
              "      <td>7.0</td>\n",
              "      <td>27.0</td>\n",
              "      <td>21.0</td>\n",
              "      <td>21.0</td>\n",
              "      <td>1</td>\n",
              "      <td>17</td>\n",
              "    </tr>\n",
              "    <tr>\n",
              "      <th>17</th>\n",
              "      <td>1</td>\n",
              "      <td>2023-01-18</td>\n",
              "      <td>10.0</td>\n",
              "      <td>18.0</td>\n",
              "      <td>21.0</td>\n",
              "      <td>19.0</td>\n",
              "      <td>7.0</td>\n",
              "      <td>21.0</td>\n",
              "      <td>8.0</td>\n",
              "      <td>9.0</td>\n",
              "      <td>...</td>\n",
              "      <td>14.0</td>\n",
              "      <td>12.0</td>\n",
              "      <td>6.0</td>\n",
              "      <td>11.0</td>\n",
              "      <td>15.0</td>\n",
              "      <td>7.0</td>\n",
              "      <td>21.0</td>\n",
              "      <td>21.0</td>\n",
              "      <td>2</td>\n",
              "      <td>18</td>\n",
              "    </tr>\n",
              "    <tr>\n",
              "      <th>18</th>\n",
              "      <td>1</td>\n",
              "      <td>2023-01-19</td>\n",
              "      <td>9.0</td>\n",
              "      <td>10.0</td>\n",
              "      <td>18.0</td>\n",
              "      <td>21.0</td>\n",
              "      <td>19.0</td>\n",
              "      <td>7.0</td>\n",
              "      <td>21.0</td>\n",
              "      <td>8.0</td>\n",
              "      <td>...</td>\n",
              "      <td>4.0</td>\n",
              "      <td>14.0</td>\n",
              "      <td>12.0</td>\n",
              "      <td>6.0</td>\n",
              "      <td>11.0</td>\n",
              "      <td>15.0</td>\n",
              "      <td>21.0</td>\n",
              "      <td>21.0</td>\n",
              "      <td>3</td>\n",
              "      <td>19</td>\n",
              "    </tr>\n",
              "  </tbody>\n",
              "</table>\n",
              "<p>5 rows × 21 columns</p>\n",
              "</div>"
            ],
            "text/plain": [
              "    Location       Date  Demand  Previous_day_demand  Previous_2day_demand  \\\n",
              "14         1 2023-01-15    19.0                  7.0                  21.0   \n",
              "15         1 2023-01-16    21.0                 19.0                   7.0   \n",
              "16         1 2023-01-17    18.0                 21.0                  19.0   \n",
              "17         1 2023-01-18    10.0                 18.0                  21.0   \n",
              "18         1 2023-01-19     9.0                 10.0                  18.0   \n",
              "\n",
              "    Previous_3day_demand  Previous_4day_demand  Previous_5day_demand  \\\n",
              "14                   8.0                   9.0                   4.0   \n",
              "15                  21.0                   8.0                   9.0   \n",
              "16                   7.0                  21.0                   8.0   \n",
              "17                  19.0                   7.0                  21.0   \n",
              "18                  21.0                  19.0                   7.0   \n",
              "\n",
              "    Previous_6day_demand  Previous_week_demand  ...  Previous_9day_demand  \\\n",
              "14                  14.0                  12.0  ...                  11.0   \n",
              "15                   4.0                  14.0  ...                   6.0   \n",
              "16                   9.0                   4.0  ...                  12.0   \n",
              "17                   8.0                   9.0  ...                  14.0   \n",
              "18                  21.0                   8.0  ...                   4.0   \n",
              "\n",
              "    Previous_10day_demand  Previous_11day_demand  Previous_12day_demand  \\\n",
              "14                   15.0                    7.0                   27.0   \n",
              "15                   11.0                   15.0                    7.0   \n",
              "16                    6.0                   11.0                   15.0   \n",
              "17                   12.0                    6.0                   11.0   \n",
              "18                   14.0                   12.0                    6.0   \n",
              "\n",
              "    Previous_13day_demand  Previous_2week_demand  Previous_week_max_demand  \\\n",
              "14                   31.0                   40.0                      21.0   \n",
              "15                   27.0                   31.0                      21.0   \n",
              "16                    7.0                   27.0                      21.0   \n",
              "17                   15.0                    7.0                      21.0   \n",
              "18                   11.0                   15.0                      21.0   \n",
              "\n",
              "    Previous_2week_max_demand  Day_of_week  Day_of_month  \n",
              "14                       31.0            6            15  \n",
              "15                       27.0            0            16  \n",
              "16                       21.0            1            17  \n",
              "17                       21.0            2            18  \n",
              "18                       21.0            3            19  \n",
              "\n",
              "[5 rows x 21 columns]"
            ]
          },
<<<<<<< HEAD
          "execution_count": 15,
=======
          "execution_count": 14,
>>>>>>> 9e0f5f9364ea8619c26c3fc73367e339d02cc05b
          "metadata": {},
          "output_type": "execute_result"
        }
      ],
      "source": [
        "print(f'train dataframe shape : {train_df.shape}')\n",
        "train_df.head()"
      ]
    },
    {
      "cell_type": "code",
<<<<<<< HEAD
      "execution_count": 16,
=======
      "execution_count": 15,
>>>>>>> 9e0f5f9364ea8619c26c3fc73367e339d02cc05b
      "metadata": {
        "id": "uPbINwH224Hy"
      },
      "outputs": [
        {
          "name": "stdout",
          "output_type": "stream",
          "text": [
            "test dataframe shape : (7860, 21)\n"
          ]
        },
        {
          "data": {
            "text/html": [
              "<div>\n",
              "<style scoped>\n",
              "    .dataframe tbody tr th:only-of-type {\n",
              "        vertical-align: middle;\n",
              "    }\n",
              "\n",
              "    .dataframe tbody tr th {\n",
              "        vertical-align: top;\n",
              "    }\n",
              "\n",
              "    .dataframe thead th {\n",
              "        text-align: right;\n",
              "    }\n",
              "</style>\n",
              "<table border=\"1\" class=\"dataframe\">\n",
              "  <thead>\n",
              "    <tr style=\"text-align: right;\">\n",
              "      <th></th>\n",
              "      <th>Location</th>\n",
              "      <th>Date</th>\n",
              "      <th>Demand</th>\n",
              "      <th>Previous_day_demand</th>\n",
              "      <th>Previous_2day_demand</th>\n",
              "      <th>Previous_3day_demand</th>\n",
              "      <th>Previous_4day_demand</th>\n",
              "      <th>Previous_5day_demand</th>\n",
              "      <th>Previous_6day_demand</th>\n",
              "      <th>Previous_week_demand</th>\n",
              "      <th>...</th>\n",
              "      <th>Previous_9day_demand</th>\n",
              "      <th>Previous_10day_demand</th>\n",
              "      <th>Previous_11day_demand</th>\n",
              "      <th>Previous_12day_demand</th>\n",
              "      <th>Previous_13day_demand</th>\n",
              "      <th>Previous_2week_demand</th>\n",
              "      <th>Previous_week_max_demand</th>\n",
              "      <th>Previous_2week_max_demand</th>\n",
              "      <th>Day_of_week</th>\n",
              "      <th>Day_of_month</th>\n",
              "    </tr>\n",
              "  </thead>\n",
              "  <tbody>\n",
              "    <tr>\n",
              "      <th>90</th>\n",
              "      <td>1</td>\n",
              "      <td>2023-04-01</td>\n",
              "      <td>13.0</td>\n",
              "      <td>13.0</td>\n",
              "      <td>13.0</td>\n",
              "      <td>7.0</td>\n",
              "      <td>14.0</td>\n",
              "      <td>3.0</td>\n",
              "      <td>14.0</td>\n",
              "      <td>15.0</td>\n",
              "      <td>...</td>\n",
              "      <td>21.0</td>\n",
              "      <td>9.0</td>\n",
              "      <td>6.0</td>\n",
              "      <td>14.0</td>\n",
              "      <td>33.0</td>\n",
              "      <td>25.0</td>\n",
              "      <td>14.0</td>\n",
              "      <td>33.0</td>\n",
              "      <td>5</td>\n",
              "      <td>1</td>\n",
              "    </tr>\n",
              "    <tr>\n",
              "      <th>91</th>\n",
              "      <td>1</td>\n",
              "      <td>2023-04-02</td>\n",
              "      <td>17.0</td>\n",
              "      <td>13.0</td>\n",
              "      <td>13.0</td>\n",
              "      <td>13.0</td>\n",
              "      <td>7.0</td>\n",
              "      <td>14.0</td>\n",
              "      <td>3.0</td>\n",
              "      <td>14.0</td>\n",
              "      <td>...</td>\n",
              "      <td>9.0</td>\n",
              "      <td>21.0</td>\n",
              "      <td>9.0</td>\n",
              "      <td>6.0</td>\n",
              "      <td>14.0</td>\n",
              "      <td>33.0</td>\n",
              "      <td>17.0</td>\n",
              "      <td>21.0</td>\n",
              "      <td>6</td>\n",
              "      <td>2</td>\n",
              "    </tr>\n",
              "    <tr>\n",
              "      <th>92</th>\n",
              "      <td>1</td>\n",
              "      <td>2023-04-03</td>\n",
              "      <td>9.0</td>\n",
              "      <td>17.0</td>\n",
              "      <td>13.0</td>\n",
              "      <td>13.0</td>\n",
              "      <td>13.0</td>\n",
              "      <td>7.0</td>\n",
              "      <td>14.0</td>\n",
              "      <td>3.0</td>\n",
              "      <td>...</td>\n",
              "      <td>15.0</td>\n",
              "      <td>9.0</td>\n",
              "      <td>21.0</td>\n",
              "      <td>9.0</td>\n",
              "      <td>6.0</td>\n",
              "      <td>14.0</td>\n",
              "      <td>17.0</td>\n",
              "      <td>21.0</td>\n",
              "      <td>0</td>\n",
              "      <td>3</td>\n",
              "    </tr>\n",
              "    <tr>\n",
              "      <th>93</th>\n",
              "      <td>1</td>\n",
              "      <td>2023-04-04</td>\n",
              "      <td>12.0</td>\n",
              "      <td>9.0</td>\n",
              "      <td>17.0</td>\n",
              "      <td>13.0</td>\n",
              "      <td>13.0</td>\n",
              "      <td>13.0</td>\n",
              "      <td>7.0</td>\n",
              "      <td>14.0</td>\n",
              "      <td>...</td>\n",
              "      <td>14.0</td>\n",
              "      <td>15.0</td>\n",
              "      <td>9.0</td>\n",
              "      <td>21.0</td>\n",
              "      <td>9.0</td>\n",
              "      <td>6.0</td>\n",
              "      <td>17.0</td>\n",
              "      <td>21.0</td>\n",
              "      <td>1</td>\n",
              "      <td>4</td>\n",
              "    </tr>\n",
              "    <tr>\n",
              "      <th>94</th>\n",
              "      <td>1</td>\n",
              "      <td>2023-04-05</td>\n",
              "      <td>18.0</td>\n",
              "      <td>12.0</td>\n",
              "      <td>9.0</td>\n",
              "      <td>17.0</td>\n",
              "      <td>13.0</td>\n",
              "      <td>13.0</td>\n",
              "      <td>13.0</td>\n",
              "      <td>7.0</td>\n",
              "      <td>...</td>\n",
              "      <td>3.0</td>\n",
              "      <td>14.0</td>\n",
              "      <td>15.0</td>\n",
              "      <td>9.0</td>\n",
              "      <td>21.0</td>\n",
              "      <td>9.0</td>\n",
              "      <td>18.0</td>\n",
              "      <td>21.0</td>\n",
              "      <td>2</td>\n",
              "      <td>5</td>\n",
              "    </tr>\n",
              "  </tbody>\n",
              "</table>\n",
              "<p>5 rows × 21 columns</p>\n",
              "</div>"
            ],
            "text/plain": [
              "    Location       Date  Demand  Previous_day_demand  Previous_2day_demand  \\\n",
              "90         1 2023-04-01    13.0                 13.0                  13.0   \n",
              "91         1 2023-04-02    17.0                 13.0                  13.0   \n",
              "92         1 2023-04-03     9.0                 17.0                  13.0   \n",
              "93         1 2023-04-04    12.0                  9.0                  17.0   \n",
              "94         1 2023-04-05    18.0                 12.0                   9.0   \n",
              "\n",
              "    Previous_3day_demand  Previous_4day_demand  Previous_5day_demand  \\\n",
              "90                   7.0                  14.0                   3.0   \n",
              "91                  13.0                   7.0                  14.0   \n",
              "92                  13.0                  13.0                   7.0   \n",
              "93                  13.0                  13.0                  13.0   \n",
              "94                  17.0                  13.0                  13.0   \n",
              "\n",
              "    Previous_6day_demand  Previous_week_demand  ...  Previous_9day_demand  \\\n",
              "90                  14.0                  15.0  ...                  21.0   \n",
              "91                   3.0                  14.0  ...                   9.0   \n",
              "92                  14.0                   3.0  ...                  15.0   \n",
              "93                   7.0                  14.0  ...                  14.0   \n",
              "94                  13.0                   7.0  ...                   3.0   \n",
              "\n",
              "    Previous_10day_demand  Previous_11day_demand  Previous_12day_demand  \\\n",
              "90                    9.0                    6.0                   14.0   \n",
              "91                   21.0                    9.0                    6.0   \n",
              "92                    9.0                   21.0                    9.0   \n",
              "93                   15.0                    9.0                   21.0   \n",
              "94                   14.0                   15.0                    9.0   \n",
              "\n",
              "    Previous_13day_demand  Previous_2week_demand  Previous_week_max_demand  \\\n",
              "90                   33.0                   25.0                      14.0   \n",
              "91                   14.0                   33.0                      17.0   \n",
              "92                    6.0                   14.0                      17.0   \n",
              "93                    9.0                    6.0                      17.0   \n",
              "94                   21.0                    9.0                      18.0   \n",
              "\n",
              "    Previous_2week_max_demand  Day_of_week  Day_of_month  \n",
              "90                       33.0            5             1  \n",
              "91                       21.0            6             2  \n",
              "92                       21.0            0             3  \n",
              "93                       21.0            1             4  \n",
              "94                       21.0            2             5  \n",
              "\n",
              "[5 rows x 21 columns]"
            ]
          },
<<<<<<< HEAD
          "execution_count": 16,
=======
          "execution_count": 15,
>>>>>>> 9e0f5f9364ea8619c26c3fc73367e339d02cc05b
          "metadata": {},
          "output_type": "execute_result"
        }
      ],
      "source": [
        "print(f'test dataframe shape : {test_df.shape}')\n",
        "test_df.head()"
      ]
    },
    {
      "cell_type": "markdown",
      "metadata": {
        "id": "xf8ChW_7wGmL"
      },
      "source": [
        "# Model Training"
      ]
    },
    {
      "cell_type": "markdown",
      "metadata": {
        "id": "PxYfxyCHz_Z3"
      },
      "source": [
        "### **Ridge Regression**"
      ]
    },
    {
      "cell_type": "markdown",
      "metadata": {
        "id": "CJn4YIBtKcL_"
      },
      "source": [
        "#### Model Tuning"
      ]
    },
    {
      "cell_type": "code",
<<<<<<< HEAD
      "execution_count": 17,
=======
      "execution_count": 16,
>>>>>>> 9e0f5f9364ea8619c26c3fc73367e339d02cc05b
      "metadata": {
        "id": "sOMPo5ryBm8g"
      },
      "outputs": [],
      "source": [
        "def grid_search(model, test_parameters, train_data, cv = None, feature_list = FEATURE_LIST):\n",
        "    gs = GridSearchCV(\n",
        "        estimator = model, \n",
        "        param_grid = test_parameters, \n",
        "        scoring = 'neg_root_mean_squared_error', \n",
        "        cv = cv, \n",
        "        n_jobs = -1\n",
        "        )\n",
        "    \n",
        "    gs.fit(train_data[feature_list], train_data['Demand'])\n",
        "    return gs.best_params_, gs.best_score_"
      ]
    },
    {
      "cell_type": "code",
<<<<<<< HEAD
      "execution_count": 18,
=======
      "execution_count": 17,
>>>>>>> 9e0f5f9364ea8619c26c3fc73367e339d02cc05b
      "metadata": {},
      "outputs": [
        {
          "name": "stdout",
          "output_type": "stream",
          "text": [
            "{'alpha': 100} -88.3402987802724\n"
          ]
        }
      ],
      "source": [
        "model = Ridge()\n",
        "best_params, best_score = grid_search(\n",
        "    model, \n",
        "    {'alpha':[0, 1, 10, 100]},\n",
        "    train_df, \n",
        "    cv = 5, \n",
        "    feature_list = FEATURE_LIST\n",
        "    )\n",
        "\n",
        "print(best_params, best_score)"
      ]
    },
    {
      "cell_type": "markdown",
      "metadata": {
        "id": "AxN2E_9Q1yHS"
      },
      "source": [
        "#### Prediction"
      ]
    },
    {
      "cell_type": "code",
<<<<<<< HEAD
      "execution_count": 19,
=======
      "execution_count": 18,
>>>>>>> 9e0f5f9364ea8619c26c3fc73367e339d02cc05b
      "metadata": {
        "id": "pbhM5Oe6PjW7"
      },
      "outputs": [],
      "source": [
        "def model_predict(model, train_data, test_data, feature_list):\n",
        "\n",
        "    model.fit(train_data[feature_list], train_data['Demand'])\n",
        "\n",
        "    train_predict_df = model.predict(train_data[feature_list])\n",
        "    test_predict_df = model.predict(test_data[feature_list])\n",
        "\n",
        "    return train_predict_df, test_predict_df"
      ]
    },
    {
      "cell_type": "code",
<<<<<<< HEAD
      "execution_count": 20,
=======
      "execution_count": 19,
>>>>>>> 9e0f5f9364ea8619c26c3fc73367e339d02cc05b
      "metadata": {
        "id": "MulwYZc7LK7v"
      },
      "outputs": [],
      "source": [
        "model = Ridge(**best_params)\n",
        "train_prediction_df , test_prediction_df = model_predict(model, train_df, test_df, FEATURE_LIST)"
      ]
    },
    {
      "cell_type": "markdown",
      "metadata": {
        "id": "jJYHtg2oRqvS"
      },
      "source": [
        "#### Visualization"
      ]
    },
    {
      "cell_type": "code",
<<<<<<< HEAD
      "execution_count": 21,
      "metadata": {},
      "outputs": [],
      "source": [
        "def add_day_of_year(data):\n",
        "    data['day_year'] = 0\n",
        "    start_date = data['Date'].min()\n",
        "\n",
        "    for index, row in data.iterrows():\n",
        "\n",
        "        curr_date = row['Date']\n",
        "        day_number = (curr_date - start_date).days\n",
        "\n",
        "        data.at[index, 'day_year'] = day_number\n",
        "    return data"
      ]
    },
    {
      "cell_type": "code",
      "execution_count": 22,
=======
      "execution_count": 20,
>>>>>>> 9e0f5f9364ea8619c26c3fc73367e339d02cc05b
      "metadata": {
        "id": "ao6nw8xsRvB9"
      },
      "outputs": [],
      "source": [
        "def prediction_visualization(train_data, test_data, train_prediction_df, test_prediction_df):\n",
        "\n",
        "    train_data['Day_of_year'] = train_data['Date'].dt.dayofyear\n",
        "    test_data['Day_of_year'] = test_data['Date'].dt.dayofyear\n",
        "\n",
        "    predicted_train_df = train_data\n",
        "    predicted_test_df = test_data\n",
        "    predicted_train_df['Predicted'] = train_prediction_df\n",
        "    predicted_test_df['Predicted'] = test_prediction_df\n",
        "\n",
        "    train_data = train_data.groupby('Day_of_year')['Demand'].sum()\n",
        "    test_data = test_data.groupby('Day_of_year')['Demand'].sum()\n",
        "    predicted_train_df = predicted_train_df.groupby('Day_of_year')['Predicted'].sum()\n",
        "    predicted_test_df = predicted_test_df.groupby('Day_of_year')['Predicted'].sum()\n",
        "\n",
        "    plt.title('Train')\n",
        "    plt.plot(train_data)\n",
        "    plt.plot(predicted_train_df)\n",
        "    plt.legend([\"Real Value\", \"Predicted\"], loc =\"lower right\")\n",
        "    plt.show()\n",
        "\n",
        "    plot_length = len(test_data)\n",
        "    plt.title('Test')\n",
        "    plt.plot(test_data)\n",
        "    plt.plot(predicted_test_df)\n",
        "    plt.legend([\"Real Value\", \"Predicted\"], loc =\"lower right\")\n",
        "    plt.show()"
      ]
    },
    {
      "cell_type": "code",
<<<<<<< HEAD
      "execution_count": 23,
=======
      "execution_count": 21,
>>>>>>> 9e0f5f9364ea8619c26c3fc73367e339d02cc05b
      "metadata": {
        "colab": {
          "base_uri": "https://localhost:8080/",
          "height": 887
        },
        "id": "gOyNantNRtda",
        "outputId": "dc7796cf-c196-421d-bd56-1d312334dee4"
      },
      "outputs": [
        {
          "name": "stderr",
          "output_type": "stream",
          "text": [
<<<<<<< HEAD
            "C:\\Users\\bardia\\AppData\\Local\\Temp\\ipykernel_4908\\2975102461.py:2: SettingWithCopyWarning: \n",
=======
            "C:\\Users\\NPC\\AppData\\Local\\Temp\\ipykernel_7248\\242743045.py:3: SettingWithCopyWarning: \n",
>>>>>>> 9e0f5f9364ea8619c26c3fc73367e339d02cc05b
            "A value is trying to be set on a copy of a slice from a DataFrame.\n",
            "Try using .loc[row_indexer,col_indexer] = value instead\n",
            "\n",
            "See the caveats in the documentation: https://pandas.pydata.org/pandas-docs/stable/user_guide/indexing.html#returning-a-view-versus-a-copy\n",
<<<<<<< HEAD
            "  data['day_year'] = 0\n",
            "C:\\Users\\bardia\\AppData\\Local\\Temp\\ipykernel_4908\\2975102461.py:2: SettingWithCopyWarning: \n",
=======
            "  train_data['Day_of_year'] = train_data['Date'].dt.dayofyear\n",
            "C:\\Users\\NPC\\AppData\\Local\\Temp\\ipykernel_7248\\242743045.py:4: SettingWithCopyWarning: \n",
>>>>>>> 9e0f5f9364ea8619c26c3fc73367e339d02cc05b
            "A value is trying to be set on a copy of a slice from a DataFrame.\n",
            "Try using .loc[row_indexer,col_indexer] = value instead\n",
            "\n",
            "See the caveats in the documentation: https://pandas.pydata.org/pandas-docs/stable/user_guide/indexing.html#returning-a-view-versus-a-copy\n",
<<<<<<< HEAD
            "  data['day_year'] = 0\n",
            "C:\\Users\\bardia\\AppData\\Local\\Temp\\ipykernel_4908\\2246591508.py:9: SettingWithCopyWarning: \n",
=======
            "  test_data['Day_of_year'] = test_data['Date'].dt.dayofyear\n",
            "C:\\Users\\NPC\\AppData\\Local\\Temp\\ipykernel_7248\\242743045.py:8: SettingWithCopyWarning: \n",
>>>>>>> 9e0f5f9364ea8619c26c3fc73367e339d02cc05b
            "A value is trying to be set on a copy of a slice from a DataFrame.\n",
            "Try using .loc[row_indexer,col_indexer] = value instead\n",
            "\n",
            "See the caveats in the documentation: https://pandas.pydata.org/pandas-docs/stable/user_guide/indexing.html#returning-a-view-versus-a-copy\n",
            "  predicted_train_df['Predicted'] = train_prediction_df\n",
<<<<<<< HEAD
            "C:\\Users\\bardia\\AppData\\Local\\Temp\\ipykernel_4908\\2246591508.py:10: SettingWithCopyWarning: \n",
=======
            "C:\\Users\\NPC\\AppData\\Local\\Temp\\ipykernel_7248\\242743045.py:9: SettingWithCopyWarning: \n",
>>>>>>> 9e0f5f9364ea8619c26c3fc73367e339d02cc05b
            "A value is trying to be set on a copy of a slice from a DataFrame.\n",
            "Try using .loc[row_indexer,col_indexer] = value instead\n",
            "\n",
            "See the caveats in the documentation: https://pandas.pydata.org/pandas-docs/stable/user_guide/indexing.html#returning-a-view-versus-a-copy\n",
            "  predicted_test_df['Predicted'] = test_prediction_df\n"
          ]
        },
        {
          "data": {
            "image/png": "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",
            "text/plain": [
              "<Figure size 432x288 with 1 Axes>"
            ]
          },
          "metadata": {
            "needs_background": "light"
          },
          "output_type": "display_data"
        },
        {
          "data": {
            "image/png": "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",
            "text/plain": [
              "<Figure size 432x288 with 1 Axes>"
            ]
          },
          "metadata": {
            "needs_background": "light"
          },
          "output_type": "display_data"
        }
      ],
      "source": [
        "prediction_visualization(train_df, test_df, train_prediction_df, test_prediction_df)"
      ]
    },
    {
      "cell_type": "markdown",
      "metadata": {
        "id": "RBsqB5hnSuPP"
      },
      "source": [
        "#### Evaluation"
      ]
    },
    {
      "cell_type": "code",
<<<<<<< HEAD
      "execution_count": 24,
=======
      "execution_count": 22,
>>>>>>> 9e0f5f9364ea8619c26c3fc73367e339d02cc05b
      "metadata": {
        "id": "BcGvcilUWEEC"
      },
      "outputs": [],
      "source": [
        "def evaluate(metric, metric_name, true_values, predicted_values):\n",
        "    print(f'{metric_name} : {metric(true_values, predicted_values)}')"
      ]
    },
    {
      "cell_type": "code",
<<<<<<< HEAD
      "execution_count": 25,
=======
      "execution_count": 23,
>>>>>>> 9e0f5f9364ea8619c26c3fc73367e339d02cc05b
      "metadata": {
        "id": "v4-GWghuSbnA"
      },
      "outputs": [],
      "source": [
        "def evaluation(model_name, train_data, test_data, train_prediction_df, test_prediction_df):\n",
        "    print(f'{model_name} train scores:')\n",
        "\n",
        "    evaluate(mean_absolute_error, 'MAE', train_data['Demand'], train_prediction_df)\n",
        "    evaluate(mean_squared_error, 'MSE', train_data['Demand'], train_prediction_df)\n",
        "    evaluate(mean_absolute_percentage_error, 'MAPE', train_data['Demand'], train_prediction_df)\n",
        "\n",
        "    print(f'\\n{model_name} test scores:')\n",
        "\n",
        "    evaluate(mean_absolute_error, 'MAE', test_data['Demand'], test_prediction_df)\n",
        "    evaluate(mean_squared_error, 'MSE', test_data['Demand'], test_prediction_df)\n",
        "    evaluate(mean_absolute_percentage_error, 'MAPE', test_data['Demand'], test_prediction_df)\n"
      ]
    },
    {
      "cell_type": "code",
<<<<<<< HEAD
      "execution_count": 26,
=======
      "execution_count": 24,
>>>>>>> 9e0f5f9364ea8619c26c3fc73367e339d02cc05b
      "metadata": {
        "colab": {
          "base_uri": "https://localhost:8080/"
        },
        "id": "vUBqNgIwSwKe",
        "outputId": "c05d64b8-b525-458d-96db-757e94a57d89"
      },
      "outputs": [
        {
          "name": "stdout",
          "output_type": "stream",
          "text": [
            "Ridge Regression train scores:\n",
            "MAE : 28.805177269405547\n",
            "MSE : 8461.673596903433\n",
            "MAPE : 714630809575304.9\n",
            "\n",
            "Ridge Regression test scores:\n",
            "MAE : 29.439685926076905\n",
            "MSE : 7778.729964835561\n",
            "MAPE : 712041957861758.5\n"
          ]
        }
      ],
      "source": [
        "evaluation('Ridge Regression', train_df, test_df, train_prediction_df, test_prediction_df)"
      ]
    },
    {
      "cell_type": "markdown",
      "metadata": {},
      "source": [
        "# File Saving"
      ]
    },
    {
      "cell_type": "code",
<<<<<<< HEAD
      "execution_count": 27,
=======
      "execution_count": 25,
>>>>>>> 9e0f5f9364ea8619c26c3fc73367e339d02cc05b
      "metadata": {},
      "outputs": [],
      "source": [
        "def save_predictions(dataset, path):\n",
        "    dataset.to_parquet(path, index=False)"
      ]
    },
    {
      "cell_type": "code",
<<<<<<< HEAD
      "execution_count": 28,
=======
      "execution_count": 26,
>>>>>>> 9e0f5f9364ea8619c26c3fc73367e339d02cc05b
      "metadata": {},
      "outputs": [],
      "source": [
        "def prediction_labeling(pred_df, labeled_df):\n",
        "    pred_df = pd.DataFrame(pred_df, columns = ['Predicted_demand'])\n",
        "    labeled_df.reset_index(inplace = True)\n",
        "    labeled_prediction_df = labeled_df[['Location', 'Date']]\n",
        "    labeled_prediction_df['Predicted_demand'] = pred_df\n",
        "    return labeled_prediction_df"
      ]
    },
    {
      "cell_type": "code",
<<<<<<< HEAD
      "execution_count": 29,
=======
      "execution_count": 27,
>>>>>>> 9e0f5f9364ea8619c26c3fc73367e339d02cc05b
      "metadata": {},
      "outputs": [
        {
          "name": "stderr",
          "output_type": "stream",
          "text": [
<<<<<<< HEAD
            "C:\\Users\\bardia\\AppData\\Local\\Temp\\ipykernel_4908\\1857597426.py:5: SettingWithCopyWarning: \n",
=======
            "C:\\Users\\NPC\\AppData\\Local\\Temp\\ipykernel_7248\\1857597426.py:5: SettingWithCopyWarning: \n",
>>>>>>> 9e0f5f9364ea8619c26c3fc73367e339d02cc05b
            "A value is trying to be set on a copy of a slice from a DataFrame.\n",
            "Try using .loc[row_indexer,col_indexer] = value instead\n",
            "\n",
            "See the caveats in the documentation: https://pandas.pydata.org/pandas-docs/stable/user_guide/indexing.html#returning-a-view-versus-a-copy\n",
            "  labeled_prediction_df['Predicted_demand'] = pred_df\n",
<<<<<<< HEAD
            "C:\\Users\\bardia\\AppData\\Local\\Temp\\ipykernel_4908\\1857597426.py:5: SettingWithCopyWarning: \n",
=======
            "C:\\Users\\NPC\\AppData\\Local\\Temp\\ipykernel_7248\\1857597426.py:5: SettingWithCopyWarning: \n",
>>>>>>> 9e0f5f9364ea8619c26c3fc73367e339d02cc05b
            "A value is trying to be set on a copy of a slice from a DataFrame.\n",
            "Try using .loc[row_indexer,col_indexer] = value instead\n",
            "\n",
            "See the caveats in the documentation: https://pandas.pydata.org/pandas-docs/stable/user_guide/indexing.html#returning-a-view-versus-a-copy\n",
            "  labeled_prediction_df['Predicted_demand'] = pred_df\n"
          ]
        }
      ],
      "source": [
        "labeled_test_prediction_df = prediction_labeling(test_prediction_df, test_df)\n",
        "labeled_train_prediction_df = prediction_labeling(train_prediction_df, train_df)"
      ]
    },
    {
      "cell_type": "code",
<<<<<<< HEAD
      "execution_count": 30,
=======
      "execution_count": 28,
>>>>>>> 9e0f5f9364ea8619c26c3fc73367e339d02cc05b
      "metadata": {},
      "outputs": [
        {
          "name": "stdout",
          "output_type": "stream",
          "text": [
            "labeled prediction dataframe shape : (7860, 3)\n"
          ]
        },
        {
          "data": {
            "text/html": [
              "<div>\n",
              "<style scoped>\n",
              "    .dataframe tbody tr th:only-of-type {\n",
              "        vertical-align: middle;\n",
              "    }\n",
              "\n",
              "    .dataframe tbody tr th {\n",
              "        vertical-align: top;\n",
              "    }\n",
              "\n",
              "    .dataframe thead th {\n",
              "        text-align: right;\n",
              "    }\n",
              "</style>\n",
              "<table border=\"1\" class=\"dataframe\">\n",
              "  <thead>\n",
              "    <tr style=\"text-align: right;\">\n",
              "      <th></th>\n",
              "      <th>Location</th>\n",
              "      <th>Date</th>\n",
              "      <th>Predicted_demand</th>\n",
              "    </tr>\n",
              "  </thead>\n",
              "  <tbody>\n",
              "    <tr>\n",
              "      <th>0</th>\n",
              "      <td>1</td>\n",
              "      <td>2023-04-01</td>\n",
              "      <td>16.058509</td>\n",
              "    </tr>\n",
              "    <tr>\n",
              "      <th>1</th>\n",
              "      <td>1</td>\n",
              "      <td>2023-04-02</td>\n",
              "      <td>19.940855</td>\n",
              "    </tr>\n",
              "    <tr>\n",
              "      <th>2</th>\n",
              "      <td>1</td>\n",
              "      <td>2023-04-03</td>\n",
              "      <td>10.172900</td>\n",
              "    </tr>\n",
              "    <tr>\n",
              "      <th>3</th>\n",
              "      <td>1</td>\n",
              "      <td>2023-04-04</td>\n",
              "      <td>10.371796</td>\n",
              "    </tr>\n",
              "    <tr>\n",
              "      <th>4</th>\n",
              "      <td>1</td>\n",
              "      <td>2023-04-05</td>\n",
              "      <td>9.977405</td>\n",
              "    </tr>\n",
              "  </tbody>\n",
              "</table>\n",
              "</div>"
            ],
            "text/plain": [
              "   Location       Date  Predicted_demand\n",
              "0         1 2023-04-01         16.058509\n",
              "1         1 2023-04-02         19.940855\n",
              "2         1 2023-04-03         10.172900\n",
              "3         1 2023-04-04         10.371796\n",
              "4         1 2023-04-05          9.977405"
            ]
          },
<<<<<<< HEAD
          "execution_count": 30,
=======
          "execution_count": 28,
>>>>>>> 9e0f5f9364ea8619c26c3fc73367e339d02cc05b
          "metadata": {},
          "output_type": "execute_result"
        }
      ],
      "source": [
        "print(f'labeled prediction dataframe shape : {labeled_test_prediction_df.shape}')\n",
        "labeled_test_prediction_df.head()"
      ]
    },
    {
      "cell_type": "code",
<<<<<<< HEAD
      "execution_count": 31,
=======
      "execution_count": 29,
>>>>>>> 9e0f5f9364ea8619c26c3fc73367e339d02cc05b
      "metadata": {},
      "outputs": [
        {
          "name": "stdout",
          "output_type": "stream",
          "text": [
            "labeled prediction dataframe shape : (19912, 3)\n"
          ]
        },
        {
          "data": {
            "text/html": [
              "<div>\n",
              "<style scoped>\n",
              "    .dataframe tbody tr th:only-of-type {\n",
              "        vertical-align: middle;\n",
              "    }\n",
              "\n",
              "    .dataframe tbody tr th {\n",
              "        vertical-align: top;\n",
              "    }\n",
              "\n",
              "    .dataframe thead th {\n",
              "        text-align: right;\n",
              "    }\n",
              "</style>\n",
              "<table border=\"1\" class=\"dataframe\">\n",
              "  <thead>\n",
              "    <tr style=\"text-align: right;\">\n",
              "      <th></th>\n",
              "      <th>Location</th>\n",
              "      <th>Date</th>\n",
              "      <th>Predicted_demand</th>\n",
              "    </tr>\n",
              "  </thead>\n",
              "  <tbody>\n",
              "    <tr>\n",
              "      <th>0</th>\n",
              "      <td>1</td>\n",
              "      <td>2023-01-15</td>\n",
              "      <td>20.237018</td>\n",
              "    </tr>\n",
              "    <tr>\n",
              "      <th>1</th>\n",
              "      <td>1</td>\n",
              "      <td>2023-01-16</td>\n",
              "      <td>23.753486</td>\n",
              "    </tr>\n",
              "    <tr>\n",
              "      <th>2</th>\n",
              "      <td>1</td>\n",
              "      <td>2023-01-17</td>\n",
              "      <td>16.325937</td>\n",
              "    </tr>\n",
              "    <tr>\n",
              "      <th>3</th>\n",
              "      <td>1</td>\n",
              "      <td>2023-01-18</td>\n",
              "      <td>13.698376</td>\n",
              "    </tr>\n",
              "    <tr>\n",
              "      <th>4</th>\n",
              "      <td>1</td>\n",
              "      <td>2023-01-19</td>\n",
              "      <td>13.702710</td>\n",
              "    </tr>\n",
              "  </tbody>\n",
              "</table>\n",
              "</div>"
            ],
            "text/plain": [
              "   Location       Date  Predicted_demand\n",
              "0         1 2023-01-15         20.237018\n",
              "1         1 2023-01-16         23.753486\n",
              "2         1 2023-01-17         16.325937\n",
              "3         1 2023-01-18         13.698376\n",
              "4         1 2023-01-19         13.702710"
            ]
          },
<<<<<<< HEAD
          "execution_count": 31,
=======
          "execution_count": 29,
>>>>>>> 9e0f5f9364ea8619c26c3fc73367e339d02cc05b
          "metadata": {},
          "output_type": "execute_result"
        }
      ],
      "source": [
        "print(f'labeled prediction dataframe shape : {labeled_train_prediction_df.shape}')\n",
        "labeled_train_prediction_df.head()"
      ]
    },
    {
      "cell_type": "code",
<<<<<<< HEAD
      "execution_count": 32,
=======
      "execution_count": 30,
>>>>>>> 9e0f5f9364ea8619c26c3fc73367e339d02cc05b
      "metadata": {},
      "outputs": [],
      "source": [
        "save_predictions(labeled_train_prediction_df, OUTPUT_PATH_TRAIN)\n",
        "save_predictions(labeled_test_prediction_df, OUTPUT_PATH_TEST)"
      ]
    }
  ],
  "metadata": {
    "colab": {
      "provenance": [],
      "toc_visible": true
    },
    "kernelspec": {
      "display_name": "Python 3",
      "name": "python3"
    },
    "language_info": {
      "codemirror_mode": {
        "name": "ipython",
        "version": 3
      },
      "file_extension": ".py",
      "mimetype": "text/x-python",
      "name": "python",
      "nbconvert_exporter": "python",
      "pygments_lexer": "ipython3",
      "version": "3.10.4"
    }
  },
  "nbformat": 4,
  "nbformat_minor": 0
}
