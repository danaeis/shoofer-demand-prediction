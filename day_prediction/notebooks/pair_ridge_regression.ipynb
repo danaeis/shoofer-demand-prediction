{
  "cells": [
    {
      "cell_type": "markdown",
      "metadata": {
        "id": "8UTIGpTZZlOO"
      },
      "source": [
        "# Imports"
      ]
    },
    {
      "cell_type": "code",
      "execution_count": 356,
      "metadata": {
        "id": "AnwSHO1L97I5"
      },
      "outputs": [],
      "source": [
        "import datetime\n",
        "import matplotlib.pyplot as plt\n",
        "import numpy as np\n",
        "import pandas as pd\n",
        "\n",
        "from sklearn.linear_model import Ridge\n",
        "from sklearn.linear_model import Lasso\n",
        "from sklearn.ensemble import RandomForestRegressor\n",
        "from sklearn.neighbors import KNeighborsRegressor\n",
        "from sklearn.metrics import mean_absolute_error, mean_squared_error, mean_absolute_percentage_error\n",
        "from sklearn.model_selection import GridSearchCV\n",
        "from itertools import product"
      ]
    },
    {
      "cell_type": "markdown",
      "metadata": {
        "id": "pSSMa3G2wGmF"
      },
      "source": [
        "# Configs"
      ]
    },
    {
      "cell_type": "code",
      "execution_count": 357,
      "metadata": {
        "id": "zIkDLK9zwGmG"
      },
      "outputs": [],
      "source": [
        "INPUT_PATH = 'data/pair_labels.parquet'\n",
        "OUTPUT_PATH = 'results/pairs_ridge_predictions.parquet'\n",
        "\n",
        "START_DATE = '2023-01-01'\n",
        "END_DATE = '2023-04-30'\n",
        "\n",
        "FEATURE_LIST = [\n",
        "                #'Ridge_predict',\n",
        "\n",
        "                'Previous_week_max_demand',\n",
        "                'Previous_2week_max_demand',\n",
        "\n",
        "                'Previous_2week_demand',\n",
        "                'Previous_week_demand', \n",
        "\n",
        "\n",
        "                'Previous_day_demand',\n",
        "                'Previous_2day_demand',\n",
        "                'Previous_3day_demand',\n",
        "                'Previous_4day_demand',\n",
        "                'Previous_5day_demand',\n",
        "                'Previous_6day_demand',\n",
        "                'Previous_8day_demand',\n",
        "                'Previous_9day_demand',\n",
        "                'Previous_10day_demand',\n",
        "                'Previous_11day_demand',\n",
        "                'Previous_12day_demand',\n",
        "                'Previous_13day_demand',\n",
        "\n",
        "                'Day_of_month', \n",
        "                'Day_of_week',\n",
        "                ]\n",
        "\n",
        "VALIDATION_START_DATE = '2023-03-21'\n",
        "TEST_START_DATE = '2023-04-01'\n",
        "\n",
        "AUTO_TUNE = False"
      ]
    },
    {
      "cell_type": "markdown",
      "metadata": {
        "id": "5eS5BQE9wGmK"
      },
      "source": [
        "# Data preparation\n"
      ]
    },
    {
      "cell_type": "markdown",
      "metadata": {
        "id": "X2ES_CY6-fb5"
      },
      "source": [
        "## Labeling"
      ]
    },
    {
      "cell_type": "code",
      "execution_count": 358,
      "metadata": {
        "id": "VVRLakW_LeGp"
      },
      "outputs": [],
      "source": [
        "labeled_df = pd.read_parquet(INPUT_PATH)"
      ]
    },
    {
      "cell_type": "code",
      "execution_count": 359,
      "metadata": {
        "id": "0Gm5j5em28Xy"
      },
      "outputs": [
        {
          "name": "stdout",
          "output_type": "stream",
          "text": [
            "labeled dataframe shape : (600, 4)\n"
          ]
        },
        {
          "data": {
            "text/html": [
              "<div>\n",
              "<style scoped>\n",
              "    .dataframe tbody tr th:only-of-type {\n",
              "        vertical-align: middle;\n",
              "    }\n",
              "\n",
              "    .dataframe tbody tr th {\n",
              "        vertical-align: top;\n",
              "    }\n",
              "\n",
              "    .dataframe thead th {\n",
              "        text-align: right;\n",
              "    }\n",
              "</style>\n",
              "<table border=\"1\" class=\"dataframe\">\n",
              "  <thead>\n",
              "    <tr style=\"text-align: right;\">\n",
              "      <th></th>\n",
              "      <th>PULocation</th>\n",
              "      <th>Date</th>\n",
              "      <th>DOLocation</th>\n",
              "      <th>Demand</th>\n",
              "    </tr>\n",
              "  </thead>\n",
              "  <tbody>\n",
              "    <tr>\n",
              "      <th>0</th>\n",
              "      <td>236</td>\n",
              "      <td>2023-01-01</td>\n",
              "      <td>236</td>\n",
              "      <td>153.0</td>\n",
              "    </tr>\n",
              "    <tr>\n",
              "      <th>1</th>\n",
              "      <td>236</td>\n",
              "      <td>2023-01-02</td>\n",
              "      <td>236</td>\n",
              "      <td>273.0</td>\n",
              "    </tr>\n",
              "    <tr>\n",
              "      <th>2</th>\n",
              "      <td>236</td>\n",
              "      <td>2023-01-03</td>\n",
              "      <td>236</td>\n",
              "      <td>490.0</td>\n",
              "    </tr>\n",
              "    <tr>\n",
              "      <th>3</th>\n",
              "      <td>236</td>\n",
              "      <td>2023-01-04</td>\n",
              "      <td>236</td>\n",
              "      <td>537.0</td>\n",
              "    </tr>\n",
              "    <tr>\n",
              "      <th>4</th>\n",
              "      <td>236</td>\n",
              "      <td>2023-01-05</td>\n",
              "      <td>236</td>\n",
              "      <td>522.0</td>\n",
              "    </tr>\n",
              "  </tbody>\n",
              "</table>\n",
              "</div>"
            ],
            "text/plain": [
              "   PULocation       Date  DOLocation  Demand\n",
              "0         236 2023-01-01         236   153.0\n",
              "1         236 2023-01-02         236   273.0\n",
              "2         236 2023-01-03         236   490.0\n",
              "3         236 2023-01-04         236   537.0\n",
              "4         236 2023-01-05         236   522.0"
            ]
          },
          "execution_count": 359,
          "metadata": {},
          "output_type": "execute_result"
        }
      ],
      "source": [
        "print(f'labeled dataframe shape : {labeled_df.shape}')\n",
        "labeled_df.head()"
      ]
    },
    {
      "cell_type": "markdown",
      "metadata": {
        "id": "G0W2pR-70JJb"
      },
      "source": [
        "## Add Feature"
      ]
    },
    {
      "cell_type": "code",
      "execution_count": 360,
      "metadata": {
        "id": "ifvk6uWS6hnT"
      },
      "outputs": [],
      "source": [
        "def feature_engineering(dataset):\n",
        "    dataset['Previous_day_demand'] = dataset.groupby(['PULocation', 'DOLocation'])['Demand'].shift(1)\n",
        "    dataset['Previous_2day_demand'] = dataset.groupby(['PULocation', 'DOLocation'])['Demand'].shift(2)\n",
        "    dataset['Previous_3day_demand'] = dataset.groupby(['PULocation', 'DOLocation'])['Demand'].shift(3)\n",
        "    dataset['Previous_4day_demand'] = dataset.groupby(['PULocation', 'DOLocation'])['Demand'].shift(4)\n",
        "    dataset['Previous_5day_demand'] = dataset.groupby(['PULocation', 'DOLocation'])['Demand'].shift(5)\n",
        "    dataset['Previous_6day_demand'] = dataset.groupby(['PULocation', 'DOLocation'])['Demand'].shift(6)\n",
        "    dataset['Previous_week_demand'] = dataset.groupby(['PULocation', 'DOLocation'])['Demand'].shift(7)\n",
        "    dataset['Previous_8day_demand'] = dataset.groupby(['PULocation', 'DOLocation'])['Demand'].shift(8)\n",
        "    dataset['Previous_9day_demand'] = dataset.groupby(['PULocation', 'DOLocation'])['Demand'].shift(9)\n",
        "    dataset['Previous_10day_demand'] = dataset.groupby(['PULocation', 'DOLocation'])['Demand'].shift(10)\n",
        "    dataset['Previous_11day_demand'] = dataset.groupby(['PULocation', 'DOLocation'])['Demand'].shift(11)\n",
        "    dataset['Previous_12day_demand'] = dataset.groupby(['PULocation', 'DOLocation'])['Demand'].shift(12)\n",
        "    dataset['Previous_13day_demand'] = dataset.groupby(['PULocation', 'DOLocation'])['Demand'].shift(13)\n",
        "    dataset['Previous_2week_demand'] = dataset.groupby(['PULocation', 'DOLocation'])['Demand'].shift(14)\n",
        "\n",
        "    dataset['Previous_week_max_demand'] = dataset.groupby(['PULocation', 'DOLocation'])['Demand'].rolling(window=7).max().reset_index(drop = True)\n",
        "    dataset['Previous_2week_max_demand'] = dataset.groupby(['PULocation', 'DOLocation'])['Demand'].rolling(window=14).max().reset_index(drop = True)\n",
        "\n",
        "    dataset['Day_of_week'] = dataset['Date'].dt.dayofweek   \n",
        "    dataset['Day_of_month'] = dataset['Date'].dt.day\n",
        "    \n",
        "    return dataset\n"
      ]
    },
    {
      "cell_type": "code",
      "execution_count": 361,
      "metadata": {
        "id": "12zNfv8YwGmK"
      },
      "outputs": [],
      "source": [
        "features_df = feature_engineering(labeled_df)\n",
        "features_df.dropna(inplace = True)"
      ]
    },
    {
      "cell_type": "code",
      "execution_count": 362,
      "metadata": {
        "id": "bJxWEkiD3VOZ"
      },
      "outputs": [
        {
          "name": "stdout",
          "output_type": "stream",
          "text": [
            "features dataframe shape : (530, 22)\n"
          ]
        },
        {
          "data": {
            "text/html": [
              "<div>\n",
              "<style scoped>\n",
              "    .dataframe tbody tr th:only-of-type {\n",
              "        vertical-align: middle;\n",
              "    }\n",
              "\n",
              "    .dataframe tbody tr th {\n",
              "        vertical-align: top;\n",
              "    }\n",
              "\n",
              "    .dataframe thead th {\n",
              "        text-align: right;\n",
              "    }\n",
              "</style>\n",
              "<table border=\"1\" class=\"dataframe\">\n",
              "  <thead>\n",
              "    <tr style=\"text-align: right;\">\n",
              "      <th></th>\n",
              "      <th>PULocation</th>\n",
              "      <th>Date</th>\n",
              "      <th>DOLocation</th>\n",
              "      <th>Demand</th>\n",
              "      <th>Previous_day_demand</th>\n",
              "      <th>Previous_2day_demand</th>\n",
              "      <th>Previous_3day_demand</th>\n",
              "      <th>Previous_4day_demand</th>\n",
              "      <th>Previous_5day_demand</th>\n",
              "      <th>Previous_6day_demand</th>\n",
              "      <th>...</th>\n",
              "      <th>Previous_9day_demand</th>\n",
              "      <th>Previous_10day_demand</th>\n",
              "      <th>Previous_11day_demand</th>\n",
              "      <th>Previous_12day_demand</th>\n",
              "      <th>Previous_13day_demand</th>\n",
              "      <th>Previous_2week_demand</th>\n",
              "      <th>Previous_week_max_demand</th>\n",
              "      <th>Previous_2week_max_demand</th>\n",
              "      <th>Day_of_week</th>\n",
              "      <th>Day_of_month</th>\n",
              "    </tr>\n",
              "  </thead>\n",
              "  <tbody>\n",
              "    <tr>\n",
              "      <th>14</th>\n",
              "      <td>236</td>\n",
              "      <td>2023-01-15</td>\n",
              "      <td>236</td>\n",
              "      <td>268.0</td>\n",
              "      <td>366.0</td>\n",
              "      <td>548.0</td>\n",
              "      <td>632.0</td>\n",
              "      <td>572.0</td>\n",
              "      <td>579.0</td>\n",
              "      <td>511.0</td>\n",
              "      <td>...</td>\n",
              "      <td>579.0</td>\n",
              "      <td>522.0</td>\n",
              "      <td>537.0</td>\n",
              "      <td>490.0</td>\n",
              "      <td>273.0</td>\n",
              "      <td>153.0</td>\n",
              "      <td>632.0</td>\n",
              "      <td>632.0</td>\n",
              "      <td>6</td>\n",
              "      <td>15</td>\n",
              "    </tr>\n",
              "    <tr>\n",
              "      <th>15</th>\n",
              "      <td>236</td>\n",
              "      <td>2023-01-16</td>\n",
              "      <td>236</td>\n",
              "      <td>343.0</td>\n",
              "      <td>268.0</td>\n",
              "      <td>366.0</td>\n",
              "      <td>548.0</td>\n",
              "      <td>632.0</td>\n",
              "      <td>572.0</td>\n",
              "      <td>579.0</td>\n",
              "      <td>...</td>\n",
              "      <td>442.0</td>\n",
              "      <td>579.0</td>\n",
              "      <td>522.0</td>\n",
              "      <td>537.0</td>\n",
              "      <td>490.0</td>\n",
              "      <td>273.0</td>\n",
              "      <td>632.0</td>\n",
              "      <td>632.0</td>\n",
              "      <td>0</td>\n",
              "      <td>16</td>\n",
              "    </tr>\n",
              "    <tr>\n",
              "      <th>16</th>\n",
              "      <td>236</td>\n",
              "      <td>2023-01-17</td>\n",
              "      <td>236</td>\n",
              "      <td>481.0</td>\n",
              "      <td>343.0</td>\n",
              "      <td>268.0</td>\n",
              "      <td>366.0</td>\n",
              "      <td>548.0</td>\n",
              "      <td>632.0</td>\n",
              "      <td>572.0</td>\n",
              "      <td>...</td>\n",
              "      <td>316.0</td>\n",
              "      <td>442.0</td>\n",
              "      <td>579.0</td>\n",
              "      <td>522.0</td>\n",
              "      <td>537.0</td>\n",
              "      <td>490.0</td>\n",
              "      <td>632.0</td>\n",
              "      <td>632.0</td>\n",
              "      <td>1</td>\n",
              "      <td>17</td>\n",
              "    </tr>\n",
              "    <tr>\n",
              "      <th>17</th>\n",
              "      <td>236</td>\n",
              "      <td>2023-01-18</td>\n",
              "      <td>236</td>\n",
              "      <td>562.0</td>\n",
              "      <td>481.0</td>\n",
              "      <td>343.0</td>\n",
              "      <td>268.0</td>\n",
              "      <td>366.0</td>\n",
              "      <td>548.0</td>\n",
              "      <td>632.0</td>\n",
              "      <td>...</td>\n",
              "      <td>511.0</td>\n",
              "      <td>316.0</td>\n",
              "      <td>442.0</td>\n",
              "      <td>579.0</td>\n",
              "      <td>522.0</td>\n",
              "      <td>537.0</td>\n",
              "      <td>632.0</td>\n",
              "      <td>632.0</td>\n",
              "      <td>2</td>\n",
              "      <td>18</td>\n",
              "    </tr>\n",
              "    <tr>\n",
              "      <th>18</th>\n",
              "      <td>236</td>\n",
              "      <td>2023-01-19</td>\n",
              "      <td>236</td>\n",
              "      <td>671.0</td>\n",
              "      <td>562.0</td>\n",
              "      <td>481.0</td>\n",
              "      <td>343.0</td>\n",
              "      <td>268.0</td>\n",
              "      <td>366.0</td>\n",
              "      <td>548.0</td>\n",
              "      <td>...</td>\n",
              "      <td>579.0</td>\n",
              "      <td>511.0</td>\n",
              "      <td>316.0</td>\n",
              "      <td>442.0</td>\n",
              "      <td>579.0</td>\n",
              "      <td>522.0</td>\n",
              "      <td>671.0</td>\n",
              "      <td>671.0</td>\n",
              "      <td>3</td>\n",
              "      <td>19</td>\n",
              "    </tr>\n",
              "  </tbody>\n",
              "</table>\n",
              "<p>5 rows × 22 columns</p>\n",
              "</div>"
            ],
            "text/plain": [
              "    PULocation       Date  DOLocation  Demand  Previous_day_demand  \\\n",
              "14         236 2023-01-15         236   268.0                366.0   \n",
              "15         236 2023-01-16         236   343.0                268.0   \n",
              "16         236 2023-01-17         236   481.0                343.0   \n",
              "17         236 2023-01-18         236   562.0                481.0   \n",
              "18         236 2023-01-19         236   671.0                562.0   \n",
              "\n",
              "    Previous_2day_demand  Previous_3day_demand  Previous_4day_demand  \\\n",
              "14                 548.0                 632.0                 572.0   \n",
              "15                 366.0                 548.0                 632.0   \n",
              "16                 268.0                 366.0                 548.0   \n",
              "17                 343.0                 268.0                 366.0   \n",
              "18                 481.0                 343.0                 268.0   \n",
              "\n",
              "    Previous_5day_demand  Previous_6day_demand  ...  Previous_9day_demand  \\\n",
              "14                 579.0                 511.0  ...                 579.0   \n",
              "15                 572.0                 579.0  ...                 442.0   \n",
              "16                 632.0                 572.0  ...                 316.0   \n",
              "17                 548.0                 632.0  ...                 511.0   \n",
              "18                 366.0                 548.0  ...                 579.0   \n",
              "\n",
              "    Previous_10day_demand  Previous_11day_demand  Previous_12day_demand  \\\n",
              "14                  522.0                  537.0                  490.0   \n",
              "15                  579.0                  522.0                  537.0   \n",
              "16                  442.0                  579.0                  522.0   \n",
              "17                  316.0                  442.0                  579.0   \n",
              "18                  511.0                  316.0                  442.0   \n",
              "\n",
              "    Previous_13day_demand  Previous_2week_demand  Previous_week_max_demand  \\\n",
              "14                  273.0                  153.0                     632.0   \n",
              "15                  490.0                  273.0                     632.0   \n",
              "16                  537.0                  490.0                     632.0   \n",
              "17                  522.0                  537.0                     632.0   \n",
              "18                  579.0                  522.0                     671.0   \n",
              "\n",
              "    Previous_2week_max_demand  Day_of_week  Day_of_month  \n",
              "14                      632.0            6            15  \n",
              "15                      632.0            0            16  \n",
              "16                      632.0            1            17  \n",
              "17                      632.0            2            18  \n",
              "18                      671.0            3            19  \n",
              "\n",
              "[5 rows x 22 columns]"
            ]
          },
          "execution_count": 362,
          "metadata": {},
          "output_type": "execute_result"
        }
      ],
      "source": [
        "print(f'features dataframe shape : {features_df.shape}')\n",
        "features_df.head()"
      ]
    },
    {
      "cell_type": "markdown",
      "metadata": {
        "id": "zN0kp6jw03DP"
      },
      "source": [
        "## Split Train and Test Data"
      ]
    },
    {
      "cell_type": "code",
      "execution_count": 363,
      "metadata": {
        "id": "CMY1G1lmwGmI"
      },
      "outputs": [],
      "source": [
        "def train_test_splitting(dataset, TEST_START_DATE):\n",
        "\n",
        "    train_df = dataset[dataset['Date'] < TEST_START_DATE]\n",
        "    test_df = dataset[dataset['Date'] >= TEST_START_DATE]\n",
        "\n",
        "    return train_df, test_df"
      ]
    },
    {
      "cell_type": "code",
      "execution_count": 364,
      "metadata": {
        "id": "3xH4VMGNwGmK"
      },
      "outputs": [],
      "source": [
        "train_df, test_df = train_test_splitting(features_df, TEST_START_DATE)"
      ]
    },
    {
      "cell_type": "code",
      "execution_count": 365,
      "metadata": {},
      "outputs": [],
      "source": [
        "grid_search_train_df, valid_df = train_test_splitting(train_df, VALIDATION_START_DATE) "
      ]
    },
    {
      "cell_type": "code",
      "execution_count": 366,
      "metadata": {
        "id": "xxGdRZfqwGmL",
        "outputId": "58609337-c472-48f5-c7fc-e9d7c17aba4f"
      },
      "outputs": [
        {
          "name": "stdout",
          "output_type": "stream",
          "text": [
            "train dataframe shape : (380, 22)\n"
          ]
        },
        {
          "data": {
            "text/html": [
              "<div>\n",
              "<style scoped>\n",
              "    .dataframe tbody tr th:only-of-type {\n",
              "        vertical-align: middle;\n",
              "    }\n",
              "\n",
              "    .dataframe tbody tr th {\n",
              "        vertical-align: top;\n",
              "    }\n",
              "\n",
              "    .dataframe thead th {\n",
              "        text-align: right;\n",
              "    }\n",
              "</style>\n",
              "<table border=\"1\" class=\"dataframe\">\n",
              "  <thead>\n",
              "    <tr style=\"text-align: right;\">\n",
              "      <th></th>\n",
              "      <th>PULocation</th>\n",
              "      <th>Date</th>\n",
              "      <th>DOLocation</th>\n",
              "      <th>Demand</th>\n",
              "      <th>Previous_day_demand</th>\n",
              "      <th>Previous_2day_demand</th>\n",
              "      <th>Previous_3day_demand</th>\n",
              "      <th>Previous_4day_demand</th>\n",
              "      <th>Previous_5day_demand</th>\n",
              "      <th>Previous_6day_demand</th>\n",
              "      <th>...</th>\n",
              "      <th>Previous_9day_demand</th>\n",
              "      <th>Previous_10day_demand</th>\n",
              "      <th>Previous_11day_demand</th>\n",
              "      <th>Previous_12day_demand</th>\n",
              "      <th>Previous_13day_demand</th>\n",
              "      <th>Previous_2week_demand</th>\n",
              "      <th>Previous_week_max_demand</th>\n",
              "      <th>Previous_2week_max_demand</th>\n",
              "      <th>Day_of_week</th>\n",
              "      <th>Day_of_month</th>\n",
              "    </tr>\n",
              "  </thead>\n",
              "  <tbody>\n",
              "    <tr>\n",
              "      <th>14</th>\n",
              "      <td>236</td>\n",
              "      <td>2023-01-15</td>\n",
              "      <td>236</td>\n",
              "      <td>268.0</td>\n",
              "      <td>366.0</td>\n",
              "      <td>548.0</td>\n",
              "      <td>632.0</td>\n",
              "      <td>572.0</td>\n",
              "      <td>579.0</td>\n",
              "      <td>511.0</td>\n",
              "      <td>...</td>\n",
              "      <td>579.0</td>\n",
              "      <td>522.0</td>\n",
              "      <td>537.0</td>\n",
              "      <td>490.0</td>\n",
              "      <td>273.0</td>\n",
              "      <td>153.0</td>\n",
              "      <td>632.0</td>\n",
              "      <td>632.0</td>\n",
              "      <td>6</td>\n",
              "      <td>15</td>\n",
              "    </tr>\n",
              "    <tr>\n",
              "      <th>15</th>\n",
              "      <td>236</td>\n",
              "      <td>2023-01-16</td>\n",
              "      <td>236</td>\n",
              "      <td>343.0</td>\n",
              "      <td>268.0</td>\n",
              "      <td>366.0</td>\n",
              "      <td>548.0</td>\n",
              "      <td>632.0</td>\n",
              "      <td>572.0</td>\n",
              "      <td>579.0</td>\n",
              "      <td>...</td>\n",
              "      <td>442.0</td>\n",
              "      <td>579.0</td>\n",
              "      <td>522.0</td>\n",
              "      <td>537.0</td>\n",
              "      <td>490.0</td>\n",
              "      <td>273.0</td>\n",
              "      <td>632.0</td>\n",
              "      <td>632.0</td>\n",
              "      <td>0</td>\n",
              "      <td>16</td>\n",
              "    </tr>\n",
              "    <tr>\n",
              "      <th>16</th>\n",
              "      <td>236</td>\n",
              "      <td>2023-01-17</td>\n",
              "      <td>236</td>\n",
              "      <td>481.0</td>\n",
              "      <td>343.0</td>\n",
              "      <td>268.0</td>\n",
              "      <td>366.0</td>\n",
              "      <td>548.0</td>\n",
              "      <td>632.0</td>\n",
              "      <td>572.0</td>\n",
              "      <td>...</td>\n",
              "      <td>316.0</td>\n",
              "      <td>442.0</td>\n",
              "      <td>579.0</td>\n",
              "      <td>522.0</td>\n",
              "      <td>537.0</td>\n",
              "      <td>490.0</td>\n",
              "      <td>632.0</td>\n",
              "      <td>632.0</td>\n",
              "      <td>1</td>\n",
              "      <td>17</td>\n",
              "    </tr>\n",
              "    <tr>\n",
              "      <th>17</th>\n",
              "      <td>236</td>\n",
              "      <td>2023-01-18</td>\n",
              "      <td>236</td>\n",
              "      <td>562.0</td>\n",
              "      <td>481.0</td>\n",
              "      <td>343.0</td>\n",
              "      <td>268.0</td>\n",
              "      <td>366.0</td>\n",
              "      <td>548.0</td>\n",
              "      <td>632.0</td>\n",
              "      <td>...</td>\n",
              "      <td>511.0</td>\n",
              "      <td>316.0</td>\n",
              "      <td>442.0</td>\n",
              "      <td>579.0</td>\n",
              "      <td>522.0</td>\n",
              "      <td>537.0</td>\n",
              "      <td>632.0</td>\n",
              "      <td>632.0</td>\n",
              "      <td>2</td>\n",
              "      <td>18</td>\n",
              "    </tr>\n",
              "    <tr>\n",
              "      <th>18</th>\n",
              "      <td>236</td>\n",
              "      <td>2023-01-19</td>\n",
              "      <td>236</td>\n",
              "      <td>671.0</td>\n",
              "      <td>562.0</td>\n",
              "      <td>481.0</td>\n",
              "      <td>343.0</td>\n",
              "      <td>268.0</td>\n",
              "      <td>366.0</td>\n",
              "      <td>548.0</td>\n",
              "      <td>...</td>\n",
              "      <td>579.0</td>\n",
              "      <td>511.0</td>\n",
              "      <td>316.0</td>\n",
              "      <td>442.0</td>\n",
              "      <td>579.0</td>\n",
              "      <td>522.0</td>\n",
              "      <td>671.0</td>\n",
              "      <td>671.0</td>\n",
              "      <td>3</td>\n",
              "      <td>19</td>\n",
              "    </tr>\n",
              "  </tbody>\n",
              "</table>\n",
              "<p>5 rows × 22 columns</p>\n",
              "</div>"
            ],
            "text/plain": [
              "    PULocation       Date  DOLocation  Demand  Previous_day_demand  \\\n",
              "14         236 2023-01-15         236   268.0                366.0   \n",
              "15         236 2023-01-16         236   343.0                268.0   \n",
              "16         236 2023-01-17         236   481.0                343.0   \n",
              "17         236 2023-01-18         236   562.0                481.0   \n",
              "18         236 2023-01-19         236   671.0                562.0   \n",
              "\n",
              "    Previous_2day_demand  Previous_3day_demand  Previous_4day_demand  \\\n",
              "14                 548.0                 632.0                 572.0   \n",
              "15                 366.0                 548.0                 632.0   \n",
              "16                 268.0                 366.0                 548.0   \n",
              "17                 343.0                 268.0                 366.0   \n",
              "18                 481.0                 343.0                 268.0   \n",
              "\n",
              "    Previous_5day_demand  Previous_6day_demand  ...  Previous_9day_demand  \\\n",
              "14                 579.0                 511.0  ...                 579.0   \n",
              "15                 572.0                 579.0  ...                 442.0   \n",
              "16                 632.0                 572.0  ...                 316.0   \n",
              "17                 548.0                 632.0  ...                 511.0   \n",
              "18                 366.0                 548.0  ...                 579.0   \n",
              "\n",
              "    Previous_10day_demand  Previous_11day_demand  Previous_12day_demand  \\\n",
              "14                  522.0                  537.0                  490.0   \n",
              "15                  579.0                  522.0                  537.0   \n",
              "16                  442.0                  579.0                  522.0   \n",
              "17                  316.0                  442.0                  579.0   \n",
              "18                  511.0                  316.0                  442.0   \n",
              "\n",
              "    Previous_13day_demand  Previous_2week_demand  Previous_week_max_demand  \\\n",
              "14                  273.0                  153.0                     632.0   \n",
              "15                  490.0                  273.0                     632.0   \n",
              "16                  537.0                  490.0                     632.0   \n",
              "17                  522.0                  537.0                     632.0   \n",
              "18                  579.0                  522.0                     671.0   \n",
              "\n",
              "    Previous_2week_max_demand  Day_of_week  Day_of_month  \n",
              "14                      632.0            6            15  \n",
              "15                      632.0            0            16  \n",
              "16                      632.0            1            17  \n",
              "17                      632.0            2            18  \n",
              "18                      671.0            3            19  \n",
              "\n",
              "[5 rows x 22 columns]"
            ]
          },
          "execution_count": 366,
          "metadata": {},
          "output_type": "execute_result"
        }
      ],
      "source": [
        "print(f'train dataframe shape : {train_df.shape}')\n",
        "train_df.head()"
      ]
    },
    {
      "cell_type": "code",
      "execution_count": 367,
      "metadata": {},
      "outputs": [
        {
          "name": "stdout",
          "output_type": "stream",
          "text": [
            "validation dataframe shape : (55, 22)\n"
          ]
        },
        {
          "data": {
            "text/html": [
              "<div>\n",
              "<style scoped>\n",
              "    .dataframe tbody tr th:only-of-type {\n",
              "        vertical-align: middle;\n",
              "    }\n",
              "\n",
              "    .dataframe tbody tr th {\n",
              "        vertical-align: top;\n",
              "    }\n",
              "\n",
              "    .dataframe thead th {\n",
              "        text-align: right;\n",
              "    }\n",
              "</style>\n",
              "<table border=\"1\" class=\"dataframe\">\n",
              "  <thead>\n",
              "    <tr style=\"text-align: right;\">\n",
              "      <th></th>\n",
              "      <th>PULocation</th>\n",
              "      <th>Date</th>\n",
              "      <th>DOLocation</th>\n",
              "      <th>Demand</th>\n",
              "      <th>Previous_day_demand</th>\n",
              "      <th>Previous_2day_demand</th>\n",
              "      <th>Previous_3day_demand</th>\n",
              "      <th>Previous_4day_demand</th>\n",
              "      <th>Previous_5day_demand</th>\n",
              "      <th>Previous_6day_demand</th>\n",
              "      <th>...</th>\n",
              "      <th>Previous_9day_demand</th>\n",
              "      <th>Previous_10day_demand</th>\n",
              "      <th>Previous_11day_demand</th>\n",
              "      <th>Previous_12day_demand</th>\n",
              "      <th>Previous_13day_demand</th>\n",
              "      <th>Previous_2week_demand</th>\n",
              "      <th>Previous_week_max_demand</th>\n",
              "      <th>Previous_2week_max_demand</th>\n",
              "      <th>Day_of_week</th>\n",
              "      <th>Day_of_month</th>\n",
              "    </tr>\n",
              "  </thead>\n",
              "  <tbody>\n",
              "    <tr>\n",
              "      <th>79</th>\n",
              "      <td>236</td>\n",
              "      <td>2023-03-21</td>\n",
              "      <td>236</td>\n",
              "      <td>401.0</td>\n",
              "      <td>389.0</td>\n",
              "      <td>286.0</td>\n",
              "      <td>372.0</td>\n",
              "      <td>540.0</td>\n",
              "      <td>605.0</td>\n",
              "      <td>662.0</td>\n",
              "      <td>...</td>\n",
              "      <td>311.0</td>\n",
              "      <td>398.0</td>\n",
              "      <td>655.0</td>\n",
              "      <td>625.0</td>\n",
              "      <td>638.0</td>\n",
              "      <td>585.0</td>\n",
              "      <td>662.0</td>\n",
              "      <td>662.0</td>\n",
              "      <td>1</td>\n",
              "      <td>21</td>\n",
              "    </tr>\n",
              "    <tr>\n",
              "      <th>80</th>\n",
              "      <td>236</td>\n",
              "      <td>2023-03-22</td>\n",
              "      <td>236</td>\n",
              "      <td>403.0</td>\n",
              "      <td>401.0</td>\n",
              "      <td>389.0</td>\n",
              "      <td>286.0</td>\n",
              "      <td>372.0</td>\n",
              "      <td>540.0</td>\n",
              "      <td>605.0</td>\n",
              "      <td>...</td>\n",
              "      <td>646.0</td>\n",
              "      <td>311.0</td>\n",
              "      <td>398.0</td>\n",
              "      <td>655.0</td>\n",
              "      <td>625.0</td>\n",
              "      <td>638.0</td>\n",
              "      <td>605.0</td>\n",
              "      <td>662.0</td>\n",
              "      <td>2</td>\n",
              "      <td>22</td>\n",
              "    </tr>\n",
              "    <tr>\n",
              "      <th>81</th>\n",
              "      <td>236</td>\n",
              "      <td>2023-03-23</td>\n",
              "      <td>236</td>\n",
              "      <td>449.0</td>\n",
              "      <td>403.0</td>\n",
              "      <td>401.0</td>\n",
              "      <td>389.0</td>\n",
              "      <td>286.0</td>\n",
              "      <td>372.0</td>\n",
              "      <td>540.0</td>\n",
              "      <td>...</td>\n",
              "      <td>607.0</td>\n",
              "      <td>646.0</td>\n",
              "      <td>311.0</td>\n",
              "      <td>398.0</td>\n",
              "      <td>655.0</td>\n",
              "      <td>625.0</td>\n",
              "      <td>540.0</td>\n",
              "      <td>662.0</td>\n",
              "      <td>3</td>\n",
              "      <td>23</td>\n",
              "    </tr>\n",
              "    <tr>\n",
              "      <th>82</th>\n",
              "      <td>236</td>\n",
              "      <td>2023-03-24</td>\n",
              "      <td>236</td>\n",
              "      <td>429.0</td>\n",
              "      <td>449.0</td>\n",
              "      <td>403.0</td>\n",
              "      <td>401.0</td>\n",
              "      <td>389.0</td>\n",
              "      <td>286.0</td>\n",
              "      <td>372.0</td>\n",
              "      <td>...</td>\n",
              "      <td>662.0</td>\n",
              "      <td>607.0</td>\n",
              "      <td>646.0</td>\n",
              "      <td>311.0</td>\n",
              "      <td>398.0</td>\n",
              "      <td>655.0</td>\n",
              "      <td>449.0</td>\n",
              "      <td>662.0</td>\n",
              "      <td>4</td>\n",
              "      <td>24</td>\n",
              "    </tr>\n",
              "    <tr>\n",
              "      <th>83</th>\n",
              "      <td>236</td>\n",
              "      <td>2023-03-25</td>\n",
              "      <td>236</td>\n",
              "      <td>313.0</td>\n",
              "      <td>429.0</td>\n",
              "      <td>449.0</td>\n",
              "      <td>403.0</td>\n",
              "      <td>401.0</td>\n",
              "      <td>389.0</td>\n",
              "      <td>286.0</td>\n",
              "      <td>...</td>\n",
              "      <td>605.0</td>\n",
              "      <td>662.0</td>\n",
              "      <td>607.0</td>\n",
              "      <td>646.0</td>\n",
              "      <td>311.0</td>\n",
              "      <td>398.0</td>\n",
              "      <td>449.0</td>\n",
              "      <td>662.0</td>\n",
              "      <td>5</td>\n",
              "      <td>25</td>\n",
              "    </tr>\n",
              "  </tbody>\n",
              "</table>\n",
              "<p>5 rows × 22 columns</p>\n",
              "</div>"
            ],
            "text/plain": [
              "    PULocation       Date  DOLocation  Demand  Previous_day_demand  \\\n",
              "79         236 2023-03-21         236   401.0                389.0   \n",
              "80         236 2023-03-22         236   403.0                401.0   \n",
              "81         236 2023-03-23         236   449.0                403.0   \n",
              "82         236 2023-03-24         236   429.0                449.0   \n",
              "83         236 2023-03-25         236   313.0                429.0   \n",
              "\n",
              "    Previous_2day_demand  Previous_3day_demand  Previous_4day_demand  \\\n",
              "79                 286.0                 372.0                 540.0   \n",
              "80                 389.0                 286.0                 372.0   \n",
              "81                 401.0                 389.0                 286.0   \n",
              "82                 403.0                 401.0                 389.0   \n",
              "83                 449.0                 403.0                 401.0   \n",
              "\n",
              "    Previous_5day_demand  Previous_6day_demand  ...  Previous_9day_demand  \\\n",
              "79                 605.0                 662.0  ...                 311.0   \n",
              "80                 540.0                 605.0  ...                 646.0   \n",
              "81                 372.0                 540.0  ...                 607.0   \n",
              "82                 286.0                 372.0  ...                 662.0   \n",
              "83                 389.0                 286.0  ...                 605.0   \n",
              "\n",
              "    Previous_10day_demand  Previous_11day_demand  Previous_12day_demand  \\\n",
              "79                  398.0                  655.0                  625.0   \n",
              "80                  311.0                  398.0                  655.0   \n",
              "81                  646.0                  311.0                  398.0   \n",
              "82                  607.0                  646.0                  311.0   \n",
              "83                  662.0                  607.0                  646.0   \n",
              "\n",
              "    Previous_13day_demand  Previous_2week_demand  Previous_week_max_demand  \\\n",
              "79                  638.0                  585.0                     662.0   \n",
              "80                  625.0                  638.0                     605.0   \n",
              "81                  655.0                  625.0                     540.0   \n",
              "82                  398.0                  655.0                     449.0   \n",
              "83                  311.0                  398.0                     449.0   \n",
              "\n",
              "    Previous_2week_max_demand  Day_of_week  Day_of_month  \n",
              "79                      662.0            1            21  \n",
              "80                      662.0            2            22  \n",
              "81                      662.0            3            23  \n",
              "82                      662.0            4            24  \n",
              "83                      662.0            5            25  \n",
              "\n",
              "[5 rows x 22 columns]"
            ]
          },
          "execution_count": 367,
          "metadata": {},
          "output_type": "execute_result"
        }
      ],
      "source": [
        "print(f'validation dataframe shape : {valid_df.shape}')\n",
        "valid_df.head()"
      ]
    },
    {
      "cell_type": "code",
      "execution_count": 368,
      "metadata": {
        "id": "uPbINwH224Hy"
      },
      "outputs": [
        {
          "name": "stdout",
          "output_type": "stream",
          "text": [
            "test dataframe shape : (150, 22)\n"
          ]
        },
        {
          "data": {
            "text/html": [
              "<div>\n",
              "<style scoped>\n",
              "    .dataframe tbody tr th:only-of-type {\n",
              "        vertical-align: middle;\n",
              "    }\n",
              "\n",
              "    .dataframe tbody tr th {\n",
              "        vertical-align: top;\n",
              "    }\n",
              "\n",
              "    .dataframe thead th {\n",
              "        text-align: right;\n",
              "    }\n",
              "</style>\n",
              "<table border=\"1\" class=\"dataframe\">\n",
              "  <thead>\n",
              "    <tr style=\"text-align: right;\">\n",
              "      <th></th>\n",
              "      <th>PULocation</th>\n",
              "      <th>Date</th>\n",
              "      <th>DOLocation</th>\n",
              "      <th>Demand</th>\n",
              "      <th>Previous_day_demand</th>\n",
              "      <th>Previous_2day_demand</th>\n",
              "      <th>Previous_3day_demand</th>\n",
              "      <th>Previous_4day_demand</th>\n",
              "      <th>Previous_5day_demand</th>\n",
              "      <th>Previous_6day_demand</th>\n",
              "      <th>...</th>\n",
              "      <th>Previous_9day_demand</th>\n",
              "      <th>Previous_10day_demand</th>\n",
              "      <th>Previous_11day_demand</th>\n",
              "      <th>Previous_12day_demand</th>\n",
              "      <th>Previous_13day_demand</th>\n",
              "      <th>Previous_2week_demand</th>\n",
              "      <th>Previous_week_max_demand</th>\n",
              "      <th>Previous_2week_max_demand</th>\n",
              "      <th>Day_of_week</th>\n",
              "      <th>Day_of_month</th>\n",
              "    </tr>\n",
              "  </thead>\n",
              "  <tbody>\n",
              "    <tr>\n",
              "      <th>90</th>\n",
              "      <td>236</td>\n",
              "      <td>2023-04-01</td>\n",
              "      <td>236</td>\n",
              "      <td>317.0</td>\n",
              "      <td>416.0</td>\n",
              "      <td>533.0</td>\n",
              "      <td>474.0</td>\n",
              "      <td>405.0</td>\n",
              "      <td>485.0</td>\n",
              "      <td>224.0</td>\n",
              "      <td>...</td>\n",
              "      <td>449.0</td>\n",
              "      <td>403.0</td>\n",
              "      <td>401.0</td>\n",
              "      <td>389.0</td>\n",
              "      <td>286.0</td>\n",
              "      <td>372.0</td>\n",
              "      <td>533.0</td>\n",
              "      <td>533.0</td>\n",
              "      <td>5</td>\n",
              "      <td>1</td>\n",
              "    </tr>\n",
              "    <tr>\n",
              "      <th>91</th>\n",
              "      <td>236</td>\n",
              "      <td>2023-04-02</td>\n",
              "      <td>236</td>\n",
              "      <td>297.0</td>\n",
              "      <td>317.0</td>\n",
              "      <td>416.0</td>\n",
              "      <td>533.0</td>\n",
              "      <td>474.0</td>\n",
              "      <td>405.0</td>\n",
              "      <td>485.0</td>\n",
              "      <td>...</td>\n",
              "      <td>429.0</td>\n",
              "      <td>449.0</td>\n",
              "      <td>403.0</td>\n",
              "      <td>401.0</td>\n",
              "      <td>389.0</td>\n",
              "      <td>286.0</td>\n",
              "      <td>533.0</td>\n",
              "      <td>533.0</td>\n",
              "      <td>6</td>\n",
              "      <td>2</td>\n",
              "    </tr>\n",
              "    <tr>\n",
              "      <th>92</th>\n",
              "      <td>236</td>\n",
              "      <td>2023-04-03</td>\n",
              "      <td>236</td>\n",
              "      <td>570.0</td>\n",
              "      <td>297.0</td>\n",
              "      <td>317.0</td>\n",
              "      <td>416.0</td>\n",
              "      <td>533.0</td>\n",
              "      <td>474.0</td>\n",
              "      <td>405.0</td>\n",
              "      <td>...</td>\n",
              "      <td>313.0</td>\n",
              "      <td>429.0</td>\n",
              "      <td>449.0</td>\n",
              "      <td>403.0</td>\n",
              "      <td>401.0</td>\n",
              "      <td>389.0</td>\n",
              "      <td>570.0</td>\n",
              "      <td>570.0</td>\n",
              "      <td>0</td>\n",
              "      <td>3</td>\n",
              "    </tr>\n",
              "    <tr>\n",
              "      <th>93</th>\n",
              "      <td>236</td>\n",
              "      <td>2023-04-04</td>\n",
              "      <td>236</td>\n",
              "      <td>613.0</td>\n",
              "      <td>570.0</td>\n",
              "      <td>297.0</td>\n",
              "      <td>317.0</td>\n",
              "      <td>416.0</td>\n",
              "      <td>533.0</td>\n",
              "      <td>474.0</td>\n",
              "      <td>...</td>\n",
              "      <td>224.0</td>\n",
              "      <td>313.0</td>\n",
              "      <td>429.0</td>\n",
              "      <td>449.0</td>\n",
              "      <td>403.0</td>\n",
              "      <td>401.0</td>\n",
              "      <td>613.0</td>\n",
              "      <td>613.0</td>\n",
              "      <td>1</td>\n",
              "      <td>4</td>\n",
              "    </tr>\n",
              "    <tr>\n",
              "      <th>94</th>\n",
              "      <td>236</td>\n",
              "      <td>2023-04-05</td>\n",
              "      <td>236</td>\n",
              "      <td>673.0</td>\n",
              "      <td>613.0</td>\n",
              "      <td>570.0</td>\n",
              "      <td>297.0</td>\n",
              "      <td>317.0</td>\n",
              "      <td>416.0</td>\n",
              "      <td>533.0</td>\n",
              "      <td>...</td>\n",
              "      <td>485.0</td>\n",
              "      <td>224.0</td>\n",
              "      <td>313.0</td>\n",
              "      <td>429.0</td>\n",
              "      <td>449.0</td>\n",
              "      <td>403.0</td>\n",
              "      <td>673.0</td>\n",
              "      <td>673.0</td>\n",
              "      <td>2</td>\n",
              "      <td>5</td>\n",
              "    </tr>\n",
              "  </tbody>\n",
              "</table>\n",
              "<p>5 rows × 22 columns</p>\n",
              "</div>"
            ],
            "text/plain": [
              "    PULocation       Date  DOLocation  Demand  Previous_day_demand  \\\n",
              "90         236 2023-04-01         236   317.0                416.0   \n",
              "91         236 2023-04-02         236   297.0                317.0   \n",
              "92         236 2023-04-03         236   570.0                297.0   \n",
              "93         236 2023-04-04         236   613.0                570.0   \n",
              "94         236 2023-04-05         236   673.0                613.0   \n",
              "\n",
              "    Previous_2day_demand  Previous_3day_demand  Previous_4day_demand  \\\n",
              "90                 533.0                 474.0                 405.0   \n",
              "91                 416.0                 533.0                 474.0   \n",
              "92                 317.0                 416.0                 533.0   \n",
              "93                 297.0                 317.0                 416.0   \n",
              "94                 570.0                 297.0                 317.0   \n",
              "\n",
              "    Previous_5day_demand  Previous_6day_demand  ...  Previous_9day_demand  \\\n",
              "90                 485.0                 224.0  ...                 449.0   \n",
              "91                 405.0                 485.0  ...                 429.0   \n",
              "92                 474.0                 405.0  ...                 313.0   \n",
              "93                 533.0                 474.0  ...                 224.0   \n",
              "94                 416.0                 533.0  ...                 485.0   \n",
              "\n",
              "    Previous_10day_demand  Previous_11day_demand  Previous_12day_demand  \\\n",
              "90                  403.0                  401.0                  389.0   \n",
              "91                  449.0                  403.0                  401.0   \n",
              "92                  429.0                  449.0                  403.0   \n",
              "93                  313.0                  429.0                  449.0   \n",
              "94                  224.0                  313.0                  429.0   \n",
              "\n",
              "    Previous_13day_demand  Previous_2week_demand  Previous_week_max_demand  \\\n",
              "90                  286.0                  372.0                     533.0   \n",
              "91                  389.0                  286.0                     533.0   \n",
              "92                  401.0                  389.0                     570.0   \n",
              "93                  403.0                  401.0                     613.0   \n",
              "94                  449.0                  403.0                     673.0   \n",
              "\n",
              "    Previous_2week_max_demand  Day_of_week  Day_of_month  \n",
              "90                      533.0            5             1  \n",
              "91                      533.0            6             2  \n",
              "92                      570.0            0             3  \n",
              "93                      613.0            1             4  \n",
              "94                      673.0            2             5  \n",
              "\n",
              "[5 rows x 22 columns]"
            ]
          },
          "execution_count": 368,
          "metadata": {},
          "output_type": "execute_result"
        }
      ],
      "source": [
        "print(f'test dataframe shape : {test_df.shape}')\n",
        "test_df.head()"
      ]
    },
    {
      "cell_type": "markdown",
      "metadata": {
        "id": "xf8ChW_7wGmL"
      },
      "source": [
        "# Model Training"
      ]
    },
    {
      "cell_type": "markdown",
      "metadata": {
        "id": "PxYfxyCHz_Z3"
      },
      "source": [
        "## **Ridge Regression**"
      ]
    },
    {
      "cell_type": "markdown",
      "metadata": {
        "id": "CJn4YIBtKcL_"
      },
      "source": [
        "### Model Tuning"
      ]
    },
    {
      "cell_type": "code",
      "execution_count": 369,
      "metadata": {
        "id": "sOMPo5ryBm8g"
      },
      "outputs": [],
      "source": [
        "def grid_search(model_class, param_grid, train_df, val_df, feature_list):\n",
        "    best_params = None\n",
        "    best_val_loss = float('inf')\n",
        "\n",
        "    for params in product(*param_grid.values()):\n",
        "        current_params = dict(zip(param_grid.keys(), params))\n",
        "        current_model = model_class(**current_params)\n",
        "        current_model.fit(train_df[feature_list], train_df['Demand'])\n",
        "        \n",
        "        y_val_pred = current_model.predict(val_df[feature_list])\n",
        "        val_loss = mean_squared_error(val_df['Demand'], y_val_pred)\n",
        "        \n",
        "        if val_loss < best_val_loss:\n",
        "            best_val_loss = val_loss\n",
        "            best_params = current_params\n",
        "    \n",
        "    return best_params, best_val_loss"
      ]
    },
    {
      "cell_type": "code",
      "execution_count": 370,
      "metadata": {},
      "outputs": [
        {
          "name": "stdout",
          "output_type": "stream",
          "text": [
            "{'alpha': 2} 6960.714914771321\n"
          ]
        }
      ],
      "source": [
        "model = Lasso\n",
        "best_params, best_score = grid_search(\n",
        "    model, \n",
        "    {'alpha':range(1, 100)},\n",
        "    grid_search_train_df,\n",
        "    valid_df, \n",
        "    FEATURE_LIST\n",
        "    )\n",
        "\n",
        "print(best_params, best_score)"
      ]
    },
    {
      "cell_type": "markdown",
      "metadata": {
        "id": "AxN2E_9Q1yHS"
      },
      "source": [
        "### Prediction"
      ]
    },
    {
      "cell_type": "code",
      "execution_count": 371,
      "metadata": {
        "id": "pbhM5Oe6PjW7"
      },
      "outputs": [],
      "source": [
        "def model_predict(model, train_data, test_data, feature_list):\n",
        "\n",
        "    model.fit(train_data[feature_list], train_data['Demand'])\n",
        "\n",
        "\n",
        "    train_predict_df  = model.predict(train_data[feature_list])\n",
        "    test_predict_df  = model.predict(test_data[feature_list])\n",
        "\n",
        "    return train_predict_df, test_predict_df"
      ]
    },
    {
      "cell_type": "code",
      "execution_count": 372,
      "metadata": {
        "id": "MulwYZc7LK7v"
      },
      "outputs": [],
      "source": [
        "model = Lasso(**best_params)\n",
        "train_prediction_df , test_prediction_df  = model_predict(model, train_df, test_df, FEATURE_LIST)"
      ]
    },
    {
      "cell_type": "markdown",
      "metadata": {
        "id": "jJYHtg2oRqvS"
      },
      "source": [
        "### Visualization"
      ]
    },
    {
      "cell_type": "code",
      "execution_count": 373,
      "metadata": {},
      "outputs": [],
      "source": [
        "def add_day_of_year(data):\n",
        "    data['day_year'] = 0\n",
        "    start_date = data['Date'].min()\n",
        "\n",
        "    for index, row in data.iterrows():\n",
        "\n",
        "        curr_date = row['Date']\n",
        "        day_number = (curr_date - start_date).days\n",
        "\n",
        "        data.at[index, 'day_year'] = day_number\n",
        "    return data"
      ]
    },
    {
      "cell_type": "code",
      "execution_count": 374,
      "metadata": {
        "id": "ao6nw8xsRvB9"
      },
      "outputs": [],
      "source": [
        "def prediction_visualization(train_data, test_data, train_prediction_df, test_prediction_df):\n",
        "\n",
        "\n",
        "    train_data = add_day_of_year(train_data)\n",
        "    test_data = add_day_of_year(test_data)\n",
        "\n",
        "    predicted_train_df = train_data\n",
        "    predicted_test_df = test_data\n",
        "    predicted_train_df['Predicted'] = train_prediction_df\n",
        "    predicted_test_df['Predicted'] = test_prediction_df\n",
        "\n",
        "    train_data = train_data.groupby('day_year')['Demand'].sum()\n",
        "    test_data = test_data.groupby('day_year')['Demand'].sum()\n",
        "    predicted_train_df = predicted_train_df.groupby('day_year')['Predicted'].sum()\n",
        "    predicted_test_df = predicted_test_df.groupby('day_year')['Predicted'].sum()\n",
        "\n",
        "    plt.title('Train')\n",
        "    plt.plot(train_data)\n",
        "    plt.plot(predicted_train_df)\n",
        "    plt.legend([\"Real Value\", \"Predicted\"], loc =\"lower right\")\n",
        "    plt.show()\n",
        "\n",
        "    plot_length = len(test_data)\n",
        "    plt.title('Test')\n",
        "    plt.plot(test_data)\n",
        "    plt.plot(predicted_test_df)\n",
        "    plt.legend([\"Real Value\", \"Predicted\"], loc =\"lower right\")\n",
        "    plt.show()"
      ]
    },
    {
      "cell_type": "code",
      "execution_count": 375,
      "metadata": {
        "colab": {
          "base_uri": "https://localhost:8080/",
          "height": 887
        },
        "id": "gOyNantNRtda",
        "outputId": "dc7796cf-c196-421d-bd56-1d312334dee4"
      },
      "outputs": [
        {
          "name": "stderr",
          "output_type": "stream",
          "text": [
            "C:\\Users\\bardia\\AppData\\Local\\Temp\\ipykernel_21592\\2975102461.py:2: SettingWithCopyWarning: \n",
            "A value is trying to be set on a copy of a slice from a DataFrame.\n",
            "Try using .loc[row_indexer,col_indexer] = value instead\n",
            "\n",
            "See the caveats in the documentation: https://pandas.pydata.org/pandas-docs/stable/user_guide/indexing.html#returning-a-view-versus-a-copy\n",
            "  data['day_year'] = 0\n",
            "C:\\Users\\bardia\\AppData\\Local\\Temp\\ipykernel_21592\\2975102461.py:2: SettingWithCopyWarning: \n",
            "A value is trying to be set on a copy of a slice from a DataFrame.\n",
            "Try using .loc[row_indexer,col_indexer] = value instead\n",
            "\n",
            "See the caveats in the documentation: https://pandas.pydata.org/pandas-docs/stable/user_guide/indexing.html#returning-a-view-versus-a-copy\n",
            "  data['day_year'] = 0\n",
            "C:\\Users\\bardia\\AppData\\Local\\Temp\\ipykernel_21592\\2246591508.py:9: SettingWithCopyWarning: \n",
            "A value is trying to be set on a copy of a slice from a DataFrame.\n",
            "Try using .loc[row_indexer,col_indexer] = value instead\n",
            "\n",
            "See the caveats in the documentation: https://pandas.pydata.org/pandas-docs/stable/user_guide/indexing.html#returning-a-view-versus-a-copy\n",
            "  predicted_train_df['Predicted'] = train_prediction_df\n",
            "C:\\Users\\bardia\\AppData\\Local\\Temp\\ipykernel_21592\\2246591508.py:10: SettingWithCopyWarning: \n",
            "A value is trying to be set on a copy of a slice from a DataFrame.\n",
            "Try using .loc[row_indexer,col_indexer] = value instead\n",
            "\n",
            "See the caveats in the documentation: https://pandas.pydata.org/pandas-docs/stable/user_guide/indexing.html#returning-a-view-versus-a-copy\n",
            "  predicted_test_df['Predicted'] = test_prediction_df\n"
          ]
        },
        {
          "data": {
            "image/png": "[encoded data removed]",
            "text/plain": [
              "<Figure size 640x480 with 1 Axes>"
            ]
          },
          "metadata": {},
          "output_type": "display_data"
        },
        {
          "data": {
            "image/png": "[encoded data removed]",
            "text/plain": [
              "<Figure size 640x480 with 1 Axes>"
            ]
          },
          "metadata": {},
          "output_type": "display_data"
        }
      ],
      "source": [
        "prediction_visualization(train_df, test_df, train_prediction_df, test_prediction_df)"
      ]
    },
    {
      "cell_type": "markdown",
      "metadata": {
        "id": "RBsqB5hnSuPP"
      },
      "source": [
        "### Evaluation"
      ]
    },
    {
      "cell_type": "code",
      "execution_count": 376,
      "metadata": {
        "id": "BcGvcilUWEEC"
      },
      "outputs": [],
      "source": [
        "def evaluate(metric, metric_name, true_values, predicted_values):\n",
        "    print(f'{metric_name} : {metric(true_values, predicted_values)}')"
      ]
    },
    {
      "cell_type": "code",
      "execution_count": 377,
      "metadata": {
        "id": "v4-GWghuSbnA"
      },
      "outputs": [],
      "source": [
        "def evaluation(model_name, train_data, test_data, train_prediction_df, test_prediction_df):\n",
        "    print(f'{model_name} train scores:')\n",
        "\n",
        "\n",
        "    evaluate(mean_absolute_error, 'MAE', train_data['Demand'], train_prediction_df)\n",
        "    evaluate(mean_squared_error, 'MSE', train_data['Demand'], train_prediction_df)\n",
        "    evaluate(mean_absolute_percentage_error, 'MAPE', train_data['Demand'], train_prediction_df)\n",
        "\n",
        "    print(f'{model_name} test scores:')\n",
        "\n",
        "    evaluate(mean_absolute_error, 'MAE', test_data['Demand'], test_prediction_df)\n",
        "    evaluate(mean_squared_error, 'MSE', test_data['Demand'], test_prediction_df)\n",
        "    evaluate(mean_absolute_percentage_error, 'MAPE', test_data['Demand'], test_prediction_df)\n"
      ]
    },
    {
      "cell_type": "code",
      "execution_count": 378,
      "metadata": {
        "colab": {
          "base_uri": "https://localhost:8080/"
        },
        "id": "vUBqNgIwSwKe",
        "outputId": "c05d64b8-b525-458d-96db-757e94a57d89"
      },
      "outputs": [
        {
          "name": "stdout",
          "output_type": "stream",
          "text": [
            "Ridge Regression train scores:\n",
            "MAE : 57.483996820552136\n",
            "MSE : 5502.360115605051\n",
            "MAPE : 0.10430702319865996\n",
            "Ridge Regression test scores:\n",
            "MAE : 60.44565074271304\n",
            "MSE : 6096.37495215998\n",
            "MAPE : 0.08996650545224595\n"
          ]
        }
      ],
      "source": [
        "evaluation('Ridge Regression', train_df, test_df, train_prediction_df, test_prediction_df)"
      ]
    },
    {
      "cell_type": "markdown",
      "metadata": {},
      "source": [
        "# File Saving"
      ]
    },
    {
      "cell_type": "code",
      "execution_count": 379,
      "metadata": {},
      "outputs": [],
      "source": [
        "def save_predictions(dataset, path):\n",
        "    dataset.to_parquet(path, index=False)"
      ]
    },
    {
      "cell_type": "code",
      "execution_count": 380,
      "metadata": {},
      "outputs": [],
      "source": [
        "def prediction_labeling(pred_df, labeled_df):\n",
        "    pred_df = pd.DataFrame(pred_df, columns = ['Predicted_demand'])\n",
        "    labeled_df.reset_index(inplace = True)\n",
        "    labeled_prediction_df = labeled_df[['Location', 'Date']]\n",
        "    labeled_prediction_df['Predicted_demand'] = pred_df\n",
        "    return labeled_prediction_df"
      ]
    },
    {
      "cell_type": "code",
      "execution_count": 381,
      "metadata": {},
      "outputs": [
        {
          "ename": "KeyError",
          "evalue": "\"['Location'] not in index\"",
          "output_type": "error",
          "traceback": [
            "\u001b[1;31m---------------------------------------------------------------------------\u001b[0m",
            "\u001b[1;31mKeyError\u001b[0m                                  Traceback (most recent call last)",
            "\u001b[1;32mc:\\Users\\bardia\\Desktop\\official shoofer project\\shoofer-demand-prediction\\day_prediction\\notebooks\\pair_ridge_regression.ipynb Cell 39\u001b[0m in \u001b[0;36m1\n\u001b[1;32m----> <a href='vscode-notebook-cell:/c%3A/Users/bardia/Desktop/official%20shoofer%20project/shoofer-demand-prediction/day_prediction/notebooks/pair_ridge_regression.ipynb#X61sZmlsZQ%3D%3D?line=0'>1</a>\u001b[0m labeled_prediction_df \u001b[39m=\u001b[39m prediction_labeling(test_prediction_df, test_df)\n",
            "\u001b[1;32mc:\\Users\\bardia\\Desktop\\official shoofer project\\shoofer-demand-prediction\\day_prediction\\notebooks\\pair_ridge_regression.ipynb Cell 39\u001b[0m in \u001b[0;36m4\n\u001b[0;32m      <a href='vscode-notebook-cell:/c%3A/Users/bardia/Desktop/official%20shoofer%20project/shoofer-demand-prediction/day_prediction/notebooks/pair_ridge_regression.ipynb#X61sZmlsZQ%3D%3D?line=1'>2</a>\u001b[0m pred_df \u001b[39m=\u001b[39m pd\u001b[39m.\u001b[39mDataFrame(pred_df, columns \u001b[39m=\u001b[39m [\u001b[39m'\u001b[39m\u001b[39mPredicted_demand\u001b[39m\u001b[39m'\u001b[39m])\n\u001b[0;32m      <a href='vscode-notebook-cell:/c%3A/Users/bardia/Desktop/official%20shoofer%20project/shoofer-demand-prediction/day_prediction/notebooks/pair_ridge_regression.ipynb#X61sZmlsZQ%3D%3D?line=2'>3</a>\u001b[0m labeled_df\u001b[39m.\u001b[39mreset_index(inplace \u001b[39m=\u001b[39m \u001b[39mTrue\u001b[39;00m)\n\u001b[1;32m----> <a href='vscode-notebook-cell:/c%3A/Users/bardia/Desktop/official%20shoofer%20project/shoofer-demand-prediction/day_prediction/notebooks/pair_ridge_regression.ipynb#X61sZmlsZQ%3D%3D?line=3'>4</a>\u001b[0m labeled_prediction_df \u001b[39m=\u001b[39m labeled_df[[\u001b[39m'\u001b[39;49m\u001b[39mLocation\u001b[39;49m\u001b[39m'\u001b[39;49m, \u001b[39m'\u001b[39;49m\u001b[39mDate\u001b[39;49m\u001b[39m'\u001b[39;49m]]\n\u001b[0;32m      <a href='vscode-notebook-cell:/c%3A/Users/bardia/Desktop/official%20shoofer%20project/shoofer-demand-prediction/day_prediction/notebooks/pair_ridge_regression.ipynb#X61sZmlsZQ%3D%3D?line=4'>5</a>\u001b[0m labeled_prediction_df[\u001b[39m'\u001b[39m\u001b[39mPredicted_demand\u001b[39m\u001b[39m'\u001b[39m] \u001b[39m=\u001b[39m pred_df\n\u001b[0;32m      <a href='vscode-notebook-cell:/c%3A/Users/bardia/Desktop/official%20shoofer%20project/shoofer-demand-prediction/day_prediction/notebooks/pair_ridge_regression.ipynb#X61sZmlsZQ%3D%3D?line=5'>6</a>\u001b[0m \u001b[39mreturn\u001b[39;00m labeled_prediction_df\n",
            "File \u001b[1;32mc:\\Users\\bardia\\AppData\\Local\\Programs\\Python\\Python310\\lib\\site-packages\\pandas\\core\\frame.py:3810\u001b[0m, in \u001b[0;36mDataFrame.__getitem__\u001b[1;34m(self, key)\u001b[0m\n\u001b[0;32m   3808\u001b[0m     \u001b[39mif\u001b[39;00m is_iterator(key):\n\u001b[0;32m   3809\u001b[0m         key \u001b[39m=\u001b[39m \u001b[39mlist\u001b[39m(key)\n\u001b[1;32m-> 3810\u001b[0m     indexer \u001b[39m=\u001b[39m \u001b[39mself\u001b[39;49m\u001b[39m.\u001b[39;49mcolumns\u001b[39m.\u001b[39;49m_get_indexer_strict(key, \u001b[39m\"\u001b[39;49m\u001b[39mcolumns\u001b[39;49m\u001b[39m\"\u001b[39;49m)[\u001b[39m1\u001b[39m]\n\u001b[0;32m   3812\u001b[0m \u001b[39m# take() does not accept boolean indexers\u001b[39;00m\n\u001b[0;32m   3813\u001b[0m \u001b[39mif\u001b[39;00m \u001b[39mgetattr\u001b[39m(indexer, \u001b[39m\"\u001b[39m\u001b[39mdtype\u001b[39m\u001b[39m\"\u001b[39m, \u001b[39mNone\u001b[39;00m) \u001b[39m==\u001b[39m \u001b[39mbool\u001b[39m:\n",
            "File \u001b[1;32mc:\\Users\\bardia\\AppData\\Local\\Programs\\Python\\Python310\\lib\\site-packages\\pandas\\core\\indexes\\base.py:6111\u001b[0m, in \u001b[0;36mIndex._get_indexer_strict\u001b[1;34m(self, key, axis_name)\u001b[0m\n\u001b[0;32m   6108\u001b[0m \u001b[39melse\u001b[39;00m:\n\u001b[0;32m   6109\u001b[0m     keyarr, indexer, new_indexer \u001b[39m=\u001b[39m \u001b[39mself\u001b[39m\u001b[39m.\u001b[39m_reindex_non_unique(keyarr)\n\u001b[1;32m-> 6111\u001b[0m \u001b[39mself\u001b[39;49m\u001b[39m.\u001b[39;49m_raise_if_missing(keyarr, indexer, axis_name)\n\u001b[0;32m   6113\u001b[0m keyarr \u001b[39m=\u001b[39m \u001b[39mself\u001b[39m\u001b[39m.\u001b[39mtake(indexer)\n\u001b[0;32m   6114\u001b[0m \u001b[39mif\u001b[39;00m \u001b[39misinstance\u001b[39m(key, Index):\n\u001b[0;32m   6115\u001b[0m     \u001b[39m# GH 42790 - Preserve name from an Index\u001b[39;00m\n",
            "File \u001b[1;32mc:\\Users\\bardia\\AppData\\Local\\Programs\\Python\\Python310\\lib\\site-packages\\pandas\\core\\indexes\\base.py:6174\u001b[0m, in \u001b[0;36mIndex._raise_if_missing\u001b[1;34m(self, key, indexer, axis_name)\u001b[0m\n\u001b[0;32m   6171\u001b[0m     \u001b[39mraise\u001b[39;00m \u001b[39mKeyError\u001b[39;00m(\u001b[39mf\u001b[39m\u001b[39m\"\u001b[39m\u001b[39mNone of [\u001b[39m\u001b[39m{\u001b[39;00mkey\u001b[39m}\u001b[39;00m\u001b[39m] are in the [\u001b[39m\u001b[39m{\u001b[39;00maxis_name\u001b[39m}\u001b[39;00m\u001b[39m]\u001b[39m\u001b[39m\"\u001b[39m)\n\u001b[0;32m   6173\u001b[0m not_found \u001b[39m=\u001b[39m \u001b[39mlist\u001b[39m(ensure_index(key)[missing_mask\u001b[39m.\u001b[39mnonzero()[\u001b[39m0\u001b[39m]]\u001b[39m.\u001b[39munique())\n\u001b[1;32m-> 6174\u001b[0m \u001b[39mraise\u001b[39;00m \u001b[39mKeyError\u001b[39;00m(\u001b[39mf\u001b[39m\u001b[39m\"\u001b[39m\u001b[39m{\u001b[39;00mnot_found\u001b[39m}\u001b[39;00m\u001b[39m not in index\u001b[39m\u001b[39m\"\u001b[39m)\n",
            "\u001b[1;31mKeyError\u001b[0m: \"['Location'] not in index\""
          ]
        }
      ],
      "source": [
        "labeled_prediction_df = prediction_labeling(test_prediction_df, test_df)"
      ]
    },
    {
      "cell_type": "code",
      "execution_count": 382,
      "metadata": {},
      "outputs": [
        {
          "ename": "NameError",
          "evalue": "name 'labeled_prediction_df' is not defined",
          "output_type": "error",
          "traceback": [
            "\u001b[1;31m---------------------------------------------------------------------------\u001b[0m",
            "\u001b[1;31mNameError\u001b[0m                                 Traceback (most recent call last)",
            "\u001b[1;32mc:\\Users\\bardia\\Desktop\\official shoofer project\\shoofer-demand-prediction\\day_prediction\\notebooks\\pair_ridge_regression.ipynb Cell 40\u001b[0m in \u001b[0;36m1\n\u001b[1;32m----> <a href='vscode-notebook-cell:/c%3A/Users/bardia/Desktop/official%20shoofer%20project/shoofer-demand-prediction/day_prediction/notebooks/pair_ridge_regression.ipynb#X62sZmlsZQ%3D%3D?line=0'>1</a>\u001b[0m \u001b[39mprint\u001b[39m(\u001b[39mf\u001b[39m\u001b[39m'\u001b[39m\u001b[39mlabeled prediction dataframe shape : \u001b[39m\u001b[39m{\u001b[39;00mlabeled_prediction_df\u001b[39m.\u001b[39mshape\u001b[39m}\u001b[39;00m\u001b[39m'\u001b[39m)\n\u001b[0;32m      <a href='vscode-notebook-cell:/c%3A/Users/bardia/Desktop/official%20shoofer%20project/shoofer-demand-prediction/day_prediction/notebooks/pair_ridge_regression.ipynb#X62sZmlsZQ%3D%3D?line=1'>2</a>\u001b[0m labeled_prediction_df\u001b[39m.\u001b[39mhead()\n",
            "\u001b[1;31mNameError\u001b[0m: name 'labeled_prediction_df' is not defined"
          ]
        }
      ],
      "source": [
        "print(f'labeled prediction dataframe shape : {labeled_prediction_df.shape}')\n",
        "labeled_prediction_df.head()"
      ]
    },
    {
      "cell_type": "code",
      "execution_count": 383,
      "metadata": {},
      "outputs": [
        {
          "ename": "NameError",
          "evalue": "name 'labeled_prediction_df' is not defined",
          "output_type": "error",
          "traceback": [
            "\u001b[1;31m---------------------------------------------------------------------------\u001b[0m",
            "\u001b[1;31mNameError\u001b[0m                                 Traceback (most recent call last)",
            "\u001b[1;32mc:\\Users\\bardia\\Desktop\\official shoofer project\\shoofer-demand-prediction\\day_prediction\\notebooks\\pair_ridge_regression.ipynb Cell 41\u001b[0m in \u001b[0;36m1\n\u001b[1;32m----> <a href='vscode-notebook-cell:/c%3A/Users/bardia/Desktop/official%20shoofer%20project/shoofer-demand-prediction/day_prediction/notebooks/pair_ridge_regression.ipynb#X63sZmlsZQ%3D%3D?line=0'>1</a>\u001b[0m save_predictions(labeled_prediction_df, OUTPUT_PATH)\n",
            "\u001b[1;31mNameError\u001b[0m: name 'labeled_prediction_df' is not defined"
          ]
        }
      ],
      "source": [
        "save_predictions(labeled_prediction_df, OUTPUT_PATH)"
      ]
    }
  ],
  "metadata": {
    "colab": {
      "provenance": [],
      "toc_visible": true
    },
    "kernelspec": {
      "display_name": "Python 3",
      "name": "python3"
    },
    "language_info": {
      "codemirror_mode": {
        "name": "ipython",
        "version": 3
      },
      "file_extension": ".py",
      "mimetype": "text/x-python",
      "name": "python",
      "nbconvert_exporter": "python",
      "pygments_lexer": "ipython3",
      "version": "3.10.7"
    }
  },
  "nbformat": 4,
  "nbformat_minor": 0
}
