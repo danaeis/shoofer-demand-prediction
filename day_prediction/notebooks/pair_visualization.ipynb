{
 "cells": [
  {
   "cell_type": "markdown",
   "metadata": {},
   "source": [
    "# Imports"
   ]
  },
  {
   "cell_type": "code",
   "execution_count": 71,
   "metadata": {},
   "outputs": [],
   "source": [
    "import datetime\n",
    "import numpy as np\n",
    "import pandas as pd\n",
    "import matplotlib.pyplot as plt\n",
    "import networkx as nx\n",
    "from sklearn.cluster import KMeans"
   ]
  },
  {
   "cell_type": "markdown",
   "metadata": {},
   "source": [
    "# Config"
   ]
  },
  {
   "cell_type": "code",
   "execution_count": 2,
   "metadata": {},
   "outputs": [],
   "source": [
    "INPUT_PATH = 'ride_data/'\n",
    "OUTPUT_PATH = 'data/pair_labels.parquet'\n",
    "START_DATE = '2023-01-01'\n",
    "END_DATE = '2023-04-30'"
   ]
  },
  {
   "cell_type": "markdown",
   "metadata": {},
   "source": [
    "# Loading Dataset"
   ]
  },
  {
   "cell_type": "code",
   "execution_count": 3,
   "metadata": {},
   "outputs": [],
   "source": [
    "def load_data(path, start_date: str, end_date: str):\n",
    "    df = pd.read_parquet(path) \n",
    "    start_date = datetime.date.fromisoformat(start_date)\n",
    "    end_date = datetime.date.fromisoformat(end_date)\n",
    "    filtered_df = df[(df['tpep_pickup_datetime'].dt.date >= start_date) &\n",
    "                     (df['tpep_pickup_datetime'].dt.date <= end_date)]\n",
    "    dataset = filtered_df.filter(items=['tpep_pickup_datetime', 'PULocationID', 'DOLocationID'])\n",
    "    dataset['PU_date'] = pd.to_datetime(dataset['tpep_pickup_datetime'].dt.date)\n",
    "    return dataset"
   ]
  },
  {
   "cell_type": "code",
   "execution_count": 4,
   "metadata": {},
   "outputs": [
    {
     "name": "stdout",
     "output_type": "stream",
     "text": [
      "rides_df shape : (12672629, 4)\n"
     ]
    },
    {
     "data": {
      "text/html": [
       "<div>\n",
       "<style scoped>\n",
       "    .dataframe tbody tr th:only-of-type {\n",
       "        vertical-align: middle;\n",
       "    }\n",
       "\n",
       "    .dataframe tbody tr th {\n",
       "        vertical-align: top;\n",
       "    }\n",
       "\n",
       "    .dataframe thead th {\n",
       "        text-align: right;\n",
       "    }\n",
       "</style>\n",
       "<table border=\"1\" class=\"dataframe\">\n",
       "  <thead>\n",
       "    <tr style=\"text-align: right;\">\n",
       "      <th></th>\n",
       "      <th>tpep_pickup_datetime</th>\n",
       "      <th>PULocationID</th>\n",
       "      <th>DOLocationID</th>\n",
       "      <th>PU_date</th>\n",
       "    </tr>\n",
       "  </thead>\n",
       "  <tbody>\n",
       "    <tr>\n",
       "      <th>0</th>\n",
       "      <td>2023-01-01 00:32:10</td>\n",
       "      <td>161</td>\n",
       "      <td>141</td>\n",
       "      <td>2023-01-01</td>\n",
       "    </tr>\n",
       "    <tr>\n",
       "      <th>1</th>\n",
       "      <td>2023-01-01 00:55:08</td>\n",
       "      <td>43</td>\n",
       "      <td>237</td>\n",
       "      <td>2023-01-01</td>\n",
       "    </tr>\n",
       "    <tr>\n",
       "      <th>2</th>\n",
       "      <td>2023-01-01 00:25:04</td>\n",
       "      <td>48</td>\n",
       "      <td>238</td>\n",
       "      <td>2023-01-01</td>\n",
       "    </tr>\n",
       "    <tr>\n",
       "      <th>3</th>\n",
       "      <td>2023-01-01 00:03:48</td>\n",
       "      <td>138</td>\n",
       "      <td>7</td>\n",
       "      <td>2023-01-01</td>\n",
       "    </tr>\n",
       "    <tr>\n",
       "      <th>4</th>\n",
       "      <td>2023-01-01 00:10:29</td>\n",
       "      <td>107</td>\n",
       "      <td>79</td>\n",
       "      <td>2023-01-01</td>\n",
       "    </tr>\n",
       "  </tbody>\n",
       "</table>\n",
       "</div>"
      ],
      "text/plain": [
       "  tpep_pickup_datetime  PULocationID  DOLocationID    PU_date\n",
       "0  2023-01-01 00:32:10           161           141 2023-01-01\n",
       "1  2023-01-01 00:55:08            43           237 2023-01-01\n",
       "2  2023-01-01 00:25:04            48           238 2023-01-01\n",
       "3  2023-01-01 00:03:48           138             7 2023-01-01\n",
       "4  2023-01-01 00:10:29           107            79 2023-01-01"
      ]
     },
     "execution_count": 4,
     "metadata": {},
     "output_type": "execute_result"
    }
   ],
   "source": [
    "rides_df = load_data(INPUT_PATH, START_DATE, END_DATE)\n",
    "print(f'rides_df shape : {rides_df.shape}')\n",
    "rides_df.head()"
   ]
  },
  {
   "cell_type": "markdown",
   "metadata": {},
   "source": [
    "# Labeling"
   ]
  },
  {
   "cell_type": "code",
   "execution_count": 5,
   "metadata": {},
   "outputs": [],
   "source": [
    "def labeling(dataset):\n",
    "    dataset_labels = (\n",
    "        dataset\n",
    "        .groupby(['PULocationID', 'DOLocationID', 'PU_date'])['PU_date']\n",
    "        .count()\n",
    "        .to_frame('Demand')\n",
    "        .sort_values(['PULocationID', 'DOLocationID', 'PU_date'], ascending=[True, True, True])\n",
    "        .reset_index()\n",
    "        .rename(columns={'PULocationID': 'PULocation', 'DOLocationID': 'DOLocation', 'PU_date': 'Date'})\n",
    "    )\n",
    "  \n",
    "    pu_locations = pd.DataFrame(dataset_labels['PULocation'].unique(), columns=['PULocation'])\n",
    "    do_locations = pd.DataFrame(dataset_labels['DOLocation'].unique(), columns=['DOLocation'])\n",
    "    dates = pd.DataFrame(dataset_labels['Date'].unique(), columns=['Date'])\n",
    "    \n",
    "    location_date_df = (\n",
    "        pu_locations\n",
    "        .merge(dates, how='cross')\n",
    "        .merge(do_locations, how = 'cross')\n",
    "        .sort_values(['PULocation', 'DOLocation', 'Date'], ascending=[True, True, True])\n",
    "        .reset_index(drop=True)\n",
    "    )\n",
    "    \n",
    "    labels_df = (\n",
    "        location_date_df\n",
    "        .merge(dataset_labels, how='left', on=['PULocation', 'DOLocation', 'Date'])\n",
    "        .fillna(value=0)\n",
    "    )\n",
    "    \n",
    "    return labels_df"
   ]
  },
  {
   "cell_type": "code",
   "execution_count": 14,
   "metadata": {},
   "outputs": [
    {
     "name": "stdout",
     "output_type": "stream",
     "text": [
      "labels_df shape : (8205840, 4)\n"
     ]
    },
    {
     "data": {
      "text/html": [
       "<div>\n",
       "<style scoped>\n",
       "    .dataframe tbody tr th:only-of-type {\n",
       "        vertical-align: middle;\n",
       "    }\n",
       "\n",
       "    .dataframe tbody tr th {\n",
       "        vertical-align: top;\n",
       "    }\n",
       "\n",
       "    .dataframe thead th {\n",
       "        text-align: right;\n",
       "    }\n",
       "</style>\n",
       "<table border=\"1\" class=\"dataframe\">\n",
       "  <thead>\n",
       "    <tr style=\"text-align: right;\">\n",
       "      <th></th>\n",
       "      <th>PULocation</th>\n",
       "      <th>Date</th>\n",
       "      <th>DOLocation</th>\n",
       "      <th>Demand</th>\n",
       "    </tr>\n",
       "  </thead>\n",
       "  <tbody>\n",
       "    <tr>\n",
       "      <th>0</th>\n",
       "      <td>1</td>\n",
       "      <td>2023-01-01</td>\n",
       "      <td>1</td>\n",
       "      <td>37.0</td>\n",
       "    </tr>\n",
       "    <tr>\n",
       "      <th>1</th>\n",
       "      <td>1</td>\n",
       "      <td>2023-01-02</td>\n",
       "      <td>1</td>\n",
       "      <td>29.0</td>\n",
       "    </tr>\n",
       "    <tr>\n",
       "      <th>2</th>\n",
       "      <td>1</td>\n",
       "      <td>2023-01-03</td>\n",
       "      <td>1</td>\n",
       "      <td>25.0</td>\n",
       "    </tr>\n",
       "    <tr>\n",
       "      <th>3</th>\n",
       "      <td>1</td>\n",
       "      <td>2023-01-04</td>\n",
       "      <td>1</td>\n",
       "      <td>6.0</td>\n",
       "    </tr>\n",
       "    <tr>\n",
       "      <th>4</th>\n",
       "      <td>1</td>\n",
       "      <td>2023-01-05</td>\n",
       "      <td>1</td>\n",
       "      <td>11.0</td>\n",
       "    </tr>\n",
       "  </tbody>\n",
       "</table>\n",
       "</div>"
      ],
      "text/plain": [
       "   PULocation       Date  DOLocation  Demand\n",
       "0           1 2023-01-01           1    37.0\n",
       "1           1 2023-01-02           1    29.0\n",
       "2           1 2023-01-03           1    25.0\n",
       "3           1 2023-01-04           1     6.0\n",
       "4           1 2023-01-05           1    11.0"
      ]
     },
     "execution_count": 14,
     "metadata": {},
     "output_type": "execute_result"
    }
   ],
   "source": [
    "labels_df = labeling(rides_df)\n",
    "print(f'labels_df shape : {labels_df.shape}')\n",
    "labels_df.head()"
   ]
  },
  {
   "cell_type": "code",
   "execution_count": 15,
   "metadata": {},
   "outputs": [],
   "source": [
    "mean_labeled_df = (labels_df.groupby(['PULocation', 'DOLocation'], as_index=False)['Demand']\n",
    "                   .mean().sort_values('Demand', ascending=False)\n",
    "                   .reset_index(drop=True))"
   ]
  },
  {
   "cell_type": "code",
   "execution_count": 60,
   "metadata": {},
   "outputs": [],
   "source": [
    "def plot_cumsum_demand(labeled_df, target_demand):\n",
    "    grouped_df = (labeled_df.groupby(['PULocation', 'DOLocation'], as_index=False)['Demand']\n",
    "                  .sum().reset_index().sort_values(by='Demand', ascending=False).reset_index(drop=True))\n",
    "    cumulative_demand = (grouped_df['Demand'].cumsum() / grouped_df['Demand'].sum()).to_numpy()\n",
    "    \n",
    "    plt.plot(range(0,len(cumulative_demand)), cumulative_demand)\n",
    "    plt.xlabel('Location numbers')\n",
    "    plt.ylabel('Cumulative Demand')\n",
    "    plt.title('Cumulative Demand by Location')\n",
    "    target_x = (cumulative_demand <= target_demand).argmin()\n",
    "    plt.axhline(y=target_demand, color='r', linestyle='--', label=f'Target Demand ({target_demand})')\n",
    "    plt.axvline(x=target_x, color='g', linestyle='--', label=f'Target Location ({target_x})')\n",
    "    important_pairs = grouped_df.iloc[:target_x][['PULocation', 'DOLocation']]\n",
    "    \n",
    "    plt.legend() \n",
    "    plt.show()\n",
    "    return target_x, important_pairs"
   ]
  },
  {
   "cell_type": "code",
   "execution_count": 90,
   "metadata": {},
   "outputs": [
    {
     "data": {
      "image/png": "[encoded data removed]",
      "text/plain": [
       "<Figure size 640x480 with 1 Axes>"
      ]
     },
     "metadata": {},
     "output_type": "display_data"
    }
   ],
   "source": [
    "last_pair_index, important_pairs = plot_cumsum_demand(labels_df, 0.90)"
   ]
  },
  {
   "cell_type": "code",
   "execution_count": null,
   "metadata": {},
   "outputs": [],
   "source": [
    "unique_locations = important_pairs['PULocation'].unique()\n",
    "\n",
    "fig, axes = plt.subplots(len(unique_locations), 1, figsize=(8, 6 * len(unique_locations)))\n",
    "\n",
    "# Iterate over unique locations and create separate plots\n",
    "for i, location in enumerate(unique_locations):\n",
    "    # Create a directed graph for the specific location\n",
    "    G = nx.DiGraph()\n",
    "\n",
    "    location_df = important_pairs[important_pairs['PULocation'] == location]\n",
    "\n",
    "    # Add nodes and edges to the graph\n",
    "    for _, row in location_df.iterrows():\n",
    "        source, target = row['PULocation'], row['DOLocation']\n",
    "        G.add_edge(source, target)\n",
    "\n",
    "    pos = nx.spring_layout(G, k=0.3)\n",
    "\n",
    "    nx.draw_networkx(G, pos, with_labels=True, node_color='lightblue', node_size=200, font_size=7, alpha=0.8, arrows=True, ax=axes[i])\n",
    "\n",
    "    axes[i].set_title(f'Pairs Visualization - PULocation: {location}, {len(location_df)} pairs')\n",
    "    axes[i].axis('off')\n",
    "\n",
    "plt.tight_layout()\n",
    "\n",
    "plt.show()"
   ]
  },
  {
   "cell_type": "code",
   "execution_count": 63,
   "metadata": {},
   "outputs": [
    {
     "data": {
      "image/png": "[encoded data removed]",
      "text/plain": [
       "<Figure size 640x480 with 1 Axes>"
      ]
     },
     "metadata": {},
     "output_type": "display_data"
    }
   ],
   "source": [
    "pair_labels = np.concatenate((np.ones(last_pair_index), np.zeros(len(mean_labeled_df) - last_pair_index)))\n",
    "plt.scatter(range(len(mean_labeled_df['Demand'].values)), mean_labeled_df['Demand'].values, c = pair_labels)\n",
    "plt.xlabel('Location pair number')\n",
    "plt.ylabel('Mean of pair demand')\n",
    "plt.show()"
   ]
  },
  {
   "cell_type": "code",
   "execution_count": 64,
   "metadata": {},
   "outputs": [],
   "source": [
    "merged_df = pd.merge(labels_df, important_pairs, on=['PULocation', 'DOLocation'], how='inner')"
   ]
  },
  {
   "cell_type": "code",
   "execution_count": 66,
   "metadata": {},
   "outputs": [
    {
     "name": "stdout",
     "output_type": "stream",
     "text": [
      "labels_df shape : (282960, 4)\n"
     ]
    },
    {
     "data": {
      "text/html": [
       "<div>\n",
       "<style scoped>\n",
       "    .dataframe tbody tr th:only-of-type {\n",
       "        vertical-align: middle;\n",
       "    }\n",
       "\n",
       "    .dataframe tbody tr th {\n",
       "        vertical-align: top;\n",
       "    }\n",
       "\n",
       "    .dataframe thead th {\n",
       "        text-align: right;\n",
       "    }\n",
       "</style>\n",
       "<table border=\"1\" class=\"dataframe\">\n",
       "  <thead>\n",
       "    <tr style=\"text-align: right;\">\n",
       "      <th></th>\n",
       "      <th>PULocation</th>\n",
       "      <th>Date</th>\n",
       "      <th>DOLocation</th>\n",
       "      <th>Demand</th>\n",
       "    </tr>\n",
       "  </thead>\n",
       "  <tbody>\n",
       "    <tr>\n",
       "      <th>0</th>\n",
       "      <td>1</td>\n",
       "      <td>2023-01-01</td>\n",
       "      <td>1</td>\n",
       "      <td>37.0</td>\n",
       "    </tr>\n",
       "    <tr>\n",
       "      <th>1</th>\n",
       "      <td>1</td>\n",
       "      <td>2023-01-02</td>\n",
       "      <td>1</td>\n",
       "      <td>29.0</td>\n",
       "    </tr>\n",
       "    <tr>\n",
       "      <th>2</th>\n",
       "      <td>1</td>\n",
       "      <td>2023-01-03</td>\n",
       "      <td>1</td>\n",
       "      <td>25.0</td>\n",
       "    </tr>\n",
       "    <tr>\n",
       "      <th>3</th>\n",
       "      <td>1</td>\n",
       "      <td>2023-01-04</td>\n",
       "      <td>1</td>\n",
       "      <td>6.0</td>\n",
       "    </tr>\n",
       "    <tr>\n",
       "      <th>4</th>\n",
       "      <td>1</td>\n",
       "      <td>2023-01-05</td>\n",
       "      <td>1</td>\n",
       "      <td>11.0</td>\n",
       "    </tr>\n",
       "  </tbody>\n",
       "</table>\n",
       "</div>"
      ],
      "text/plain": [
       "   PULocation       Date  DOLocation  Demand\n",
       "0           1 2023-01-01           1    37.0\n",
       "1           1 2023-01-02           1    29.0\n",
       "2           1 2023-01-03           1    25.0\n",
       "3           1 2023-01-04           1     6.0\n",
       "4           1 2023-01-05           1    11.0"
      ]
     },
     "execution_count": 66,
     "metadata": {},
     "output_type": "execute_result"
    }
   ],
   "source": [
    "print(f'labels_df shape : {merged_df.shape}')\n",
    "merged_df.head()"
   ]
  },
  {
   "cell_type": "code",
   "execution_count": 67,
   "metadata": {},
   "outputs": [
    {
     "data": {
      "text/html": [
       "<div>\n",
       "<style scoped>\n",
       "    .dataframe tbody tr th:only-of-type {\n",
       "        vertical-align: middle;\n",
       "    }\n",
       "\n",
       "    .dataframe tbody tr th {\n",
       "        vertical-align: top;\n",
       "    }\n",
       "\n",
       "    .dataframe thead th {\n",
       "        text-align: right;\n",
       "    }\n",
       "</style>\n",
       "<table border=\"1\" class=\"dataframe\">\n",
       "  <thead>\n",
       "    <tr style=\"text-align: right;\">\n",
       "      <th></th>\n",
       "      <th>PULocation</th>\n",
       "      <th>Date</th>\n",
       "      <th>DOLocation</th>\n",
       "      <th>Demand</th>\n",
       "    </tr>\n",
       "  </thead>\n",
       "  <tbody>\n",
       "    <tr>\n",
       "      <th>171</th>\n",
       "      <td>4</td>\n",
       "      <td>2023-02-21</td>\n",
       "      <td>79</td>\n",
       "      <td>0.0</td>\n",
       "    </tr>\n",
       "    <tr>\n",
       "      <th>200</th>\n",
       "      <td>4</td>\n",
       "      <td>2023-03-22</td>\n",
       "      <td>79</td>\n",
       "      <td>0.0</td>\n",
       "    </tr>\n",
       "    <tr>\n",
       "      <th>1016</th>\n",
       "      <td>13</td>\n",
       "      <td>2023-02-26</td>\n",
       "      <td>88</td>\n",
       "      <td>0.0</td>\n",
       "    </tr>\n",
       "    <tr>\n",
       "      <th>1242</th>\n",
       "      <td>13</td>\n",
       "      <td>2023-02-12</td>\n",
       "      <td>100</td>\n",
       "      <td>0.0</td>\n",
       "    </tr>\n",
       "    <tr>\n",
       "      <th>1256</th>\n",
       "      <td>13</td>\n",
       "      <td>2023-02-26</td>\n",
       "      <td>100</td>\n",
       "      <td>0.0</td>\n",
       "    </tr>\n",
       "    <tr>\n",
       "      <th>...</th>\n",
       "      <td>...</td>\n",
       "      <td>...</td>\n",
       "      <td>...</td>\n",
       "      <td>...</td>\n",
       "    </tr>\n",
       "    <tr>\n",
       "      <th>282677</th>\n",
       "      <td>264</td>\n",
       "      <td>2023-03-19</td>\n",
       "      <td>239</td>\n",
       "      <td>0.0</td>\n",
       "    </tr>\n",
       "    <tr>\n",
       "      <th>282684</th>\n",
       "      <td>264</td>\n",
       "      <td>2023-03-26</td>\n",
       "      <td>239</td>\n",
       "      <td>0.0</td>\n",
       "    </tr>\n",
       "    <tr>\n",
       "      <th>282703</th>\n",
       "      <td>264</td>\n",
       "      <td>2023-04-14</td>\n",
       "      <td>239</td>\n",
       "      <td>0.0</td>\n",
       "    </tr>\n",
       "    <tr>\n",
       "      <th>282708</th>\n",
       "      <td>264</td>\n",
       "      <td>2023-04-19</td>\n",
       "      <td>239</td>\n",
       "      <td>0.0</td>\n",
       "    </tr>\n",
       "    <tr>\n",
       "      <th>282711</th>\n",
       "      <td>264</td>\n",
       "      <td>2023-04-22</td>\n",
       "      <td>239</td>\n",
       "      <td>0.0</td>\n",
       "    </tr>\n",
       "  </tbody>\n",
       "</table>\n",
       "<p>264 rows × 4 columns</p>\n",
       "</div>"
      ],
      "text/plain": [
       "        PULocation       Date  DOLocation  Demand\n",
       "171              4 2023-02-21          79     0.0\n",
       "200              4 2023-03-22          79     0.0\n",
       "1016            13 2023-02-26          88     0.0\n",
       "1242            13 2023-02-12         100     0.0\n",
       "1256            13 2023-02-26         100     0.0\n",
       "...            ...        ...         ...     ...\n",
       "282677         264 2023-03-19         239     0.0\n",
       "282684         264 2023-03-26         239     0.0\n",
       "282703         264 2023-04-14         239     0.0\n",
       "282708         264 2023-04-19         239     0.0\n",
       "282711         264 2023-04-22         239     0.0\n",
       "\n",
       "[264 rows x 4 columns]"
      ]
     },
     "execution_count": 67,
     "metadata": {},
     "output_type": "execute_result"
    }
   ],
   "source": [
    "merged_df[merged_df['Demand'] == 0]"
   ]
  },
  {
   "cell_type": "markdown",
   "metadata": {},
   "source": [
    "# File saving"
   ]
  },
  {
   "cell_type": "code",
   "execution_count": 90,
   "metadata": {},
   "outputs": [],
   "source": [
    "def save_labels(dataset, path):\n",
    "    labels_df = dataset.to_parquet(path, index=False)"
   ]
  },
  {
   "cell_type": "code",
   "execution_count": 91,
   "metadata": {},
   "outputs": [],
   "source": [
    "save_labels(merged_df, OUTPUT_PATH)"
   ]
  }
 ],
 "metadata": {
  "kernelspec": {
   "display_name": "Python 3",
   "language": "python",
   "name": "python3"
  },
  "language_info": {
   "codemirror_mode": {
    "name": "ipython",
    "version": 3
   },
   "file_extension": ".py",
   "mimetype": "text/x-python",
   "name": "python",
   "nbconvert_exporter": "python",
   "pygments_lexer": "ipython3",
   "version": "3.10.7"
  },
  "orig_nbformat": 4
 },
 "nbformat": 4,
 "nbformat_minor": 2
}
