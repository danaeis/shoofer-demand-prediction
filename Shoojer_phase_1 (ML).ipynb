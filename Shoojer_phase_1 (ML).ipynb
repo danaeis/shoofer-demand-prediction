{
  "cells": [
    {
      "cell_type": "markdown",
      "metadata": {
        "id": "KJD4EWq-V4w-"
      },
      "source": [
        "custom MAPE ?\n",
        "\n",
        "concat predicted demand be input\n"
      ]
    },
    {
      "cell_type": "markdown",
      "metadata": {
        "id": "8UTIGpTZZlOO"
      },
      "source": [
        "# Setup"
      ]
    },
    {
      "cell_type": "code",
      "execution_count": null,
      "metadata": {},
      "outputs": [],
      "source": [
        "%pip install xgboost"
      ]
    },
    {
      "cell_type": "code",
      "execution_count": 2,
      "metadata": {
        "id": "AnwSHO1L97I5"
      },
      "outputs": [],
      "source": [
        "import requests\n",
        "import numpy as np\n",
        "import pandas as pd\n",
        "import matplotlib.pyplot as plt\n",
        "import datetime\n",
        "from sklearn.ensemble import GradientBoostingRegressor\n",
        "from sklearn.metrics import mean_absolute_error, mean_squared_error\n",
        "from sklearn.linear_model import Ridge\n",
        "from sklearn.model_selection import GridSearchCV\n",
        "import xgboost as xgb\n",
        "import os"
      ]
    },
    {
      "cell_type": "markdown",
      "metadata": {
        "id": "rGhdilSeZosS"
      },
      "source": [
        "## Defining functions"
      ]
    },
    {
      "cell_type": "code",
      "execution_count": 3,
      "metadata": {
        "id": "BcGvcilUWEEC"
      },
      "outputs": [],
      "source": [
        "def evaluate(metric, metric_name, true_values, predicted_values):\n",
        "    print(f'{metric_name} : {metric(true_values, predicted_values)}')"
      ]
    },
    {
      "cell_type": "code",
      "execution_count": 4,
      "metadata": {
        "id": "BK-LmZoneK3e"
      },
      "outputs": [],
      "source": [
        "def customized_MAPE(true_values, predicted_values):\n",
        "    true_values, predicted_values = np.array(true_values), np.array(predicted_values)\n",
        "    Mape = np.median(np.abs((true_values - predicted_values) / (true_values + 0.01)))\n",
        "    return Mape"
      ]
    },
    {
      "cell_type": "code",
      "execution_count": 5,
      "metadata": {
        "id": "IxUxlOhM-RxN"
      },
      "outputs": [],
      "source": [
        "def load_data(train_size, test_size, force_update):\n",
        "    path = 'datasets/'\n",
        "    if os.path.exists(path) and (not force_update):\n",
        "        pass\n",
        "    else:\n",
        "        urls = ['https://d37ci6vzurychx.cloudfront.net/trip-data/yellow_tripdata_2023-01.parquet',\n",
        "                'https://d37ci6vzurychx.cloudfront.net/trip-data/yellow_tripdata_2023-02.parquet',\n",
        "                'https://d37ci6vzurychx.cloudfront.net/trip-data/yellow_tripdata_2023-03.parquet',\n",
        "                'https://d37ci6vzurychx.cloudfront.net/trip-data/yellow_tripdata_2023-04.parquet']\n",
        "        \n",
        "        for index in range(len(urls)):\n",
        "            response = requests.get(urls[index])\n",
        "            name = path + 'm' + str(index + 1) + '.parquet'\n",
        "\n",
        "            with open(name, 'wb') as f:\n",
        "                f.write(response.content)\n",
        "\n",
        "\n",
        "    train_data = []\n",
        "    test_data = []\n",
        "    #train part\n",
        "    for i in range(train_size):\n",
        "        name = path + 'm' + str(i + 1) + '.parquet'\n",
        "        data = pd.read_parquet(name)\n",
        "        train_data.append(data)\n",
        "    #test part\n",
        "    for j in range(test_size):\n",
        "        name = path + 'm' + str(j + train_size + 1) + '.parquet'\n",
        "        data = pd.read_parquet(name)\n",
        "        test_data.append(data)\n",
        "    return train_data, test_data"
      ]
    },
    {
      "cell_type": "code",
      "execution_count": 25,
      "metadata": {
        "id": "GwJhjM_BGPJm"
      },
      "outputs": [],
      "source": [
        "def date_format_modifier(datas):  # Year/Month/Day\n",
        "    modified_datas = []\n",
        "    for data in datas:\n",
        "        data['month'] = pd.DataFrame([int(date.strftime(\"%m\")) for date in data['tpep_pickup_datetime']])\n",
        "        data['tpep_pickup_datetime'] = pd.DataFrame([int(date.strftime(\"%d\")) for date in data['tpep_pickup_datetime']])\n",
        "        data = data.dropna()\n",
        "        modified_datas.append(data)\n",
        "\n",
        "    return modified_datas"
      ]
    },
    {
      "cell_type": "code",
      "execution_count": 244,
      "metadata": {
        "id": "ifvk6uWS6hnT"
      },
      "outputs": [],
      "source": [
        "def add_features(data):  # run after merging datasets and modifing date\n",
        "\n",
        "    # Lag features\n",
        "    data['prev_day_demand'] = data.groupby(['PULocationID', 'month'])['Demand'].shift(1)\n",
        "\n",
        "    data['prev_week_demand'] = data.groupby(['PULocationID', 'month'])['Demand'].shift(7)\n",
        "    data['2prev_week_demand'] = data.groupby(['PULocationID', 'month'])['Demand'].shift(14)\n",
        "\n",
        "    # Summary features\n",
        "    shifted = data['Demand'].shift(window_size - 1)\n",
        "    window = shifted.rolling(window = window_size)\n",
        "    data['pre_min_week_demand'] = window.min()\n",
        "    data['pre_mean_week_demand'] = window.mean()\n",
        "    data['pre_max_week_demand'] = window.max()\n",
        "\n",
        "    shifted = data['Demand'].shift(2 * window_size - 1)\n",
        "    window = shifted.rolling(window = window_size)\n",
        "    data['2pre_min_week_demand'] = window.min()\n",
        "    data['2pre_mean_week_demand'] = window.mean()\n",
        "    data['2pre_max_week_demand'] = window.max()\n",
        "\n",
        "    data = data.dropna()\n",
        "\n",
        "    return data"
      ]
    },
    {
      "cell_type": "code",
      "execution_count": 27,
      "metadata": {
        "id": "_442tahy-fOo"
      },
      "outputs": [],
      "source": [
        "def grouping_by(data, group_list):\n",
        "    data_grouped = data.groupby(group_list, as_index = False)['extra'].count()\n",
        "    data_grouped = data_grouped.rename(columns={'extra' : 'Demand'})\n",
        "\n",
        "    return data_grouped"
      ]
    },
    {
      "cell_type": "code",
      "execution_count": 28,
      "metadata": {
        "id": "soC36oneCC8x"
      },
      "outputs": [],
      "source": [
        "def clearing_data_noise(datas, months):\n",
        "    clean_datas = []\n",
        "    for index in range(len(datas)):\n",
        "        month = months[index]\n",
        "        data = datas[index]\n",
        "\n",
        "        clean_data = data[[int(date.strftime(\"%m\")) == month for date in data['tpep_pickup_datetime']]]\n",
        "        clean_data = clean_data.dropna()\n",
        "        clean_datas.append(clean_data)\n",
        "    return clean_datas"
      ]
    },
    {
      "cell_type": "code",
      "execution_count": 40,
      "metadata": {
        "id": "sOMPo5ryBm8g"
      },
      "outputs": [],
      "source": [
        "def grid_search(model, test_parameters, train_data, cv = None):\n",
        "    gs = GridSearchCV(estimator = model, param_grid = test_parameters, scoring = 'neg_root_mean_squared_error', cv = cv, n_jobs = -1)\n",
        "    gs.fit(train_data[train_list], train_data['Demand'])\n",
        "    return gs.best_params_, gs.best_score_"
      ]
    },
    {
      "cell_type": "code",
      "execution_count": 41,
      "metadata": {
        "id": "pbhM5Oe6PjW7"
      },
      "outputs": [],
      "source": [
        "def point_predict(model, train_data, test_data):\n",
        "\n",
        "    model.fit(train_data[train_list], train_data['Demand'])\n",
        "\n",
        "\n",
        "    yhat_train = model.predict(train_data[train_list])\n",
        "    yhat_test = model.predict(test_data[train_list])\n",
        "\n",
        "    return yhat_train, yhat_test"
      ]
    },
    {
      "cell_type": "code",
      "execution_count": 97,
      "metadata": {
        "id": "ao6nw8xsRvB9"
      },
      "outputs": [],
      "source": [
        "def point_predict_visualizer(train_data, test_data, yhat_train, yhat_test):\n",
        "\n",
        "    predicted_train_df = train_data.copy(deep = True)\n",
        "    predicted_test_df = test_data.copy(deep = True)\n",
        "    predicted_train_df['Predicted'] = yhat_train\n",
        "    predicted_test_df['Predicted'] = yhat_test\n",
        "\n",
        "    train_data = train_data.groupby('day_number')['Demand'].sum()\n",
        "    test_data = test_data.groupby('day_number')['Demand'].sum()\n",
        "    predicted_train_df = predicted_train_df.groupby('day_number')['Predicted'].sum()\n",
        "    predicted_test_df = predicted_test_df.groupby('day_number')['Predicted'].sum()\n",
        "\n",
        "    plt.title('Train')\n",
        "    plt.plot(train_data)\n",
        "    plt.plot(predicted_train_df)\n",
        "    plt.legend([\"Real Value\", \"Predicted\"], loc =\"lower right\")\n",
        "    plt.show()\n",
        "\n",
        "    plot_length = len(test_data)\n",
        "    plt.title('Test')\n",
        "    plt.plot(test_data)\n",
        "    plt.plot(predicted_test_df)\n",
        "    plt.legend([\"Real Value\", \"Predicted\"], loc =\"lower right\")\n",
        "    plt.show()"
      ]
    },
    {
      "cell_type": "code",
      "execution_count": 32,
      "metadata": {
        "id": "iSHp4-guLY6F"
      },
      "outputs": [],
      "source": [
        "def concating_data(datas):\n",
        "    data_combined = pd.concat(datas, axis=0)\n",
        "    return data_combined"
      ]
    },
    {
      "cell_type": "code",
      "execution_count": 61,
      "metadata": {
        "id": "v4-GWghuSbnA"
      },
      "outputs": [],
      "source": [
        "def evaluation(model_name, train_data, test_data, yhat_train, yhat_test):\n",
        "    print(f'{model_name} train scores:')\n",
        "\n",
        "\n",
        "    evaluate(mean_absolute_error, 'MAE', train_data['Demand'], yhat_train)\n",
        "    evaluate(mean_squared_error, 'MSE', train_data['Demand'], yhat_train)\n",
        "    evaluate(customized_MAPE, 'MAPE', train_data['Demand'], yhat_train)\n",
        "\n",
        "    print(f'{model_name} test scores:')\n",
        "\n",
        "\n",
        "    evaluate(mean_absolute_error, 'MAE', test_data['Demand'], yhat_test)\n",
        "    evaluate(mean_squared_error, 'MSE', test_data['Demand'], yhat_test)\n",
        "    evaluate(customized_MAPE, 'MAPE', test_data['Demand'], yhat_test)\n"
      ]
    },
    {
      "cell_type": "code",
      "execution_count": 34,
      "metadata": {
        "id": "9Z7d_4tDgaXc"
      },
      "outputs": [],
      "source": [
        "def sort_metrics_values(metrics_values):\n",
        "    metrics_train_values  = metrics_values['train']\n",
        "    metrics_test_values = metrics_values['test']\n",
        "\n",
        "    sorted_train_metrics = sorted(metrics_train_values, key=lambda x: x[1]['RMSE'], reverse = True)\n",
        "    sorted_test_metrics = sorted(metrics_test_values, key=lambda x: x[1]['RMSE'], reverse = True)\n",
        "\n",
        "    sorted_metrics_values = {'train': sorted_train_metrics, 'test': sorted_test_metrics}\n",
        "    return sorted_metrics_values"
      ]
    },
    {
      "cell_type": "code",
      "execution_count": 42,
      "metadata": {
        "id": "s9jX0jdXb7FG"
      },
      "outputs": [],
      "source": [
        "def evaluate_each_location(fitted_model, train_data, test_data):\n",
        "    metrics_values = {'train' : [], 'test': []}\n",
        "    for loc_id in range(loc_id_num):\n",
        "        sample_train_data = train_data[train_data['PULocationID'] == loc_id]\n",
        "        sample_test_data = test_data[test_data['PULocationID'] == loc_id]\n",
        "        if len(sample_train_data) != 0:\n",
        "            yhat_train_sample = fitted_model.predict(sample_train_data[train_list])\n",
        "            metrics_values['train'].append([loc_id, {'RMSE' : np.sqrt(mean_squared_error(sample_train_data[\"Demand\"], yhat_train_sample)),\n",
        "                                                      'MAE' : mean_absolute_error(sample_train_data[\"Demand\"], yhat_train_sample)}])\n",
        "        if len(sample_test_data) != 0:\n",
        "            yhat_test_sample = fitted_model.predict(sample_test_data[train_list])\n",
        "            metrics_values['test'].append([loc_id, {'RMSE' : np.sqrt(mean_squared_error(sample_test_data[\"Demand\"], yhat_test_sample)),\n",
        "                                                      'MAE' : mean_absolute_error(sample_test_data[\"Demand\"], yhat_test_sample)}])\n",
        "    return sort_metrics_values(metrics_values)"
      ]
    },
    {
      "cell_type": "code",
      "execution_count": 36,
      "metadata": {
        "id": "9u8wGq1Umuec"
      },
      "outputs": [],
      "source": [
        "def get_locations_mean_demand(locations_id, data):\n",
        "    sum_demands = []\n",
        "    for location_id in locations_id:\n",
        "        sum_demands.append({location_id : data[data['PULocationID'] == location_id]['Demand'].mean()})\n",
        "    return sum_demands"
      ]
    },
    {
      "cell_type": "code",
      "execution_count": 52,
      "metadata": {},
      "outputs": [],
      "source": [
        "def day_of_year_modifier(data):\n",
        "    data['day_number'] = 0\n",
        "\n",
        "    # Loop over each row in the DataFrame\n",
        "    for index, row in data.iterrows():\n",
        "        # Get the day and month values from the current row\n",
        "        day = int(row['tpep_pickup_datetime'])\n",
        "        month = int(row['month'])\n",
        "        \n",
        "        # Calculate the day number for the current row using datetime\n",
        "        date = datetime.datetime(year=2023, month=month, day=day)\n",
        "        day_number = (date - datetime.datetime(year=2023, month=1, day=1)).days + 1\n",
        "        \n",
        "        # Store the day number in the 'day_number' column for the current row\n",
        "        data.at[index, 'day_number'] = day_number\n",
        "    return data"
      ]
    },
    {
      "cell_type": "markdown",
      "metadata": {
        "id": "np94_LhiZz_J"
      },
      "source": [
        "# initialization and loading dataset"
      ]
    },
    {
      "cell_type": "markdown",
      "metadata": {},
      "source": [
        "## Constant values"
      ]
    },
    {
      "cell_type": "code",
      "execution_count": 227,
      "metadata": {
        "id": "sTfWPu5oIA5C"
      },
      "outputs": [],
      "source": [
        "group_list = ['tpep_pickup_datetime', 'month', 'PULocationID']\n",
        "train_list = ['day_number', 'prev_day_demand', 'prev_week_demand', \n",
        "              '2prev_week_demand', 'pre_min_week_demand', \n",
        "              'pre_mean_week_demand', 'pre_max_week_demand', \n",
        "              '2pre_min_week_demand', '2pre_mean_week_demand', '2pre_max_week_demand']\n",
        "loc_id_num = 266\n",
        "train_size = 3\n",
        "test_size = 1\n",
        "window_size = 7"
      ]
    },
    {
      "cell_type": "markdown",
      "metadata": {},
      "source": [
        "## Load dataset"
      ]
    },
    {
      "cell_type": "code",
      "execution_count": 153,
      "metadata": {
        "id": "87BFHUu1-z73"
      },
      "outputs": [],
      "source": [
        "train_data, test_data = load_data(train_size, test_size, force_update = False)"
      ]
    },
    {
      "cell_type": "markdown",
      "metadata": {
        "id": "X2ES_CY6-fb5"
      },
      "source": [
        "# Preprocessing"
      ]
    },
    {
      "cell_type": "code",
      "execution_count": 154,
      "metadata": {
        "id": "VVRLakW_LeGp"
      },
      "outputs": [],
      "source": [
        "train_data = clearing_data_noise(train_data, [1,2,3])\n",
        "test_data = clearing_data_noise(test_data, [4])"
      ]
    },
    {
      "cell_type": "code",
      "execution_count": 155,
      "metadata": {
        "id": "kRwpaTqkIALM"
      },
      "outputs": [],
      "source": [
        "train_date_modified = date_format_modifier(train_data)\n",
        "test_date_modified = date_format_modifier(test_data)"
      ]
    },
    {
      "cell_type": "code",
      "execution_count": 156,
      "metadata": {
        "id": "cg4VOQBHLWzB"
      },
      "outputs": [],
      "source": [
        "train_data = concating_data(train_date_modified)\n",
        "test_data = concating_data(test_date_modified)"
      ]
    },
    {
      "cell_type": "code",
      "execution_count": 157,
      "metadata": {
        "id": "NYXsoTLJFaDm"
      },
      "outputs": [],
      "source": [
        "train_grouped = grouping_by(train_data, group_list)\n",
        "test_grouped = grouping_by(test_data, group_list)"
      ]
    },
    {
      "cell_type": "code",
      "execution_count": 245,
      "metadata": {
        "id": "6AXkWM2I-AEi"
      },
      "outputs": [],
      "source": [
        "train_feature_modified = add_features(train_grouped)\n",
        "test_feature_modified = add_features(test_grouped)"
      ]
    },
    {
      "cell_type": "code",
      "execution_count": null,
      "metadata": {},
      "outputs": [],
      "source": [
        "modified_train = day_of_year_modifier(train_feature_modified)\n",
        "modified_test = day_of_year_modifier(test_feature_modified)"
      ]
    },
    {
      "cell_type": "code",
      "execution_count": 247,
      "metadata": {},
      "outputs": [
        {
          "data": {
            "text/html": [
              "<div>\n",
              "<style scoped>\n",
              "    .dataframe tbody tr th:only-of-type {\n",
              "        vertical-align: middle;\n",
              "    }\n",
              "\n",
              "    .dataframe tbody tr th {\n",
              "        vertical-align: top;\n",
              "    }\n",
              "\n",
              "    .dataframe thead th {\n",
              "        text-align: right;\n",
              "    }\n",
              "</style>\n",
              "<table border=\"1\" class=\"dataframe\">\n",
              "  <thead>\n",
              "    <tr style=\"text-align: right;\">\n",
              "      <th></th>\n",
              "      <th>tpep_pickup_datetime</th>\n",
              "      <th>month</th>\n",
              "      <th>PULocationID</th>\n",
              "      <th>Demand</th>\n",
              "      <th>prev_day_demand</th>\n",
              "      <th>prev_week_demand</th>\n",
              "      <th>pre_min_week_demand</th>\n",
              "      <th>pre_mean_week_demand</th>\n",
              "      <th>pre_max_week_demand</th>\n",
              "      <th>2prev_week_demand</th>\n",
              "      <th>2pre_min_week_demand</th>\n",
              "      <th>2pre_mean_week_demand</th>\n",
              "      <th>2pre_max_week_demand</th>\n",
              "      <th>day_number</th>\n",
              "    </tr>\n",
              "  </thead>\n",
              "  <tbody>\n",
              "    <tr>\n",
              "      <th>9178</th>\n",
              "      <td>15.0</td>\n",
              "      <td>1.0</td>\n",
              "      <td>1</td>\n",
              "      <td>19</td>\n",
              "      <td>7.0</td>\n",
              "      <td>12.0</td>\n",
              "      <td>2.0</td>\n",
              "      <td>8.285714</td>\n",
              "      <td>15.0</td>\n",
              "      <td>40.0</td>\n",
              "      <td>1.0</td>\n",
              "      <td>470.857143</td>\n",
              "      <td>1704.0</td>\n",
              "      <td>15</td>\n",
              "    </tr>\n",
              "    <tr>\n",
              "      <th>9180</th>\n",
              "      <td>15.0</td>\n",
              "      <td>1.0</td>\n",
              "      <td>4</td>\n",
              "      <td>206</td>\n",
              "      <td>270.0</td>\n",
              "      <td>150.0</td>\n",
              "      <td>2.0</td>\n",
              "      <td>290.571429</td>\n",
              "      <td>1534.0</td>\n",
              "      <td>146.0</td>\n",
              "      <td>1.0</td>\n",
              "      <td>249.142857</td>\n",
              "      <td>1704.0</td>\n",
              "      <td>15</td>\n",
              "    </tr>\n",
              "    <tr>\n",
              "      <th>9181</th>\n",
              "      <td>15.0</td>\n",
              "      <td>1.0</td>\n",
              "      <td>5</td>\n",
              "      <td>1</td>\n",
              "      <td>3.0</td>\n",
              "      <td>1.0</td>\n",
              "      <td>2.0</td>\n",
              "      <td>556.428571</td>\n",
              "      <td>1873.0</td>\n",
              "      <td>3.0</td>\n",
              "      <td>1.0</td>\n",
              "      <td>249.571429</td>\n",
              "      <td>1704.0</td>\n",
              "      <td>15</td>\n",
              "    </tr>\n",
              "    <tr>\n",
              "      <th>9182</th>\n",
              "      <td>15.0</td>\n",
              "      <td>1.0</td>\n",
              "      <td>6</td>\n",
              "      <td>3</td>\n",
              "      <td>3.0</td>\n",
              "      <td>2.0</td>\n",
              "      <td>2.0</td>\n",
              "      <td>697.571429</td>\n",
              "      <td>1873.0</td>\n",
              "      <td>1.0</td>\n",
              "      <td>1.0</td>\n",
              "      <td>249.285714</td>\n",
              "      <td>1704.0</td>\n",
              "      <td>15</td>\n",
              "    </tr>\n",
              "    <tr>\n",
              "      <th>9183</th>\n",
              "      <td>15.0</td>\n",
              "      <td>1.0</td>\n",
              "      <td>7</td>\n",
              "      <td>45</td>\n",
              "      <td>37.0</td>\n",
              "      <td>56.0</td>\n",
              "      <td>5.0</td>\n",
              "      <td>704.142857</td>\n",
              "      <td>1873.0</td>\n",
              "      <td>91.0</td>\n",
              "      <td>1.0</td>\n",
              "      <td>6.142857</td>\n",
              "      <td>12.0</td>\n",
              "      <td>15</td>\n",
              "    </tr>\n",
              "    <tr>\n",
              "      <th>...</th>\n",
              "      <td>...</td>\n",
              "      <td>...</td>\n",
              "      <td>...</td>\n",
              "      <td>...</td>\n",
              "      <td>...</td>\n",
              "      <td>...</td>\n",
              "      <td>...</td>\n",
              "      <td>...</td>\n",
              "      <td>...</td>\n",
              "      <td>...</td>\n",
              "      <td>...</td>\n",
              "      <td>...</td>\n",
              "      <td>...</td>\n",
              "      <td>...</td>\n",
              "    </tr>\n",
              "    <tr>\n",
              "      <th>19654</th>\n",
              "      <td>31.0</td>\n",
              "      <td>3.0</td>\n",
              "      <td>261</td>\n",
              "      <td>505</td>\n",
              "      <td>575.0</td>\n",
              "      <td>582.0</td>\n",
              "      <td>1.0</td>\n",
              "      <td>399.571429</td>\n",
              "      <td>2735.0</td>\n",
              "      <td>538.0</td>\n",
              "      <td>1.0</td>\n",
              "      <td>673.714286</td>\n",
              "      <td>3136.0</td>\n",
              "      <td>90</td>\n",
              "    </tr>\n",
              "    <tr>\n",
              "      <th>19655</th>\n",
              "      <td>31.0</td>\n",
              "      <td>3.0</td>\n",
              "      <td>262</td>\n",
              "      <td>1425</td>\n",
              "      <td>1482.0</td>\n",
              "      <td>1404.0</td>\n",
              "      <td>1.0</td>\n",
              "      <td>400.857143</td>\n",
              "      <td>2735.0</td>\n",
              "      <td>1784.0</td>\n",
              "      <td>1.0</td>\n",
              "      <td>227.714286</td>\n",
              "      <td>1479.0</td>\n",
              "      <td>90</td>\n",
              "    </tr>\n",
              "    <tr>\n",
              "      <th>19656</th>\n",
              "      <td>31.0</td>\n",
              "      <td>3.0</td>\n",
              "      <td>263</td>\n",
              "      <td>2305</td>\n",
              "      <td>2075.0</td>\n",
              "      <td>2254.0</td>\n",
              "      <td>1.0</td>\n",
              "      <td>400.571429</td>\n",
              "      <td>2735.0</td>\n",
              "      <td>2826.0</td>\n",
              "      <td>3.0</td>\n",
              "      <td>228.000000</td>\n",
              "      <td>1479.0</td>\n",
              "      <td>90</td>\n",
              "    </tr>\n",
              "    <tr>\n",
              "      <th>19657</th>\n",
              "      <td>31.0</td>\n",
              "      <td>3.0</td>\n",
              "      <td>264</td>\n",
              "      <td>1187</td>\n",
              "      <td>1186.0</td>\n",
              "      <td>982.0</td>\n",
              "      <td>1.0</td>\n",
              "      <td>10.142857</td>\n",
              "      <td>29.0</td>\n",
              "      <td>1003.0</td>\n",
              "      <td>3.0</td>\n",
              "      <td>618.000000</td>\n",
              "      <td>2735.0</td>\n",
              "      <td>90</td>\n",
              "    </tr>\n",
              "    <tr>\n",
              "      <th>19658</th>\n",
              "      <td>31.0</td>\n",
              "      <td>3.0</td>\n",
              "      <td>265</td>\n",
              "      <td>63</td>\n",
              "      <td>68.0</td>\n",
              "      <td>47.0</td>\n",
              "      <td>1.0</td>\n",
              "      <td>9.428571</td>\n",
              "      <td>29.0</td>\n",
              "      <td>72.0</td>\n",
              "      <td>3.0</td>\n",
              "      <td>618.000000</td>\n",
              "      <td>2735.0</td>\n",
              "      <td>90</td>\n",
              "    </tr>\n",
              "  </tbody>\n",
              "</table>\n",
              "<p>9616 rows × 14 columns</p>\n",
              "</div>"
            ],
            "text/plain": [
              "       tpep_pickup_datetime  month  PULocationID  Demand  prev_day_demand  \\\n",
              "9178                   15.0    1.0             1      19              7.0   \n",
              "9180                   15.0    1.0             4     206            270.0   \n",
              "9181                   15.0    1.0             5       1              3.0   \n",
              "9182                   15.0    1.0             6       3              3.0   \n",
              "9183                   15.0    1.0             7      45             37.0   \n",
              "...                     ...    ...           ...     ...              ...   \n",
              "19654                  31.0    3.0           261     505            575.0   \n",
              "19655                  31.0    3.0           262    1425           1482.0   \n",
              "19656                  31.0    3.0           263    2305           2075.0   \n",
              "19657                  31.0    3.0           264    1187           1186.0   \n",
              "19658                  31.0    3.0           265      63             68.0   \n",
              "\n",
              "       prev_week_demand  pre_min_week_demand  pre_mean_week_demand  \\\n",
              "9178               12.0                  2.0              8.285714   \n",
              "9180              150.0                  2.0            290.571429   \n",
              "9181                1.0                  2.0            556.428571   \n",
              "9182                2.0                  2.0            697.571429   \n",
              "9183               56.0                  5.0            704.142857   \n",
              "...                 ...                  ...                   ...   \n",
              "19654             582.0                  1.0            399.571429   \n",
              "19655            1404.0                  1.0            400.857143   \n",
              "19656            2254.0                  1.0            400.571429   \n",
              "19657             982.0                  1.0             10.142857   \n",
              "19658              47.0                  1.0              9.428571   \n",
              "\n",
              "       pre_max_week_demand  2prev_week_demand  2pre_min_week_demand  \\\n",
              "9178                  15.0               40.0                   1.0   \n",
              "9180                1534.0              146.0                   1.0   \n",
              "9181                1873.0                3.0                   1.0   \n",
              "9182                1873.0                1.0                   1.0   \n",
              "9183                1873.0               91.0                   1.0   \n",
              "...                    ...                ...                   ...   \n",
              "19654               2735.0              538.0                   1.0   \n",
              "19655               2735.0             1784.0                   1.0   \n",
              "19656               2735.0             2826.0                   3.0   \n",
              "19657                 29.0             1003.0                   3.0   \n",
              "19658                 29.0               72.0                   3.0   \n",
              "\n",
              "       2pre_mean_week_demand  2pre_max_week_demand  day_number  \n",
              "9178              470.857143                1704.0          15  \n",
              "9180              249.142857                1704.0          15  \n",
              "9181              249.571429                1704.0          15  \n",
              "9182              249.285714                1704.0          15  \n",
              "9183                6.142857                  12.0          15  \n",
              "...                      ...                   ...         ...  \n",
              "19654             673.714286                3136.0          90  \n",
              "19655             227.714286                1479.0          90  \n",
              "19656             228.000000                1479.0          90  \n",
              "19657             618.000000                2735.0          90  \n",
              "19658             618.000000                2735.0          90  \n",
              "\n",
              "[9616 rows x 14 columns]"
            ]
          },
          "execution_count": 247,
          "metadata": {},
          "output_type": "execute_result"
        }
      ],
      "source": [
        "modified_train"
      ]
    },
    {
      "cell_type": "markdown",
      "metadata": {},
      "source": [
        "# Model Training"
      ]
    },
    {
      "cell_type": "markdown",
      "metadata": {
        "id": "PxYfxyCHz_Z3"
      },
      "source": [
        "## **Linear Regression**"
      ]
    },
    {
      "cell_type": "markdown",
      "metadata": {
        "id": "CJn4YIBtKcL_"
      },
      "source": [
        "### Grid search to find best hyper parameters"
      ]
    },
    {
      "cell_type": "code",
      "execution_count": 231,
      "metadata": {
        "colab": {
          "base_uri": "https://localhost:8080/"
        },
        "id": "KlE1fodhQZ-x",
        "outputId": "78b6789c-03f9-4639-e94c-57bfac1c04dd"
      },
      "outputs": [
        {
          "name": "stdout",
          "output_type": "stream",
          "text": [
            "{'alpha': 1000} -125.34047129132429\n"
          ]
        }
      ],
      "source": [
        "model = Ridge()\n",
        "best_params, best_score = grid_search(model, {'alpha':[1, 10, 100, 1000, 1000]}, modified_train, cv = 5)\n",
        "print(best_params, best_score)"
      ]
    },
    {
      "cell_type": "code",
      "execution_count": 232,
      "metadata": {
        "id": "MulwYZc7LK7v"
      },
      "outputs": [],
      "source": [
        "model = Ridge(**best_params)\n",
        "yhat_train, yhat_test = point_predict(model, modified_train, modified_test)"
      ]
    },
    {
      "cell_type": "markdown",
      "metadata": {
        "id": "jJYHtg2oRqvS"
      },
      "source": [
        "### Visualization"
      ]
    },
    {
      "cell_type": "code",
      "execution_count": 233,
      "metadata": {
        "colab": {
          "base_uri": "https://localhost:8080/",
          "height": 887
        },
        "id": "gOyNantNRtda",
        "outputId": "dc7796cf-c196-421d-bd56-1d312334dee4"
      },
      "outputs": [
        {
          "data": {
            "image/png": "[encoded data removed]",
            "text/plain": [
              "<Figure size 640x480 with 1 Axes>"
            ]
          },
          "metadata": {},
          "output_type": "display_data"
        },
        {
          "data": {
            "image/png": "[encoded data removed]",
            "text/plain": [
              "<Figure size 640x480 with 1 Axes>"
            ]
          },
          "metadata": {},
          "output_type": "display_data"
        }
      ],
      "source": [
        "point_predict_visualizer(modified_train, modified_test, yhat_train, yhat_test)"
      ]
    },
    {
      "cell_type": "markdown",
      "metadata": {
        "id": "RBsqB5hnSuPP"
      },
      "source": [
        "### Evaluation"
      ]
    },
    {
      "cell_type": "code",
      "execution_count": 234,
      "metadata": {
        "colab": {
          "base_uri": "https://localhost:8080/"
        },
        "id": "vUBqNgIwSwKe",
        "outputId": "c05d64b8-b525-458d-96db-757e94a57d89"
      },
      "outputs": [
        {
          "name": "stdout",
          "output_type": "stream",
          "text": [
            "Ridge Regression train scores:\n",
            "MAE : 44.67993037123676\n",
            "MSE : 14400.660951431593\n",
            "MAPE : 0.5649383085230726\n",
            "Ridge Regression test scores:\n",
            "MAE : 51.573603149705534\n",
            "MSE : 11919.02224190176\n",
            "MAPE : 1.8870331214797489\n"
          ]
        }
      ],
      "source": [
        "evaluation('Ridge Regression', modified_train, modified_test, yhat_train, yhat_test)  # for whole data"
      ]
    },
    {
      "cell_type": "code",
      "execution_count": 235,
      "metadata": {
        "id": "0qURf8RUex0i"
      },
      "outputs": [],
      "source": [
        "sorted_metrics_values = evaluate_each_location(model, modified_train, modified_test)  # for each location"
      ]
    },
    {
      "cell_type": "code",
      "execution_count": 236,
      "metadata": {
        "colab": {
          "base_uri": "https://localhost:8080/"
        },
        "id": "5Lm-E_XohI9M",
        "outputId": "f4c4d214-92fb-444f-e153-98ee77d333e5"
      },
      "outputs": [
        {
          "data": {
            "text/plain": [
              "[[132, {'RMSE': 546.5644571054744, 'MAE': 458.143864541197}],\n",
              " [161, {'RMSE': 540.232166253809, 'MAE': 393.10389631014345}],\n",
              " [236, {'RMSE': 533.5935667269998, 'MAE': 375.528661063604}],\n",
              " [237, {'RMSE': 523.9795106013348, 'MAE': 383.55737873756124}],\n",
              " [138, {'RMSE': 424.07320367632855, 'MAE': 339.66938939226577}],\n",
              " [246, {'RMSE': 380.09437567945974, 'MAE': 271.99201201854885}],\n",
              " [230, {'RMSE': 369.93737439222616, 'MAE': 287.89034690500307}],\n",
              " [79, {'RMSE': 366.05401222834456, 'MAE': 261.0252588159439}],\n",
              " [163, {'RMSE': 303.54361230451894, 'MAE': 226.40087041715756}],\n",
              " [162, {'RMSE': 290.4408979726454, 'MAE': 196.32465770504146}]]"
            ]
          },
          "execution_count": 236,
          "metadata": {},
          "output_type": "execute_result"
        }
      ],
      "source": [
        "sorted_metrics_values['train'][:10]"
      ]
    },
    {
      "cell_type": "code",
      "execution_count": 237,
      "metadata": {
        "colab": {
          "base_uri": "https://localhost:8080/"
        },
        "id": "qhf2fMUSNxK3",
        "outputId": "fb6053be-6c57-4251-8e80-b5ec94ff6f76"
      },
      "outputs": [
        {
          "data": {
            "text/plain": [
              "(510.1724209650582, 533.8421375921376)"
            ]
          },
          "execution_count": 237,
          "metadata": {},
          "output_type": "execute_result"
        }
      ],
      "source": [
        "modified_train['Demand'].mean(), modified_test['Demand'].mean()"
      ]
    },
    {
      "cell_type": "code",
      "execution_count": 238,
      "metadata": {
        "colab": {
          "base_uri": "https://localhost:8080/"
        },
        "id": "OnDjA4EknqbE",
        "outputId": "94e7efa8-6537-465c-c2e6-76d7781c30af"
      },
      "outputs": [
        {
          "data": {
            "text/plain": [
              "[{132: 5189.291666666667},\n",
              " {161: 4801.166666666667},\n",
              " {236: 4261.083333333333},\n",
              " {237: 4740.041666666667},\n",
              " {138: 3282.9375},\n",
              " {246: 1604.3541666666667},\n",
              " {230: 3496.9791666666665},\n",
              " {79: 2572.2916666666665},\n",
              " {163: 2982.5},\n",
              " {162: 3691.3541666666665}]"
            ]
          },
          "execution_count": 238,
          "metadata": {},
          "output_type": "execute_result"
        }
      ],
      "source": [
        "bad_predicted_locations_id = [value[0] for value in sorted_metrics_values['train'][:10]]\n",
        "get_locations_mean_demand(bad_predicted_locations_id, modified_train)"
      ]
    },
    {
      "cell_type": "code",
      "execution_count": 239,
      "metadata": {
        "colab": {
          "base_uri": "https://localhost:8080/"
        },
        "id": "SJLS4Lyxhn53",
        "outputId": "97490221-12ca-402e-d1bd-3f445c396e6b"
      },
      "outputs": [
        {
          "data": {
            "text/plain": [
              "[{132: 5987.125},\n",
              " {138: 3937.375},\n",
              " {237: 5255.5},\n",
              " {236: 4702.75},\n",
              " {142: 3876.1875},\n",
              " {161: 4867.625},\n",
              " {163: 3241.75},\n",
              " {162: 3713.5625},\n",
              " {170: 3190.1875},\n",
              " {234: 2934.8125}]"
            ]
          },
          "execution_count": 239,
          "metadata": {},
          "output_type": "execute_result"
        }
      ],
      "source": [
        "bad_predicted_locations_id = [value[0] for value in sorted_metrics_values['test'][:10]]\n",
        "get_locations_mean_demand(bad_predicted_locations_id, modified_test)"
      ]
    },
    {
      "cell_type": "markdown",
      "metadata": {
        "id": "mIhvw9lH92sa"
      },
      "source": [
        "## **Gradient Boosting Regressor**"
      ]
    },
    {
      "cell_type": "markdown",
      "metadata": {
        "id": "13gFIyYfZyxh"
      },
      "source": [
        "### Grid search to find best hyper parameters"
      ]
    },
    {
      "cell_type": "code",
      "execution_count": 80,
      "metadata": {
        "id": "cm3YTQCMZVvu"
      },
      "outputs": [
        {
          "name": "stdout",
          "output_type": "stream",
          "text": [
            "{'max_depth': 2, 'min_child_weight': 5} -238.60198873503435\n"
          ]
        }
      ],
      "source": [
        "param_test = {'max_depth':range(2,10,2), 'min_child_weight':range(1,6,2)}\n",
        "\n",
        "params = {\"objective\": \"reg:squarederror\", \"tree_method\": \"gpu_hist\", 'n_estimators':140, 'learning_rate':0.1, 'max_depth':5,\n",
        "         'min_child_weight':1, 'gamma':0, 'subsample':0.8, 'colsample_bytree':0.8, 'seed':27}\n",
        "\n",
        "best_params, best_score = grid_search(model = xgb.XGBRegressor(**params), test_parameters = param_test, train_data = modified_train, cv = 5)\n",
        "print(best_params, best_score)"
      ]
    },
    {
      "cell_type": "code",
      "execution_count": 81,
      "metadata": {},
      "outputs": [
        {
          "name": "stdout",
          "output_type": "stream",
          "text": [
            "{'gamma': 0.0} -238.60198873503435\n"
          ]
        }
      ],
      "source": [
        "params.update(best_params)\n",
        "param_test = {'gamma':[i/10.0 for i in range(0,5)]}\n",
        "best_params, best_score = grid_search(model = xgb.XGBRegressor(**params), test_parameters = param_test, train_data = modified_train, cv = 5)\n",
        "print(best_params, best_score)"
      ]
    },
    {
      "cell_type": "code",
      "execution_count": 85,
      "metadata": {},
      "outputs": [
        {
          "name": "stdout",
          "output_type": "stream",
          "text": [
            "{'colsample_bytree': 0.6, 'subsample': 0.9} -237.0204546297031\n"
          ]
        }
      ],
      "source": [
        "params.update(best_params)\n",
        "param_test = {'subsample':[i/10.0 for i in range(6,10)], 'colsample_bytree':[i/10.0 for i in range(6,10)]}\n",
        "best_params, best_score = grid_search(model = xgb.XGBRegressor(**params), test_parameters = param_test, train_data = modified_train, cv = 5)\n",
        "print(best_params, best_score)"
      ]
    },
    {
      "cell_type": "code",
      "execution_count": 87,
      "metadata": {},
      "outputs": [
        {
          "name": "stdout",
          "output_type": "stream",
          "text": [
            "{'reg_alpha': 1} -237.02005974356038\n"
          ]
        }
      ],
      "source": [
        "params.update(best_params)\n",
        "param_test = {'reg_alpha':[1e-5, 1e-2, 0.1, 1, 100]}\n",
        "best_params, best_score = grid_search(model = xgb.XGBRegressor(**params), test_parameters = param_test, train_data = modified_train, cv = 5)\n",
        "print(best_params, best_score)"
      ]
    },
    {
      "cell_type": "code",
      "execution_count": 90,
      "metadata": {},
      "outputs": [
        {
          "name": "stdout",
          "output_type": "stream",
          "text": [
            "{'learning_rate': 0.01, 'n_estimators': 1500} -236.59626847393665\n"
          ]
        }
      ],
      "source": [
        "params.update(best_params)\n",
        "param_test = {'n_estimators':list(range(1000, 5001, 500)), 'learning_rate':[0.01]}\n",
        "best_params, best_score = grid_search(model = xgb.XGBRegressor(**params), test_parameters = param_test, train_data = modified_train, cv = 5)\n",
        "print(best_params, best_score)"
      ]
    },
    {
      "cell_type": "code",
      "execution_count": 95,
      "metadata": {},
      "outputs": [
        {
          "name": "stdout",
          "output_type": "stream",
          "text": [
            "{'learning_rate': 0.001, 'n_estimators': 15000} -236.53642284774014\n"
          ]
        }
      ],
      "source": [
        "params.update(best_params)\n",
        "param_test = {'n_estimators':list(range(15000, 20001, 500)), 'learning_rate':[0.001]}\n",
        "best_params, best_score = grid_search(model = xgb.XGBRegressor(**params), test_parameters = param_test, train_data = modified_train, cv = 5)\n",
        "print(best_params, best_score)"
      ]
    },
    {
      "cell_type": "markdown",
      "metadata": {},
      "source": [
        "### Training with costant parameters"
      ]
    },
    {
      "cell_type": "code",
      "execution_count": 240,
      "metadata": {
        "id": "5AdQtdSqN7m9"
      },
      "outputs": [],
      "source": [
        "dtrain_reg = xgb.DMatrix(modified_train[train_list].values, modified_train['Demand'].values, enable_categorical=True)\n",
        "dtest_reg = xgb.DMatrix(modified_test[train_list].values, modified_test['Demand'].values, enable_categorical=True)\n",
        "\n",
        "#params.update(best_params)\n",
        "params = {'learning_rate': 0.001, 'n_estimators': 15000, 'reg_alpha': 1, 'colsample_bytree': 0.6, \n",
        "          'subsample': 0.9, 'gamma': 0.0, 'max_depth': 2, 'min_child_weight': 5}\n",
        "model = xgb.XGBRegressor(**params)\n",
        "yhat_train, yhat_test = point_predict(model, modified_train, modified_test)"
      ]
    },
    {
      "cell_type": "markdown",
      "metadata": {
        "id": "J0EYl9KtTfo7"
      },
      "source": [
        "### Visualization"
      ]
    },
    {
      "cell_type": "code",
      "execution_count": 241,
      "metadata": {
        "id": "deyLWLmZThMJ"
      },
      "outputs": [
        {
          "data": {
            "image/png": "[encoded data removed]",
            "text/plain": [
              "<Figure size 640x480 with 1 Axes>"
            ]
          },
          "metadata": {},
          "output_type": "display_data"
        },
        {
          "data": {
            "image/png": "[encoded data removed]",
            "text/plain": [
              "<Figure size 640x480 with 1 Axes>"
            ]
          },
          "metadata": {},
          "output_type": "display_data"
        }
      ],
      "source": [
        "point_predict_visualizer(modified_train, modified_test, yhat_train, yhat_test)"
      ]
    },
    {
      "cell_type": "markdown",
      "metadata": {
        "id": "lERphf0kTist"
      },
      "source": [
        "### Evaluation"
      ]
    },
    {
      "cell_type": "code",
      "execution_count": 242,
      "metadata": {
        "id": "qSZwIFprTkqK"
      },
      "outputs": [
        {
          "name": "stdout",
          "output_type": "stream",
          "text": [
            "Random Forest Regressor train scores:\n",
            "MAE : 37.556632261230874\n",
            "MSE : 9919.205211414377\n",
            "MAPE : 0.3276994231112904\n",
            "Random Forest Regressor test scores:\n",
            "MAE : 42.528461501601406\n",
            "MSE : 12830.706782480358\n",
            "MAPE : 0.2829636460682344\n"
          ]
        }
      ],
      "source": [
        "evaluation('Random Forest Regressor', modified_train, modified_test, yhat_train, yhat_test)  # for whole data"
      ]
    },
    {
      "cell_type": "code",
      "execution_count": 221,
      "metadata": {
        "id": "mYYvCMhbM4q5"
      },
      "outputs": [],
      "source": [
        "sorted_metrics_values = evaluate_each_location(model, modified_train, modified_test)  # for each location"
      ]
    },
    {
      "cell_type": "code",
      "execution_count": 222,
      "metadata": {
        "id": "J6WLjG06M4q6"
      },
      "outputs": [
        {
          "data": {
            "text/plain": [
              "[[132, {'RMSE': 422.64299506754196, 'MAE': 349.4459584554036}],\n",
              " [161, {'RMSE': 416.3937350485587, 'MAE': 293.7652842203776}],\n",
              " [236, {'RMSE': 396.8968962683462, 'MAE': 286.80080159505206}],\n",
              " [138, {'RMSE': 391.1977242602484, 'MAE': 310.9748051961263}],\n",
              " [237, {'RMSE': 377.3192799883311, 'MAE': 284.56553649902344}],\n",
              " [246, {'RMSE': 342.07597410886393, 'MAE': 251.83304850260416}],\n",
              " [230, {'RMSE': 323.0439349046878, 'MAE': 250.4739532470703}],\n",
              " [79, {'RMSE': 302.0365096493131, 'MAE': 224.46369171142578}],\n",
              " [163, {'RMSE': 276.7473356136156, 'MAE': 197.01285807291666}],\n",
              " [140, {'RMSE': 260.82477863484047, 'MAE': 172.76912689208984}]]"
            ]
          },
          "execution_count": 222,
          "metadata": {},
          "output_type": "execute_result"
        }
      ],
      "source": [
        "sorted_metrics_values['train'][:10]"
      ]
    },
    {
      "cell_type": "code",
      "execution_count": 223,
      "metadata": {
        "id": "zgg7JdMmQfOE"
      },
      "outputs": [
        {
          "data": {
            "text/plain": [
              "(510.1724209650582, 533.8421375921376)"
            ]
          },
          "execution_count": 223,
          "metadata": {},
          "output_type": "execute_result"
        }
      ],
      "source": [
        "modified_train['Demand'].mean(), modified_test['Demand'].mean()"
      ]
    },
    {
      "cell_type": "code",
      "execution_count": 224,
      "metadata": {
        "id": "8gItepK9M4q6"
      },
      "outputs": [
        {
          "data": {
            "text/plain": [
              "[{132: 5189.291666666667},\n",
              " {161: 4801.166666666667},\n",
              " {236: 4261.083333333333},\n",
              " {138: 3282.9375},\n",
              " {237: 4740.041666666667},\n",
              " {246: 1604.3541666666667},\n",
              " {230: 3496.9791666666665},\n",
              " {79: 2572.2916666666665},\n",
              " {163: 2982.5},\n",
              " {140: 2122.5}]"
            ]
          },
          "execution_count": 224,
          "metadata": {},
          "output_type": "execute_result"
        }
      ],
      "source": [
        "bad_predicted_locations_id = [value[0] for value in sorted_metrics_values['train'][:10]]\n",
        "get_locations_mean_demand(bad_predicted_locations_id, modified_train)"
      ]
    },
    {
      "cell_type": "code",
      "execution_count": 225,
      "metadata": {
        "id": "RGoK28ZrM4q7"
      },
      "outputs": [
        {
          "data": {
            "text/plain": [
              "[{132: 5987.125},\n",
              " {138: 3937.375},\n",
              " {237: 5255.5},\n",
              " {236: 4702.75},\n",
              " {142: 3876.1875},\n",
              " {161: 4867.625},\n",
              " {162: 3713.5625},\n",
              " {170: 3190.1875},\n",
              " {163: 3241.75},\n",
              " {107: 2401.875}]"
            ]
          },
          "execution_count": 225,
          "metadata": {},
          "output_type": "execute_result"
        }
      ],
      "source": [
        "bad_predicted_locations_id = [value[0] for value in sorted_metrics_values['test'][:10]]\n",
        "get_locations_mean_demand(bad_predicted_locations_id, modified_test)"
      ]
    }
  ],
  "metadata": {
    "colab": {
      "collapsed_sections": [
        "np94_LhiZz_J",
        "X2ES_CY6-fb5"
      ],
      "provenance": [],
      "toc_visible": true
    },
    "kernelspec": {
      "display_name": "Python 3",
      "name": "python3"
    },
    "language_info": {
      "codemirror_mode": {
        "name": "ipython",
        "version": 3
      },
      "file_extension": ".py",
      "mimetype": "text/x-python",
      "name": "python",
      "nbconvert_exporter": "python",
      "pygments_lexer": "ipython3",
      "version": "3.10.7"
    }
  },
  "nbformat": 4,
  "nbformat_minor": 0
}
