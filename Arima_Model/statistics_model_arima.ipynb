{
 "cells": [
  {
   "cell_type": "markdown",
   "metadata": {
    "id": "KzcJPH0e1BE6"
   },
   "source": [
    "# imports"
   ]
  },
  {
   "cell_type": "code",
   "execution_count": 2,
   "metadata": {
    "colab": {
     "base_uri": "https://localhost:8080/"
    },
    "id": "kEr9J20VzxOq",
    "outputId": "b88a69f2-0a15-4bfc-a660-a7a3bf9ad751"
   },
   "outputs": [],
   "source": [
    "import pandas as pd\n",
    "import numpy as np\n",
    "import datetime\n",
    "import matplotlib.pyplot as plt\n",
    "import pmdarima as pm\n",
    "import warnings\n",
    "from pmdarima.arima import ARIMA\n",
    "from math import sqrt\n",
    "from sklearn.metrics import mean_squared_error, mean_absolute_percentage_error"
   ]
  },
  {
   "cell_type": "code",
   "execution_count": 3,
   "metadata": {},
   "outputs": [],
   "source": [
    "warnings.filterwarnings(\"ignore\")"
   ]
  },
  {
   "cell_type": "markdown",
   "metadata": {
    "id": "uEOhGFuj2J3p"
   },
   "source": [
    "# loading Dataset"
   ]
  },
  {
   "cell_type": "code",
   "execution_count": 2,
   "metadata": {},
   "outputs": [],
   "source": [
    "INPUT_PATH = 'data/labels.parquet'\n",
    "OUTPUT_PATH = 'data/arima_predict.parquet'"
   ]
  },
  {
   "cell_type": "code",
   "execution_count": 3,
   "metadata": {
    "id": "xLg8mI4Yr8Zc"
   },
   "outputs": [],
   "source": [
    "def load_data(path):\n",
    "    dataset = pd.read_parquet(path, engine = 'pyarrow') \n",
    "    return dataset"
   ]
  },
  {
   "cell_type": "code",
   "execution_count": 4,
   "metadata": {},
   "outputs": [],
   "source": [
    "rides_df = load_data(INPUT_PATH)"
   ]
  },
  {
   "cell_type": "markdown",
   "metadata": {},
   "source": [
    "# Preprocessing "
   ]
  },
  {
   "cell_type": "code",
   "execution_count": 5,
   "metadata": {},
   "outputs": [],
   "source": [
    "def preprocessing(rides_df):\n",
    "    loc_ts={}\n",
    "    demand=[]\n",
    "    pre_Location=1\n",
    "    \n",
    "    for i in range(len(rides_df)):\n",
    "        \n",
    "      if rides_df.Location[i]!=pre_Location:\n",
    "        loc_ts[f'LocationID_{pre_Location}']=demand\n",
    "        demand=[]\n",
    "          \n",
    "      demand.append(rides_df.Demand[i])\n",
    "      pre_Location = rides_df.Location[i]\n",
    "        \n",
    "    loc_ts[f'LocationID_{pre_Location}'] = demand\n",
    "    loc_labels_df = pd.DataFrame(loc_ts)\n",
    "    \n",
    "    return loc_labels_df"
   ]
  },
  {
   "cell_type": "code",
   "execution_count": 6,
   "metadata": {},
   "outputs": [
    {
     "name": "stdout",
     "output_type": "stream",
     "text": [
      "loc_labels_df shape : (120, 262)\n"
     ]
    },
    {
     "data": {
      "text/html": [
       "<div>\n",
       "<style scoped>\n",
       "    .dataframe tbody tr th:only-of-type {\n",
       "        vertical-align: middle;\n",
       "    }\n",
       "\n",
       "    .dataframe tbody tr th {\n",
       "        vertical-align: top;\n",
       "    }\n",
       "\n",
       "    .dataframe thead th {\n",
       "        text-align: right;\n",
       "    }\n",
       "</style>\n",
       "<table border=\"1\" class=\"dataframe\">\n",
       "  <thead>\n",
       "    <tr style=\"text-align: right;\">\n",
       "      <th></th>\n",
       "      <th>LocationID_1</th>\n",
       "      <th>LocationID_2</th>\n",
       "      <th>LocationID_3</th>\n",
       "      <th>LocationID_4</th>\n",
       "      <th>LocationID_5</th>\n",
       "      <th>LocationID_6</th>\n",
       "      <th>LocationID_7</th>\n",
       "      <th>LocationID_8</th>\n",
       "      <th>LocationID_9</th>\n",
       "      <th>LocationID_10</th>\n",
       "      <th>...</th>\n",
       "      <th>LocationID_256</th>\n",
       "      <th>LocationID_257</th>\n",
       "      <th>LocationID_258</th>\n",
       "      <th>LocationID_259</th>\n",
       "      <th>LocationID_260</th>\n",
       "      <th>LocationID_261</th>\n",
       "      <th>LocationID_262</th>\n",
       "      <th>LocationID_263</th>\n",
       "      <th>LocationID_264</th>\n",
       "      <th>LocationID_265</th>\n",
       "    </tr>\n",
       "  </thead>\n",
       "  <tbody>\n",
       "    <tr>\n",
       "      <th>0</th>\n",
       "      <td>40.0</td>\n",
       "      <td>0.0</td>\n",
       "      <td>0.0</td>\n",
       "      <td>174.0</td>\n",
       "      <td>3.0</td>\n",
       "      <td>1.0</td>\n",
       "      <td>126.0</td>\n",
       "      <td>1.0</td>\n",
       "      <td>0.0</td>\n",
       "      <td>47.0</td>\n",
       "      <td>...</td>\n",
       "      <td>125.0</td>\n",
       "      <td>5.0</td>\n",
       "      <td>5.0</td>\n",
       "      <td>1.0</td>\n",
       "      <td>48.0</td>\n",
       "      <td>510.0</td>\n",
       "      <td>837.0</td>\n",
       "      <td>1942.0</td>\n",
       "      <td>1176.0</td>\n",
       "      <td>124.0</td>\n",
       "    </tr>\n",
       "    <tr>\n",
       "      <th>1</th>\n",
       "      <td>31.0</td>\n",
       "      <td>0.0</td>\n",
       "      <td>2.0</td>\n",
       "      <td>32.0</td>\n",
       "      <td>2.0</td>\n",
       "      <td>3.0</td>\n",
       "      <td>39.0</td>\n",
       "      <td>0.0</td>\n",
       "      <td>2.0</td>\n",
       "      <td>36.0</td>\n",
       "      <td>...</td>\n",
       "      <td>13.0</td>\n",
       "      <td>2.0</td>\n",
       "      <td>4.0</td>\n",
       "      <td>1.0</td>\n",
       "      <td>15.0</td>\n",
       "      <td>432.0</td>\n",
       "      <td>758.0</td>\n",
       "      <td>1328.0</td>\n",
       "      <td>1110.0</td>\n",
       "      <td>59.0</td>\n",
       "    </tr>\n",
       "    <tr>\n",
       "      <th>2</th>\n",
       "      <td>27.0</td>\n",
       "      <td>0.0</td>\n",
       "      <td>2.0</td>\n",
       "      <td>51.0</td>\n",
       "      <td>2.0</td>\n",
       "      <td>1.0</td>\n",
       "      <td>48.0</td>\n",
       "      <td>0.0</td>\n",
       "      <td>1.0</td>\n",
       "      <td>53.0</td>\n",
       "      <td>...</td>\n",
       "      <td>17.0</td>\n",
       "      <td>2.0</td>\n",
       "      <td>5.0</td>\n",
       "      <td>0.0</td>\n",
       "      <td>14.0</td>\n",
       "      <td>338.0</td>\n",
       "      <td>1344.0</td>\n",
       "      <td>1746.0</td>\n",
       "      <td>1249.0</td>\n",
       "      <td>54.0</td>\n",
       "    </tr>\n",
       "    <tr>\n",
       "      <th>3</th>\n",
       "      <td>7.0</td>\n",
       "      <td>0.0</td>\n",
       "      <td>1.0</td>\n",
       "      <td>43.0</td>\n",
       "      <td>2.0</td>\n",
       "      <td>1.0</td>\n",
       "      <td>38.0</td>\n",
       "      <td>0.0</td>\n",
       "      <td>1.0</td>\n",
       "      <td>46.0</td>\n",
       "      <td>...</td>\n",
       "      <td>17.0</td>\n",
       "      <td>2.0</td>\n",
       "      <td>4.0</td>\n",
       "      <td>5.0</td>\n",
       "      <td>22.0</td>\n",
       "      <td>432.0</td>\n",
       "      <td>1479.0</td>\n",
       "      <td>1967.0</td>\n",
       "      <td>1294.0</td>\n",
       "      <td>51.0</td>\n",
       "    </tr>\n",
       "    <tr>\n",
       "      <th>4</th>\n",
       "      <td>15.0</td>\n",
       "      <td>0.0</td>\n",
       "      <td>2.0</td>\n",
       "      <td>42.0</td>\n",
       "      <td>2.0</td>\n",
       "      <td>5.0</td>\n",
       "      <td>49.0</td>\n",
       "      <td>1.0</td>\n",
       "      <td>3.0</td>\n",
       "      <td>43.0</td>\n",
       "      <td>...</td>\n",
       "      <td>12.0</td>\n",
       "      <td>2.0</td>\n",
       "      <td>3.0</td>\n",
       "      <td>4.0</td>\n",
       "      <td>20.0</td>\n",
       "      <td>436.0</td>\n",
       "      <td>1552.0</td>\n",
       "      <td>2035.0</td>\n",
       "      <td>1393.0</td>\n",
       "      <td>45.0</td>\n",
       "    </tr>\n",
       "  </tbody>\n",
       "</table>\n",
       "<p>5 rows × 262 columns</p>\n",
       "</div>"
      ],
      "text/plain": [
       "   LocationID_1  LocationID_2  LocationID_3  LocationID_4  LocationID_5  \\\n",
       "0          40.0           0.0           0.0         174.0           3.0   \n",
       "1          31.0           0.0           2.0          32.0           2.0   \n",
       "2          27.0           0.0           2.0          51.0           2.0   \n",
       "3           7.0           0.0           1.0          43.0           2.0   \n",
       "4          15.0           0.0           2.0          42.0           2.0   \n",
       "\n",
       "   LocationID_6  LocationID_7  LocationID_8  LocationID_9  LocationID_10  ...  \\\n",
       "0           1.0         126.0           1.0           0.0           47.0  ...   \n",
       "1           3.0          39.0           0.0           2.0           36.0  ...   \n",
       "2           1.0          48.0           0.0           1.0           53.0  ...   \n",
       "3           1.0          38.0           0.0           1.0           46.0  ...   \n",
       "4           5.0          49.0           1.0           3.0           43.0  ...   \n",
       "\n",
       "   LocationID_256  LocationID_257  LocationID_258  LocationID_259  \\\n",
       "0           125.0             5.0             5.0             1.0   \n",
       "1            13.0             2.0             4.0             1.0   \n",
       "2            17.0             2.0             5.0             0.0   \n",
       "3            17.0             2.0             4.0             5.0   \n",
       "4            12.0             2.0             3.0             4.0   \n",
       "\n",
       "   LocationID_260  LocationID_261  LocationID_262  LocationID_263  \\\n",
       "0            48.0           510.0           837.0          1942.0   \n",
       "1            15.0           432.0           758.0          1328.0   \n",
       "2            14.0           338.0          1344.0          1746.0   \n",
       "3            22.0           432.0          1479.0          1967.0   \n",
       "4            20.0           436.0          1552.0          2035.0   \n",
       "\n",
       "   LocationID_264  LocationID_265  \n",
       "0          1176.0           124.0  \n",
       "1          1110.0            59.0  \n",
       "2          1249.0            54.0  \n",
       "3          1294.0            51.0  \n",
       "4          1393.0            45.0  \n",
       "\n",
       "[5 rows x 262 columns]"
      ]
     },
     "execution_count": 6,
     "metadata": {},
     "output_type": "execute_result"
    }
   ],
   "source": [
    "loc_labels_df = preprocessing(rides_df)\n",
    "print(f'loc_labels_df shape : {loc_labels_df.shape}')\n",
    "loc_labels_df.head()"
   ]
  },
  {
   "cell_type": "markdown",
   "metadata": {
    "id": "7fgxL33c7yRz"
   },
   "source": [
    "# ARIMA MODEL"
   ]
  },
  {
   "cell_type": "markdown",
   "metadata": {
    "id": "Ty2gmgJ3Yuig"
   },
   "source": [
    "## train "
   ]
  },
  {
   "cell_type": "code",
   "execution_count": 7,
   "metadata": {
    "id": "HafiobWpYqiK"
   },
   "outputs": [],
   "source": [
    "col = loc_labels_df.columns\n",
    "train_size_ratio = 0.2"
   ]
  },
  {
   "cell_type": "code",
   "execution_count": 8,
   "metadata": {
    "id": "QWWSsvJwVWaR"
   },
   "outputs": [],
   "source": [
    "def split_data(loc_labels_df, location, train_size_ratio):\n",
    "    size = int(len(loc_labels_df) * train_size_ratio)\n",
    "    val_tr = loc_labels_df.loc[0:size, location]\n",
    "    val_te = loc_labels_df.loc[size:, location]\n",
    "    return (val_tr, val_te)"
   ]
  },
  {
   "cell_type": "code",
   "execution_count": 9,
   "metadata": {
    "id": "jbk1N0pkxIPy"
   },
   "outputs": [],
   "source": [
    "def arima_forecast(val_tr, val_te):\n",
    "    history = [x for x in val_tr]\n",
    "    predictions = []\n",
    "    model = pm.arima.auto_arima(\n",
    "                              history, start_p=1, start_q=1,\n",
    "                              test='kpss', max_p=8, max_q=8,\n",
    "                              seasonal=False, m=1,\n",
    "                              d=None, start_P=0,\n",
    "                              suppress_warnings=False, trace=False)\n",
    "    for t in range(len(val_te)):\n",
    "        best_arima_model_fit = pm.arima.ARIMA(order=model.get_params().get(\"order\")).fit(history)\n",
    "        output = best_arima_model_fit.predict(n_periods=1)\n",
    "        yhat = output[0]\n",
    "        predictions.append(int(yhat))\n",
    "        obs = val_te.iloc[t]\n",
    "        history.append(obs)\n",
    "    \n",
    "    val_te = val_te.reset_index()\n",
    "    return (val_te.iloc[:,1], predictions,\n",
    "          history, best_arima_model_fit.fittedvalues())\n"
   ]
  },
  {
   "cell_type": "markdown",
   "metadata": {
    "id": "SllaVhLm3UCg"
   },
   "source": [
    "train and predict for all locationIDs\n"
   ]
  },
  {
   "cell_type": "code",
   "execution_count": 10,
   "metadata": {
    "id": "SqRKbhM_rgY8"
   },
   "outputs": [],
   "source": [
    "def rmse(val_te, predictions):\n",
    "  rmse = sqrt(mean_squared_error(val_te, predictions))\n",
    "  return rmse"
   ]
  },
  {
   "cell_type": "code",
   "execution_count": 11,
   "metadata": {
    "id": "gD4cUUg1rlUd"
   },
   "outputs": [],
   "source": [
    "def mape(val_te, predictions):\n",
    "  mape = mean_absolute_percentage_error(val_te, predictions)\n",
    "  return mape"
   ]
  },
  {
   "cell_type": "code",
   "execution_count": 12,
   "metadata": {
    "colab": {
     "base_uri": "https://localhost:8080/"
    },
    "id": "qMqwNRrNH6YE",
    "outputId": "382f9add-f885-4cef-a464-8f7aef0c34d8"
   },
   "outputs": [],
   "source": [
    "def predict_all_location(loc_labels_df, col, train_size_ratio):\n",
    "    all_loc_rmse = []\n",
    "    all_loc_mape = []\n",
    "    val_predicted = {}\n",
    "    val_test = {}\n",
    "    val_fit = {}\n",
    "    for loc in col:\n",
    "        val_tr, val_te = split_data (loc_labels_df, loc, train_size_ratio)\n",
    "        result = arima_forecast(val_tr, val_te)\n",
    "        val_rmse = rmse (result[0], result[1])\n",
    "        val_mape = mape (result[0], result[1])\n",
    "        all_loc_rmse.append(val_rmse)\n",
    "        all_loc_mape.append(val_mape)\n",
    "        val_test[loc] = result[0]\n",
    "        val_predicted[loc] = result[1]\n",
    "        val_fit[loc] = result[3]\n",
    "    \n",
    "    val_test = pd.DataFrame(val_test)\n",
    "    val_fit = pd.DataFrame(val_fit)\n",
    "    val_predicted = pd.DataFrame(val_predicted)\n",
    "    return (val_test, val_predicted, val_fit, all_loc_rmse, all_loc_mape)"
   ]
  },
  {
   "cell_type": "code",
   "execution_count": null,
   "metadata": {},
   "outputs": [],
   "source": [
    "val_test, val_predicted, val_fit, all_loc_rmse, all_loc_mape = predict_all_location(loc_labels_df, col, train_size_ratio)"
   ]
  },
  {
   "cell_type": "markdown",
   "metadata": {
    "id": "t9TmKfCS3Fpx"
   },
   "source": [
    "## evaluation"
   ]
  },
  {
   "cell_type": "code",
   "execution_count": null,
   "metadata": {},
   "outputs": [],
   "source": [
    "def minmax_error(val_predicted, val_test):\n",
    "    error = val_predicted-val_test\n",
    "    min_max_error = pd.concat([error.abs().min(axis=0),error.abs().max(axis=0)], axis=1,sort=False)\n",
    "    min_max_error.columns = ['min', 'max']\n",
    "    \n",
    "    return min_max_error"
   ]
  },
  {
   "cell_type": "code",
   "execution_count": null,
   "metadata": {},
   "outputs": [],
   "source": [
    "min_max_error = minmax_error(val_predicted, val_test)\n",
    "min_max_error.head()"
   ]
  },
  {
   "cell_type": "markdown",
   "metadata": {},
   "source": [
    "# Save file"
   ]
  },
  {
   "cell_type": "code",
   "execution_count": 24,
   "metadata": {},
   "outputs": [],
   "source": [
    "def save_val_predicted(dataset, path):\n",
    "    labels_df = dataset.to_parquet(path, index=False)"
   ]
  },
  {
   "cell_type": "code",
   "execution_count": 25,
   "metadata": {},
   "outputs": [],
   "source": [
    "save_val_predicted(val_predicted, OUTPUT_PATH)"
   ]
  }
 ],
 "metadata": {
  "colab": {
   "provenance": [],
   "toc_visible": true
  },
  "kernelspec": {
   "display_name": "Python 3 (ipykernel)",
   "language": "python",
   "name": "python3"
  },
  "language_info": {
   "codemirror_mode": {
    "name": "ipython",
    "version": 3
   },
   "file_extension": ".py",
   "mimetype": "text/x-python",
   "name": "python",
   "nbconvert_exporter": "python",
   "pygments_lexer": "ipython3",
   "version": "3.10.11"
  }
 },
 "nbformat": 4,
 "nbformat_minor": 4
}
