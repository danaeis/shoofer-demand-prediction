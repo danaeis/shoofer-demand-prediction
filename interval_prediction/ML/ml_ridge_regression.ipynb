{
 "cells": [
  {
   "cell_type": "markdown",
   "metadata": {
    "id": "8UTIGpTZZlOO"
   },
   "source": [
    "# Imports"
   ]
  },
  {
   "cell_type": "code",
   "execution_count": null,
   "metadata": {
    "id": "AnwSHO1L97I5"
   },
   "outputs": [],
   "source": [
    "import datetime\n",
    "import matplotlib.pyplot as plt\n",
    "import numpy as np\n",
    "import pandas as pd\n",
    "import warnings\n",
    "from sklearn.linear_model import Ridge\n",
    "from sklearn.metrics import mean_absolute_error, mean_squared_error, mean_absolute_percentage_error\n",
    "from sklearn.model_selection import GridSearchCV"
   ]
  },
  {
   "cell_type": "code",
   "execution_count": null,
   "metadata": {},
   "outputs": [],
   "source": [
    "warnings.filterwarnings('ignore')"
   ]
  },
  {
   "cell_type": "markdown",
   "metadata": {
    "id": "pSSMa3G2wGmF"
   },
   "source": [
    "# Configs"
   ]
  },
  {
   "cell_type": "code",
   "execution_count": null,
   "metadata": {
    "id": "zIkDLK9zwGmG"
   },
   "outputs": [],
   "source": [
    "INPUT_PATH = '/Users/maedeh/Desktop/demand_project/demand_project/shoofer-demand-prediction/data/features_df_phase2.parquet'\n",
    "OUTPUT_PATH = '/Users/maedeh/Desktop/demand_project/demand_project/shoofer-demand-prediction/data/Ridge_predictions_phase2.parquet'\n",
    "\n",
    "\n",
    "FEATURE_LIST = [\n",
    "                'previous_day_interval',\n",
    "                'previous_2day_interval',\n",
    "                'previous_3day_interval',\n",
    "                'previous_4day_interval',\n",
    "                'previous_5day_interval',\n",
    "                'previous_6day_interval',\n",
    "                'previous_week_interval',\n",
    "                'previous_8day_interval',\n",
    "                'previous_9day_interval',\n",
    "                'previous_10day_interval',\n",
    "                'previous_11day_interval',\n",
    "                'previous_12day_interval',\n",
    "                'previous_13day_interval',\n",
    "                'previous_2week_interval'\n",
    "               ]\n",
    "\n",
    "TEST_START_DATE = '2023-04-1'\n",
    "NUM_INTERVAL_PER_DAY = 8"
   ]
  },
  {
   "cell_type": "markdown",
   "metadata": {
    "id": "5eS5BQE9wGmK"
   },
   "source": [
    "# Data preparation\n"
   ]
  },
  {
   "cell_type": "markdown",
   "metadata": {
    "id": "TWsjXbpaznc_"
   },
   "source": [
    "## Load Data"
   ]
  },
  {
   "cell_type": "code",
   "execution_count": null,
   "metadata": {},
   "outputs": [],
   "source": [
    "def load_data(INPUT_PATH):\n",
    "    features_df = pd.read_parquet(INPUT_PATH, engine='pyarrow')\n",
    "    return features_df"
   ]
  },
  {
   "cell_type": "code",
   "execution_count": null,
   "metadata": {
    "id": "87BFHUu1-z73"
   },
   "outputs": [],
   "source": [
    "features_df = load_data(INPUT_PATH)"
   ]
  },
  {
   "cell_type": "code",
   "execution_count": null,
   "metadata": {
    "id": "hCN-11QT3bp1"
   },
   "outputs": [],
   "source": [
    "print(f'rfeatures dataframe shape : {features_df.shape}')\n",
    "features_df.head()"
   ]
  },
  {
   "cell_type": "markdown",
   "metadata": {},
   "source": [
    "## Add feature"
   ]
  },
  {
   "cell_type": "code",
   "execution_count": null,
   "metadata": {},
   "outputs": [],
   "source": [
    "def add_feature(dataset, lag_num):\n",
    "    \n",
    "    for i in range(1,lag_num+1):\n",
    "        if i not in(1,7):\n",
    "            dataset[f'previous_{i}day_interval'] = dataset.groupby('Location')['Demand'].shift(i*8)\n",
    "            \n",
    "    dataset['max_previous_week_interval'] = dataset.groupby('Location')['Demand'].rolling(window = 7*NUM_INTERVAL_PER_DAY).max().reset_index(drop=True)\n",
    "    dataset['max_previous_2week_interval'] = dataset.groupby('Location')['Demand'].rolling(window = 14*NUM_INTERVAL_PER_DAY).max().reset_index(drop=True)\n",
    "\n",
    "    dataset['day_of_week'] = dataset['Date'].dt.dayofweek\n",
    "    dataset['day_of_month'] = dataset['Date'].dt.day\n",
    "\n",
    "    dataset['time'] = dataset['Hour_interval']\n",
    "\n",
    "    df = dataset.sort_values(['Location','Hour_interval','Date'])[['Location','Hour_interval','Date','Demand']]\n",
    "    df['max_previous_7exact_interval'] = dataset.groupby(['Location','Hour_interval'])['Demand'].rolling(window = 7).max().values\n",
    "    dataset['max_previous_7exact_interval'] = df.sort_values(['Location', 'Date','Hour_interval'])['max_previous_7exact_interval']\n",
    "    df['max_previous_14exact_interval'] = dataset.groupby(['Location','Hour_interval'])['Demand'].rolling(window = 14).max().values\n",
    "    dataset['max_previous_14exact_interval'] = df.sort_values(['Location', 'Date','Hour_interval'])['max_previous_14exact_interval']\n",
    "    \n",
    "    return dataset"
   ]
  },
  {
   "cell_type": "code",
   "execution_count": null,
   "metadata": {},
   "outputs": [],
   "source": [
    "new_features_df = add_feature(features_df, lag_num = 13)\n",
    "print(f'new features dataframe shape : {new_features_df.shape}')\n",
    "new_features_df.head()"
   ]
  },
  {
   "cell_type": "code",
   "execution_count": null,
   "metadata": {},
   "outputs": [],
   "source": [
    "def feature_selection(dataset, FEATURE_LIST):\n",
    "    dataset = dataset[['Location','Date','Hour_interval','Demand']+FEATURE_LIST]\n",
    "    dataset.dropna(inplace = True)\n",
    "    return dataset"
   ]
  },
  {
   "cell_type": "code",
   "execution_count": null,
   "metadata": {},
   "outputs": [],
   "source": [
    "selected_features_df = feature_selection(new_features_df, FEATURE_LIST)\n",
    "print(f'selected features dataframe shape : {selected_features_df.shape}')\n",
    "selected_features_df.head()"
   ]
  },
  {
   "cell_type": "markdown",
   "metadata": {
    "id": "zN0kp6jw03DP"
   },
   "source": [
    "## Split Train and Test Data"
   ]
  },
  {
   "cell_type": "code",
   "execution_count": null,
   "metadata": {
    "id": "CMY1G1lmwGmI"
   },
   "outputs": [],
   "source": [
    "def train_test_splitting(dataset, TEST_START_DATE):\n",
    "\n",
    "    train_df = dataset[dataset['Date'] < TEST_START_DATE]\n",
    "    test_df = dataset[dataset['Date'] >= TEST_START_DATE]\n",
    "\n",
    "    return train_df, test_df"
   ]
  },
  {
   "cell_type": "code",
   "execution_count": null,
   "metadata": {
    "id": "3xH4VMGNwGmK"
   },
   "outputs": [],
   "source": [
    "train_df, test_df = train_test_splitting(selected_features_df, TEST_START_DATE)"
   ]
  },
  {
   "cell_type": "code",
   "execution_count": null,
   "metadata": {
    "id": "xxGdRZfqwGmL",
    "outputId": "58609337-c472-48f5-c7fc-e9d7c17aba4f"
   },
   "outputs": [],
   "source": [
    "print(f'train dataframe shape : {train_df.shape}')\n",
    "train_df.head()"
   ]
  },
  {
   "cell_type": "code",
   "execution_count": null,
   "metadata": {
    "id": "uPbINwH224Hy"
   },
   "outputs": [],
   "source": [
    "print(f'test dataframe shape : {test_df.shape}')\n",
    "test_df.head()"
   ]
  },
  {
   "cell_type": "markdown",
   "metadata": {
    "id": "xf8ChW_7wGmL"
   },
   "source": [
    "# Model Training"
   ]
  },
  {
   "cell_type": "markdown",
   "metadata": {
    "id": "PxYfxyCHz_Z3"
   },
   "source": [
    "## **Ridge Regression**"
   ]
  },
  {
   "cell_type": "markdown",
   "metadata": {
    "id": "CJn4YIBtKcL_"
   },
   "source": [
    "### Model Tuning"
   ]
  },
  {
   "cell_type": "code",
   "execution_count": null,
   "metadata": {
    "id": "sOMPo5ryBm8g"
   },
   "outputs": [],
   "source": [
    "def grid_search(model, test_parameters, train_data, cv = None, feature_list = FEATURE_LIST):\n",
    "    gs = GridSearchCV(\n",
    "        estimator = model, \n",
    "        param_grid = test_parameters, \n",
    "        scoring = 'neg_root_mean_squared_error', \n",
    "        cv = cv, \n",
    "        n_jobs = -1\n",
    "        )\n",
    "    \n",
    "    gs.fit(train_data[feature_list], train_data['Demand'])\n",
    "    return gs.best_params_, gs.best_score_"
   ]
  },
  {
   "cell_type": "code",
   "execution_count": null,
   "metadata": {},
   "outputs": [],
   "source": [
    "model = Ridge()\n",
    "best_params, best_score = grid_search(\n",
    "    model, \n",
    "    {'alpha':[10000,50000,100000]},\n",
    "    train_df, \n",
    "    cv = 5, \n",
    "    feature_list = FEATURE_LIST\n",
    "    )\n",
    "\n",
    "print(best_params, best_score)"
   ]
  },
  {
   "cell_type": "markdown",
   "metadata": {
    "id": "AxN2E_9Q1yHS"
   },
   "source": [
    "### Prediction"
   ]
  },
  {
   "cell_type": "code",
   "execution_count": null,
   "metadata": {
    "id": "pbhM5Oe6PjW7"
   },
   "outputs": [],
   "source": [
    "def model_predict(model, train_data, test_data, feature_list):\n",
    "\n",
    "    model.fit(train_data[feature_list], train_data['Demand'])\n",
    "\n",
    "\n",
    "    train_predict_df  = model.predict(train_data[feature_list])\n",
    "    test_predict_df  = model.predict(test_data[feature_list])\n",
    "\n",
    "    return train_predict_df, test_predict_df"
   ]
  },
  {
   "cell_type": "code",
   "execution_count": null,
   "metadata": {
    "id": "MulwYZc7LK7v"
   },
   "outputs": [],
   "source": [
    "model = Ridge(**best_params)\n",
    "train_prediction_df , test_prediction_df  = model_predict(model, train_df, test_df, FEATURE_LIST)"
   ]
  },
  {
   "cell_type": "markdown",
   "metadata": {
    "id": "jJYHtg2oRqvS"
   },
   "source": [
    "### Visualization"
   ]
  },
  {
   "cell_type": "code",
   "execution_count": null,
   "metadata": {
    "id": "ao6nw8xsRvB9"
   },
   "outputs": [],
   "source": [
    "def prediction_visualization(train_data, test_data, train_prediction_df, test_prediction_df):\n",
    "\n",
    "\n",
    "    predicted_train_df = train_data\n",
    "    predicted_test_df = test_data\n",
    "    predicted_train_df['Predicted'] = train_prediction_df\n",
    "    predicted_test_df['Predicted'] = test_prediction_df\n",
    "\n",
    "    train_data = train_data.groupby(['Date','Hour_interval'])['Demand'].sum()\n",
    "    test_data = test_data.groupby(['Date','Hour_interval'])['Demand'].sum()\n",
    "    predicted_train_df = predicted_train_df.groupby(['Date','Hour_interval'])['Predicted'].sum()\n",
    "    predicted_test_df = predicted_test_df.groupby(['Date','Hour_interval'])['Predicted'].sum()\n",
    "\n",
    "    plt.figure(figsize=(30,10))\n",
    "    plt.title('Train', fontsize = 30)\n",
    "    plt.plot(range(1,len(train_data)+1), train_data)\n",
    "    plt.plot(range(1,len(train_data)+1), predicted_train_df)\n",
    "    plt.xlabel('time interval', fontsize = 15)\n",
    "    plt.legend([\"Real Value\", \"Predicted\"], loc =\"lower right\", fontsize = 15)\n",
    "    plt.show()\n",
    "\n",
    "    plt.figure(figsize=(30,10))\n",
    "    plt.title('Test', fontsize = 30)\n",
    "    plt.plot(range(1,len(test_data)+1), test_data)\n",
    "    plt.plot(range(1,len(test_data)+1), predicted_test_df)\n",
    "    plt.xlabel('time interval', fontsize = 15)\n",
    "    plt.legend([\"Real Value\", \"Predicted\"], loc =\"lower right\", fontsize = 15)\n",
    "    plt.show()"
   ]
  },
  {
   "cell_type": "code",
   "execution_count": null,
   "metadata": {
    "colab": {
     "base_uri": "https://localhost:8080/",
     "height": 887
    },
    "id": "gOyNantNRtda",
    "outputId": "dc7796cf-c196-421d-bd56-1d312334dee4"
   },
   "outputs": [],
   "source": [
    "prediction_visualization(train_df, test_df, train_prediction_df, test_prediction_df)"
   ]
  },
  {
   "cell_type": "markdown",
   "metadata": {
    "id": "RBsqB5hnSuPP"
   },
   "source": [
    "### Evaluation"
   ]
  },
  {
   "cell_type": "code",
   "execution_count": null,
   "metadata": {
    "id": "BcGvcilUWEEC"
   },
   "outputs": [],
   "source": [
    "def evaluate(metric, metric_name, true_values, predicted_values):\n",
    "    print(f'{metric_name} : {metric(true_values, predicted_values)}')"
   ]
  },
  {
   "cell_type": "code",
   "execution_count": null,
   "metadata": {
    "id": "v4-GWghuSbnA"
   },
   "outputs": [],
   "source": [
    "def evaluation(model_name, train_data, test_data, train_prediction_df, test_prediction_df):\n",
    "    print(f'{model_name} train scores:')\n",
    "\n",
    "\n",
    "    evaluate(mean_absolute_error, 'MAE', train_data['Demand'], train_prediction_df)\n",
    "    evaluate(mean_squared_error, 'MSE', train_data['Demand'], train_prediction_df)\n",
    "    evaluate(mean_absolute_percentage_error, 'MAPE', train_data['Demand'], train_prediction_df)\n",
    "\n",
    "    print(f'{model_name} test scores:')\n",
    "\n",
    "    evaluate(mean_absolute_error, 'MAE', test_data['Demand'], test_prediction_df)\n",
    "    evaluate(mean_squared_error, 'MSE', test_data['Demand'], test_prediction_df)\n",
    "    evaluate(mean_absolute_percentage_error, 'MAPE', test_data['Demand'], test_prediction_df)\n"
   ]
  },
  {
   "cell_type": "code",
   "execution_count": null,
   "metadata": {
    "colab": {
     "base_uri": "https://localhost:8080/"
    },
    "id": "vUBqNgIwSwKe",
    "outputId": "c05d64b8-b525-458d-96db-757e94a57d89"
   },
   "outputs": [],
   "source": [
    "evaluation('Ridge Regression', train_df, test_df, train_prediction_df, test_prediction_df)"
   ]
  },
  {
   "cell_type": "markdown",
   "metadata": {},
   "source": [
    "# File Saving"
   ]
  },
  {
   "cell_type": "code",
   "execution_count": null,
   "metadata": {},
   "outputs": [],
   "source": [
    "def save_predictions(dataset, path):\n",
    "    dataset.to_parquet(path, index=False)"
   ]
  },
  {
   "cell_type": "code",
   "execution_count": null,
   "metadata": {},
   "outputs": [],
   "source": [
    "def prediction_labeling(pred_df, labeled_df):\n",
    "    pred_df = pd.DataFrame(pred_df, columns = ['Predicted_demand'])\n",
    "    labeled_df.reset_index(inplace = True)\n",
    "    labeled_prediction_df = labeled_df[['Location', 'Date','Hour_interval']]\n",
    "    labeled_prediction_df['Predicted_demand'] = pred_df\n",
    "    return labeled_prediction_df"
   ]
  },
  {
   "cell_type": "code",
   "execution_count": null,
   "metadata": {},
   "outputs": [],
   "source": [
    "labeled_prediction_df = prediction_labeling(test_prediction_df, test_df)"
   ]
  },
  {
   "cell_type": "code",
   "execution_count": null,
   "metadata": {},
   "outputs": [],
   "source": [
    "print(f'labeled prediction dataframe shape : {labeled_prediction_df.shape}')\n",
    "labeled_prediction_df.head()"
   ]
  },
  {
   "cell_type": "code",
   "execution_count": null,
   "metadata": {},
   "outputs": [],
   "source": [
    "save_predictions(labeled_prediction_df, OUTPUT_PATH)"
   ]
  },
  {
   "cell_type": "code",
   "execution_count": null,
   "metadata": {},
   "outputs": [],
   "source": []
  }
 ],
 "metadata": {
  "colab": {
   "provenance": [],
   "toc_visible": true
  },
  "kernelspec": {
   "display_name": "Python 3 (ipykernel)",
   "language": "python",
   "name": "python3"
  },
  "language_info": {
   "codemirror_mode": {
    "name": "ipython",
    "version": 3
   },
   "file_extension": ".py",
   "mimetype": "text/x-python",
   "name": "python",
   "nbconvert_exporter": "python",
   "pygments_lexer": "ipython3",
   "version": "3.10.11"
  }
 },
 "nbformat": 4,
 "nbformat_minor": 4
}
