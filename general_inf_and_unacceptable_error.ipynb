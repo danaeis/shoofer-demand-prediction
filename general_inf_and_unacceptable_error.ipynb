{
 "cells": [
  {
   "cell_type": "markdown",
   "metadata": {},
   "source": [
    "Import"
   ]
  },
  {
   "cell_type": "code",
   "execution_count": null,
   "metadata": {},
   "outputs": [],
   "source": [
    "import numpy as np\n",
    "import pandas as pd\n",
    "import matplotlib.pyplot as plt\n",
    "import ydata_profiling\n",
    "%matplotlib inline"
   ]
  },
  {
   "cell_type": "markdown",
   "metadata": {},
   "source": [
    "Config"
   ]
  },
  {
   "cell_type": "code",
   "execution_count": null,
   "metadata": {},
   "outputs": [],
   "source": [
    "# Add your input path\n",
    "labeled_path = \"... /Data/labels.parquet"
   ]
  },
  {
   "cell_type": "markdown",
   "metadata": {},
   "source": [
    "Loading Dataset"
   ]
  },
  {
   "cell_type": "code",
   "execution_count": null,
   "metadata": {},
   "outputs": [],
   "source": [
    "dataset = pd.read_parquet(labeled_path)\n",
    "dataset.head()"
   ]
  },
  {
   "cell_type": "code",
   "execution_count": null,
   "metadata": {},
   "outputs": [],
   "source": [
    "profile = ydata_profiling.ProfileReport(dataset)\n",
    "profile.to_file('Summary.html')"
   ]
  },
  {
   "cell_type": "markdown",
   "metadata": {},
   "source": [
    "information of locations with zero demand"
   ]
  },
  {
   "cell_type": "code",
   "execution_count": null,
   "metadata": {},
   "outputs": [],
   "source": [
    "df2 = dataset[dataset['Demand'] == 0.0]\n",
    "df2"
   ]
  },
  {
   "cell_type": "code",
   "execution_count": null,
   "metadata": {},
   "outputs": [],
   "source": [
    "len(df3.index)"
   ]
  },
  {
   "cell_type": "markdown",
   "metadata": {},
   "source": [
    "Important Locations"
   ]
  },
  {
   "cell_type": "code",
   "execution_count": null,
   "metadata": {},
   "outputs": [],
   "source": [
    "df4 = dataset.groupby('Location')['Demand'].aggregate(['mean']).sort_values('mean', ascending=False)\n",
    "dataset_important_location = df4[:49]\n",
    "dataset_important_location"
   ]
  },
  {
   "cell_type": "code",
   "execution_count": null,
   "metadata": {},
   "outputs": [],
   "source": [
    "list_important_location = dataset_important_location.index\n",
    "list_important_location"
   ]
  },
  {
   "cell_type": "code",
   "execution_count": null,
   "metadata": {},
   "outputs": [],
   "source": [
    "dataset_important_location = dataset[dataset['Location'].isin(list_important_location)]\n",
    "dataset_important_location"
   ]
  },
  {
   "cell_type": "markdown",
   "metadata": {},
   "source": [
    "Generate temporary predicted Data"
   ]
  },
  {
   "cell_type": "code",
   "execution_count": null,
   "metadata": {},
   "outputs": [],
   "source": [
    "def generate_temporary_prediction(dataset):\n",
    "    predicted_demand = dataset.Demand.shift(1)\n",
    "    predicted_data = pd.DataFrame(dataset[['Location', 'Date']])\n",
    "    predicted_data['Demand'] = predicted_demand\n",
    "    return predicted_data"
   ]
  },
  {
   "cell_type": "code",
   "execution_count": null,
   "metadata": {},
   "outputs": [],
   "source": [
    "predicted_data = generate_temporary_prediction(dataset_important_location)\n",
    "predicted_data = predicted_data.dropna()\n",
    "predicted_data.head()"
   ]
  },
  {
   "cell_type": "markdown",
   "metadata": {},
   "source": [
    "calculate loss functions"
   ]
  },
  {
   "cell_type": "code",
   "execution_count": null,
   "metadata": {},
   "outputs": [],
   "source": [
    "def calculate_loss_mape(actual_data, predicted_data):\n",
    "    \n",
    "    losses_df = actual_data[['Location','Date']].copy()\n",
    "    losses_df['actual_demand'] = actual_data.Demand\n",
    "    losses_df['predicted_demand'] = predicted_data.Demand\n",
    "    losses_df = losses_df.dropna()\n",
    "\n",
    "    \n",
    "    losses_df['error'] = ((np.abs(losses_df['actual_demand']-losses_df['predicted_demand']))/\n",
    "                          (losses_df['actual_demand']))*100\n",
    "\n",
    "    loss_per_location = losses_df.groupby('Location').agg({'error':'mean'})\n",
    "    loss_per_date = losses_df.groupby('Date').agg({'error':'mean'})\n",
    "\n",
    "    return loss_per_location, loss_per_date\n"
   ]
  },
  {
   "cell_type": "code",
   "execution_count": null,
   "metadata": {},
   "outputs": [],
   "source": [
    "loss_per_location, loss_per_date = calculate_loss_mape(dataset_important_location, predicted_data)\n",
    "loss_per_location.head()"
   ]
  },
  {
   "cell_type": "code",
   "execution_count": null,
   "metadata": {},
   "outputs": [],
   "source": [
    "loss_per_date.head()"
   ]
  },
  {
   "cell_type": "code",
   "execution_count": null,
   "metadata": {},
   "outputs": [],
   "source": [
    "loss_per_location.error.min(), loss_per_location.error.max()"
   ]
  },
  {
   "cell_type": "markdown",
   "metadata": {},
   "source": [
    "Plot histogram of errors"
   ]
  },
  {
   "cell_type": "code",
   "execution_count": null,
   "metadata": {},
   "outputs": [],
   "source": [
    "# matplotlib histogram\n",
    "\n",
    "plt.hist(loss_per_location['error'], color = 'blue', edgecolor = 'black',\n",
    "           bins = int((loss_per_location.error.max()-loss_per_location.error.min())/5))\n",
    "\n",
    "\n",
    "\n",
    "\n",
    "\n",
    "plt.title('Histogram of Errors')\n",
    "plt.xlabel('Error')\n",
    "plt.ylabel('Locations')\n",
    "\n",
    "plt.show()"
   ]
  },
  {
   "cell_type": "code",
   "execution_count": null,
   "metadata": {},
   "outputs": [],
   "source": [
    "# matplotlib histogram\n",
    "\n",
    "plt.hist(loss_per_date['error'], color = 'blue', edgecolor = 'black',\n",
    "           bins = int((loss_per_date.error.max()-loss_per_date.error.min())/5))\n",
    "\n",
    "\n",
    "\n",
    "\n",
    "\n",
    "plt.title('Histogram of Errors')\n",
    "plt.xlabel('Error')\n",
    "plt.ylabel('Data')\n",
    "\n",
    "plt.show()"
   ]
  }
 ],
 "metadata": {
  "language_info": {
   "name": "python"
  },
  "orig_nbformat": 4
 },
 "nbformat": 4,
 "nbformat_minor": 2
}
